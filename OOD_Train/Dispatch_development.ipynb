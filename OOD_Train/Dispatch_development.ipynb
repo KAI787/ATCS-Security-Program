{
 "cells": [
  {
   "cell_type": "code",
   "execution_count": 1,
   "metadata": {},
   "outputs": [],
   "source": [
    "from datetime import datetime, timedelta\n",
    "import numpy as np\n",
    "import random\n",
    "from infrastructure import *\n",
    "from signaling import *\n",
    "from system import *\n",
    "from train import *\n",
    "from dispatch import *\n",
    "import networkx as nx\n",
    "from sim import *\n",
    "from rail_networkx import *\n",
    "from itertools import combinations, permutations\n",
    "\n",
    "import matplotlib.pyplot as plt\n",
    "import matplotlib.dates as mdates\n",
    "\n",
    "from rail_networkx import all_simple_paths, shortest_path"
   ]
  },
  {
   "cell_type": "code",
   "execution_count": 2,
   "metadata": {},
   "outputs": [],
   "source": [
    "sim_init_time = datetime.strptime('2018-01-10 10:00:00', \"%Y-%m-%d %H:%M:%S\")\n",
    "sim_term_time = datetime.strptime('2018-01-10 15:30:00', \"%Y-%m-%d %H:%M:%S\")\n",
    "spd_container = [random.uniform(0.01, 0.02) for i in range(20)]\n",
    "acc_container = [0.5*random.uniform(2.78e-05*0.85, 2.78e-05*1.15) for i in range(20)]\n",
    "dcc_container = [0.2*random.uniform(2.78e-05*0.85, 2.78e-05*1.15) for i in range(20)]\n",
    "headway = 300 + random.random() * 400\n",
    "sys = System(sim_init_time, spd_container, acc_container, dcc_container,\n",
    "             term_time=sim_term_time,\n",
    "             dos_period=['2018-01-10 11:30:00', '2018-01-10 12:30:00'],  \n",
    "             dos_pos=(15,20),\n",
    "             headway=headway, \n",
    "             refresh_time=50)\n",
    "dp = Dispatcher(sys)\n",
    "K165 = Train(sys, \n",
    "             ((sys.signal_points[0],1),(sys.signal_points[1],0)),\n",
    "             ((sys.signal_points[10],1),(None,None)),\n",
    "             max_spd=random.choice(sys.spd_container),\n",
    "             max_acc=random.choice(sys.acc_container),\n",
    "             max_dcc=random.choice(sys.dcc_container),\n",
    "             length=1)\n",
    "T165 = Train(sys, \n",
    "             ((None,None),(sys.signal_points[0],0)),\n",
    "             ((sys.signal_points[10],1),(None,None)),\n",
    "             max_spd=K165.max_spd*1.02,\n",
    "             max_acc=random.choice(sys.acc_container),\n",
    "             max_dcc=random.choice(sys.dcc_container),\n",
    "             length=1)\n",
    "K166 = Train(sys, \n",
    "             ((sys.signal_points[10],0),(sys.signal_points[9],1)),\n",
    "             ((sys.signal_points[0],0),(None,None)),\n",
    "             max_spd=random.choice(sys.spd_container),\n",
    "             max_acc=random.choice(sys.acc_container),\n",
    "             max_dcc=random.choice(sys.dcc_container),\n",
    "             length=1)\n",
    "T166 = Train(sys, \n",
    "             ((None,None),(sys.signal_points[10],1)),\n",
    "             ((sys.signal_points[0],0),(None,None)),\n",
    "             max_spd=K166.max_spd*1.02,\n",
    "             max_acc=random.choice(sys.acc_container),\n",
    "             max_dcc=random.choice(sys.dcc_container),\n",
    "             length=1)"
   ]
  },
  {
   "cell_type": "code",
   "execution_count": 7,
   "metadata": {
    "scrolled": false
   },
   "outputs": [
    {
     "name": "stdout",
     "output_type": "stream",
     "text": [
      "CtrlPnt 2 CtrlPnt 3\n",
      "CtrlPnt 2 CtrlPnt 4\n",
      "CtrlPnt 2 CtrlPnt 5\n",
      "CtrlPnt 2 CtrlPnt 6\n",
      "CtrlPnt 2 CtrlPnt 7\n",
      "CtrlPnt 2 CtrlPnt 8\n",
      "CtrlPnt 2 CtrlPnt10\n",
      "CtrlPnt 2 CtrlPnt13\n",
      "CtrlPnt 2 CtrlPnt16\n",
      "train idx: 0 occupying:[((CtrlPnt 0, 1), (AutoPnt 1, 0))] head MP: 5.00 rear MP: 4.00, requested (0, 1) at 10.0\n",
      "\troute (0, 1) of CtrlPnt 2 is opened\n",
      "CtrlPnt 0 CtrlPnt 2\n",
      "CtrlPnt 0 CtrlPnt 3\n",
      "CtrlPnt 0 CtrlPnt 4\n",
      "CtrlPnt 0 CtrlPnt 5\n",
      "CtrlPnt 0 CtrlPnt 6\n",
      "CtrlPnt 0 CtrlPnt 7\n",
      "CtrlPnt 0 CtrlPnt 8\n",
      "CtrlPnt 0 CtrlPnt10\n",
      "CtrlPnt 0 CtrlPnt13\n",
      "CtrlPnt 0 CtrlPnt14\n",
      "CtrlPnt 0 CtrlPnt16\n",
      "train idx: 1 occupying:[((None, None), (CtrlPnt 0, 0))] head MP: 0.00 rear MP:-1.00, requested (0, 1) at 0.0\n",
      "\troute (0, 1) of CtrlPnt 0 is opened\n",
      "CtrlPnt 8 CtrlPnt 0\n",
      "CtrlPnt 8 CtrlPnt 2\n",
      "CtrlPnt 8 CtrlPnt 3\n",
      "CtrlPnt 8 CtrlPnt 4\n",
      "CtrlPnt 8 CtrlPnt 5\n",
      "CtrlPnt 8 CtrlPnt 6\n",
      "CtrlPnt 8 CtrlPnt 7\n",
      "CtrlPnt 8 CtrlPnt13\n"
     ]
    },
    {
     "ename": "AttributeError",
     "evalue": "'NoneType' object has no attribute 'pop'",
     "output_type": "error",
     "traceback": [
      "\u001b[0;31m---------------------------------------------------------------------------\u001b[0m",
      "\u001b[0;31mAttributeError\u001b[0m                            Traceback (most recent call last)",
      "\u001b[0;32m<ipython-input-7-c5c1cea2fcd3>\u001b[0m in \u001b[0;36m<module>\u001b[0;34m\u001b[0m\n\u001b[1;32m      2\u001b[0m     \u001b[0m_semaphore_to_return\u001b[0m \u001b[0;34m=\u001b[0m \u001b[0;32mFalse\u001b[0m\u001b[0;34m\u001b[0m\u001b[0;34m\u001b[0m\u001b[0m\n\u001b[1;32m      3\u001b[0m     \u001b[0;32mfor\u001b[0m \u001b[0mt\u001b[0m \u001b[0;32min\u001b[0m \u001b[0msys\u001b[0m\u001b[0;34m.\u001b[0m\u001b[0mtrains\u001b[0m\u001b[0;34m:\u001b[0m\u001b[0;34m\u001b[0m\u001b[0;34m\u001b[0m\u001b[0m\n\u001b[0;32m----> 4\u001b[0;31m         \u001b[0mt\u001b[0m\u001b[0;34m.\u001b[0m\u001b[0mrequest_routing\u001b[0m\u001b[0;34m(\u001b[0m\u001b[0;34m)\u001b[0m\u001b[0;34m\u001b[0m\u001b[0;34m\u001b[0m\u001b[0m\n\u001b[0m\u001b[1;32m      5\u001b[0m         \u001b[0mt\u001b[0m\u001b[0;34m.\u001b[0m\u001b[0mupdate_acc\u001b[0m\u001b[0;34m(\u001b[0m\u001b[0;34m)\u001b[0m\u001b[0;34m\u001b[0m\u001b[0;34m\u001b[0m\u001b[0m\n\u001b[1;32m      6\u001b[0m     \u001b[0msys\u001b[0m\u001b[0;34m.\u001b[0m\u001b[0msys_time\u001b[0m\u001b[0;34m+=\u001b[0m\u001b[0msys\u001b[0m\u001b[0;34m.\u001b[0m\u001b[0mrefresh_time\u001b[0m\u001b[0;34m\u001b[0m\u001b[0;34m\u001b[0m\u001b[0m\n",
      "\u001b[0;32m~/Documents/GitHub/Rutgers_Railway_security_research/OOD_Train/train.py\u001b[0m in \u001b[0;36mrequest_routing\u001b[0;34m(self)\u001b[0m\n\u001b[1;32m   1031\u001b[0m             \u001b[0mServe\u001b[0m \u001b[0mthe\u001b[0m \u001b[0mmyopic\u001b[0m \u001b[0mdispatch\u001b[0m \u001b[0mlogic\u001b[0m \u001b[0mwhere\u001b[0m \u001b[0mtrains\u001b[0m \u001b[0monly\u001b[0m \u001b[0mcalls\u001b[0m \u001b[0mthe\u001b[0m \u001b[0mcloest\u001b[0m \u001b[0mCPs\u001b[0m\u001b[0;34m.\u001b[0m\u001b[0;34m\u001b[0m\u001b[0;34m\u001b[0m\u001b[0m\n\u001b[1;32m   1032\u001b[0m             @return: None'''\n\u001b[0;32m-> 1033\u001b[0;31m         \u001b[0;32mif\u001b[0m \u001b[0mself\u001b[0m\u001b[0;34m.\u001b[0m\u001b[0mpending_route\u001b[0m \u001b[0;32mand\u001b[0m \u001b[0mself\u001b[0m\u001b[0;34m.\u001b[0m\u001b[0mall_rest_cps_enterable\u001b[0m\u001b[0;34m:\u001b[0m\u001b[0;34m\u001b[0m\u001b[0;34m\u001b[0m\u001b[0m\n\u001b[0m\u001b[1;32m   1034\u001b[0m             \u001b[0m_pending_route_to_open\u001b[0m \u001b[0;34m=\u001b[0m\u001b[0;31m \u001b[0m\u001b[0;31m\\\u001b[0m\u001b[0;34m\u001b[0m\u001b[0;34m\u001b[0m\u001b[0m\n\u001b[1;32m   1035\u001b[0m                 self.curr_ctrl_point.find_route_for_port(\n",
      "\u001b[0;32m~/Documents/GitHub/Rutgers_Railway_security_research/OOD_Train/train.py\u001b[0m in \u001b[0;36mall_rest_cps_enterable\u001b[0;34m(self)\u001b[0m\n\u001b[1;32m    843\u001b[0m                     self.curr_routing_path_segment) > 0:\n\u001b[1;32m    844\u001b[0m                 if not self.system.capacity_enterable(\n\u001b[0;32m--> 845\u001b[0;31m                         self.curr_ctrl_point, n):\n\u001b[0m\u001b[1;32m    846\u001b[0m                     \u001b[0;32mreturn\u001b[0m \u001b[0;32mFalse\u001b[0m\u001b[0;34m\u001b[0m\u001b[0;34m\u001b[0m\u001b[0m\n\u001b[1;32m    847\u001b[0m         \u001b[0;32mreturn\u001b[0m \u001b[0;32mTrue\u001b[0m\u001b[0;34m\u001b[0m\u001b[0;34m\u001b[0m\u001b[0m\n",
      "\u001b[0;32m~/Documents/GitHub/Rutgers_Railway_security_research/OOD_Train/system.py\u001b[0m in \u001b[0;36mcapacity_enterable\u001b[0;34m(self, init_point, dest_point)\u001b[0m\n\u001b[1;32m    499\u001b[0m             Determines if a train could cross init_point towards dest_point.'''\n\u001b[1;32m    500\u001b[0m         \u001b[0mprint\u001b[0m\u001b[0;34m(\u001b[0m\u001b[0minit_point\u001b[0m\u001b[0;34m,\u001b[0m \u001b[0mdest_point\u001b[0m\u001b[0;34m)\u001b[0m\u001b[0;34m\u001b[0m\u001b[0;34m\u001b[0m\u001b[0m\n\u001b[0;32m--> 501\u001b[0;31m         \u001b[0m_parallel_tracks\u001b[0m \u001b[0;34m=\u001b[0m \u001b[0mself\u001b[0m\u001b[0;34m.\u001b[0m\u001b[0mnum_parallel_tracks\u001b[0m\u001b[0;34m(\u001b[0m\u001b[0minit_point\u001b[0m\u001b[0;34m,\u001b[0m \u001b[0mdest_point\u001b[0m\u001b[0;34m)\u001b[0m\u001b[0;34m\u001b[0m\u001b[0;34m\u001b[0m\u001b[0m\n\u001b[0m\u001b[1;32m    502\u001b[0m         _outbound_trains = self.get_trains_between_points(from_point=init_point,\n\u001b[1;32m    503\u001b[0m                                                           \u001b[0mto_point\u001b[0m\u001b[0;34m=\u001b[0m\u001b[0mdest_point\u001b[0m\u001b[0;34m,\u001b[0m\u001b[0;34m\u001b[0m\u001b[0;34m\u001b[0m\u001b[0m\n",
      "\u001b[0;32m~/Documents/GitHub/Rutgers_Railway_security_research/OOD_Train/system.py\u001b[0m in \u001b[0;36mnum_parallel_tracks\u001b[0;34m(self, init_point, dest_point)\u001b[0m\n\u001b[1;32m    514\u001b[0m         _mainline_section = shortest_path(self.G_origin, init_point,\n\u001b[1;32m    515\u001b[0m                                              dest_point)\n\u001b[0;32m--> 516\u001b[0;31m         \u001b[0m_start_point\u001b[0m \u001b[0;34m=\u001b[0m \u001b[0m_mainline_section\u001b[0m\u001b[0;34m.\u001b[0m\u001b[0mpop\u001b[0m\u001b[0;34m(\u001b[0m\u001b[0;36m0\u001b[0m\u001b[0;34m)\u001b[0m\u001b[0;34m\u001b[0m\u001b[0;34m\u001b[0m\u001b[0m\n\u001b[0m\u001b[1;32m    517\u001b[0m         \u001b[0mcount\u001b[0m \u001b[0;34m=\u001b[0m \u001b[0;36m0\u001b[0m\u001b[0;34m\u001b[0m\u001b[0;34m\u001b[0m\u001b[0m\n\u001b[1;32m    518\u001b[0m         \u001b[0m_traversed\u001b[0m \u001b[0;34m=\u001b[0m \u001b[0;34m[\u001b[0m\u001b[0;34m]\u001b[0m\u001b[0;34m\u001b[0m\u001b[0;34m\u001b[0m\u001b[0m\n",
      "\u001b[0;31mAttributeError\u001b[0m: 'NoneType' object has no attribute 'pop'"
     ]
    }
   ],
   "source": [
    "while sys.sys_time - sys.init_time <= sys.term_time - sys.init_time:\n",
    "    _semaphore_to_return = False\n",
    "    for t in sys.trains:\n",
    "        t.request_routing()\n",
    "        t.update_acc()\n",
    "    sys.sys_time+=sys.refresh_time\n",
    "    if K165.curr_MP > 20:\n",
    "        break"
   ]
  },
  {
   "cell_type": "code",
   "execution_count": 3,
   "metadata": {},
   "outputs": [
    {
     "name": "stdout",
     "output_type": "stream",
     "text": [
      "None\n",
      "0\n",
      "Aspect: r, \t route None, target speed 0.0 mph\n",
      "[(0, 1), (1, 0)]\n",
      "defaultdict(<class 'list'>, {0: [1], 1: [0]})\n",
      "{0: [0], 1: [1]}\n"
     ]
    }
   ],
   "source": [
    "print(sys.signal_points[0].signal_by_port[0].route)\n",
    "print(sys.signal_points[0].signal_by_port[0].number_of_blocks_cleared_ahead)\n",
    "print(sys.signal_points[0].signal_by_port[0].aspect)\n",
    "print(sys.signal_points[0].all_valid_routes)\n",
    "print(sys.signal_points[0].available_ports_by_port)\n",
    "print(sys.signal_points[0].ban_ports_by_port)"
   ]
  },
  {
   "cell_type": "code",
   "execution_count": null,
   "metadata": {},
   "outputs": [],
   "source": []
  },
  {
   "cell_type": "code",
   "execution_count": 12,
   "metadata": {},
   "outputs": [
    {
     "ename": "NameError",
     "evalue": "name 'all_simple_paths' is not defined",
     "output_type": "error",
     "traceback": [
      "\u001b[0;31m---------------------------------------------------------------------------\u001b[0m",
      "\u001b[0;31mNameError\u001b[0m                                 Traceback (most recent call last)",
      "\u001b[0;32m<ipython-input-12-a773d97aa374>\u001b[0m in \u001b[0;36m<module>\u001b[0;34m\u001b[0m\n\u001b[0;32m----> 1\u001b[0;31m \u001b[0mpath\u001b[0m \u001b[0;34m=\u001b[0m \u001b[0mlist\u001b[0m\u001b[0;34m(\u001b[0m\u001b[0mall_simple_paths\u001b[0m\u001b[0;34m(\u001b[0m\u001b[0msys\u001b[0m\u001b[0;34m.\u001b[0m\u001b[0mG_skeleton\u001b[0m\u001b[0;34m,\u001b[0m \u001b[0msys\u001b[0m\u001b[0;34m.\u001b[0m\u001b[0msignal_points\u001b[0m\u001b[0;34m[\u001b[0m\u001b[0;36m4\u001b[0m\u001b[0;34m]\u001b[0m\u001b[0;34m,\u001b[0m \u001b[0msys\u001b[0m\u001b[0;34m.\u001b[0m\u001b[0msignal_points\u001b[0m\u001b[0;34m[\u001b[0m\u001b[0;36m6\u001b[0m\u001b[0;34m]\u001b[0m\u001b[0;34m)\u001b[0m\u001b[0;34m)\u001b[0m\u001b[0;34m\u001b[0m\u001b[0;34m\u001b[0m\u001b[0m\n\u001b[0m\u001b[1;32m      2\u001b[0m \u001b[0mprint\u001b[0m\u001b[0;34m(\u001b[0m\u001b[0mpath\u001b[0m\u001b[0;34m[\u001b[0m\u001b[0;36m0\u001b[0m\u001b[0;34m]\u001b[0m\u001b[0;34m)\u001b[0m\u001b[0;34m\u001b[0m\u001b[0;34m\u001b[0m\u001b[0m\n",
      "\u001b[0;31mNameError\u001b[0m: name 'all_simple_paths' is not defined"
     ]
    }
   ],
   "source": [
    "path = list(all_simple_paths(sys.G_skeleton, sys.signal_points[4], sys.signal_points[6]))\n",
    "print(path[0])"
   ]
  },
  {
   "cell_type": "code",
   "execution_count": 4,
   "metadata": {
    "scrolled": true
   },
   "outputs": [
    {
     "data": {
      "text/plain": [
       "[((CtrlPnt 0, 1), (CtrlPnt 2, 0)),\n",
       " ((CtrlPnt 2, 3), (CtrlPnt14, 0)),\n",
       " ((CtrlPnt14, 1), (CtrlPnt16, 0)),\n",
       " ((CtrlPnt16, 1), (CtrlPnt13, 0))]"
      ]
     },
     "execution_count": 4,
     "metadata": {},
     "output_type": "execute_result"
    }
   ],
   "source": [
    "dp.get_route(sys.signal_points[2], 0, sys.signal_points[16], 1)"
   ]
  },
  {
   "cell_type": "code",
   "execution_count": null,
   "metadata": {},
   "outputs": [],
   "source": []
  },
  {
   "cell_type": "code",
   "execution_count": 5,
   "metadata": {},
   "outputs": [
    {
     "data": {
      "text/plain": [
       "[BgBlk <MP:  0.0~10.0 > <CtrlPnt 0 port: 1~CtrlPnt 2 port: 0> key: 0,\n",
       " BgBlk <MP: 10.0~15.0 > <CtrlPnt 2 port: 1~CtrlPnt 3 port: 0> key: 0,\n",
       " BgBlk <MP: 10.0~5.0  > <CtrlPnt 2 port: 3~CtrlPnt14 port: 0> key: 0,\n",
       " BgBlk <MP: 15.0~20.0 > <CtrlPnt 3 port: 1~CtrlPnt 4 port: 0> key: 0,\n",
       " BgBlk <MP: 15.0~20.0 > <CtrlPnt 3 port: 3~CtrlPnt 4 port: 2> key: 1,\n",
       " BgBlk <MP: 20.0~25.0 > <CtrlPnt 4 port: 1~CtrlPnt 5 port: 0> key: 0,\n",
       " BgBlk <MP: 25.0~30.0 > <CtrlPnt 5 port: 1~CtrlPnt 6 port: 0> key: 0,\n",
       " BgBlk <MP: 25.0~40.0 > <CtrlPnt 5 port: 3~CtrlPnt 8 port: 2> key: 0,\n",
       " BgBlk <MP: 30.0~35.0 > <CtrlPnt 6 port: 1~CtrlPnt 7 port: 0> key: 0,\n",
       " BgBlk <MP: 30.0~35.0 > <CtrlPnt 6 port: 3~CtrlPnt 7 port: 2> key: 1,\n",
       " BgBlk <MP: 35.0~40.0 > <CtrlPnt 7 port: 1~CtrlPnt 8 port: 0> key: 0,\n",
       " BgBlk <MP: 40.0~50.0 > <CtrlPnt 8 port: 1~CtrlPnt10 port: 0> key: 0,\n",
       " BgBlk <MP: 15.0~20.0 > <CtrlPnt16 port: 1~CtrlPnt13 port: 0> key: 0,\n",
       " BgBlk <MP:  5.0~15.0 > <CtrlPnt14 port: 1~CtrlPnt16 port: 0> key: 0,\n",
       " BgBlk <MP:  5.0~15.0 > <CtrlPnt14 port: 3~CtrlPnt16 port: 2> key: 1]"
      ]
     },
     "execution_count": 5,
     "metadata": {},
     "output_type": "execute_result"
    }
   ],
   "source": [
    "[b for b in sys.bigblocks]"
   ]
  },
  {
   "cell_type": "code",
   "execution_count": 3,
   "metadata": {
    "scrolled": true
   },
   "outputs": [
    {
     "name": "stdout",
     "output_type": "stream",
     "text": [
      "[Track <MP:  0.0~5.0  > <CtrlPnt 0 port: 1~AutoPnt 1 port: 0> key: 0, Track <MP:  5.0~10.0 > <AutoPnt 1 port: 1~CtrlPnt 2 port: 0> key: 0]\n",
      "[Track <MP: 10.0~15.0 > <CtrlPnt 2 port: 1~CtrlPnt 3 port: 0> key: 0]\n",
      "[Track <MP: 10.0~5.0  > <CtrlPnt 2 port: 3~CtrlPnt14 port: 0> key: 0]\n",
      "[Track <MP: 15.0~20.0 > <CtrlPnt 3 port: 1~CtrlPnt 4 port: 0> key: 0]\n",
      "[Track <MP: 15.0~20.0 > <CtrlPnt 3 port: 3~CtrlPnt 4 port: 2> key: 1]\n",
      "[Track <MP: 20.0~25.0 > <CtrlPnt 4 port: 1~CtrlPnt 5 port: 0> key: 0]\n",
      "[Track <MP: 25.0~30.0 > <CtrlPnt 5 port: 1~CtrlPnt 6 port: 0> key: 0]\n",
      "[Track <MP: 25.0~30.0 > <CtrlPnt 5 port: 3~AutoPnt11 port: 0> key: 0, Track <MP: 30.0~35.0 > <AutoPnt11 port: 1~AutoPnt12 port: 0> key: 0, Track <MP: 35.0~40.0 > <AutoPnt12 port: 1~CtrlPnt 8 port: 2> key: 0]\n",
      "[Track <MP: 30.0~35.0 > <CtrlPnt 6 port: 1~CtrlPnt 7 port: 0> key: 0]\n",
      "[Track <MP: 30.0~35.0 > <CtrlPnt 6 port: 3~CtrlPnt 7 port: 2> key: 1]\n",
      "[Track <MP: 35.0~40.0 > <CtrlPnt 7 port: 1~CtrlPnt 8 port: 0> key: 0]\n",
      "[Track <MP: 40.0~45.0 > <CtrlPnt 8 port: 1~AutoPnt 9 port: 0> key: 0, Track <MP: 45.0~50.0 > <AutoPnt 9 port: 1~CtrlPnt10 port: 0> key: 0]\n",
      "[Track <MP: 15.0~20.0 > <CtrlPnt16 port: 1~CtrlPnt13 port: 0> key: 0]\n",
      "[Track <MP:  5.0~15.0 > <CtrlPnt14 port: 1~CtrlPnt16 port: 0> key: 0]\n",
      "[Track <MP:  5.0~10.0 > <CtrlPnt14 port: 3~AutoPnt15 port: 0> key: 0, Track <MP: 10.0~15.0 > <AutoPnt15 port: 1~CtrlPnt16 port: 2> key: 0]\n"
     ]
    }
   ],
   "source": [
    "for e in sys.G_skeleton.edges(data=True):\n",
    "    print(e[2]['instance'].tracks)"
   ]
  },
  {
   "cell_type": "code",
   "execution_count": 10,
   "metadata": {},
   "outputs": [
    {
     "name": "stdout",
     "output_type": "stream",
     "text": [
      "HomeSig port: 0 of CtrlPnt 0\n",
      "HomeSig port: 1 of CtrlPnt 0\n",
      "HomeSig port: 0 of CtrlPnt 2\n",
      "HomeSig port: 1 of CtrlPnt 2\n",
      "HomeSig port: 3 of CtrlPnt 2\n",
      "HomeSig port: 0 of CtrlPnt 3\n",
      "HomeSig port: 1 of CtrlPnt 3\n",
      "HomeSig port: 3 of CtrlPnt 3\n",
      "HomeSig port: 0 of CtrlPnt 4\n",
      "HomeSig port: 2 of CtrlPnt 4\n",
      "HomeSig port: 1 of CtrlPnt 4\n",
      "HomeSig port: 0 of CtrlPnt 5\n",
      "HomeSig port: 1 of CtrlPnt 5\n",
      "HomeSig port: 3 of CtrlPnt 5\n",
      "HomeSig port: 0 of CtrlPnt 6\n",
      "HomeSig port: 1 of CtrlPnt 6\n",
      "HomeSig port: 3 of CtrlPnt 6\n",
      "HomeSig port: 0 of CtrlPnt 7\n",
      "HomeSig port: 2 of CtrlPnt 7\n",
      "HomeSig port: 1 of CtrlPnt 7\n",
      "HomeSig port: 0 of CtrlPnt 8\n",
      "HomeSig port: 2 of CtrlPnt 8\n",
      "HomeSig port: 1 of CtrlPnt 8\n",
      "HomeSig port: 0 of CtrlPnt10\n",
      "HomeSig port: 1 of CtrlPnt10\n",
      "HomeSig port: 0 of CtrlPnt13\n",
      "HomeSig port: 1 of CtrlPnt13\n",
      "HomeSig port: 0 of CtrlPnt14\n",
      "HomeSig port: 1 of CtrlPnt14\n",
      "HomeSig port: 3 of CtrlPnt14\n",
      "HomeSig port: 0 of CtrlPnt16\n",
      "HomeSig port: 2 of CtrlPnt16\n",
      "HomeSig port: 1 of CtrlPnt16\n"
     ]
    }
   ],
   "source": [
    "for i in sys.ctrl_points:\n",
    "    for _,j in i.signal_by_port.items():\n",
    "        print(j)"
   ]
  },
  {
   "cell_type": "code",
   "execution_count": 11,
   "metadata": {},
   "outputs": [
    {
     "name": "stdout",
     "output_type": "stream",
     "text": [
      "BgBlk MP:<  0.0~10.0 > <CtrlPnt 0 port: 1~CtrlPnt 2 port: 0> key: 0\n",
      "BgBlk MP:< 10.0~15.0 > <CtrlPnt 2 port: 1~CtrlPnt 3 port: 0> key: 0\n",
      "BgBlk MP:< 10.0~5.0  > <CtrlPnt 2 port: 3~CtrlPnt14 port: 0> key: 0\n",
      "BgBlk MP:< 15.0~20.0 > <CtrlPnt 3 port: 1~CtrlPnt 4 port: 0> key: 0\n",
      "BgBlk MP:< 15.0~20.0 > <CtrlPnt 3 port: 3~CtrlPnt 4 port: 2> key: 1\n",
      "BgBlk MP:< 20.0~25.0 > <CtrlPnt 4 port: 1~CtrlPnt 5 port: 0> key: 0\n",
      "BgBlk MP:< 25.0~30.0 > <CtrlPnt 5 port: 1~CtrlPnt 6 port: 0> key: 0\n",
      "BgBlk MP:< 25.0~40.0 > <CtrlPnt 5 port: 3~CtrlPnt 8 port: 2> key: 0\n",
      "BgBlk MP:< 30.0~35.0 > <CtrlPnt 6 port: 1~CtrlPnt 7 port: 0> key: 0\n",
      "BgBlk MP:< 30.0~35.0 > <CtrlPnt 6 port: 3~CtrlPnt 7 port: 2> key: 1\n",
      "BgBlk MP:< 35.0~40.0 > <CtrlPnt 7 port: 1~CtrlPnt 8 port: 0> key: 0\n",
      "BgBlk MP:< 40.0~50.0 > <CtrlPnt 8 port: 1~CtrlPnt10 port: 0> key: 0\n",
      "BgBlk MP:< 15.0~20.0 > <CtrlPnt16 port: 1~CtrlPnt13 port: 0> key: 0\n",
      "BgBlk MP:<  5.0~15.0 > <CtrlPnt14 port: 1~CtrlPnt16 port: 0> key: 0\n",
      "BgBlk MP:<  5.0~15.0 > <CtrlPnt14 port: 3~CtrlPnt16 port: 2> key: 1\n"
     ]
    }
   ],
   "source": [
    "for i in sys.bigblocks:\n",
    "    print(i)"
   ]
  },
  {
   "cell_type": "code",
   "execution_count": null,
   "metadata": {},
   "outputs": [],
   "source": []
  },
  {
   "cell_type": "code",
   "execution_count": null,
   "metadata": {},
   "outputs": [],
   "source": []
  }
 ],
 "metadata": {
  "kernelspec": {
   "display_name": "Python 3",
   "language": "python",
   "name": "python3"
  },
  "language_info": {
   "codemirror_mode": {
    "name": "ipython",
    "version": 3
   },
   "file_extension": ".py",
   "mimetype": "text/x-python",
   "name": "python",
   "nbconvert_exporter": "python",
   "pygments_lexer": "ipython3",
   "version": "3.7.3"
  }
 },
 "nbformat": 4,
 "nbformat_minor": 2
}
