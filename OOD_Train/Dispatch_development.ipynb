{
 "cells": [
  {
   "cell_type": "code",
   "execution_count": 1,
   "metadata": {},
   "outputs": [],
   "source": [
    "from datetime import datetime, timedelta\n",
    "import numpy as np\n",
    "import random\n",
    "from infrastructure import Yard, Track, BigBlock\n",
    "from signaling import AutoSignal, HomeSignal, AutoPoint, ControlPoint\n",
    "from system import System\n",
    "from train import TrainList, Train\n",
    "import networkx as nx\n",
    "from sim import string_diagram, speed_curve\n",
    "\n",
    "import matplotlib.pyplot as plt\n",
    "import matplotlib.dates as mdates"
   ]
  },
  {
   "cell_type": "code",
   "execution_count": 2,
   "metadata": {},
   "outputs": [],
   "source": [
    "sim_init_time = datetime.strptime('2018-01-10 10:00:00', \"%Y-%m-%d %H:%M:%S\")\n",
    "sim_term_time = datetime.strptime('2018-01-10 15:30:00', \"%Y-%m-%d %H:%M:%S\")\n",
    "sp_container = [random.uniform(0.01, 0.02) for i in range(20)]\n",
    "acc_container = [0.5*random.uniform(2.78e-05*0.85, 2.78e-05*1.15) for i in range(20)]\n",
    "dcc_container = [0.2*random.uniform(2.78e-05*0.85, 2.78e-05*1.15) for i in range(20)]\n",
    "headway = 300 + random.random() * 400\n",
    "sys = System(sim_init_time, sp_container, acc_container, dcc_container,\n",
    "             term_time=sim_term_time,\n",
    "             dos_period=['2018-01-10 11:30:00', '2018-01-10 12:30:00'],  \n",
    "             dos_pos=(15,20),\n",
    "             headway=headway, \n",
    "             refresh_time=50)\n",
    "K165 = Train(sys, sys.sys_time, ((sys.signal_points[0],1),(sys.signal_points[1],0)),\n",
    "             max_sp=sys.sp_container[sys.train_num % len(sys.sp_container)],\n",
    "             max_acc=sys.acc_container[sys.train_num % len(sys.acc_container)],\n",
    "             max_dcc=sys.dcc_container[sys.train_num % len(sys.dcc_container)],\n",
    "             length=1)\n",
    "T165 = Train(sys, sys.sys_time, ((None,None),(sys.signal_points[0],0)),\n",
    "             max_sp=K165.max_speed*1.02,\n",
    "             max_acc=sys.acc_container[sys.train_num % len(sys.acc_container)],\n",
    "             max_dcc=sys.dcc_container[sys.train_num % len(sys.dcc_container)],\n",
    "             length=1)\n",
    "K166 = Train(sys, sys.sys_time, ((sys.signal_points[10],0),(sys.signal_points[9],1)),\n",
    "             max_sp=sys.sp_container[sys.train_num % len(sys.sp_container)],\n",
    "             max_acc=sys.acc_container[sys.train_num % len(sys.acc_container)],\n",
    "             max_dcc=sys.dcc_container[sys.train_num % len(sys.dcc_container)],\n",
    "             length=1)\n",
    "T166 = Train(sys, sys.sys_time, ((None,None),(sys.signal_points[10],1)),\n",
    "             max_sp=K166.max_speed*1.02,\n",
    "             max_acc=sys.acc_container[sys.train_num % len(sys.acc_container)],\n",
    "             max_dcc=sys.dcc_container[sys.train_num % len(sys.dcc_container)],\n",
    "             length=1)"
   ]
  },
  {
   "cell_type": "code",
   "execution_count": 3,
   "metadata": {},
   "outputs": [
    {
     "name": "stdout",
     "output_type": "stream",
     "text": [
      "train idx: 0, MP:  5.00 requested (0, 1) at CP: 15.0\n",
      "\troute (0, 1) of ControlPoint3 is opened\n",
      "train idx: 1, MP:  0.00 requested (0, 1) at CP: 0.0\n",
      "\troute (0, 1) of ControlPoint0 is opened\n",
      "train idx: 2, MP: 45.00 requested (1, 0) at CP: 35.0\n",
      "\troute (1, 0) of ControlPoint7 is opened\n",
      "train idx: 3, MP: 50.00 requested (1, 0) at CP: 50.0\n",
      "\troute (1, 0) of ControlPoint10 is opened\n",
      "train idx: 1 initiated, entering into Track MP: 0.0 to MP: 5.0 idx: 0\n",
      "\troute (0, 1) of ControlPoint0 is closed\n",
      "train idx: 3 initiated, entering into Track MP: 45.0 to MP: 50.0 idx: 0\n",
      "\troute (1, 0) of ControlPoint10 is closed\n"
     ]
    },
    {
     "ename": "AssertionError",
     "evalue": "",
     "output_type": "error",
     "traceback": [
      "\u001b[0;31m---------------------------------------------------------------------------\u001b[0m",
      "\u001b[0;31mAssertionError\u001b[0m                            Traceback (most recent call last)",
      "\u001b[0;32m<ipython-input-3-c5c1cea2fcd3>\u001b[0m in \u001b[0;36m<module>\u001b[0;34m\u001b[0m\n\u001b[1;32m      3\u001b[0m     \u001b[0;32mfor\u001b[0m \u001b[0mt\u001b[0m \u001b[0;32min\u001b[0m \u001b[0msys\u001b[0m\u001b[0;34m.\u001b[0m\u001b[0mtrains\u001b[0m\u001b[0;34m:\u001b[0m\u001b[0;34m\u001b[0m\u001b[0;34m\u001b[0m\u001b[0m\n\u001b[1;32m      4\u001b[0m         \u001b[0mt\u001b[0m\u001b[0;34m.\u001b[0m\u001b[0mrequest_routing\u001b[0m\u001b[0;34m(\u001b[0m\u001b[0;34m)\u001b[0m\u001b[0;34m\u001b[0m\u001b[0;34m\u001b[0m\u001b[0m\n\u001b[0;32m----> 5\u001b[0;31m         \u001b[0mt\u001b[0m\u001b[0;34m.\u001b[0m\u001b[0mupdate_acc\u001b[0m\u001b[0;34m(\u001b[0m\u001b[0;34m)\u001b[0m\u001b[0;34m\u001b[0m\u001b[0;34m\u001b[0m\u001b[0m\n\u001b[0m\u001b[1;32m      6\u001b[0m     \u001b[0msys\u001b[0m\u001b[0;34m.\u001b[0m\u001b[0msys_time\u001b[0m\u001b[0;34m+=\u001b[0m\u001b[0msys\u001b[0m\u001b[0;34m.\u001b[0m\u001b[0mrefresh_time\u001b[0m\u001b[0;34m\u001b[0m\u001b[0;34m\u001b[0m\u001b[0m\n\u001b[1;32m      7\u001b[0m     \u001b[0;32mif\u001b[0m \u001b[0mK165\u001b[0m\u001b[0;34m.\u001b[0m\u001b[0mcurr_MP\u001b[0m \u001b[0;34m>\u001b[0m \u001b[0;36m20\u001b[0m\u001b[0;34m:\u001b[0m\u001b[0;34m\u001b[0m\u001b[0;34m\u001b[0m\u001b[0m\n",
      "\u001b[0;32m~/Documents/GitHub/Rutgers_Railway_security_research/OOD_Train/train.py\u001b[0m in \u001b[0;36mupdate_acc\u001b[0;34m(self)\u001b[0m\n\u001b[1;32m   1020\u001b[0m             @return: None'''\n\u001b[1;32m   1021\u001b[0m         \u001b[0;32mif\u001b[0m \u001b[0;32mnot\u001b[0m \u001b[0mself\u001b[0m\u001b[0;34m.\u001b[0m\u001b[0mstopped\u001b[0m\u001b[0;34m:\u001b[0m\u001b[0;34m\u001b[0m\u001b[0;34m\u001b[0m\u001b[0m\n\u001b[0;32m-> 1022\u001b[0;31m             \u001b[0mself\u001b[0m\u001b[0;34m.\u001b[0m\u001b[0mcurr_speed\u001b[0m \u001b[0;34m=\u001b[0m \u001b[0mself\u001b[0m\u001b[0;34m.\u001b[0m\u001b[0mcurr_speed\u001b[0m \u001b[0;34m+\u001b[0m \u001b[0mself\u001b[0m\u001b[0;34m.\u001b[0m\u001b[0mcurr_acc\u001b[0m \u001b[0;34m*\u001b[0m \u001b[0mself\u001b[0m\u001b[0;34m.\u001b[0m\u001b[0msystem\u001b[0m\u001b[0;34m.\u001b[0m\u001b[0mrefresh_time\u001b[0m\u001b[0;34m\u001b[0m\u001b[0;34m\u001b[0m\u001b[0m\n\u001b[0m\u001b[1;32m   1023\u001b[0m             \u001b[0mdelta_s\u001b[0m \u001b[0;34m=\u001b[0m \u001b[0mself\u001b[0m\u001b[0;34m.\u001b[0m\u001b[0mcurr_speed\u001b[0m \u001b[0;34m*\u001b[0m \u001b[0mself\u001b[0m\u001b[0;34m.\u001b[0m\u001b[0msystem\u001b[0m\u001b[0;34m.\u001b[0m\u001b[0mrefresh_time\u001b[0m \u001b[0;34m+\u001b[0m\u001b[0;31m \u001b[0m\u001b[0;31m\\\u001b[0m\u001b[0;34m\u001b[0m\u001b[0;34m\u001b[0m\u001b[0m\n\u001b[1;32m   1024\u001b[0m                 \u001b[0;36m0.5\u001b[0m \u001b[0;34m*\u001b[0m \u001b[0mself\u001b[0m\u001b[0;34m.\u001b[0m\u001b[0mcurr_acc\u001b[0m \u001b[0;34m*\u001b[0m \u001b[0mself\u001b[0m\u001b[0;34m.\u001b[0m\u001b[0msystem\u001b[0m\u001b[0;34m.\u001b[0m\u001b[0mrefresh_time\u001b[0m \u001b[0;34m**\u001b[0m \u001b[0;36m2\u001b[0m\u001b[0;34m\u001b[0m\u001b[0;34m\u001b[0m\u001b[0m\n",
      "\u001b[0;32m~/Documents/GitHub/Rutgers_Railway_security_research/OOD_Train/train.py\u001b[0m in \u001b[0;36mcurr_speed\u001b[0;34m(self, new_speed)\u001b[0m\n\u001b[1;32m    599\u001b[0m             \u001b[0;36m2\u001b[0m\u001b[0;34m:\u001b[0m \u001b[0mnew\u001b[0m \u001b[0mspeed\u001b[0m \u001b[0mafter\u001b[0m \u001b[0mupdate\u001b[0m \u001b[0mhas\u001b[0m \u001b[0mthe\u001b[0m \u001b[0mopposite\u001b[0m \u001b[0msign\u001b[0m \u001b[0mto\u001b[0m \u001b[0mold_speed\u001b[0m \u001b[0;34m(\u001b[0m\u001b[0mspeed\u001b[0m \u001b[0mvalue\u001b[0m \u001b[0mcrossing\u001b[0m \u001b[0mzero\u001b[0m\u001b[0;34m)\u001b[0m\u001b[0;34m:\u001b[0m\u001b[0;34m\u001b[0m\u001b[0;34m\u001b[0m\u001b[0m\n\u001b[1;32m    600\u001b[0m                 the train is decelerating into a complete stop, setting the speed as 0.'''\n\u001b[0;32m--> 601\u001b[0;31m         \u001b[0;32massert\u001b[0m \u001b[0mself\u001b[0m\u001b[0;34m.\u001b[0m\u001b[0mcurr_brake_distance_abs\u001b[0m \u001b[0;34m<=\u001b[0m \u001b[0mself\u001b[0m\u001b[0;34m.\u001b[0m\u001b[0mcurr_dis_to_curr_sig_abs\u001b[0m\u001b[0;34m\u001b[0m\u001b[0;34m\u001b[0m\u001b[0m\n\u001b[0m\u001b[1;32m    602\u001b[0m         \u001b[0;32massert\u001b[0m \u001b[0mabs\u001b[0m\u001b[0;34m(\u001b[0m\u001b[0mself\u001b[0m\u001b[0;34m.\u001b[0m\u001b[0mcurr_speed\u001b[0m\u001b[0;34m)\u001b[0m \u001b[0;34m<=\u001b[0m \u001b[0mself\u001b[0m\u001b[0;34m.\u001b[0m\u001b[0mcurr_spd_lmt_abs\u001b[0m\u001b[0;34m\u001b[0m\u001b[0;34m\u001b[0m\u001b[0m\n\u001b[1;32m    603\u001b[0m         \u001b[0;31m# assert always-on braking distance/speed limit satisfaction to find bugs\u001b[0m\u001b[0;34m\u001b[0m\u001b[0;34m\u001b[0m\u001b[0;34m\u001b[0m\u001b[0m\n",
      "\u001b[0;31mAssertionError\u001b[0m: "
     ]
    }
   ],
   "source": [
    "while sys.sys_time - sys.init_time <= sys.term_time - sys.init_time:\n",
    "    _semaphore_to_return = False\n",
    "    for t in sys.trains:\n",
    "        t.request_routing()\n",
    "        t.update_acc()\n",
    "    sys.sys_time+=sys.refresh_time\n",
    "    if K165.curr_MP > 20:\n",
    "        break"
   ]
  },
  {
   "cell_type": "code",
   "execution_count": 6,
   "metadata": {},
   "outputs": [
    {
     "data": {
      "text/plain": [
       "[(train index 0, current occupation: [((AutoPoint2, 1), (ControlPoint3, 0)), ((AutoPoint1, 1), (AutoPoint2, 0))], head MP: 10.48, rear MP  9.48,\n",
       "  train index 2, current occupation: [((AutoPoint9, 0), (AutoPoint8, 1))], head MP: 40.02, rear MP 41.02)]"
      ]
     },
     "execution_count": 6,
     "metadata": {},
     "output_type": "execute_result"
    }
   ],
   "source": [
    "sys.trains.upcoming_meets"
   ]
  },
  {
   "cell_type": "code",
   "execution_count": 5,
   "metadata": {},
   "outputs": [],
   "source": [
    "Z165 = Train(sys, sys.sys_time, ((None,None),(sys.signal_points[0],0)),\n",
    "             max_sp=K166.max_speed*1.02,\n",
    "             max_acc=sys.acc_container[sys.train_num % len(sys.acc_container)],\n",
    "             max_dcc=sys.dcc_container[sys.train_num % len(sys.dcc_container)],\n",
    "             length=1)"
   ]
  },
  {
   "cell_type": "code",
   "execution_count": 9,
   "metadata": {},
   "outputs": [
    {
     "data": {
      "text/plain": [
       "[train index 4, current occupation: [((None, None), (ControlPoint0, 0))], head MP:  0.00, rear MP -1.00,\n",
       " train index 1, current occupation: [((ControlPoint0, 1), (AutoPoint1, 0))], head MP:  1.87, rear MP  0.87,\n",
       " train index 0, current occupation: [((AutoPoint2, 1), (ControlPoint3, 0)), ((AutoPoint1, 1), (AutoPoint2, 0))], head MP: 10.48, rear MP  9.48,\n",
       " train index 2, current occupation: [((AutoPoint9, 0), (AutoPoint8, 1))], head MP: 40.02, rear MP 41.02,\n",
       " train index 3, current occupation: [((ControlPoint10, 0), (AutoPoint9, 1))], head MP: 48.21, rear MP 49.21]"
      ]
     },
     "execution_count": 9,
     "metadata": {},
     "output_type": "execute_result"
    }
   ],
   "source": [
    "sys.trains.all_trains_by_MP"
   ]
  },
  {
   "cell_type": "code",
   "execution_count": 21,
   "metadata": {},
   "outputs": [
    {
     "data": {
      "text/plain": [
       "[train index 4, current occupation: [((None, None), (ControlPoint0, 0))], head MP:  0.00, rear MP -1.00,\n",
       " train index 1, current occupation: [((ControlPoint0, 1), (AutoPoint1, 0))], head MP:  1.75, rear MP  0.75,\n",
       " train index 0, current occupation: [((AutoPoint1, 1), (AutoPoint2, 0))], head MP:  9.93, rear MP  8.93,\n",
       " train index 2, current occupation: [((AutoPoint9, 0), (AutoPoint8, 1))], head MP: 40.26, rear MP 41.26,\n",
       " train index 3, current occupation: [((ControlPoint10, 0), (AutoPoint9, 1))], head MP: 48.37, rear MP 49.37]"
      ]
     },
     "execution_count": 21,
     "metadata": {},
     "output_type": "execute_result"
    }
   ],
   "source": [
    "sys.trains.all_trains_by_MP"
   ]
  },
  {
   "cell_type": "code",
   "execution_count": null,
   "metadata": {},
   "outputs": [],
   "source": []
  }
 ],
 "metadata": {
  "kernelspec": {
   "display_name": "Python 3",
   "language": "python",
   "name": "python3"
  },
  "language_info": {
   "codemirror_mode": {
    "name": "ipython",
    "version": 3
   },
   "file_extension": ".py",
   "mimetype": "text/x-python",
   "name": "python",
   "nbconvert_exporter": "python",
   "pygments_lexer": "ipython3",
   "version": "3.7.3"
  }
 },
 "nbformat": 4,
 "nbformat_minor": 2
}
