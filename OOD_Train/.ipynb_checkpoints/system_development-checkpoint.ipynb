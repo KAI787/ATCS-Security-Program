{
 "cells": [
  {
   "cell_type": "code",
   "execution_count": 1,
   "metadata": {},
   "outputs": [],
   "source": [
    "import os\n",
    "import sys\n",
    "sys.path.append('D:\\\\Users\\\\Hegxiten\\\\workspace\\\\Rutgers_Railway_security_research\\\\OOD_Train')\n",
    "\n",
    "from datetime import datetime, timedelta\n",
    "import numpy as np\n",
    "import random\n",
    "from infrastructure import Track, Block, BigBlock\n",
    "from signaling import AutoSignal, HomeSignal, AutoPoint, ControlPoint\n",
    "from system import System\n",
    "from train import Train\n",
    "import networkx as nx\n"
   ]
  },
  {
   "cell_type": "code",
   "execution_count": 16,
   "metadata": {},
   "outputs": [],
   "source": [
    "sim_init_time = datetime.strptime('2018-01-10 10:00:00', \"%Y-%m-%d %H:%M:%S\")\n",
    "sim_term_time = datetime.strptime('2018-01-10 15:30:00', \"%Y-%m-%d %H:%M:%S\")\n",
    "sp_container = [random.uniform(0.01, 0.02) for i in range(20)]\n",
    "acc_container = [random.uniform(2.78e-05*0.85, 2.78e-05*1.15) for i in range(20)]\n",
    "dcc_container = [random.uniform(2.78e-05*0.85, 2.78e-05*1.15) for i in range(20)]\n",
    "headway = 200 * random.random() + 400\n",
    "sys = System(sim_init_time, sp_container, acc_container, dcc_container,\n",
    "             dos_period=['2018-01-10 11:30:00', '2018-01-10 12:30:00'],  \n",
    "             headway=headway, \n",
    "             tracks=[1,1,1,4,1,1,3,1,1,1], \n",
    "             dos_pos=-1)\n",
    "k165 = Train(idx=sys.train_num, \n",
    "                  rank=sys.train_num, \n",
    "                  system=sys, \n",
    "                  init_time=sys.sys_time, \n",
    "                  init_segment=((None,None),(sys.control_points[0],0)),\n",
    "                  max_sp=sys.sp_container[sys.train_num % len(sys.sp_container)], \n",
    "                  max_acc=sys.acc_container[sys.train_num % len(sys.acc_container)], \n",
    "                  max_dcc=sys.dcc_container[sys.train_num % len(sys.dcc_container)])"
   ]
  },
  {
   "cell_type": "code",
   "execution_count": 3,
   "metadata": {},
   "outputs": [
    {
     "name": "stdout",
     "output_type": "stream",
     "text": [
      "None None\n",
      "None None\n"
     ]
    }
   ],
   "source": [
    "for b in sys.bigblocks:\n",
    "    if b.edge_key == 1:\n",
    "        print(b.routing, b.tracks[0].routing)"
   ]
  },
  {
   "cell_type": "code",
   "execution_count": 17,
   "metadata": {},
   "outputs": [
    {
     "name": "stdout",
     "output_type": "stream",
     "text": [
      "route (0, 1) of ControlPoint0 is opened\n",
      "route (0, 3) of ControlPoint3 is opened\n",
      "route (1, 0) of ControlPoint4 is opened\n",
      "route (3, 0) of ControlPoint6 is opened\n",
      "route (0, 1) of ControlPoint7 is opened\n",
      "route (0, 1) of ControlPoint10 is opened\n"
     ]
    }
   ],
   "source": [
    "sys.signal_points[0].open_route((0,1))\n",
    "sys.signal_points[3].open_route((0,3))\n",
    "sys.signal_points[4].open_route((1,0))\n",
    "sys.signal_points[6].open_route((3,0))\n",
    "sys.signal_points[7].open_route((0,1))\n",
    "sys.signal_points[10].open_route((0,1))"
   ]
  },
  {
   "cell_type": "code",
   "execution_count": 6,
   "metadata": {
    "scrolled": true
   },
   "outputs": [
    {
     "name": "stdout",
     "output_type": "stream",
     "text": [
      "route (1, 0) for ControlPoint4 is closed\n",
      "conflicting routes [(1, 0)] are closed for (1, 2) to open\n"
     ]
    }
   ],
   "source": [
    "sys.signal_points[4].open_route((1,2))\n"
   ]
  },
  {
   "cell_type": "code",
   "execution_count": 23,
   "metadata": {},
   "outputs": [
    {
     "name": "stdout",
     "output_type": "stream",
     "text": [
      "ControlPoint0\n",
      "\tport: 0, \t Aspect: y, \t route (0, 1), target speed 20.0 mph\n",
      "\tport: 1, \t Aspect: r, \t route None, target speed 0.0 mph\n",
      "AutoPoint1\n",
      "\tport: 0, \t Aspect: r, \t route (0, 1), target speed 0.0 mph\n",
      "\tport: 1, \t Aspect: r, \t route None, target speed 0.0 mph\n",
      "AutoPoint2\n",
      "\tport: 0, \t Aspect: yy, \t route (0, 1), target speed 40.0 mph\n",
      "\tport: 1, \t Aspect: r, \t route None, target speed 0.0 mph\n",
      "ControlPoint3\n",
      "\tport: 0, \t Aspect: y, \t route (0, 3), target speed 20.0 mph\n",
      "\tport: 1, \t Aspect: r, \t route None, target speed 0.0 mph\n",
      "\tport: 3, \t Aspect: r, \t route None, target speed 0.0 mph\n",
      "ControlPoint4\n",
      "\tport: 0, \t Aspect: r, \t route None, target speed 0.0 mph\n",
      "\tport: 2, \t Aspect: r, \t route None, target speed 0.0 mph\n",
      "\tport: 1, \t Aspect: y, \t route (1, 0), target speed 20.0 mph\n",
      "AutoPoint5\n",
      "\tport: 0, \t Aspect: r, \t route None, target speed 0.0 mph\n",
      "\tport: 1, \t Aspect: r, \t route (1, 0), target speed 0.0 mph\n",
      "ControlPoint6\n",
      "\tport: 0, \t Aspect: r, \t route None, target speed 0.0 mph\n",
      "\tport: 1, \t Aspect: r, \t route None, target speed 0.0 mph\n",
      "\tport: 3, \t Aspect: y, \t route (3, 0), target speed 20.0 mph\n",
      "ControlPoint7\n",
      "\tport: 0, \t Aspect: y, \t route (0, 1), target speed 20.0 mph\n",
      "\tport: 2, \t Aspect: r, \t route None, target speed 0.0 mph\n",
      "\tport: 1, \t Aspect: r, \t route None, target speed 0.0 mph\n",
      "AutoPoint8\n",
      "\tport: 0, \t Aspect: r, \t route (0, 1), target speed 0.0 mph\n",
      "\tport: 1, \t Aspect: r, \t route None, target speed 0.0 mph\n",
      "AutoPoint9\n",
      "\tport: 0, \t Aspect: g, \t route (0, 1), target speed 72.0 mph\n",
      "\tport: 1, \t Aspect: r, \t route None, target speed 0.0 mph\n",
      "ControlPoint10\n",
      "\tport: 0, \t Aspect: g, \t route (0, 1), target speed 72.0 mph\n",
      "\tport: 1, \t Aspect: r, \t route None, target speed 0.0 mph\n"
     ]
    }
   ],
   "source": [
    "for n in sys.signal_points:\n",
    "    print(n)\n",
    "    for p in n.ports:\n",
    "        print('\\tport: {}, \\t {}'.\\\n",
    "              format(p,n.signal_by_port[p].aspect))"
   ]
  },
  {
   "cell_type": "markdown",
   "metadata": {},
   "source": [
    "\n"
   ]
  },
  {
   "cell_type": "code",
   "execution_count": 22,
   "metadata": {},
   "outputs": [],
   "source": [
    "sys.get_track_by_points(sys.signal_points[1], sys.signal_points[2]).train.append('k165')\n",
    "sys.get_track_by_points(sys.signal_points[4], sys.signal_points[5]).train.append('k166')\n",
    "sys.get_track_by_points(sys.signal_points[8], sys.signal_points[9]).train.append('k879')"
   ]
  },
  {
   "cell_type": "code",
   "execution_count": 8,
   "metadata": {},
   "outputs": [],
   "source": [
    "from sim import string_diagram"
   ]
  },
  {
   "cell_type": "code",
   "execution_count": 9,
   "metadata": {},
   "outputs": [],
   "source": []
  },
  {
   "cell_type": "code",
   "execution_count": 25,
   "metadata": {},
   "outputs": [
    {
     "name": "stderr",
     "output_type": "stream",
     "text": [
      "No handles with labels found to put in legend.\n"
     ]
    },
    {
     "data": {
      "image/png": "[encoded data removed]",
      "text/plain": [
       "<Figure size 432x288 with 1 Axes>"
      ]
     },
     "metadata": {
      "needs_background": "light"
     },
     "output_type": "display_data"
    }
   ],
   "source": [
    "string_diagram(sys, sim_init_time, sim_term_time)"
   ]
  },
  {
   "cell_type": "code",
   "execution_count": 24,
   "metadata": {},
   "outputs": [],
   "source": [
    "from infrastructure import Track, Block, BigBlock\n",
    "from system import System\n",
    "from train import Train\n",
    "import matplotlib.pyplot as plt\n",
    "import matplotlib.dates as mdates\n",
    "from datetime import datetime, timedelta\n",
    "import numpy as np\n",
    "def string_diagram(sys, start_time, end_time):\n",
    "    '''To draw the string diagram based on the schedule dictionary for all the trains. \n",
    "    '''\n",
    "    colors = ['red','green','blue','black','orange','cyan','magenta']\n",
    "    color_num = len(colors)\n",
    "    x, y = [], []\n",
    "    for i in range(len(sys.trains)-1):\n",
    "        x.append([])\n",
    "        y.append([])\n",
    "        for j in range(len(sys.trains[i].time_pos_list)-1):\n",
    "            x[i].append(datetime.fromtimestamp(sys.trains[i].time_pos_list[j][0]))\n",
    "            y[i].append(sys.trains[i].time_pos_list[j][1])\n",
    "            # x[i].append(sys.trains[i].time_pos_list[j][0])\n",
    "            # y[i].append(sys.trains[i].time_pos_list[j][1])\n",
    "\n",
    "    y = [i for _,i in sorted(zip([i[0] for i in x], y))]\n",
    "    x = sorted(x, key = lambda x: x[0])\n",
    "    assert len(x) == len(y)\n",
    "    \n",
    "    train_idx = list(range(len(x)))\n",
    "    t_color = [colors[x.index(i)%color_num] for i in x]\n",
    "    min_t, max_t = min([i[0] for i in x]), max([i[-1] for i in x])\n",
    "\n",
    "    #plt.ion()\n",
    "    plt.title('Result Analysis')\n",
    "    hours = mdates.HourLocator()\n",
    "    minutes = mdates.MinuteLocator()\n",
    "    seconds = mdates.SecondLocator()\n",
    "    dateFmt = mdates.DateFormatter(\"%H:%M\")\n",
    "    plt.gca().xaxis.set_major_locator(hours)\n",
    "    plt.gca().xaxis.set_minor_locator(minutes)\n",
    "    plt.gca().xaxis.set_major_formatter(dateFmt)\n",
    "    plt.xticks(rotation=90)\n",
    "    plt.grid(True, linestyle = \"-.\", color = \"r\", linewidth = \"0.1\")\n",
    "    plt.legend()\n",
    "    plt.xlabel('Time')\n",
    "    plt.ylabel('Mile Post/miles')\n",
    "    start_time = int(start_time.timestamp())\n",
    "    end_time = int(end_time.timestamp())\n",
    "    plt.axis([(datetime.fromtimestamp(start_time - 500)), \\\n",
    "            (datetime.fromtimestamp(end_time + 500)), -5 , 55])\n",
    "    #===============================================================================\n",
    "    # time_length = end_time - start_time\n",
    "    # step_size = 10\n",
    "    # for start in range(1,time_length + 1, step_size):\n",
    "    #     plt.axis([(datetime.fromtimestamp(start_time - 500)), \\\n",
    "    #         (datetime.fromtimestamp(end_time + 500)), -5 , 55])\n",
    "         \n",
    "    #     for n in range(len(x)-1):\n",
    "    #         new_x_y = [[mdates.date2num(datetime.fromtimestamp(i)), j] for i, j in zip(x[n], y[n]) if i < start_time + start and i > start_time + start - 1 - step_size]\n",
    "    #         new_x = []\n",
    "    #         new_y = []\n",
    "    #         for i , j in new_x_y:\n",
    "    #             new_x.append(i)\n",
    "    #             new_y.append(j)\n",
    "    #         if(len(new_x) == 0):\n",
    "    #             continue\n",
    "    #         plt.plot(new_x, new_y, color=t_color[n])\n",
    "    #         # print('==============')\n",
    "    #         # print('Length of new_x: {}'.format(len(new_x)))\n",
    "    #         # print('Length of new_y: {}'.format(len(new_y)))\n",
    "    #     plt.pause(0.00001)\n",
    "    #===============================================================================\n",
    "    for n in range(len(x)-1):\n",
    "        #assert len(x[n]) == len(y[n]) == t_color[n]\n",
    "        plt.plot([mdates.date2num(i) for i in x[n]], y[n], color=t_color[n])\n",
    "    plt.gca().axhspan(15,20,color='yellow',alpha=0.5)\n",
    "    plt.gca().axhspan(30,35,color='yellow',alpha=0.5)\n",
    "    plt.gca().axvspan((datetime.fromtimestamp(start_time + 90 * 60)),(datetime.fromtimestamp(start_time + 150 * 60)),color='black',alpha=0.5)\n",
    "    plt.show()\n",
    "    #plt.ioff()"
   ]
  },
  {
   "cell_type": "code",
   "execution_count": 21,
   "metadata": {},
   "outputs": [
    {
     "ename": "ValueError",
     "evalue": "not enough values to unpack (expected 2, got 0)",
     "output_type": "error",
     "traceback": [
      "\u001b[1;31m---------------------------------------------------------------------------\u001b[0m",
      "\u001b[1;31mValueError\u001b[0m                                Traceback (most recent call last)",
      "\u001b[1;32m<ipython-input-21-11d41deab773>\u001b[0m in \u001b[0;36m<module>\u001b[1;34m\u001b[0m\n\u001b[1;32m----> 1\u001b[1;33m \u001b[0mx\u001b[0m\u001b[1;33m=\u001b[0m\u001b[1;33m[\u001b[0m\u001b[1;33m]\u001b[0m\u001b[1;33m,\u001b[0m \u001b[0my\u001b[0m\u001b[1;33m=\u001b[0m\u001b[1;33m[\u001b[0m\u001b[1;33m]\u001b[0m\u001b[1;33m\u001b[0m\u001b[1;33m\u001b[0m\u001b[0m\n\u001b[0m\u001b[0;32m      2\u001b[0m \u001b[1;32mfor\u001b[0m \u001b[0mj\u001b[0m \u001b[1;32min\u001b[0m \u001b[0mrange\u001b[0m\u001b[1;33m(\u001b[0m\u001b[0mlen\u001b[0m\u001b[1;33m(\u001b[0m\u001b[0msys\u001b[0m\u001b[1;33m.\u001b[0m\u001b[0mtrains\u001b[0m\u001b[1;33m[\u001b[0m\u001b[1;36m0\u001b[0m\u001b[1;33m]\u001b[0m\u001b[1;33m.\u001b[0m\u001b[0mtime_pos_list\u001b[0m\u001b[1;33m)\u001b[0m\u001b[1;33m-\u001b[0m\u001b[1;36m1\u001b[0m\u001b[1;33m)\u001b[0m\u001b[1;33m:\u001b[0m\u001b[1;33m\u001b[0m\u001b[1;33m\u001b[0m\u001b[0m\n\u001b[0;32m      3\u001b[0m     \u001b[0mx\u001b[0m\u001b[1;33m[\u001b[0m\u001b[1;36m0\u001b[0m\u001b[1;33m]\u001b[0m\u001b[1;33m.\u001b[0m\u001b[0mappend\u001b[0m\u001b[1;33m(\u001b[0m\u001b[0mdatetime\u001b[0m\u001b[1;33m.\u001b[0m\u001b[0mfromtimestamp\u001b[0m\u001b[1;33m(\u001b[0m\u001b[0msys\u001b[0m\u001b[1;33m.\u001b[0m\u001b[0mtrains\u001b[0m\u001b[1;33m[\u001b[0m\u001b[1;36m0\u001b[0m\u001b[1;33m]\u001b[0m\u001b[1;33m.\u001b[0m\u001b[0mtime_pos_list\u001b[0m\u001b[1;33m[\u001b[0m\u001b[0mj\u001b[0m\u001b[1;33m]\u001b[0m\u001b[1;33m[\u001b[0m\u001b[1;36m0\u001b[0m\u001b[1;33m]\u001b[0m\u001b[1;33m)\u001b[0m\u001b[1;33m)\u001b[0m\u001b[1;33m\u001b[0m\u001b[1;33m\u001b[0m\u001b[0m\n\u001b[0;32m      4\u001b[0m     \u001b[0my\u001b[0m\u001b[1;33m[\u001b[0m\u001b[1;36m0\u001b[0m\u001b[1;33m]\u001b[0m\u001b[1;33m.\u001b[0m\u001b[0mappend\u001b[0m\u001b[1;33m(\u001b[0m\u001b[0msys\u001b[0m\u001b[1;33m.\u001b[0m\u001b[0mtrains\u001b[0m\u001b[1;33m[\u001b[0m\u001b[1;36m0\u001b[0m\u001b[1;33m]\u001b[0m\u001b[1;33m.\u001b[0m\u001b[0mtime_pos_list\u001b[0m\u001b[1;33m[\u001b[0m\u001b[0mj\u001b[0m\u001b[1;33m]\u001b[0m\u001b[1;33m[\u001b[0m\u001b[1;36m1\u001b[0m\u001b[1;33m]\u001b[0m\u001b[1;33m)\u001b[0m\u001b[1;33m\u001b[0m\u001b[1;33m\u001b[0m\u001b[0m\n",
      "\u001b[1;31mValueError\u001b[0m: not enough values to unpack (expected 2, got 0)"
     ]
    }
   ],
   "source": [
    "x, =[], y=[]\n",
    "for j in range(len(sys.trains[0].time_pos_list)-1):\n",
    "    x[0].append(datetime.fromtimestamp(sys.trains[0].time_pos_list[j][0]))\n",
    "    y[0].append(sys.trains[0].time_pos_list[j][1])"
   ]
  },
  {
   "cell_type": "code",
   "execution_count": null,
   "metadata": {},
   "outputs": [],
   "source": []
  }
 ],
 "metadata": {
  "kernelspec": {
   "display_name": "Python 3",
   "language": "python",
   "name": "python3"
  },
  "language_info": {
   "codemirror_mode": {
    "name": "ipython",
    "version": 3
   },
   "file_extension": ".py",
   "mimetype": "text/x-python",
   "name": "python",
   "nbconvert_exporter": "python",
   "pygments_lexer": "ipython3",
   "version": "3.7.1"
  }
 },
 "nbformat": 4,
 "nbformat_minor": 2
}
