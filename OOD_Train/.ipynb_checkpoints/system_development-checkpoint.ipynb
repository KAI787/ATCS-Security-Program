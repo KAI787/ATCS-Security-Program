{
 "cells": [
  {
   "cell_type": "code",
   "execution_count": 1,
   "metadata": {},
   "outputs": [],
   "source": [
    "import os\n",
    "import sys\n",
    "sys.path.append('D:\\\\Users\\\\Hegxiten\\\\workspace\\\\Rutgers_Railway_security_research\\\\OOD_Train')\n",
    "\n",
    "from datetime import datetime, timedelta\n",
    "import numpy as np\n",
    "import random\n",
    "from infrastructure import Track, BigBlock\n",
    "from signaling import AutoSignal, HomeSignal, AutoPoint, ControlPoint\n",
    "from system import System\n",
    "from train import Train\n",
    "import networkx as nx\n"
   ]
  },
  {
   "cell_type": "code",
   "execution_count": 6,
   "metadata": {},
   "outputs": [],
   "source": [
    "sim_init_time = datetime.strptime('2018-01-10 10:00:00', \"%Y-%m-%d %H:%M:%S\")\n",
    "sim_term_time = datetime.strptime('2018-01-10 15:30:00', \"%Y-%m-%d %H:%M:%S\")\n",
    "sp_container = [random.uniform(0.01, 0.02) for i in range(20)]\n",
    "acc_container = [0.5*random.uniform(2.78e-05*0.85, 2.78e-05*1.15) for i in range(20)]\n",
    "dcc_container = [0.2*random.uniform(2.78e-05*0.85, 2.78e-05*1.15) for i in range(20)]\n",
    "headway = 200 * random.random() + 400\n",
    "sys = System(sim_init_time, sp_container, acc_container, dcc_container,\n",
    "             dos_period=['2018-01-10 11:30:00', '2018-01-10 12:30:00'],  \n",
    "             dos_pos=-1,\n",
    "             headway=headway, \n",
    "             refresh_time=20)\n",
    "\n",
    "K166 = Train(system=sys, \n",
    "                  init_time=sys.sys_time, \n",
    "                  init_segment=((None,None),(sys.signal_points[10],1)),\n",
    "                  max_sp=sys.sp_container[sys.train_num % len(sys.sp_container)], \n",
    "                  max_acc=sys.acc_container[sys.train_num % len(sys.acc_container)], \n",
    "                  max_dcc=sys.dcc_container[sys.train_num % len(sys.dcc_container)],\n",
    "                  length=1)\n",
    "\n",
    "T166 = Train(system=sys, \n",
    "                  init_time=sys.sys_time, \n",
    "                  init_segment=((None,None),(sys.signal_points[10],1)),\n",
    "                  max_sp=sys.sp_container[sys.train_num % len(sys.sp_container)], \n",
    "                  max_acc=sys.acc_container[sys.train_num % len(sys.acc_container)], \n",
    "                  max_dcc=sys.dcc_container[sys.train_num % len(sys.dcc_container)],\n",
    "                  length=1)\n",
    "\n",
    "K165 = Train(system=sys, \n",
    "                  init_time=sys.sys_time, \n",
    "                  init_segment=((None,None),(sys.signal_points[0],0)),\n",
    "                  max_sp=sys.sp_container[sys.train_num % len(sys.sp_container)], \n",
    "                  max_acc=sys.acc_container[sys.train_num % len(sys.acc_container)], \n",
    "                  max_dcc=sys.dcc_container[sys.train_num % len(sys.dcc_container)],\n",
    "                  length=1)\n",
    "\n",
    "T165 = Train(system=sys, \n",
    "                  init_time=sys.sys_time, \n",
    "                  init_segment=((None,None),(sys.signal_points[0],0)),\n",
    "                  max_sp=sys.sp_container[sys.train_num % len(sys.sp_container)], \n",
    "                  max_acc=sys.acc_container[sys.train_num % len(sys.acc_container)], \n",
    "                  max_dcc=sys.dcc_container[sys.train_num % len(sys.dcc_container)],\n",
    "                  length=1)"
   ]
  },
  {
   "cell_type": "code",
   "execution_count": 7,
   "metadata": {},
   "outputs": [
    {
     "name": "stdout",
     "output_type": "stream",
     "text": [
      "============refreshing========\n",
      "train index 1, current occupation: [((None, None), (ControlPoint10, 1))], head MP: 50.00, rear MP 51.00 requesting (1, 0) at ControlPoint10\n",
      "route (1, 0) of ControlPoint10 is opened\n",
      "train train index 1, current occupation: [((None, None), (ControlPoint10, 1))], head MP: 50.00, rear MP 51.00 initiated entering into track Track MP: 45.0 to MP: 50.0 idx: 0\n",
      "route (1, 0) of ControlPoint10 is closed\n",
      "train index 3, current occupation: [((None, None), (ControlPoint0, 0))], head MP:  0.00, rear MP -1.00 requesting (0, 1) at ControlPoint0\n",
      "route (0, 1) of ControlPoint0 is opened\n",
      "train train index 3, current occupation: [((None, None), (ControlPoint0, 0))], head MP:  0.00, rear MP -1.00 initiated entering into track Track MP: 0.0 to MP: 5.0 idx: 0\n",
      "route (0, 1) of ControlPoint0 is closed\n",
      "============refreshing========\n",
      "train index 1, current occupation: [((ControlPoint10, 0), (AutoPoint9, 1)), ((None, None), (ControlPoint10, 1))], head MP: 50.00, rear MP 51.00 requesting (1, 0) at ControlPoint7\n",
      "route (1, 0) of ControlPoint7 is opened\n",
      "train index 3, current occupation: [((ControlPoint0, 1), (AutoPoint1, 0)), ((None, None), (ControlPoint0, 0))], head MP:  0.00, rear MP -1.00 requesting (0, 1) at ControlPoint3\n",
      "route (0, 1) of ControlPoint3 is opened\n",
      "============refreshing========\n",
      "============refreshing========\n",
      "============refreshing========\n",
      "============refreshing========\n",
      "============refreshing========\n",
      "============refreshing========\n",
      "============refreshing========\n",
      "============refreshing========\n",
      "============refreshing========\n",
      "============refreshing========\n",
      "============refreshing========\n",
      "============refreshing========\n",
      "============refreshing========\n",
      "============refreshing========\n",
      "============refreshing========\n",
      "============refreshing========\n",
      "============refreshing========\n",
      "============refreshing========\n",
      "============refreshing========\n",
      "============refreshing========\n",
      "============refreshing========\n",
      "============refreshing========\n",
      "============refreshing========\n",
      "============refreshing========\n",
      "============refreshing========\n",
      "============refreshing========\n",
      "============refreshing========\n",
      "============refreshing========\n",
      "============refreshing========\n",
      "============refreshing========\n",
      "============refreshing========\n",
      "============refreshing========\n",
      "============refreshing========\n",
      "============refreshing========\n",
      "============refreshing========\n",
      "============refreshing========\n",
      "============refreshing========\n",
      "============refreshing========\n",
      "============refreshing========\n",
      "============refreshing========\n",
      "============refreshing========\n",
      "============refreshing========\n",
      "============refreshing========\n",
      "============refreshing========\n",
      "============refreshing========\n",
      "============refreshing========\n",
      "============refreshing========\n",
      "============refreshing========\n",
      "============refreshing========\n",
      "============refreshing========\n",
      "============refreshing========\n",
      "============refreshing========\n",
      "============refreshing========\n",
      "============refreshing========\n",
      "============refreshing========\n",
      "============refreshing========\n",
      "============refreshing========\n",
      "============refreshing========\n",
      "============refreshing========\n",
      "============refreshing========\n",
      "============refreshing========\n",
      "============refreshing========\n",
      "============refreshing========\n",
      "============refreshing========\n",
      "============refreshing========\n",
      "============refreshing========\n",
      "============refreshing========\n",
      "============refreshing========\n",
      "============refreshing========\n",
      "============refreshing========\n",
      "============refreshing========\n",
      "============refreshing========\n",
      "============refreshing========\n",
      "============refreshing========\n",
      "============refreshing========\n",
      "============refreshing========\n",
      "============refreshing========\n",
      "============refreshing========\n",
      "============refreshing========\n",
      "============refreshing========\n",
      "============refreshing========\n",
      "============refreshing========\n",
      "============refreshing========\n",
      "============refreshing========\n",
      "============refreshing========\n",
      "============refreshing========\n",
      "============refreshing========\n",
      "============refreshing========\n",
      "============refreshing========\n",
      "============refreshing========\n",
      "============refreshing========\n",
      "============refreshing========\n",
      "train index 0, current occupation: [((None, None), (ControlPoint10, 1))], head MP: 50.00, rear MP 51.00 requesting (1, 0) at ControlPoint10\n",
      "route (1, 0) of ControlPoint10 is opened\n",
      "train train index 0, current occupation: [((None, None), (ControlPoint10, 1))], head MP: 50.00, rear MP 51.00 initiated entering into track Track MP: 45.0 to MP: 50.0 idx: 0\n",
      "route (1, 0) of ControlPoint10 is closed\n",
      "============refreshing========\n",
      "============refreshing========\n",
      "train index 2, current occupation: [((None, None), (ControlPoint0, 0))], head MP:  0.00, rear MP -1.00 requesting (0, 1) at ControlPoint0\n",
      "route (0, 1) of ControlPoint0 is opened\n",
      "train train index 2, current occupation: [((None, None), (ControlPoint0, 0))], head MP:  0.00, rear MP -1.00 initiated entering into track Track MP: 0.0 to MP: 5.0 idx: 0\n",
      "route (0, 1) of ControlPoint0 is closed\n",
      "============refreshing========\n",
      "============refreshing========\n",
      "============refreshing========\n",
      "============refreshing========\n",
      "============refreshing========\n",
      "============refreshing========\n",
      "============refreshing========\n",
      "============refreshing========\n",
      "============refreshing========\n",
      "============refreshing========\n",
      "============refreshing========\n",
      "============refreshing========\n",
      "============refreshing========\n",
      "============refreshing========\n",
      "============refreshing========\n",
      "============refreshing========\n",
      "============refreshing========\n",
      "============refreshing========\n",
      "============refreshing========\n",
      "============refreshing========\n",
      "============refreshing========\n",
      "============refreshing========\n",
      "============refreshing========\n",
      "============refreshing========\n",
      "============refreshing========\n",
      "============refreshing========\n",
      "============refreshing========\n",
      "============refreshing========\n",
      "============refreshing========\n",
      "============refreshing========\n",
      "============refreshing========\n",
      "============refreshing========\n",
      "============refreshing========\n",
      "============refreshing========\n",
      "============refreshing========\n",
      "============refreshing========\n",
      "============refreshing========\n",
      "============refreshing========\n",
      "============refreshing========\n",
      "============refreshing========\n",
      "============refreshing========\n",
      "============refreshing========\n",
      "============refreshing========\n",
      "============refreshing========\n",
      "============refreshing========\n",
      "============refreshing========\n",
      "============refreshing========\n",
      "============refreshing========\n",
      "============refreshing========\n",
      "============refreshing========\n",
      "============refreshing========\n",
      "============refreshing========\n",
      "============refreshing========\n",
      "============refreshing========\n",
      "============refreshing========\n",
      "============refreshing========\n",
      "============refreshing========\n",
      "============refreshing========\n",
      "============refreshing========\n",
      "============refreshing========\n",
      "============refreshing========\n",
      "============refreshing========\n",
      "============refreshing========\n",
      "============refreshing========\n",
      "============refreshing========\n",
      "============refreshing========\n",
      "============refreshing========\n",
      "============refreshing========\n",
      "============refreshing========\n",
      "============refreshing========\n",
      "============refreshing========\n",
      "============refreshing========\n",
      "============refreshing========\n",
      "============refreshing========\n",
      "============refreshing========\n",
      "============refreshing========\n",
      "============refreshing========\n",
      "============refreshing========\n",
      "route (1, 0) of ControlPoint7 is closed\n",
      "============refreshing========\n",
      "train index 1, current occupation: [((ControlPoint7, 0), (ControlPoint6, 1)), ((AutoPoint8, 0), (ControlPoint7, 1))], head MP: 34.98, rear MP 35.98 requesting (1, 0) at ControlPoint6\n",
      "route (1, 0) of ControlPoint6 is opened\n",
      "============refreshing========\n",
      "============refreshing========\n",
      "============refreshing========\n",
      "route (0, 1) of ControlPoint3 is closed\n",
      "============refreshing========\n",
      "train index 3, current occupation: [((ControlPoint3, 1), (ControlPoint4, 0)), ((AutoPoint2, 1), (ControlPoint3, 0))], head MP: 15.05, rear MP 14.05 requesting (0, 1) at ControlPoint4\n",
      "route (0, 1) of ControlPoint4 is opened\n",
      "============refreshing========\n",
      "============refreshing========\n",
      "============refreshing========\n",
      "============refreshing========\n",
      "============refreshing========\n",
      "============refreshing========\n"
     ]
    },
    {
     "name": "stdout",
     "output_type": "stream",
     "text": [
      "============refreshing========\n",
      "============refreshing========\n",
      "============refreshing========\n",
      "============refreshing========\n",
      "============refreshing========\n",
      "============refreshing========\n",
      "============refreshing========\n",
      "train index 0, current occupation: [((ControlPoint10, 0), (AutoPoint9, 1))], head MP: 45.55, rear MP 46.55 requesting (1, 2) at ControlPoint7\n",
      "route (1, 2) of ControlPoint7 is opened\n",
      "============refreshing========\n",
      "============refreshing========\n",
      "============refreshing========\n",
      "============refreshing========\n",
      "train index 2, current occupation: [((ControlPoint0, 1), (AutoPoint1, 0))], head MP:  4.53, rear MP  3.53 requesting (0, 3) at ControlPoint3\n",
      "route (0, 3) of ControlPoint3 is opened\n",
      "============refreshing========\n",
      "============refreshing========\n",
      "============refreshing========\n",
      "============refreshing========\n",
      "============refreshing========\n",
      "============refreshing========\n",
      "============refreshing========\n",
      "============refreshing========\n",
      "============refreshing========\n",
      "============refreshing========\n",
      "============refreshing========\n",
      "============refreshing========\n",
      "============refreshing========\n",
      "============refreshing========\n",
      "============refreshing========\n",
      "============refreshing========\n",
      "============refreshing========\n",
      "============refreshing========\n",
      "============refreshing========\n",
      "============refreshing========\n",
      "============refreshing========\n",
      "============refreshing========\n",
      "============refreshing========\n",
      "============refreshing========\n",
      "============refreshing========\n",
      "============refreshing========\n",
      "============refreshing========\n",
      "============refreshing========\n",
      "============refreshing========\n",
      "============refreshing========\n",
      "============refreshing========\n",
      "============refreshing========\n",
      "============refreshing========\n",
      "============refreshing========\n",
      "============refreshing========\n",
      "============refreshing========\n",
      "============refreshing========\n",
      "============refreshing========\n",
      "============refreshing========\n",
      "============refreshing========\n",
      "============refreshing========\n",
      "============refreshing========\n",
      "============refreshing========\n",
      "============refreshing========\n",
      "============refreshing========\n",
      "============refreshing========\n",
      "============refreshing========\n",
      "============refreshing========\n",
      "============refreshing========\n",
      "============refreshing========\n",
      "============refreshing========\n",
      "============refreshing========\n",
      "============refreshing========\n",
      "============refreshing========\n",
      "============refreshing========\n",
      "============refreshing========\n",
      "============refreshing========\n",
      "============refreshing========\n",
      "============refreshing========\n",
      "============refreshing========\n",
      "============refreshing========\n",
      "============refreshing========\n",
      "============refreshing========\n",
      "============refreshing========\n",
      "============refreshing========\n",
      "============refreshing========\n",
      "============refreshing========\n",
      "============refreshing========\n",
      "============refreshing========\n",
      "============refreshing========\n",
      "============refreshing========\n",
      "============refreshing========\n",
      "route (0, 1) of ControlPoint4 is closed\n",
      "============refreshing========\n",
      "train index 3, current occupation: [((ControlPoint4, 1), (AutoPoint5, 0)), ((ControlPoint3, 1), (ControlPoint4, 0))], head MP: 20.05, rear MP 19.05 requesting (0, 3) at ControlPoint6\n",
      "route (1, 0) of ControlPoint6 is closed\n",
      "conflicting routes [(1, 0)] are closed for (0, 3) to open\n",
      "route (0, 3) of ControlPoint6 is opened\n",
      "============refreshing========\n",
      "============refreshing========\n",
      "============refreshing========\n",
      "============refreshing========\n",
      "============refreshing========\n",
      "============refreshing========\n",
      "============refreshing========\n",
      "============refreshing========\n",
      "============refreshing========\n",
      "============refreshing========\n",
      "============refreshing========\n",
      "============refreshing========\n",
      "============refreshing========\n",
      "============refreshing========\n",
      "============refreshing========\n",
      "============refreshing========\n",
      "============refreshing========\n",
      "============refreshing========\n",
      "============refreshing========\n",
      "============refreshing========\n",
      "============refreshing========\n",
      "============refreshing========\n",
      "============refreshing========\n",
      "============refreshing========\n",
      "============refreshing========\n",
      "============refreshing========\n",
      "============refreshing========\n",
      "============refreshing========\n",
      "============refreshing========\n",
      "============refreshing========\n",
      "============refreshing========\n",
      "============refreshing========\n",
      "============refreshing========\n",
      "============refreshing========\n",
      "============refreshing========\n",
      "============refreshing========\n",
      "============refreshing========\n",
      "============refreshing========\n",
      "============refreshing========\n",
      "route (0, 3) of ControlPoint3 is closed\n",
      "============refreshing========\n",
      "============refreshing========\n",
      "============refreshing========\n",
      "============refreshing========\n",
      "============refreshing========\n",
      "============refreshing========\n",
      "============refreshing========\n",
      "============refreshing========\n",
      "============refreshing========\n",
      "============refreshing========\n",
      "============refreshing========\n",
      "============refreshing========\n",
      "============refreshing========\n",
      "============refreshing========\n",
      "============refreshing========\n",
      "============refreshing========\n",
      "============refreshing========\n",
      "============refreshing========\n",
      "============refreshing========\n",
      "============refreshing========\n",
      "============refreshing========\n",
      "============refreshing========\n",
      "============refreshing========\n",
      "============refreshing========\n",
      "train index 2, current occupation: [((ControlPoint3, 3), (ControlPoint4, 2))], head MP: 16.30, rear MP 15.30 requesting (2, 1) at ControlPoint4\n",
      "route (2, 1) of ControlPoint4 is opened\n",
      "============refreshing========\n",
      "============refreshing========\n",
      "============refreshing========\n",
      "============refreshing========\n",
      "============refreshing========\n",
      "============refreshing========\n",
      "============refreshing========\n",
      "============refreshing========\n"
     ]
    },
    {
     "ename": "KeyboardInterrupt",
     "evalue": "",
     "output_type": "error",
     "traceback": [
      "\u001b[1;31m---------------------------------------------------------------------------\u001b[0m",
      "\u001b[1;31mKeyboardInterrupt\u001b[0m                         Traceback (most recent call last)",
      "\u001b[1;32m<ipython-input-7-2e6c6601bb91>\u001b[0m in \u001b[0;36m<module>\u001b[1;34m\u001b[0m\n\u001b[0;32m      1\u001b[0m \u001b[1;32mwhile\u001b[0m \u001b[1;32mnot\u001b[0m \u001b[0mK165\u001b[0m\u001b[1;33m.\u001b[0m\u001b[0mterminated\u001b[0m \u001b[1;32mor\u001b[0m \u001b[1;32mnot\u001b[0m \u001b[0mK166\u001b[0m\u001b[1;33m.\u001b[0m\u001b[0mterminated\u001b[0m \u001b[1;32mor\u001b[0m \u001b[1;32mnot\u001b[0m \u001b[0mT165\u001b[0m\u001b[1;33m.\u001b[0m\u001b[0mterminated\u001b[0m \u001b[1;32mor\u001b[0m \u001b[1;32mnot\u001b[0m \u001b[0mT166\u001b[0m\u001b[1;33m.\u001b[0m\u001b[0mterminated\u001b[0m\u001b[1;33m:\u001b[0m\u001b[1;33m\u001b[0m\u001b[1;33m\u001b[0m\u001b[0m\n\u001b[0;32m      2\u001b[0m     \u001b[0mprint\u001b[0m\u001b[1;33m(\u001b[0m\u001b[1;34m'============refreshing========'\u001b[0m\u001b[1;33m)\u001b[0m\u001b[1;33m\u001b[0m\u001b[1;33m\u001b[0m\u001b[0m\n\u001b[1;32m----> 3\u001b[1;33m     \u001b[0mT166\u001b[0m\u001b[1;33m.\u001b[0m\u001b[0mrequest_routing\u001b[0m\u001b[1;33m(\u001b[0m\u001b[1;33m)\u001b[0m\u001b[1;33m\u001b[0m\u001b[1;33m\u001b[0m\u001b[0m\n\u001b[0m\u001b[0;32m      4\u001b[0m     \u001b[0mT166\u001b[0m\u001b[1;33m.\u001b[0m\u001b[0mupdate_acc\u001b[0m\u001b[1;33m(\u001b[0m\u001b[1;33m)\u001b[0m\u001b[1;33m\u001b[0m\u001b[1;33m\u001b[0m\u001b[0m\n\u001b[0;32m      5\u001b[0m     \u001b[0mT165\u001b[0m\u001b[1;33m.\u001b[0m\u001b[0mrequest_routing\u001b[0m\u001b[1;33m(\u001b[0m\u001b[1;33m)\u001b[0m\u001b[1;33m\u001b[0m\u001b[1;33m\u001b[0m\u001b[0m\n",
      "\u001b[1;32mD:\\Users\\Hegxiten\\workspace\\Rutgers_Railway_security_research\\OOD_Train\\train.py\u001b[0m in \u001b[0;36mrequest_routing\u001b[1;34m(self)\u001b[0m\n\u001b[0;32m    586\u001b[0m             \u001b[1;32mfor\u001b[0m \u001b[0mn\u001b[0m \u001b[1;32min\u001b[0m \u001b[0mself\u001b[0m\u001b[1;33m.\u001b[0m\u001b[0msystem\u001b[0m\u001b[1;33m.\u001b[0m\u001b[0mcontrol_points\u001b[0m\u001b[1;33m:\u001b[0m\u001b[1;33m\u001b[0m\u001b[1;33m\u001b[0m\u001b[0m\n\u001b[0;32m    587\u001b[0m                 \u001b[1;32mif\u001b[0m \u001b[1;33m(\u001b[0m\u001b[0mn\u001b[0m\u001b[1;33m.\u001b[0m\u001b[0mMP\u001b[0m \u001b[1;33m-\u001b[0m \u001b[0mself\u001b[0m\u001b[1;33m.\u001b[0m\u001b[0mcurr_control_point\u001b[0m\u001b[1;33m.\u001b[0m\u001b[0mMP\u001b[0m\u001b[1;33m)\u001b[0m \u001b[1;33m*\u001b[0m \u001b[0mself\u001b[0m\u001b[1;33m.\u001b[0m\u001b[0msign_MP\u001b[0m\u001b[1;33m(\u001b[0m\u001b[0mself\u001b[0m\u001b[1;33m.\u001b[0m\u001b[0mcurr_routing_path_segment\u001b[0m\u001b[1;33m)\u001b[0m \u001b[1;33m>\u001b[0m \u001b[1;36m0\u001b[0m\u001b[1;33m:\u001b[0m\u001b[1;33m\u001b[0m\u001b[1;33m\u001b[0m\u001b[0m\n\u001b[1;32m--> 588\u001b[1;33m                     \u001b[1;32mif\u001b[0m \u001b[1;32mnot\u001b[0m \u001b[0mself\u001b[0m\u001b[1;33m.\u001b[0m\u001b[0msystem\u001b[0m\u001b[1;33m.\u001b[0m\u001b[0mcapacity_enterable\u001b[0m\u001b[1;33m(\u001b[0m\u001b[0mself\u001b[0m\u001b[1;33m.\u001b[0m\u001b[0mcurr_control_point\u001b[0m\u001b[1;33m,\u001b[0m \u001b[0mn\u001b[0m\u001b[1;33m)\u001b[0m\u001b[1;33m:\u001b[0m\u001b[1;33m\u001b[0m\u001b[1;33m\u001b[0m\u001b[0m\n\u001b[0m\u001b[0;32m    589\u001b[0m                         \u001b[0m_enterable\u001b[0m\u001b[1;33m=\u001b[0m\u001b[1;32mFalse\u001b[0m\u001b[1;33m\u001b[0m\u001b[1;33m\u001b[0m\u001b[0m\n\u001b[0;32m    590\u001b[0m             \u001b[1;32mif\u001b[0m \u001b[0m_enterable\u001b[0m\u001b[1;33m:\u001b[0m\u001b[1;33m\u001b[0m\u001b[1;33m\u001b[0m\u001b[0m\n",
      "\u001b[1;32mD:\\Users\\Hegxiten\\workspace\\Rutgers_Railway_security_research\\OOD_Train\\system.py\u001b[0m in \u001b[0;36mcapacity_enterable\u001b[1;34m(self, init_point, dest_point)\u001b[0m\n\u001b[0;32m    326\u001b[0m         \u001b[0m_outbound_trains\u001b[0m \u001b[1;33m=\u001b[0m \u001b[0mself\u001b[0m\u001b[1;33m.\u001b[0m\u001b[0mget_trains_between_points\u001b[0m\u001b[1;33m(\u001b[0m\u001b[0mfrom_point\u001b[0m\u001b[1;33m=\u001b[0m\u001b[0minit_point\u001b[0m\u001b[1;33m,\u001b[0m \u001b[0mto_point\u001b[0m\u001b[1;33m=\u001b[0m\u001b[0mdest_point\u001b[0m\u001b[1;33m,\u001b[0m \u001b[0mobv\u001b[0m\u001b[1;33m=\u001b[0m\u001b[1;32mTrue\u001b[0m\u001b[1;33m)\u001b[0m\u001b[1;33m\u001b[0m\u001b[1;33m\u001b[0m\u001b[0m\n\u001b[0;32m    327\u001b[0m         \u001b[0m_inbound_trains\u001b[0m \u001b[1;33m=\u001b[0m \u001b[0mself\u001b[0m\u001b[1;33m.\u001b[0m\u001b[0mget_trains_between_points\u001b[0m\u001b[1;33m(\u001b[0m\u001b[0mfrom_point\u001b[0m\u001b[1;33m=\u001b[0m\u001b[0mdest_point\u001b[0m\u001b[1;33m,\u001b[0m \u001b[0mto_point\u001b[0m\u001b[1;33m=\u001b[0m\u001b[0minit_point\u001b[0m\u001b[1;33m,\u001b[0m \u001b[0mobv\u001b[0m\u001b[1;33m=\u001b[0m\u001b[1;32mTrue\u001b[0m\u001b[1;33m)\u001b[0m\u001b[1;33m\u001b[0m\u001b[1;33m\u001b[0m\u001b[0m\n\u001b[1;32m--> 328\u001b[1;33m         \u001b[0m_occupied_parallel_tracks\u001b[0m \u001b[1;33m=\u001b[0m \u001b[0mself\u001b[0m\u001b[1;33m.\u001b[0m\u001b[0mnum_occupied_parallel_tracks\u001b[0m\u001b[1;33m(\u001b[0m\u001b[0minit_point\u001b[0m\u001b[1;33m,\u001b[0m \u001b[0mdest_point\u001b[0m\u001b[1;33m)\u001b[0m\u001b[1;33m\u001b[0m\u001b[1;33m\u001b[0m\u001b[0m\n\u001b[0m\u001b[0;32m    329\u001b[0m         \u001b[1;32mreturn\u001b[0m \u001b[1;32mTrue\u001b[0m \u001b[1;32mif\u001b[0m \u001b[0mmin\u001b[0m\u001b[1;33m(\u001b[0m\u001b[0mlen\u001b[0m\u001b[1;33m(\u001b[0m\u001b[0m_outbound_trains\u001b[0m\u001b[1;33m)\u001b[0m\u001b[1;33m,\u001b[0m \u001b[0mlen\u001b[0m\u001b[1;33m(\u001b[0m\u001b[0m_inbound_trains\u001b[0m\u001b[1;33m)\u001b[0m\u001b[1;33m)\u001b[0m \u001b[1;33m<=\u001b[0m \u001b[0m_parallel_tracks\u001b[0m \u001b[1;33m-\u001b[0m \u001b[0m_occupied_parallel_tracks\u001b[0m\u001b[0;31m\\\u001b[0m\u001b[1;33m\u001b[0m\u001b[1;33m\u001b[0m\u001b[0m\n\u001b[0;32m    330\u001b[0m             \u001b[1;32melse\u001b[0m \u001b[1;32mFalse\u001b[0m\u001b[1;33m\u001b[0m\u001b[1;33m\u001b[0m\u001b[0m\n",
      "\u001b[1;32mD:\\Users\\Hegxiten\\workspace\\Rutgers_Railway_security_research\\OOD_Train\\system.py\u001b[0m in \u001b[0;36mnum_occupied_parallel_tracks\u001b[1;34m(self, init_point, dest_point)\u001b[0m\n\u001b[0;32m    351\u001b[0m \u001b[1;33m\u001b[0m\u001b[0m\n\u001b[0;32m    352\u001b[0m     \u001b[1;32mdef\u001b[0m \u001b[0mnum_occupied_parallel_tracks\u001b[0m\u001b[1;33m(\u001b[0m\u001b[0mself\u001b[0m\u001b[1;33m,\u001b[0m \u001b[0minit_point\u001b[0m\u001b[1;33m,\u001b[0m \u001b[0mdest_point\u001b[0m\u001b[1;33m)\u001b[0m\u001b[1;33m:\u001b[0m\u001b[1;33m\u001b[0m\u001b[1;33m\u001b[0m\u001b[0m\n\u001b[1;32m--> 353\u001b[1;33m         \u001b[0m_all_trains\u001b[0m \u001b[1;33m=\u001b[0m \u001b[0mself\u001b[0m\u001b[1;33m.\u001b[0m\u001b[0mget_trains_between_points\u001b[0m\u001b[1;33m(\u001b[0m\u001b[0mfrom_point\u001b[0m\u001b[1;33m=\u001b[0m\u001b[0minit_point\u001b[0m\u001b[1;33m,\u001b[0m \u001b[0mto_point\u001b[0m\u001b[1;33m=\u001b[0m\u001b[0mdest_point\u001b[0m\u001b[1;33m,\u001b[0m \u001b[0mobv\u001b[0m\u001b[1;33m=\u001b[0m\u001b[1;32mTrue\u001b[0m\u001b[1;33m,\u001b[0m \u001b[0mrev\u001b[0m\u001b[1;33m=\u001b[0m\u001b[1;32mTrue\u001b[0m\u001b[1;33m)\u001b[0m\u001b[1;33m\u001b[0m\u001b[1;33m\u001b[0m\u001b[0m\n\u001b[0m\u001b[0;32m    354\u001b[0m         \u001b[0mtest_G\u001b[0m \u001b[1;33m=\u001b[0m \u001b[0mself\u001b[0m\u001b[1;33m.\u001b[0m\u001b[0mG_origin\u001b[0m\u001b[1;33m.\u001b[0m\u001b[0mcopy\u001b[0m\u001b[1;33m(\u001b[0m\u001b[1;33m)\u001b[0m\u001b[1;33m\u001b[0m\u001b[1;33m\u001b[0m\u001b[0m\n\u001b[0;32m    355\u001b[0m         \u001b[0mcount\u001b[0m \u001b[1;33m=\u001b[0m \u001b[1;36m0\u001b[0m\u001b[1;33m\u001b[0m\u001b[1;33m\u001b[0m\u001b[0m\n",
      "\u001b[1;32mD:\\Users\\Hegxiten\\workspace\\Rutgers_Railway_security_research\\OOD_Train\\system.py\u001b[0m in \u001b[0;36mget_trains_between_points\u001b[1;34m(self, from_point, to_point, obv, rev)\u001b[0m\n\u001b[0;32m    366\u001b[0m         \u001b[0mOption\u001b[0m\u001b[1;33m:\u001b[0m \u001b[0mfilter\u001b[0m \u001b[0mtrains\u001b[0m \u001b[0mrunning\u001b[0m \u001b[0mat\u001b[0m \u001b[0mthe\u001b[0m \u001b[0mobversed\u001b[0m\u001b[1;33m/\u001b[0m\u001b[0mreversed\u001b[0m \u001b[0mdirection\u001b[0m \u001b[0mof\u001b[0m \u001b[0mthe\u001b[0m \u001b[1;32mfrom\u001b[0m\u001b[1;33m-\u001b[0m\u001b[0mto\u001b[0m \u001b[0mpath\u001b[0m\u001b[1;33m\u001b[0m\u001b[1;33m\u001b[0m\u001b[0m\n\u001b[0;32m    367\u001b[0m         '''\n\u001b[1;32m--> 368\u001b[1;33m         \u001b[0mall_paths\u001b[0m \u001b[1;33m=\u001b[0m \u001b[0mlist\u001b[0m\u001b[1;33m(\u001b[0m\u001b[0mnx\u001b[0m\u001b[1;33m.\u001b[0m\u001b[0mall_simple_paths\u001b[0m\u001b[1;33m(\u001b[0m\u001b[0mself\u001b[0m\u001b[1;33m.\u001b[0m\u001b[0mG_origin\u001b[0m\u001b[1;33m,\u001b[0m \u001b[0mfrom_point\u001b[0m\u001b[1;33m,\u001b[0m \u001b[0mto_point\u001b[0m\u001b[1;33m)\u001b[0m\u001b[1;33m)\u001b[0m\u001b[1;33m\u001b[0m\u001b[1;33m\u001b[0m\u001b[0m\n\u001b[0m\u001b[0;32m    369\u001b[0m         \u001b[0m_trains_all\u001b[0m \u001b[1;33m=\u001b[0m \u001b[1;33m[\u001b[0m\u001b[1;33m]\u001b[0m\u001b[1;33m\u001b[0m\u001b[1;33m\u001b[0m\u001b[0m\n\u001b[0;32m    370\u001b[0m         \u001b[0m_trains_obv_dir\u001b[0m \u001b[1;33m=\u001b[0m \u001b[1;33m[\u001b[0m\u001b[1;33m]\u001b[0m\u001b[1;33m\u001b[0m\u001b[1;33m\u001b[0m\u001b[0m\n",
      "\u001b[1;32m~\\Anaconda3\\lib\\site-packages\\networkx\\algorithms\\simple_paths.py\u001b[0m in \u001b[0;36m_all_simple_paths_multigraph\u001b[1;34m(G, source, target, cutoff)\u001b[0m\n\u001b[0;32m    238\u001b[0m     \u001b[0mvisited\u001b[0m \u001b[1;33m=\u001b[0m \u001b[0mcollections\u001b[0m\u001b[1;33m.\u001b[0m\u001b[0mOrderedDict\u001b[0m\u001b[1;33m.\u001b[0m\u001b[0mfromkeys\u001b[0m\u001b[1;33m(\u001b[0m\u001b[1;33m[\u001b[0m\u001b[0msource\u001b[0m\u001b[1;33m]\u001b[0m\u001b[1;33m)\u001b[0m\u001b[1;33m\u001b[0m\u001b[1;33m\u001b[0m\u001b[0m\n\u001b[0;32m    239\u001b[0m     \u001b[0mstack\u001b[0m \u001b[1;33m=\u001b[0m \u001b[1;33m[\u001b[0m\u001b[1;33m(\u001b[0m\u001b[0mv\u001b[0m \u001b[1;32mfor\u001b[0m \u001b[0mu\u001b[0m\u001b[1;33m,\u001b[0m \u001b[0mv\u001b[0m \u001b[1;32min\u001b[0m \u001b[0mG\u001b[0m\u001b[1;33m.\u001b[0m\u001b[0medges\u001b[0m\u001b[1;33m(\u001b[0m\u001b[0msource\u001b[0m\u001b[1;33m)\u001b[0m\u001b[1;33m)\u001b[0m\u001b[1;33m]\u001b[0m\u001b[1;33m\u001b[0m\u001b[1;33m\u001b[0m\u001b[0m\n\u001b[1;32m--> 240\u001b[1;33m     \u001b[1;32mwhile\u001b[0m \u001b[0mstack\u001b[0m\u001b[1;33m:\u001b[0m\u001b[1;33m\u001b[0m\u001b[1;33m\u001b[0m\u001b[0m\n\u001b[0m\u001b[0;32m    241\u001b[0m         \u001b[0mchildren\u001b[0m \u001b[1;33m=\u001b[0m \u001b[0mstack\u001b[0m\u001b[1;33m[\u001b[0m\u001b[1;33m-\u001b[0m\u001b[1;36m1\u001b[0m\u001b[1;33m]\u001b[0m\u001b[1;33m\u001b[0m\u001b[1;33m\u001b[0m\u001b[0m\n\u001b[0;32m    242\u001b[0m         \u001b[0mchild\u001b[0m \u001b[1;33m=\u001b[0m \u001b[0mnext\u001b[0m\u001b[1;33m(\u001b[0m\u001b[0mchildren\u001b[0m\u001b[1;33m,\u001b[0m \u001b[1;32mNone\u001b[0m\u001b[1;33m)\u001b[0m\u001b[1;33m\u001b[0m\u001b[1;33m\u001b[0m\u001b[0m\n",
      "\u001b[1;31mKeyboardInterrupt\u001b[0m: "
     ]
    }
   ],
   "source": [
    "while not K165.terminated or not K166.terminated or not T165.terminated or not T166.terminated:\n",
    "    print('============refreshing========')\n",
    "    T166.request_routing()\n",
    "    T166.update_acc()\n",
    "    T165.request_routing()\n",
    "    T165.update_acc()\n",
    "    K166.request_routing()\n",
    "    K166.update_acc()\n",
    "    K165.request_routing()\n",
    "    K165.update_acc()\n",
    "    sys.sys_time+=sys.refresh_time\n"
   ]
  },
  {
   "cell_type": "code",
   "execution_count": 13,
   "metadata": {},
   "outputs": [
    {
     "name": "stdout",
     "output_type": "stream",
     "text": [
      "T166: stopped: False, \tcurr_MP: 49.09, curr_spd: -16.82, tgt_spd: 65.00,\tnum_blk_ahead: 3, \n",
      "\taspect: Aspect: g, \t route (1, 0), target speed 72.0 mph,\n",
      "K166: stopped: False, \tcurr_MP: 50.00, curr_spd:  0.50, tgt_spd: 0.00,\tnum_blk_ahead: 0, \n",
      "\taspect: Aspect: r, \t route (1, 0), target speed 0.0 mph,\n",
      "2.765432098765432e-05\n"
     ]
    }
   ],
   "source": [
    "print('T166: stopped: {}, \\tcurr_MP: {}, curr_spd: {}, tgt_spd: {},\\tnum_blk_ahead: {}, \\n\\taspect: {},'.format(T166.stopped,\\\n",
    "                                                                str(\"%.2f\" % round(T166.curr_MP,2)).rjust(5,' '), \\\n",
    "                                                               str(\"%.2f\" % round(T166.curr_speed*3600,2)).rjust(5,' '), \\\n",
    "                                                               \"%.2f\" % round(T166.curr_target_spd_abs*3600,2), \\\n",
    "                                                               T166.curr_sig.number_of_blocks_cleared_ahead, \\\n",
    "                                                               T166.curr_sig.aspect))\n",
    "print('K166: stopped: {}, \\tcurr_MP: {}, curr_spd: {}, tgt_spd: {},\\tnum_blk_ahead: {}, \\n\\taspect: {},'.format(K166.stopped,\\\n",
    "                                                                str(\"%.2f\" % round(K166.curr_MP,2)).rjust(5,' '), \\\n",
    "                                                               str(\"%.2f\" % round(K166.curr_speed*3600,2)).rjust(5,' '), \\\n",
    "                                                               \"%.2f\" % round(K166.curr_target_spd_abs*3600,2), \\\n",
    "                                                               K166.curr_sig.number_of_blocks_cleared_ahead, \\\n",
    "                                                               K166.curr_sig.aspect))\n",
    "print(K166.)"
   ]
  },
  {
   "cell_type": "code",
   "execution_count": 10,
   "metadata": {
    "scrolled": true
   },
   "outputs": [],
   "source": [
    "init_point, init_port = sys.signal_points[1],0\n",
    "init_segment = ((None,None), (init_point, init_port)) \\\n",
    "    if not init_point.track_by_port.get(init_port)\\\n",
    "        else (( init_point.track_by_port[init_port].shooting_point(point=init_point),\\\n",
    "                init_point.track_by_port[init_port].shooting_port(point=init_point)), \\\n",
    "                (init_point, init_port))\n",
    "init_track = sys.get_track_by_point_port_pairs(init_segment[0][0],init_segment[0][1],init_segment[1][0],init_segment[1][1])"
   ]
  },
  {
   "cell_type": "code",
   "execution_count": 7,
   "metadata": {},
   "outputs": [
    {
     "data": {
      "text/plain": [
       "train index 1, current occupation: [((ControlPoint0, 0), (None, None)), ((AutoPoint1, 0), (ControlPoint0, 1))], head MP: -0.17, rear MP  0.83"
      ]
     },
     "execution_count": 7,
     "metadata": {},
     "output_type": "execute_result"
    }
   ],
   "source": [
    "T166"
   ]
  },
  {
   "cell_type": "code",
   "execution_count": 33,
   "metadata": {
    "scrolled": true
   },
   "outputs": [
    {
     "data": {
      "text/plain": [
       "False"
      ]
     },
     "execution_count": 33,
     "metadata": {},
     "output_type": "execute_result"
    }
   ],
   "source": [
    "sys.capacity_enterable(sys.signal_points[3],0, sys.signal_points[6],1)"
   ]
  },
  {
   "cell_type": "raw",
   "metadata": {},
   "source": []
  },
  {
   "cell_type": "code",
   "execution_count": 17,
   "metadata": {},
   "outputs": [
    {
     "data": {
      "text/plain": [
       "True"
      ]
     },
     "execution_count": 17,
     "metadata": {},
     "output_type": "execute_result"
    }
   ],
   "source": [
    "sys.capacity_enterable(K165.curr_control_point,K165.curr_control_pointport,K165.shooting_point_port[0],K165.shooting_point_port[1])"
   ]
  },
  {
   "cell_type": "code",
   "execution_count": 30,
   "metadata": {},
   "outputs": [
    {
     "data": {
      "text/plain": [
       "1"
      ]
     },
     "execution_count": 30,
     "metadata": {},
     "output_type": "execute_result"
    }
   ],
   "source": [
    "sys.num_occupied_parallel_tracks(sys.signal_points[3],sys.signal_points[4])"
   ]
  },
  {
   "cell_type": "code",
   "execution_count": 28,
   "metadata": {
    "scrolled": false
   },
   "outputs": [
    {
     "data": {
      "text/plain": [
       "[train index 0, current occupation: [((AutoPoint9, 0), (AutoPoint8, 1))], head MP: 40.00, rear MP 41.00,\n",
       " train index 1, current occupation: [((ControlPoint6, 0), (AutoPoint5, 1))], head MP: 25.00, rear MP 26.00]"
      ]
     },
     "execution_count": 28,
     "metadata": {},
     "output_type": "execute_result"
    }
   ],
   "source": [
    "sys.get_trains_between_points(from_point=sys.signal_points[10], to_point=sys.signal_points[3], obv=True)"
   ]
  },
  {
   "cell_type": "code",
   "execution_count": 10,
   "metadata": {},
   "outputs": [
    {
     "name": "stdout",
     "output_type": "stream",
     "text": [
      "train index 0, current occupation: [((ControlPoint4, 0), (ControlPoint3, 1))], head MP: 16.98, rear MP 17.98\n",
      "train index 1, current occupation: [((ControlPoint4, 2), (ControlPoint3, 3))], head MP: 15.00, rear MP 16.00\n",
      "train index 2, current occupation: [((AutoPoint2, 1), (ControlPoint3, 0))], head MP: 15.00, rear MP 14.00\n",
      "train index 3, current occupation: [((ControlPoint10, 1), (None, None)), ((AutoPoint9, 1), (ControlPoint10, 0))], head MP: 50.07, rear MP 49.07\n"
     ]
    }
   ],
   "source": [
    "print(K166)\n",
    "print(T166)\n",
    "print(K165)\n",
    "print(T165)"
   ]
  },
  {
   "cell_type": "code",
   "execution_count": 30,
   "metadata": {},
   "outputs": [
    {
     "data": {
      "text/plain": [
       "True"
      ]
     },
     "execution_count": 30,
     "metadata": {},
     "output_type": "execute_result"
    }
   ],
   "source": [
    "sys.capacity_enterable(T165.curr_control_point, T165.curr_control_pointport, T165.shooting_point_port[0], T165.shooting_point_port[1])"
   ]
  },
  {
   "cell_type": "code",
   "execution_count": 12,
   "metadata": {},
   "outputs": [
    {
     "data": {
      "text/plain": [
       "[]"
      ]
     },
     "execution_count": 12,
     "metadata": {},
     "output_type": "execute_result"
    }
   ],
   "source": [
    "T165.curr_control_point.available_ports_by_port[1]"
   ]
  },
  {
   "cell_type": "code",
   "execution_count": 14,
   "metadata": {},
   "outputs": [
    {
     "data": {
      "text/plain": [
       "True"
      ]
     },
     "execution_count": 14,
     "metadata": {},
     "output_type": "execute_result"
    }
   ],
   "source": [
    "K165.stopped"
   ]
  },
  {
   "cell_type": "code",
   "execution_count": 13,
   "metadata": {},
   "outputs": [
    {
     "data": {
      "text/plain": [
       "defaultdict(list, {0: [1], 2: [1], 1: [2]})"
      ]
     },
     "execution_count": 13,
     "metadata": {},
     "output_type": "execute_result"
    }
   ],
   "source": [
    "sys.signal_points[7].available_ports_by_port"
   ]
  },
  {
   "cell_type": "code",
   "execution_count": 4,
   "metadata": {},
   "outputs": [
    {
     "name": "stdout",
     "output_type": "stream",
     "text": [
      "T166: stopped: True, \tcurr_MP:  0.00, \tcurr_spd: 0.00, \ttgt_spd: 0.00,\tnum_blk_ahead: 0, \taspect: Aspect: r, \t route None, target speed 0.0 mph,\n"
     ]
    },
    {
     "ename": "NameError",
     "evalue": "name 'K166' is not defined",
     "output_type": "error",
     "traceback": [
      "\u001b[1;31m---------------------------------------------------------------------------\u001b[0m",
      "\u001b[1;31mNameError\u001b[0m                                 Traceback (most recent call last)",
      "\u001b[1;32m<ipython-input-4-bca9eff63663>\u001b[0m in \u001b[0;36m<module>\u001b[1;34m\u001b[0m\n\u001b[0;32m      5\u001b[0m                                                                \u001b[0mT166\u001b[0m\u001b[1;33m.\u001b[0m\u001b[0mcurr_sig\u001b[0m\u001b[1;33m.\u001b[0m\u001b[0mnumber_of_blocks_cleared_ahead\u001b[0m\u001b[1;33m,\u001b[0m\u001b[0;31m \u001b[0m\u001b[0;31m\\\u001b[0m\u001b[1;33m\u001b[0m\u001b[1;33m\u001b[0m\u001b[0m\n\u001b[0;32m      6\u001b[0m                                                                T166.curr_sig.aspect))\n\u001b[1;32m----> 7\u001b[1;33m print('K166: stopped: {}, \\tcurr_MP: {}, \\tcurr_spd: {}, \\ttgt_spd: {},\\tnum_blk_ahead: {}, \\taspect: {},'.format(K166.stopped,\\\n\u001b[0m\u001b[0;32m      8\u001b[0m                                                                 \u001b[0mstr\u001b[0m\u001b[1;33m(\u001b[0m\u001b[1;34m\"%.2f\"\u001b[0m \u001b[1;33m%\u001b[0m \u001b[0mround\u001b[0m\u001b[1;33m(\u001b[0m\u001b[0mK166\u001b[0m\u001b[1;33m.\u001b[0m\u001b[0mcurr_MP\u001b[0m\u001b[1;33m,\u001b[0m\u001b[1;36m2\u001b[0m\u001b[1;33m)\u001b[0m\u001b[1;33m)\u001b[0m\u001b[1;33m.\u001b[0m\u001b[0mrjust\u001b[0m\u001b[1;33m(\u001b[0m\u001b[1;36m5\u001b[0m\u001b[1;33m,\u001b[0m\u001b[1;34m' '\u001b[0m\u001b[1;33m)\u001b[0m\u001b[1;33m,\u001b[0m\u001b[0;31m \u001b[0m\u001b[0;31m\\\u001b[0m\u001b[1;33m\u001b[0m\u001b[1;33m\u001b[0m\u001b[0m\n\u001b[0;32m      9\u001b[0m                                                                \u001b[1;34m\"%.2f\"\u001b[0m \u001b[1;33m%\u001b[0m \u001b[0mround\u001b[0m\u001b[1;33m(\u001b[0m\u001b[0mK166\u001b[0m\u001b[1;33m.\u001b[0m\u001b[0mcurr_speed\u001b[0m\u001b[1;33m*\u001b[0m\u001b[1;36m3600\u001b[0m\u001b[1;33m,\u001b[0m\u001b[1;36m2\u001b[0m\u001b[1;33m)\u001b[0m\u001b[1;33m,\u001b[0m\u001b[0;31m \u001b[0m\u001b[0;31m\\\u001b[0m\u001b[1;33m\u001b[0m\u001b[1;33m\u001b[0m\u001b[0m\n",
      "\u001b[1;31mNameError\u001b[0m: name 'K166' is not defined"
     ]
    }
   ],
   "source": [
    "print('T166: stopped: {}, \\tcurr_MP: {}, \\tcurr_spd: {}, \\ttgt_spd: {},\\tnum_blk_ahead: {}, \\taspect: {},'.format(T166.stopped,\\\n",
    "                                                                str(\"%.2f\" % round(T166.curr_MP,2)).rjust(5,' '), \\\n",
    "                                                               \"%.2f\" % round(T166.curr_speed*3600,2), \\\n",
    "                                                               \"%.2f\" % round(T166.curr_target_spd_abs*3600,2), \\\n",
    "                                                               T166.curr_sig.number_of_blocks_cleared_ahead, \\\n",
    "                                                               T166.curr_sig.aspect))\n",
    "print('K166: stopped: {}, \\tcurr_MP: {}, \\tcurr_spd: {}, \\ttgt_spd: {},\\tnum_blk_ahead: {}, \\taspect: {},'.format(K166.stopped,\\\n",
    "                                                                str(\"%.2f\" % round(K166.curr_MP,2)).rjust(5,' '), \\\n",
    "                                                               \"%.2f\" % round(K166.curr_speed*3600,2), \\\n",
    "                                                               \"%.2f\" % round(K166.curr_target_spd_abs*3600,2), \\\n",
    "                                                               K166.curr_sig.number_of_blocks_cleared_ahead, \\\n",
    "                                                               K166.curr_sig.aspect))"
   ]
  },
  {
   "cell_type": "code",
   "execution_count": 11,
   "metadata": {},
   "outputs": [
    {
     "name": "stdout",
     "output_type": "stream",
     "text": [
      "((ControlPoint0, 1), (AutoPoint1, 0)) []\n",
      "((AutoPoint1, 1), (AutoPoint2, 0)) []\n",
      "((AutoPoint2, 1), (ControlPoint3, 0)) [train index 1, current occupying sections: [((AutoPoint2, 1), (ControlPoint3, 0))], head MP: 15.00, rear MP 14.00]\n",
      "None []\n",
      "None []\n",
      "None []\n",
      "None []\n",
      "None []\n",
      "None []\n",
      "None []\n",
      "None []\n",
      "None []\n",
      "\n",
      "\n",
      "((ControlPoint0, 1), (ControlPoint3, 0))\n",
      "None\n",
      "None\n",
      "None\n",
      "None\n",
      "None\n",
      "None\n"
     ]
    }
   ],
   "source": [
    "for t in sys.tracks:\n",
    "    print(t.routing,t.train)\n",
    "print('\\n')\n",
    "for b in sys.bigblocks:\n",
    "    print(b.routing)"
   ]
  },
  {
   "cell_type": "code",
   "execution_count": 69,
   "metadata": {},
   "outputs": [
    {
     "data": {
      "text/plain": [
       "[]"
      ]
     },
     "execution_count": 69,
     "metadata": {},
     "output_type": "execute_result"
    }
   ],
   "source": [
    "sys.G_origin[sys.signal_points[0]][sys.signal_points[1]][0]['instance'].train"
   ]
  },
  {
   "cell_type": "code",
   "execution_count": 31,
   "metadata": {},
   "outputs": [
    {
     "name": "stdout",
     "output_type": "stream",
     "text": [
      "normal method: <__main__.MyClass object at 0x0000025F2A2F3B00> static to call\n",
      "calling static method: <__main__.MyClass object at 0x0000025F2A2F3B00> static to call\n"
     ]
    },
    {
     "ename": "NameError",
     "evalue": "name 'static_method' is not defined",
     "output_type": "error",
     "traceback": [
      "\u001b[1;31m---------------------------------------------------------------------------\u001b[0m",
      "\u001b[1;31mNameError\u001b[0m                                 Traceback (most recent call last)",
      "\u001b[1;32m<ipython-input-31-6f6c09b3cca5>\u001b[0m in \u001b[0;36m<module>\u001b[1;34m\u001b[0m\n\u001b[1;32m----> 1\u001b[1;33m \u001b[0mmc\u001b[0m\u001b[1;33m.\u001b[0m\u001b[0mnormal_method\u001b[0m\u001b[1;33m(\u001b[0m\u001b[1;34m'static to call'\u001b[0m\u001b[1;33m)\u001b[0m\u001b[1;33m\u001b[0m\u001b[1;33m\u001b[0m\u001b[0m\n\u001b[0m",
      "\u001b[1;32m<ipython-input-29-89c8dded7dbf>\u001b[0m in \u001b[0;36mnormal_method\u001b[1;34m(self, data)\u001b[0m\n\u001b[0;32m      7\u001b[0m         \u001b[0mprint\u001b[0m\u001b[1;33m(\u001b[0m\u001b[1;34m\"normal method: %s %s\"\u001b[0m \u001b[1;33m%\u001b[0m \u001b[1;33m(\u001b[0m\u001b[0mself\u001b[0m\u001b[1;33m,\u001b[0m \u001b[0mdata\u001b[0m\u001b[1;33m)\u001b[0m\u001b[1;33m)\u001b[0m\u001b[1;33m\u001b[0m\u001b[1;33m\u001b[0m\u001b[0m\n\u001b[0;32m      8\u001b[0m         \u001b[0mprint\u001b[0m\u001b[1;33m(\u001b[0m\u001b[1;34m\"calling static method: %s %s\"\u001b[0m \u001b[1;33m%\u001b[0m \u001b[1;33m(\u001b[0m\u001b[0mself\u001b[0m\u001b[1;33m,\u001b[0m \u001b[0mdata\u001b[0m\u001b[1;33m)\u001b[0m\u001b[1;33m)\u001b[0m\u001b[1;33m\u001b[0m\u001b[1;33m\u001b[0m\u001b[0m\n\u001b[1;32m----> 9\u001b[1;33m         \u001b[0mstatic_method\u001b[0m\u001b[1;33m(\u001b[0m\u001b[1;34m\"called\"\u001b[0m\u001b[1;33m)\u001b[0m\u001b[1;33m\u001b[0m\u001b[1;33m\u001b[0m\u001b[0m\n\u001b[0m\u001b[0;32m     10\u001b[0m \u001b[1;33m\u001b[0m\u001b[0m\n\u001b[0;32m     11\u001b[0m     \u001b[1;33m@\u001b[0m\u001b[0mclassmethod\u001b[0m\u001b[1;33m\u001b[0m\u001b[1;33m\u001b[0m\u001b[0m\n",
      "\u001b[1;31mNameError\u001b[0m: name 'static_method' is not defined"
     ]
    }
   ],
   "source": [
    "mc.normal_method('static to call')"
   ]
  },
  {
   "cell_type": "code",
   "execution_count": 5,
   "metadata": {},
   "outputs": [
    {
     "name": "stderr",
     "output_type": "stream",
     "text": [
      "No handles with labels found to put in legend.\n"
     ]
    },
    {
     "data": {
      "image/png": "[encoded data removed]",
      "text/plain": [
       "<Figure size 432x288 with 1 Axes>"
      ]
     },
     "metadata": {
      "needs_background": "light"
     },
     "output_type": "display_data"
    },
    {
     "data": {
      "text/plain": [
       "<Figure size 1440x1280 with 0 Axes>"
      ]
     },
     "metadata": {},
     "output_type": "display_data"
    }
   ],
   "source": [
    "from infrastructure import Track,BigBlock\n",
    "from system import System\n",
    "from train import Train\n",
    "import matplotlib.pyplot as plt\n",
    "import matplotlib.dates as mdates\n",
    "from datetime import datetime, timedelta\n",
    "import numpy as np\n",
    "def string_diagram(sys, start_time, end_time):\n",
    "    '''To draw the string diagram based on the schedule dictionary for all the trains. \n",
    "    '''\n",
    "    colors = ['red','green','blue','black','orange','cyan','magenta']\n",
    "    color_num = len(colors)\n",
    "    x, y = [], []\n",
    "    for i in range(len(sys.trains)):\n",
    "        x.append([])\n",
    "        y.append([])\n",
    "        for j in range(len(sys.trains[i].time_pos_list)):\n",
    "            x[i].append(datetime.fromtimestamp(sys.trains[i].time_pos_list[j][0]))\n",
    "            y[i].append(sys.trains[i].time_pos_list[j][1])\n",
    "            # x[i].append(sys.trains[i].time_pos_list[j][0])\n",
    "            # y[i].append(sys.trains[i].time_pos_list[j][1])\n",
    "\n",
    "    assert len(x) == len(y)\n",
    "    for i in range(len(x)):\n",
    "        assert len(x[i]) == len(y[i])\n",
    "    train_idx = list(range(len(x)))\n",
    "    t_color = [colors[i%color_num] for i in range(len(x))]\n",
    "    min_t, max_t = min([i[0] for i in x if i]), max([i[-1] for i in x if i])\n",
    "    \n",
    "    #plt.ion()\n",
    "    plt.title('String Diagram')\n",
    "    hours = mdates.HourLocator()\n",
    "    minutes = mdates.MinuteLocator()\n",
    "    seconds = mdates.SecondLocator()\n",
    "    dateFmt = mdates.DateFormatter(\"%H:%M\")\n",
    "    plt.gca().xaxis.set_major_locator(hours)\n",
    "    plt.gca().xaxis.set_minor_locator(minutes)\n",
    "    plt.gca().xaxis.set_major_formatter(dateFmt)\n",
    "    plt.xticks(rotation=90)\n",
    "    plt.grid(True, linestyle = \"-.\", color = \"r\", linewidth = \"0.1\")\n",
    "    plt.legend()\n",
    "    plt.xlabel('Time')\n",
    "    plt.ylabel('Mile Post/miles')\n",
    "    start_time = int(start_time.timestamp())\n",
    "    end_time = int(end_time.timestamp())\n",
    "    plt.axis([(datetime.fromtimestamp(start_time - 500)), \\\n",
    "            (datetime.fromtimestamp(end_time + 500)), -5 , 55])\n",
    "    #===============================================================================\n",
    "    # time_length = end_time - start_time\n",
    "    # step_size = 10\n",
    "    # for start in range(1,time_length + 1, step_size):\n",
    "    #     plt.axis([(datetime.fromtimestamp(start_time - 500)), \\\n",
    "    #         (datetime.fromtimestamp(end_time + 500)), -5 , 55])\n",
    "         \n",
    "    #     for n in range(len(x)-1):\n",
    "    #         new_x_y = [[mdates.date2num(datetime.fromtimestamp(i)), j] for i, j in zip(x[n], y[n]) if i < start_time + start and i > start_time + start - 1 - step_size]\n",
    "    #         new_x = []\n",
    "    #         new_y = []\n",
    "    #         for i , j in new_x_y:\n",
    "    #             new_x.append(i)\n",
    "    #             new_y.append(j)\n",
    "    #         if(len(new_x) == 0):\n",
    "    #             continue\n",
    "    #         plt.plot(new_x, new_y, color=t_color[n])\n",
    "    #         # print('==============')\n",
    "    #         # print('Length of new_x: {}'.format(len(new_x)))\n",
    "    #         # print('Length of new_y: {}'.format(len(new_y)))\n",
    "    #     plt.pause(0.00001)\n",
    "    #===============================================================================\n",
    "    for n in range(len(x)):\n",
    "        plt.plot([mdates.date2num(i) for i in x[n]], y[n], color=t_color[n])\n",
    "    plt.gca().axhspan(15,20,color='yellow',alpha=0.5)\n",
    "    plt.gca().axhspan(30,35,color='yellow',alpha=0.5)\n",
    "#     plt.gca().axvspan((datetime.fromtimestamp(start_time + 90 * 60)),(datetime.fromtimestamp(start_time + 150 * 60)),color='black',alpha=0.5)\n",
    "    plt.figure(figsize=(18, 16), dpi= 80, facecolor='w', edgecolor='k')\n",
    "    plt.rcParams['figure.dpi'] = 200\n",
    "    import pylab; pylab.rcParams['figure.figsize'] = (15.0, 8.0)\n",
    "    plt.show()\n",
    "    #plt.ioff()\n",
    "def speed_curve(sys, train):\n",
    "    '''To draw the speed curve based on a train's mileposts and speed . \n",
    "    '''\n",
    "    colors = ['red','green','purple']\n",
    "    mp, spd, spdlmt, tgt_spd = [], [], [], []\n",
    "    for i in range(len(train.pos_spd_list)):\n",
    "        mp.append(train.pos_spd_list[i][0])\n",
    "        spd.append(abs(train.pos_spd_list[i][1]*3600))\n",
    "        spdlmt.append(train.pos_spd_list[i][2]*3600)\n",
    "        tgt_spd.append(train.pos_spd_list[i][3]*3600)\n",
    "\n",
    "    min_mp, max_mp = min(mp), max(mp)\n",
    "    \n",
    "    #plt.ion()\n",
    "    plt.title('Speed Curve')\n",
    "    plt.xticks(rotation=90)\n",
    "    plt.grid(True, linestyle = \"-.\", color = \"r\", linewidth = \"0.1\")\n",
    "    plt.legend()\n",
    "    plt.xlabel('Mile Post/miles')\n",
    "    plt.ylabel('MPH')\n",
    "    plt.plot(mp, spd, color=colors[1])  # train speed\n",
    "    plt.plot(mp, spdlmt, color=colors[0])  # train speed lmt\n",
    "    plt.plot(mp, tgt_spd, '--', color=colors[2])  # train tgt speed\n",
    "    \n",
    "    plt.figure(figsize=(18, 16), dpi= 80, facecolor='w', edgecolor='k')\n",
    "    plt.rcParams['figure.dpi'] = 200\n",
    "    import pylab; pylab.rcParams['figure.figsize'] = (15.0, 8.0)\n",
    "    plt.show()\n",
    "    #plt.ioff()\n",
    "string_diagram(sys, sim_init_time, sim_term_time)\n",
    "# speed_curve(sys, K166)"
   ]
  },
  {
   "cell_type": "code",
   "execution_count": 9,
   "metadata": {},
   "outputs": [
    {
     "name": "stdout",
     "output_type": "stream",
     "text": [
      "train index 0, current occupation: [((ControlPoint7, 0), (ControlPoint6, 1))], head MP: 30.00, rear MP 31.00\n",
      "train index 1, current occupation: [((ControlPoint0, 0), (None, None))], head MP: -1.16, rear MP -0.16\n",
      "train index 2, current occupation: [((ControlPoint4, 1), (AutoPoint5, 0))], head MP: 25.00, rear MP 24.00\n",
      "train index 3, current occupation: [((AutoPoint5, 1), (ControlPoint6, 0))], head MP: 30.00, rear MP 29.00\n"
     ]
    }
   ],
   "source": [
    "print(K166)\n",
    "print(T166)\n",
    "print(K165)\n",
    "print(T165)"
   ]
  },
  {
   "cell_type": "code",
   "execution_count": 18,
   "metadata": {},
   "outputs": [
    {
     "data": {
      "text/plain": [
       "True"
      ]
     },
     "execution_count": 18,
     "metadata": {},
     "output_type": "execute_result"
    }
   ],
   "source": [
    "sys.capacity_enterable(sys.signal_points[6],sys.signal_points[9])"
   ]
  },
  {
   "cell_type": "code",
   "execution_count": 20,
   "metadata": {},
   "outputs": [
    {
     "name": "stdout",
     "output_type": "stream",
     "text": [
      "True\n"
     ]
    }
   ],
   "source": [
    "_enterable=True\n",
    "for n in T165.system.control_points:\n",
    "    if (n.MP - T165.curr_control_point.MP) * T165.sign_MP(T165.curr_routing_path_segment) > 0:\n",
    "        if not T165.system.capacity_enterable(T165.curr_control_point, n):\n",
    "            _enterable=False\n",
    "print(_enterable)"
   ]
  },
  {
   "cell_type": "code",
   "execution_count": 27,
   "metadata": {},
   "outputs": [
    {
     "data": {
      "text/plain": [
       "[(1, 0)]"
      ]
     },
     "execution_count": 27,
     "metadata": {},
     "output_type": "execute_result"
    }
   ],
   "source": [
    "T165.curr_control_point.current_routes"
   ]
  },
  {
   "cell_type": "code",
   "execution_count": 14,
   "metadata": {},
   "outputs": [
    {
     "data": {
      "text/plain": [
       "((ControlPoint10, 0), (ControlPoint7, None))"
      ]
     },
     "execution_count": 14,
     "metadata": {},
     "output_type": "execute_result"
    }
   ],
   "source": [
    "r"
   ]
  },
  {
   "cell_type": "code",
   "execution_count": 31,
   "metadata": {},
   "outputs": [],
   "source": [
    "delta_s = T166.curr_speed * T166.system.refresh_time + 0.5 * (-T166.max_acc) * T166.system.refresh_time**2"
   ]
  },
  {
   "cell_type": "code",
   "execution_count": 32,
   "metadata": {},
   "outputs": [
    {
     "data": {
      "text/plain": [
       "-0.06333881577705458"
      ]
     },
     "execution_count": 32,
     "metadata": {},
     "output_type": "execute_result"
    }
   ],
   "source": [
    "(T166.curr_sig.MP-T166.curr_MP)*(T166.curr_sig.MP-(T166.curr_MP+delta_s))"
   ]
  },
  {
   "cell_type": "code",
   "execution_count": null,
   "metadata": {},
   "outputs": [],
   "source": [
    "print(sys.trains)\n",
    "sys.signal_points[0].open_route((0,1))\n",
    "sys.signal_points[10].open_route((1,0))\n",
    "while T165.rear_curr_MP<=0 and T166.rear_curr_MP>=50:\n",
    "    T166.update_acc()\n",
    "    T165.update_acc()\n",
    "    K166.update_acc()\n",
    "    K165.update_acc()\n",
    "    sys.sys_time+=sys.refresh_time\n",
    "sys.signal_points[0].open_route((0,1))\n",
    "sys.signal_points[10].open_route((1,0))\n",
    "# both all the trains to enter the system\n",
    "sys.signal_points[7].open_route((1,2))\n",
    "sys.signal_points[6].open_route((0,1))\n",
    "sys.signal_points[3].open_route((0,1))\n",
    "sys.signal_points[4].open_route((0,1))\n",
    "# T166 to meet T165 at siding 2\n",
    "while T165.rear_curr_MP<=15:\n",
    "    T166.update_acc()\n",
    "    T165.update_acc()\n",
    "    K166.update_acc()\n",
    "    K165.update_acc()\n",
    "    sys.sys_time+=sys.refresh_time\n",
    "sys.signal_points[3].open_route((0,3))\n",
    "while T165.rear_curr_MP<=30:\n",
    "    T166.update_acc()\n",
    "    T165.update_acc()\n",
    "    K166.update_acc()\n",
    "    K165.update_acc()\n",
    "    sys.sys_time+=sys.refresh_time  \n",
    "sys.signal_points[6].open_route((3,0))\n",
    "sys.signal_points[4].open_route((1,0))\n",
    "while T166.rear_curr_MP>=30:\n",
    "    T166.update_acc()\n",
    "    T165.update_acc()\n",
    "    K166.update_acc()\n",
    "    K165.update_acc()\n",
    "    sys.sys_time+=sys.refresh_time  \n",
    "sys.signal_points[7].open_route((1,2))\n",
    "while K166.rear_curr_MP>=35:\n",
    "    T166.update_acc()\n",
    "    T165.update_acc()\n",
    "    K166.update_acc()\n",
    "    K165.update_acc()\n",
    "    sys.sys_time+=sys.refresh_time\n",
    "sys.signal_points[6].open_route((3,0))   \n",
    "sys.signal_points[7].open_route((0,1))   \n",
    "sys.signal_points[10].open_route((0,1))\n",
    "while T166.rear_curr_MP>=20:\n",
    "    T166.update_acc()\n",
    "    T165.update_acc()\n",
    "    K166.update_acc()\n",
    "    K165.update_acc()\n",
    "    sys.sys_time+=sys.refresh_time\n",
    "sys.signal_points[4].open_route((2,1))\n",
    "sys.signal_points[6].open_route((3,0))\n",
    "sys.signal_points[3].open_route((1,0))\n",
    "sys.signal_points[0].open_route((1,0))\n",
    "while T165.rear_curr_MP<=50:\n",
    "    T166.update_acc()\n",
    "    T165.update_acc()\n",
    "    K166.update_acc()\n",
    "    K165.update_acc()\n",
    "    sys.sys_time+=sys.refresh_time\n",
    "sys.signal_points[10].open_route((0,1))\n",
    "while K165.rear_curr_MP<=50:\n",
    "    T166.update_acc()\n",
    "    T165.update_acc()\n",
    "    K166.update_acc()\n",
    "    K165.update_acc()\n",
    "    sys.sys_time+=sys.refresh_time\n",
    "\n",
    "# while T166.rear_curr_MP>=30:\n",
    "#     T166.update_acc()\n",
    "#     T165.update_acc()\n",
    "#     K166.update_acc()\n",
    "#     K165.update_acc()\n",
    "#     sys.sys_time+=sys.refresh_time\n",
    "# sys.signal_points[7].open_route((1,2))\n",
    "# while K166.rear_curr_MP>=35:\n",
    "#     T166.update_acc()\n",
    "#     T165.update_acc()\n",
    "#     K166.update_acc()\n",
    "#     K165.update_acc()\n",
    "#     sys.sys_time+=sys.refresh_time\n",
    "# sys.signal_points[6].open_route((3,0))\n",
    "# sys.signal_points[4].open_route((3,0))    \n",
    "# sys.signal_points[7].open_route((0,1))\n",
    "# sys.signal_points[10].open_route((0,1))\n",
    "\n",
    "\n",
    "# sys.signal_points[10].open_route((1,0))\n",
    "# sys.signal_points[7].open_route((1,0))\n",
    "# sys.signal_points[6].open_route((1,0))\n",
    "# sys.signal_points[4].open_route((1,0))\n",
    "# count=0\n",
    "# while T166.rear_curr_MP>20:\n",
    "#     count+=1\n",
    "#     T166.update_acc()\n",
    "#     T165.update_acc()\n",
    "#     sys.sys_time+=sys.refresh_time\n",
    "# print(count)\n",
    "# sys.signal_points[0].open_route((1,0))\n",
    "# sys.signal_points[3].open_route((1,0))\n",
    "# sys.signal_points[10].open_route((0,1))\n",
    "# sys.signal_points[7].open_route((0,1))\n",
    "# sys.signal_points[6].open_route((0,1))\n",
    "# sys.signal_points[4].open_route((2,1))\n",
    "# count=0\n",
    "# while not T165.stopped:\n",
    "#     count+=1\n",
    "#     T166.update_acc()\n",
    "#     T165.update_acc()\n",
    "#     sys.sys_time+=sys.refresh_time\n",
    "# print(count)"
   ]
  }
 ],
 "metadata": {
  "kernelspec": {
   "display_name": "Python 3",
   "language": "python",
   "name": "python3"
  },
  "language_info": {
   "codemirror_mode": {
    "name": "ipython",
    "version": 3
   },
   "file_extension": ".py",
   "mimetype": "text/x-python",
   "name": "python",
   "nbconvert_exporter": "python",
   "pygments_lexer": "ipython3",
   "version": "3.7.1"
  }
 },
 "nbformat": 4,
 "nbformat_minor": 2
}
