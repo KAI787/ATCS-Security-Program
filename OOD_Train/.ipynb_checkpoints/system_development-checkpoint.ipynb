{
 "cells": [
  {
   "cell_type": "code",
   "execution_count": 14,
   "metadata": {},
   "outputs": [],
   "source": [
    "import os\n",
    "import sys\n",
    "sys.path.append('D:\\\\Users\\\\Hegxiten\\\\workspace\\\\Rutgers_Railway_security_research\\\\OOD_Train')\n",
    "\n",
    "from datetime import datetime, timedelta\n",
    "import numpy as np\n",
    "import random\n",
    "from infrastructure import Track, Block, BigBlock\n",
    "from signaling import AutoSignal, HomeSignal, AutoPoint, ControlPoint\n",
    "from system import System\n",
    "from train import Train\n",
    "import networkx as nx\n"
   ]
  },
  {
   "cell_type": "code",
   "execution_count": 15,
   "metadata": {},
   "outputs": [],
   "source": [
    "sim_init_time = datetime.strptime('2018-01-10 10:00:00', \"%Y-%m-%d %H:%M:%S\")\n",
    "sim_term_time = datetime.strptime('2018-01-10 15:30:00', \"%Y-%m-%d %H:%M:%S\")\n",
    "sp_container = [random.uniform(0.01, 0.02) for i in range(20)]\n",
    "acc_container = [random.uniform(2.78e-05*0.85, 2.78e-05*1.15) for i in range(20)]\n",
    "dcc_container = [random.uniform(2.78e-05*0.85, 2.78e-05*1.15) for i in range(20)]\n",
    "headway = 200 * random.random() + 400\n",
    "sys = System(sim_init_time, sp_container, acc_container, dcc_container,\n",
    "             dos_period=['2018-01-10 11:30:00', '2018-01-10 12:30:00'],  \n",
    "             headway=headway, \n",
    "             tracks=[1,1,1,4,1,1,3,1,1,1], \n",
    "             dos_pos=-1)\n",
    "k165 = Train(idx=sys.train_num, \n",
    "                  rank=sys.train_num, \n",
    "                  system=sys, \n",
    "                  init_time=sys.sys_time, \n",
    "                  init_segment=((None,None),(sys.signal_points[0],0)),\n",
    "                  max_sp=sys.sp_container[sys.train_num % len(sys.sp_container)], \n",
    "                  max_acc=sys.acc_container[sys.train_num % len(sys.acc_container)], \n",
    "                  max_dcc=sys.dcc_container[sys.train_num % len(sys.dcc_container)])"
   ]
  },
  {
   "cell_type": "code",
   "execution_count": 16,
   "metadata": {},
   "outputs": [
    {
     "name": "stdout",
     "output_type": "stream",
     "text": [
      "route (0, 1) of ControlPoint0 is opened\n",
      "route (0, 1) of ControlPoint3 is opened\n",
      "route (0, 1) of ControlPoint4 is opened\n",
      "route (0, 1) of ControlPoint6 is opened\n",
      "route (0, 1) of ControlPoint7 is opened\n",
      "route (0, 1) of ControlPoint10 is opened\n",
      "[((None, None), (ControlPoint0, 0)), ((ControlPoint0, 1), (AutoPoint1, 0)), ((AutoPoint1, 1), (AutoPoint2, 0)), ((AutoPoint2, 1), (ControlPoint3, 0)), ((ControlPoint3, 1), (ControlPoint4, 0)), ((ControlPoint4, 1), (AutoPoint5, 0)), ((AutoPoint5, 1), (ControlPoint6, 0)), ((ControlPoint6, 1), (ControlPoint7, 0)), ((ControlPoint7, 1), (AutoPoint8, 0)), ((AutoPoint8, 1), (AutoPoint9, 0)), ((AutoPoint9, 1), (ControlPoint10, 0)), ((ControlPoint10, 1), (None, None))]\n"
     ]
    }
   ],
   "source": [
    "for n in sys.control_points:\n",
    "    n.open_route((0,1))\n",
    "for p in sys.curr_routing_paths:\n",
    "    print(p)"
   ]
  },
  {
   "cell_type": "code",
   "execution_count": 17,
   "metadata": {
    "scrolled": true
   },
   "outputs": [
    {
     "data": {
      "text/plain": [
       "True"
      ]
     },
     "execution_count": 17,
     "metadata": {},
     "output_type": "execute_result"
    }
   ],
   "source": [
    "sys.tracks[0].curr_routing_path == sys.tracks[1].curr_routing_path"
   ]
  },
  {
   "cell_type": "code",
   "execution_count": 20,
   "metadata": {
    "scrolled": false
   },
   "outputs": [
    {
     "name": "stdout",
     "output_type": "stream",
     "text": [
      "route (0, 1) of ControlPoint0 is opened\n",
      "route (0, 1) of ControlPoint3 is opened\n",
      "route (0, 1) of ControlPoint4 is opened\n",
      "route (0, 1) of ControlPoint6 is opened\n",
      "route (0, 1) of ControlPoint7 is opened\n",
      "route (0, 1) of ControlPoint10 is opened\n",
      "Aspect: g, \t route (0, 1), target speed 72.0 mph\n",
      "Aspect: g, \t route (0, 1), target speed 72.0 mph\n",
      "Aspect: g, \t route (0, 1), target speed 72.0 mph\n",
      "Aspect: g, \t route (0, 1), target speed 72.0 mph\n",
      "Aspect: g, \t route (0, 1), target speed 72.0 mph\n",
      "Aspect: g, \t route (0, 1), target speed 72.0 mph\n",
      "Aspect: g, \t route (0, 1), target speed 72.0 mph\n",
      "Aspect: g, \t route (0, 1), target speed 72.0 mph\n",
      "g\n",
      "g\n",
      "Aspect: g, \t route (0, 1), target speed 72.0 mph\n"
     ]
    }
   ],
   "source": [
    "sys = System(sim_init_time, sp_container, acc_container, dcc_container,\n",
    "             dos_period=['2018-01-10 11:30:00', '2018-01-10 12:30:00'],  \n",
    "             headway=headway, \n",
    "             tracks=[1,1,1,4,1,1,3,1,1,1], \n",
    "             dos_pos=-1)\n",
    "\n",
    "for n in sys.control_points:\n",
    "    n.open_route((0,1))\n",
    "#sys.signal_points[0].open_route((0,1))\n",
    "for i in range(len(sys.signal_points)):\n",
    "    print(sys.signal_points[i].signal_by_port[0].aspect)"
   ]
  },
  {
   "cell_type": "markdown",
   "metadata": {},
   "source": [
    "\n"
   ]
  },
  {
   "cell_type": "code",
   "execution_count": 6,
   "metadata": {},
   "outputs": [
    {
     "name": "stdout",
     "output_type": "stream",
     "text": [
      "0 HomeSignal of ControlPoint0, port: 0 AutoSignal of AutoPoint1, port: 0\n",
      "1 AutoSignal of AutoPoint1, port: 0 AutoSignal of AutoPoint2, port: 0\n",
      "2 AutoSignal of AutoPoint2, port: 0 HomeSignal of ControlPoint3, port: 0\n",
      "3 HomeSignal of ControlPoint3, port: 0 HomeSignal of ControlPoint4, port: 0\n",
      "4 HomeSignal of ControlPoint4, port: 0 AutoSignal of AutoPoint5, port: 0\n",
      "5 AutoSignal of AutoPoint5, port: 0 HomeSignal of ControlPoint6, port: 0\n",
      "6 HomeSignal of ControlPoint6, port: 0 HomeSignal of ControlPoint7, port: 0\n",
      "7 HomeSignal of ControlPoint7, port: 0 AutoSignal of AutoPoint8, port: 0\n",
      "8 AutoSignal of AutoPoint8, port: 0 AutoSignal of AutoPoint9, port: 0\n",
      "9 AutoSignal of AutoPoint9, port: 0 HomeSignal of ControlPoint10, port: 0\n",
      "10 HomeSignal of ControlPoint10, port: 0 None\n"
     ]
    }
   ],
   "source": [
    "for i in range(len(sys.signal_points)):\n",
    "    print(i, sys.signal_points[i].signal_by_port[0], sys.signal_points[i].signal_by_port[0].next_enroute_signal)"
   ]
  },
  {
   "cell_type": "code",
   "execution_count": null,
   "metadata": {
    "scrolled": false
   },
   "outputs": [],
   "source": []
  },
  {
   "cell_type": "code",
   "execution_count": 7,
   "metadata": {},
   "outputs": [
    {
     "data": {
      "text/plain": [
       "((None, None), (ControlPoint0, 0))"
      ]
     },
     "execution_count": 7,
     "metadata": {},
     "output_type": "execute_result"
    }
   ],
   "source": [
    "k165.curr_segment"
   ]
  },
  {
   "cell_type": "code",
   "execution_count": 8,
   "metadata": {},
   "outputs": [
    {
     "name": "stdout",
     "output_type": "stream",
     "text": [
      "0 Aspect: g, \t route (0, 1), target speed 72.0 mph\n",
      "1 Aspect: g, \t route (0, 1), target speed 72.0 mph\n",
      "2 Aspect: g, \t route (0, 1), target speed 72.0 mph\n",
      "3 Aspect: g, \t route (0, 1), target speed 72.0 mph\n",
      "4 Aspect: g, \t route (0, 1), target speed 72.0 mph\n",
      "5 Aspect: g, \t route (0, 1), target speed 72.0 mph\n",
      "6 Aspect: g, \t route (0, 1), target speed 72.0 mph\n",
      "7 Aspect: g, \t route (0, 1), target speed 72.0 mph\n"
     ]
    },
    {
     "ename": "AttributeError",
     "evalue": "'str' object has no attribute 'route'",
     "output_type": "error",
     "traceback": [
      "\u001b[1;31m---------------------------------------------------------------------------\u001b[0m",
      "\u001b[1;31mAttributeError\u001b[0m                            Traceback (most recent call last)",
      "\u001b[1;32m<ipython-input-8-58b4c20cf50b>\u001b[0m in \u001b[0;36m<module>\u001b[1;34m\u001b[0m\n\u001b[0;32m      1\u001b[0m \u001b[1;32mfor\u001b[0m \u001b[0mi\u001b[0m \u001b[1;32min\u001b[0m \u001b[0mrange\u001b[0m\u001b[1;33m(\u001b[0m\u001b[0mlen\u001b[0m\u001b[1;33m(\u001b[0m\u001b[0msys\u001b[0m\u001b[1;33m.\u001b[0m\u001b[0msignal_points\u001b[0m\u001b[1;33m)\u001b[0m\u001b[1;33m)\u001b[0m\u001b[1;33m:\u001b[0m\u001b[1;33m\u001b[0m\u001b[1;33m\u001b[0m\u001b[0m\n\u001b[0;32m      2\u001b[0m \u001b[1;33m\u001b[0m\u001b[0m\n\u001b[1;32m----> 3\u001b[1;33m     \u001b[0mprint\u001b[0m\u001b[1;33m(\u001b[0m\u001b[0mi\u001b[0m\u001b[1;33m,\u001b[0m \u001b[0msys\u001b[0m\u001b[1;33m.\u001b[0m\u001b[0msignal_points\u001b[0m\u001b[1;33m[\u001b[0m\u001b[0mi\u001b[0m\u001b[1;33m]\u001b[0m\u001b[1;33m.\u001b[0m\u001b[0msignal_by_port\u001b[0m\u001b[1;33m[\u001b[0m\u001b[1;36m0\u001b[0m\u001b[1;33m]\u001b[0m\u001b[1;33m.\u001b[0m\u001b[0maspect\u001b[0m\u001b[1;33m)\u001b[0m\u001b[1;33m\u001b[0m\u001b[1;33m\u001b[0m\u001b[0m\n\u001b[0m",
      "\u001b[1;32mD:\\Users\\Hegxiten\\workspace\\Rutgers_Railway_security_research\\OOD_Train\\signaling.py\u001b[0m in \u001b[0;36maspect\u001b[1;34m(self)\u001b[0m\n\u001b[0;32m    110\u001b[0m     \u001b[1;32mdef\u001b[0m \u001b[0maspect\u001b[0m\u001b[1;33m(\u001b[0m\u001b[0mself\u001b[0m\u001b[1;33m)\u001b[0m\u001b[1;33m:\u001b[0m\u001b[1;33m\u001b[0m\u001b[1;33m\u001b[0m\u001b[0m\n\u001b[0;32m    111\u001b[0m         \u001b[1;31m# print('call aspect of {} route {}'.format(self.sigpoint,self.route))\u001b[0m\u001b[1;33m\u001b[0m\u001b[1;33m\u001b[0m\u001b[1;33m\u001b[0m\u001b[0m\n\u001b[1;32m--> 112\u001b[1;33m         \u001b[0mself\u001b[0m\u001b[1;33m.\u001b[0m\u001b[0m_aspect\u001b[0m\u001b[1;33m.\u001b[0m\u001b[0mroute\u001b[0m \u001b[1;33m=\u001b[0m \u001b[0mself\u001b[0m\u001b[1;33m.\u001b[0m\u001b[0mroute\u001b[0m\u001b[1;33m\u001b[0m\u001b[1;33m\u001b[0m\u001b[0m\n\u001b[0m\u001b[0;32m    113\u001b[0m         \u001b[1;32mif\u001b[0m \u001b[1;32mnot\u001b[0m \u001b[0mself\u001b[0m\u001b[1;33m.\u001b[0m\u001b[0mroute\u001b[0m\u001b[1;33m:\u001b[0m\u001b[1;33m\u001b[0m\u001b[1;33m\u001b[0m\u001b[0m\n\u001b[0;32m    114\u001b[0m             \u001b[0mself\u001b[0m\u001b[1;33m.\u001b[0m\u001b[0m_aspect\u001b[0m\u001b[1;33m.\u001b[0m\u001b[0mcolor\u001b[0m \u001b[1;33m=\u001b[0m \u001b[1;34m'r'\u001b[0m\u001b[1;33m\u001b[0m\u001b[1;33m\u001b[0m\u001b[0m\n",
      "\u001b[1;31mAttributeError\u001b[0m: 'str' object has no attribute 'route'"
     ]
    }
   ],
   "source": [
    "for i in range(len(sys.signal_points)):\n",
    "    \n",
    "    print(i, sys.signal_points[i].signal_by_port[0].aspect)"
   ]
  },
  {
   "cell_type": "code",
   "execution_count": null,
   "metadata": {},
   "outputs": [],
   "source": [
    "from infrastructure import Track, Block, BigBlock\n",
    "from system import System\n",
    "from train import Train\n",
    "import matplotlib.pyplot as plt\n",
    "import matplotlib.dates as mdates\n",
    "from datetime import datetime, timedelta\n",
    "import numpy as np\n",
    "def string_diagram(sys, start_time, end_time):\n",
    "    '''To draw the string diagram based on the schedule dictionary for all the trains. \n",
    "    '''\n",
    "    colors = ['red','green','blue','black','orange','cyan','magenta']\n",
    "    color_num = len(colors)\n",
    "    x, y = [], []\n",
    "    for i in range(len(sys.trains)-1):\n",
    "        x.append([])\n",
    "        y.append([])\n",
    "        for j in range(len(sys.trains[i].time_pos_list)-1):\n",
    "            x[i].append(datetime.fromtimestamp(sys.trains[i].time_pos_list[j][0]))\n",
    "            y[i].append(sys.trains[i].time_pos_list[j][1])\n",
    "            # x[i].append(sys.trains[i].time_pos_list[j][0])\n",
    "            # y[i].append(sys.trains[i].time_pos_list[j][1])\n",
    "\n",
    "    y = [i for _,i in sorted(zip([i[0] for i in x], y))]\n",
    "    x = sorted(x, key = lambda x: x[0])\n",
    "    assert len(x) == len(y)\n",
    "    \n",
    "    train_idx = list(range(len(x)))\n",
    "    t_color = [colors[x.index(i)%color_num] for i in x]\n",
    "    min_t, max_t = min([i[0] for i in x]), max([i[-1] for i in x])\n",
    "\n",
    "    #plt.ion()\n",
    "    plt.title('Result Analysis')\n",
    "    hours = mdates.HourLocator()\n",
    "    minutes = mdates.MinuteLocator()\n",
    "    seconds = mdates.SecondLocator()\n",
    "    dateFmt = mdates.DateFormatter(\"%H:%M\")\n",
    "    plt.gca().xaxis.set_major_locator(hours)\n",
    "    plt.gca().xaxis.set_minor_locator(minutes)\n",
    "    plt.gca().xaxis.set_major_formatter(dateFmt)\n",
    "    plt.xticks(rotation=90)\n",
    "    plt.grid(True, linestyle = \"-.\", color = \"r\", linewidth = \"0.1\")\n",
    "    plt.legend()\n",
    "    plt.xlabel('Time')\n",
    "    plt.ylabel('Mile Post/miles')\n",
    "    start_time = int(start_time.timestamp())\n",
    "    end_time = int(end_time.timestamp())\n",
    "    plt.axis([(datetime.fromtimestamp(start_time - 500)), \\\n",
    "            (datetime.fromtimestamp(end_time + 500)), -5 , 55])\n",
    "    #===============================================================================\n",
    "    # time_length = end_time - start_time\n",
    "    # step_size = 10\n",
    "    # for start in range(1,time_length + 1, step_size):\n",
    "    #     plt.axis([(datetime.fromtimestamp(start_time - 500)), \\\n",
    "    #         (datetime.fromtimestamp(end_time + 500)), -5 , 55])\n",
    "         \n",
    "    #     for n in range(len(x)-1):\n",
    "    #         new_x_y = [[mdates.date2num(datetime.fromtimestamp(i)), j] for i, j in zip(x[n], y[n]) if i < start_time + start and i > start_time + start - 1 - step_size]\n",
    "    #         new_x = []\n",
    "    #         new_y = []\n",
    "    #         for i , j in new_x_y:\n",
    "    #             new_x.append(i)\n",
    "    #             new_y.append(j)\n",
    "    #         if(len(new_x) == 0):\n",
    "    #             continue\n",
    "    #         plt.plot(new_x, new_y, color=t_color[n])\n",
    "    #         # print('==============')\n",
    "    #         # print('Length of new_x: {}'.format(len(new_x)))\n",
    "    #         # print('Length of new_y: {}'.format(len(new_y)))\n",
    "    #     plt.pause(0.00001)\n",
    "    #===============================================================================\n",
    "    for n in range(len(x)-1):\n",
    "        #assert len(x[n]) == len(y[n]) == t_color[n]\n",
    "        plt.plot([mdates.date2num(i) for i in x[n]], y[n], color=t_color[n])\n",
    "    plt.gca().axhspan(15,20,color='yellow',alpha=0.5)\n",
    "    plt.gca().axhspan(30,35,color='yellow',alpha=0.5)\n",
    "    plt.gca().axvspan((datetime.fromtimestamp(start_time + 90 * 60)),(datetime.fromtimestamp(start_time + 150 * 60)),color='black',alpha=0.5)\n",
    "    plt.show()\n",
    "    #plt.ioff()"
   ]
  },
  {
   "cell_type": "code",
   "execution_count": null,
   "metadata": {},
   "outputs": [],
   "source": [
    "x, =[], y=[]\n",
    "for j in range(len(sys.trains[0].time_pos_list)-1):\n",
    "    x[0].append(datetime.fromtimestamp(sys.trains[0].time_pos_list[j][0]))\n",
    "    y[0].append(sys.trains[0].time_pos_list[j][1])"
   ]
  },
  {
   "cell_type": "code",
   "execution_count": null,
   "metadata": {},
   "outputs": [],
   "source": []
  }
 ],
 "metadata": {
  "kernelspec": {
   "display_name": "Python 3",
   "language": "python",
   "name": "python3"
  },
  "language_info": {
   "codemirror_mode": {
    "name": "ipython",
    "version": 3
   },
   "file_extension": ".py",
   "mimetype": "text/x-python",
   "name": "python",
   "nbconvert_exporter": "python",
   "pygments_lexer": "ipython3",
   "version": "3.7.1"
  }
 },
 "nbformat": 4,
 "nbformat_minor": 2
}
