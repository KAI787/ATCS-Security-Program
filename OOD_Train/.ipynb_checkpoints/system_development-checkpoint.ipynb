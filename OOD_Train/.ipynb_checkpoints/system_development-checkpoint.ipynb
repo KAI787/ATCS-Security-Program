{
 "cells": [
  {
   "cell_type": "code",
   "execution_count": 1,
   "metadata": {},
   "outputs": [],
   "source": [
    "from datetime import datetime, timedelta\n",
    "import numpy as np\n",
    "import random\n",
    "from signaling import AutoSignal, HomeSignal, AutoPoint, ControlPoint\n",
    "from system import System\n",
    "from train import TrainList, Train\n",
    "from infrastructure import Yard, Track, BigBlock\n",
    "\n",
    "\n",
    "from dispatch import Dispatcher\n",
    "import networkx as nx\n",
    "from sim import string_diagram, speed_curve\n",
    "from itertools import combinations, permutations\n",
    "\n",
    "import matplotlib.pyplot as plt\n",
    "import matplotlib.dates as mdates"
   ]
  },
  {
   "cell_type": "code",
   "execution_count": 2,
   "metadata": {},
   "outputs": [],
   "source": [
    "sim_init_time = datetime.strptime('2018-01-10 10:00:00', \"%Y-%m-%d %H:%M:%S\")\n",
    "sim_term_time = datetime.strptime('2018-01-10 15:30:00', \"%Y-%m-%d %H:%M:%S\")\n",
    "sp_container = [random.uniform(0.01, 0.02) for i in range(20)]\n",
    "acc_container = [0.5*random.uniform(2.78e-05*0.85, 2.78e-05*1.15) for i in range(20)]\n",
    "dcc_container = [0.2*random.uniform(2.78e-05*0.85, 2.78e-05*1.15) for i in range(20)]\n",
    "headway = 300 + random.random() * 400\n",
    "sys = System(sim_init_time, sp_container, acc_container, dcc_container,\n",
    "             term_time=sim_term_time,\n",
    "             dos_period=['2018-01-10 11:30:00', '2018-01-10 12:30:00'],  \n",
    "             dos_pos=(15,20),\n",
    "             headway=headway, \n",
    "             refresh_time=50)"
   ]
  },
  {
   "cell_type": "code",
   "execution_count": 3,
   "metadata": {},
   "outputs": [
    {
     "name": "stdout",
     "output_type": "stream",
     "text": [
      "train idx: 0, MP: 50.00 requested (1, 0) at CP: 50.0\n",
      "\troute (1, 0) of ControlPoint10 is opened\n",
      "train idx: 0 initiated, entering into Track MP: 45.0 to MP: 50.0 idx: 0\n",
      "\troute (1, 0) of ControlPoint10 is closed\n",
      "train idx: 0, MP: 49.95 requested (1, 0) at CP: 35.0\n",
      "\troute (1, 0) of ControlPoint7 is opened\n",
      "train idx: 1, MP: 50.00 requested (1, 0) at CP: 50.0\n",
      "\troute (1, 0) of ControlPoint10 is opened\n",
      "train idx: 1 initiated, entering into Track MP: 45.0 to MP: 50.0 idx: 0\n",
      "\troute (1, 0) of ControlPoint10 is closed\n",
      "\troute (1, 0) of ControlPoint7 is closed\n"
     ]
    },
    {
     "ename": "TypeError",
     "evalue": "'list' object is not callable",
     "output_type": "error",
     "traceback": [
      "\u001b[0;31m---------------------------------------------------------------------------\u001b[0m",
      "\u001b[0;31mTypeError\u001b[0m                                 Traceback (most recent call last)",
      "\u001b[0;32m<ipython-input-3-619d02314d4e>\u001b[0m in \u001b[0;36m<module>\u001b[0;34m\u001b[0m\n\u001b[1;32m     11\u001b[0m                         \u001b[0mt\u001b[0m \u001b[0;34m=\u001b[0m \u001b[0msys\u001b[0m\u001b[0;34m.\u001b[0m\u001b[0mgenerate_train\u001b[0m\u001b[0;34m(\u001b[0m\u001b[0msys\u001b[0m\u001b[0;34m.\u001b[0m\u001b[0msignal_points\u001b[0m\u001b[0;34m[\u001b[0m\u001b[0;36m10\u001b[0m\u001b[0;34m]\u001b[0m\u001b[0;34m,\u001b[0m \u001b[0;36m1\u001b[0m\u001b[0;34m,\u001b[0m \u001b[0msys\u001b[0m\u001b[0;34m.\u001b[0m\u001b[0msignal_points\u001b[0m\u001b[0;34m[\u001b[0m\u001b[0;36m0\u001b[0m\u001b[0;34m]\u001b[0m\u001b[0;34m,\u001b[0m \u001b[0;36m0\u001b[0m\u001b[0;34m,\u001b[0m \u001b[0mlength\u001b[0m\u001b[0;34m=\u001b[0m\u001b[0;36m1\u001b[0m\u001b[0;34m,\u001b[0m \u001b[0minit_time\u001b[0m\u001b[0;34m=\u001b[0m\u001b[0msys\u001b[0m\u001b[0;34m.\u001b[0m\u001b[0mlast_train_init_time\u001b[0m\u001b[0;34m+\u001b[0m\u001b[0msys\u001b[0m\u001b[0;34m.\u001b[0m\u001b[0mheadway\u001b[0m\u001b[0;34m)\u001b[0m\u001b[0;34m\u001b[0m\u001b[0;34m\u001b[0m\u001b[0m\n\u001b[1;32m     12\u001b[0m         \u001b[0msys\u001b[0m\u001b[0;34m.\u001b[0m\u001b[0msys_time\u001b[0m\u001b[0;34m+=\u001b[0m\u001b[0msys\u001b[0m\u001b[0;34m.\u001b[0m\u001b[0mrefresh_time\u001b[0m\u001b[0;34m\u001b[0m\u001b[0;34m\u001b[0m\u001b[0m\n\u001b[0;32m---> 13\u001b[0;31m \u001b[0msim\u001b[0m\u001b[0;34m(\u001b[0m\u001b[0;34m)\u001b[0m\u001b[0;34m\u001b[0m\u001b[0;34m\u001b[0m\u001b[0m\n\u001b[0m",
      "\u001b[0;32m<ipython-input-3-619d02314d4e>\u001b[0m in \u001b[0;36msim\u001b[0;34m()\u001b[0m\n\u001b[1;32m      3\u001b[0m         \u001b[0m_semaphore_to_return\u001b[0m \u001b[0;34m=\u001b[0m \u001b[0;32mFalse\u001b[0m\u001b[0;34m\u001b[0m\u001b[0;34m\u001b[0m\u001b[0m\n\u001b[1;32m      4\u001b[0m         \u001b[0;32mfor\u001b[0m \u001b[0mt\u001b[0m \u001b[0;32min\u001b[0m \u001b[0msys\u001b[0m\u001b[0;34m.\u001b[0m\u001b[0mtrains\u001b[0m\u001b[0;34m:\u001b[0m\u001b[0;34m\u001b[0m\u001b[0;34m\u001b[0m\u001b[0m\n\u001b[0;32m----> 5\u001b[0;31m             \u001b[0mt\u001b[0m\u001b[0;34m.\u001b[0m\u001b[0mrequest_routing\u001b[0m\u001b[0;34m(\u001b[0m\u001b[0;34m)\u001b[0m\u001b[0;34m\u001b[0m\u001b[0;34m\u001b[0m\u001b[0m\n\u001b[0m\u001b[1;32m      6\u001b[0m             \u001b[0mt\u001b[0m\u001b[0;34m.\u001b[0m\u001b[0mupdate_acc\u001b[0m\u001b[0;34m(\u001b[0m\u001b[0;34m)\u001b[0m\u001b[0;34m\u001b[0m\u001b[0;34m\u001b[0m\u001b[0m\n\u001b[1;32m      7\u001b[0m         \u001b[0;32mif\u001b[0m \u001b[0msys\u001b[0m\u001b[0;34m.\u001b[0m\u001b[0msys_time\u001b[0m\u001b[0;34m+\u001b[0m\u001b[0msys\u001b[0m\u001b[0;34m.\u001b[0m\u001b[0mrefresh_time\u001b[0m \u001b[0;34m-\u001b[0m \u001b[0msys\u001b[0m\u001b[0;34m.\u001b[0m\u001b[0mlast_train_init_time\u001b[0m \u001b[0;34m>=\u001b[0m \u001b[0msys\u001b[0m\u001b[0;34m.\u001b[0m\u001b[0mheadway\u001b[0m\u001b[0;34m:\u001b[0m\u001b[0;34m\u001b[0m\u001b[0;34m\u001b[0m\u001b[0m\n",
      "\u001b[0;32m~/Documents/GitHub/Rutgers_Railway_security_research/OOD_Train/train.py\u001b[0m in \u001b[0;36mrequest_routing\u001b[0;34m(self)\u001b[0m\n\u001b[1;32m   1044\u001b[0m                         _pending_route_to_open)\n\u001b[1;32m   1045\u001b[0m                 \u001b[0;32melif\u001b[0m \u001b[0mself\u001b[0m\u001b[0;34m.\u001b[0m\u001b[0mcurr_track\u001b[0m\u001b[0;34m.\u001b[0m\u001b[0myard\u001b[0m\u001b[0;34m:\u001b[0m\u001b[0;34m\u001b[0m\u001b[0;34m\u001b[0m\u001b[0m\n\u001b[0;32m-> 1046\u001b[0;31m                     \u001b[0;32mif\u001b[0m \u001b[0;32mnot\u001b[0m \u001b[0mself\u001b[0m\u001b[0;34m.\u001b[0m\u001b[0mcurrently_passable\u001b[0m\u001b[0;34m(\u001b[0m\u001b[0mmax_passes\u001b[0m\u001b[0;34m=\u001b[0m\u001b[0;36m1\u001b[0m\u001b[0;34m)\u001b[0m\u001b[0;34m:\u001b[0m\u001b[0;34m\u001b[0m\u001b[0;34m\u001b[0m\u001b[0m\n\u001b[0m\u001b[1;32m   1047\u001b[0m                         print(\n\u001b[1;32m   1048\u001b[0m                             \u001b[0;34m'train idx: {}, MP: {} requested {} at CP: {}'\u001b[0m\u001b[0;34m\u001b[0m\u001b[0;34m\u001b[0m\u001b[0m\n",
      "\u001b[0;32m~/Documents/GitHub/Rutgers_Railway_security_research/OOD_Train/train.py\u001b[0m in \u001b[0;36mcurrently_passable\u001b[0;34m(self, max_passes)\u001b[0m\n\u001b[1;32m   1075\u001b[0m         \u001b[0;32mif\u001b[0m \u001b[0;32mnot\u001b[0m \u001b[0mself\u001b[0m\u001b[0;34m.\u001b[0m\u001b[0mcurr_track\u001b[0m \u001b[0;32mor\u001b[0m \u001b[0;32mnot\u001b[0m \u001b[0mself\u001b[0m\u001b[0;34m.\u001b[0m\u001b[0mrear_curr_track\u001b[0m\u001b[0;34m:\u001b[0m\u001b[0;34m\u001b[0m\u001b[0;34m\u001b[0m\u001b[0m\n\u001b[1;32m   1076\u001b[0m             \u001b[0;32mreturn\u001b[0m \u001b[0;32mFalse\u001b[0m    \u001b[0;31m# not passable when not fully entered yet\u001b[0m\u001b[0;34m\u001b[0m\u001b[0;34m\u001b[0m\u001b[0m\n\u001b[0;32m-> 1077\u001b[0;31m         \u001b[0;32mif\u001b[0m \u001b[0;32mnot\u001b[0m \u001b[0;34m(\u001b[0m\u001b[0mself\u001b[0m\u001b[0;34m.\u001b[0m\u001b[0mmax_speed\u001b[0m \u001b[0;34m<\u001b[0m \u001b[0mself\u001b[0m\u001b[0;34m.\u001b[0m\u001b[0mtrn_follow_behind\u001b[0m\u001b[0;34m.\u001b[0m\u001b[0mmax_speed\u001b[0m\u001b[0;34m)\u001b[0m\u001b[0;34m:\u001b[0m\u001b[0;34m\u001b[0m\u001b[0;34m\u001b[0m\u001b[0m\n\u001b[0m\u001b[1;32m   1078\u001b[0m             \u001b[0;32mreturn\u001b[0m \u001b[0;32mFalse\u001b[0m    \u001b[0;31m# not passable if not slower than the one behind\u001b[0m\u001b[0;34m\u001b[0m\u001b[0;34m\u001b[0m\u001b[0m\n\u001b[1;32m   1079\u001b[0m         \u001b[0;32mif\u001b[0m \u001b[0mself\u001b[0m\u001b[0;34m.\u001b[0m\u001b[0mrank\u001b[0m \u001b[0;34m-\u001b[0m \u001b[0mself\u001b[0m\u001b[0;34m.\u001b[0m\u001b[0mtrain_idx\u001b[0m \u001b[0;34m>=\u001b[0m \u001b[0mmax_passes\u001b[0m\u001b[0;34m:\u001b[0m\u001b[0;34m\u001b[0m\u001b[0;34m\u001b[0m\u001b[0m\n",
      "\u001b[0;32m~/Documents/GitHub/Rutgers_Railway_security_research/OOD_Train/train.py\u001b[0m in \u001b[0;36mtrn_follow_behind\u001b[0;34m(self)\u001b[0m\n\u001b[1;32m    809\u001b[0m     \u001b[0;34m@\u001b[0m\u001b[0mproperty\u001b[0m\u001b[0;34m\u001b[0m\u001b[0;34m\u001b[0m\u001b[0m\n\u001b[1;32m    810\u001b[0m     \u001b[0;32mdef\u001b[0m \u001b[0mtrn_follow_behind\u001b[0m\u001b[0;34m(\u001b[0m\u001b[0mself\u001b[0m\u001b[0;34m)\u001b[0m\u001b[0;34m:\u001b[0m\u001b[0;34m\u001b[0m\u001b[0;34m\u001b[0m\u001b[0m\n\u001b[0;32m--> 811\u001b[0;31m         \u001b[0;32mreturn\u001b[0m \u001b[0mself\u001b[0m\u001b[0;34m.\u001b[0m\u001b[0msame_way_trains\u001b[0m\u001b[0;34m(\u001b[0m\u001b[0mself\u001b[0m\u001b[0;34m)\u001b[0m\u001b[0;34m[\u001b[0m\u001b[0mself\u001b[0m\u001b[0;34m.\u001b[0m\u001b[0mrank\u001b[0m \u001b[0;34m+\u001b[0m \u001b[0;36m1\u001b[0m\u001b[0;34m]\u001b[0m\u001b[0;34m\u001b[0m\u001b[0;34m\u001b[0m\u001b[0m\n\u001b[0m\u001b[1;32m    812\u001b[0m \u001b[0;34m\u001b[0m\u001b[0m\n\u001b[1;32m    813\u001b[0m     \u001b[0;34m@\u001b[0m\u001b[0mproperty\u001b[0m\u001b[0;34m\u001b[0m\u001b[0;34m\u001b[0m\u001b[0m\n",
      "\u001b[0;31mTypeError\u001b[0m: 'list' object is not callable"
     ]
    }
   ],
   "source": [
    "def sim():\n",
    "    while sys.sys_time - sys.init_time <= sys.term_time - sys.init_time:\n",
    "        _semaphore_to_return = False\n",
    "        for t in sys.trains:\n",
    "            t.request_routing()\n",
    "            t.update_acc()\n",
    "        if sys.sys_time+sys.refresh_time - sys.last_train_init_time >= sys.headway:\n",
    "            if not sys.signal_points[0].curr_train_with_route.keys():\n",
    "                if all([t.curr_routing_path_segment != ((None,None),(sys.signal_points[10],1)) for t in sys.trains]):\n",
    "                    if not sys.signal_points[10].track_by_port[0].train:\n",
    "                        t = sys.generate_train(sys.signal_points[10], 1, sys.signal_points[0], 0, length=1, init_time=sys.last_train_init_time+sys.headway)\n",
    "        sys.sys_time+=sys.refresh_time\n",
    "sim()"
   ]
  },
  {
   "cell_type": "code",
   "execution_count": 6,
   "metadata": {
    "scrolled": true
   },
   "outputs": [
    {
     "name": "stderr",
     "output_type": "stream",
     "text": [
      "No handles with labels found to put in legend.\n"
     ]
    },
    {
     "data": {
      "image/png": "[encoded data removed]",
      "text/plain": [
       "<Figure size 1200x800 with 1 Axes>"
      ]
     },
     "metadata": {
      "needs_background": "light"
     },
     "output_type": "display_data"
    }
   ],
   "source": [
    "string_diagram(sys)"
   ]
  },
  {
   "cell_type": "code",
   "execution_count": 26,
   "metadata": {
    "scrolled": true
   },
   "outputs": [
    {
     "data": {
      "text/plain": [
       "[(ControlPoint3, ControlPoint4, 0), (ControlPoint4, ControlPoint3, 1)]"
      ]
     },
     "execution_count": 26,
     "metadata": {},
     "output_type": "execute_result"
    }
   ],
   "source": [
    "nx.find_cycle(sys.G_origin)"
   ]
  },
  {
   "cell_type": "code",
   "execution_count": 24,
   "metadata": {
    "scrolled": true
   },
   "outputs": [],
   "source": [
    "F = sys.G_origin.copy()"
   ]
  },
  {
   "cell_type": "code",
   "execution_count": 34,
   "metadata": {},
   "outputs": [
    {
     "name": "stdout",
     "output_type": "stream",
     "text": [
      "[[(1, 2, 0), (2, 3, 0), (3, 4, 0), (4, 1, 0)], [(1, 4, 1), (4, 5, 0), (5, 1, 0)], [(7, 6, 0), (6, 7, 1)], [(11, 10, 0), (10, 9, 0), (9, 8, 0), (8, 12, 0), (12, 11, 0)], [(14, 13, 0), (13, 14, 1)]]\n"
     ]
    }
   ],
   "source": [
    "F = nx.MultiGraph([(0, 1, 0), (1, 2, 0), (2, 3, 0), (3, 4, 0),\n",
    "                   (1, 4, 0), (1, 4, 1),\n",
    "                   (1, 5, 0), (5, 4, 0),\n",
    "                   (4, 6, 0), \n",
    "                   (6, 7, 0), (6, 7, 1), (6, 7, 2),\n",
    "                   (7, 8, 0),\n",
    "                   (8, 9, 0), (9,10, 0), (10,11,0),\n",
    "                   (8,12, 0), (12,11,0),\n",
    "                   (8,13, 0), (13,14,0), (14,11,0),\n",
    "                   (13,14,1),\n",
    "                   (11,15,0)])\n",
    "siding_cycles = []\n",
    "while True:\n",
    "    try:\n",
    "        cycle = nx.find_cycle(F)\n",
    "        siding_cycles.append(cycle)\n",
    "        for (n1,n2,key) in cycle:\n",
    "            F.remove_edge(n1,n2,key)\n",
    "    except:\n",
    "        break\n",
    "print(siding_cycles)"
   ]
  },
  {
   "cell_type": "code",
   "execution_count": 60,
   "metadata": {},
   "outputs": [],
   "source": [
    "sim_init_time = datetime.strptime('2018-01-10 10:00:00', \"%Y-%m-%d %H:%M:%S\")\n",
    "sim_term_time = datetime.strptime('2018-01-10 15:30:00', \"%Y-%m-%d %H:%M:%S\")\n",
    "sp_container = [random.uniform(0.01, 0.02) for i in range(20)]\n",
    "acc_container = [0.5*random.uniform(2.78e-05*0.85, 2.78e-05*1.15) for i in range(20)]\n",
    "dcc_container = [0.2*random.uniform(2.78e-05*0.85, 2.78e-05*1.15) for i in range(20)]\n",
    "headway = 300 + random.random() * 400\n",
    "sys = System(sim_init_time, sp_container, acc_container, dcc_container,\n",
    "             term_time=sim_term_time,\n",
    "             dos_period=['2018-01-10 11:30:00', '2018-01-10 12:30:00'],  \n",
    "             dos_pos=(15,20),\n",
    "             headway=headway, \n",
    "             refresh_time=50)\n",
    "K165 = Train(sys, sys.sys_time, ((sys.signal_points[0],1),(sys.signal_points[1],0)),\n",
    "             max_sp=sys.sp_container[sys.train_num % len(sys.sp_container)],\n",
    "             max_acc=sys.acc_container[sys.train_num % len(sys.acc_container)],\n",
    "             max_dcc=sys.dcc_container[sys.train_num % len(sys.dcc_container)],\n",
    "             length=1)\n",
    "T165 = Train(sys, sys.sys_time, ((None,None),(sys.signal_points[0],0)),\n",
    "             max_sp=K165.max_speed*1.2,\n",
    "             max_acc=sys.acc_container[sys.train_num % len(sys.acc_container)],\n",
    "             max_dcc=sys.dcc_container[sys.train_num % len(sys.dcc_container)],\n",
    "             length=1)\n",
    "K166 = Train(sys, sys.sys_time, ((sys.signal_points[10],0),(sys.signal_points[9],1)),\n",
    "             max_sp=sys.sp_container[sys.train_num % len(sys.sp_container)],\n",
    "             max_acc=sys.acc_container[sys.train_num % len(sys.acc_container)],\n",
    "             max_dcc=sys.dcc_container[sys.train_num % len(sys.dcc_container)],\n",
    "             length=1)\n",
    "T166 = Train(sys, sys.sys_time, ((None,None),(sys.signal_points[10],1)),\n",
    "             max_sp=K166.max_speed*1.2,\n",
    "             max_acc=sys.acc_container[sys.train_num % len(sys.acc_container)],\n",
    "             max_dcc=sys.dcc_container[sys.train_num % len(sys.dcc_container)],\n",
    "             length=1)"
   ]
  },
  {
   "cell_type": "code",
   "execution_count": 61,
   "metadata": {
    "scrolled": false
   },
   "outputs": [
    {
     "data": {
      "text/plain": [
       "[train index 0, current occupation: [((ControlPoint0, 1), (AutoPoint1, 0))], head MP:  5.00, rear MP  4.00,\n",
       " train index 1, current occupation: [((None, None), (ControlPoint0, 0))], head MP:  0.00, rear MP -1.00,\n",
       " train index 2, current occupation: [((ControlPoint10, 0), (AutoPoint9, 1))], head MP: 45.00, rear MP 46.00,\n",
       " train index 3, current occupation: [((None, None), (ControlPoint10, 1))], head MP: 50.00, rear MP 51.00]"
      ]
     },
     "execution_count": 61,
     "metadata": {},
     "output_type": "execute_result"
    }
   ],
   "source": [
    "list(sys.trains)"
   ]
  },
  {
   "cell_type": "code",
   "execution_count": 66,
   "metadata": {},
   "outputs": [
    {
     "name": "stdout",
     "output_type": "stream",
     "text": [
      "\troute (1, 0) of ControlPoint7 is closed\n",
      "train idx: 1, MP:  5.45 requested (0, 3) at CP: 15.0\n",
      "\troute (0, 3) of ControlPoint3 is opened\n",
      "train idx: 3, MP: 43.88 requested (1, 2) at CP: 35.0\n",
      "\troute (1, 2) of ControlPoint7 is opened\n",
      "\troute (1, 2) of ControlPoint7 is closed\n",
      "\troute (0, 3) of ControlPoint3 is closed\n",
      "train idx: 3, MP: 34.78 requested (3, 0) at CP: 30.0\n",
      "\troute (3, 0) of ControlPoint6 is opened\n",
      "train idx: 1, MP: 15.20 requested (2, 1) at CP: 20.0\n",
      "\troute (2, 1) of ControlPoint4 is opened\n",
      "\troute (2, 1) of ControlPoint4 is closed\n",
      "train idx: 0, MP: 20.00 requested (0, 1) at CP: 20.0\n",
      "\troute (0, 1) of ControlPoint4 is opened\n",
      "\troute (0, 1) of ControlPoint4 is closed\n"
     ]
    }
   ],
   "source": [
    "while sys.sys_time - sys.init_time <= sys.term_time - sys.init_time:\n",
    "    _semaphore_to_return = False\n",
    "    for t in sys.trains:\n",
    "        t.request_routing()\n",
    "        t.update_acc()\n",
    "    sys.sys_time+=sys.refresh_time\n",
    "    if K165.curr_MP > 20:\n",
    "        break"
   ]
  },
  {
   "cell_type": "code",
   "execution_count": 73,
   "metadata": {},
   "outputs": [
    {
     "data": {
      "text/plain": [
       "[train index 0, current occupation: [((ControlPoint4, 1), (AutoPoint5, 0)), ((ControlPoint3, 1), (ControlPoint4, 0))], head MP: 20.06, rear MP 19.06,\n",
       " train index 1, current occupation: [((AutoPoint5, 1), (ControlPoint6, 0))], head MP: 26.32, rear MP 25.32,\n",
       " train index 2, current occupation: [((ControlPoint7, 0), (ControlPoint6, 1))], head MP: 30.04, rear MP 31.04,\n",
       " train index 3, current occupation: [((ControlPoint7, 2), (ControlPoint6, 3))], head MP: 30.05, rear MP 31.05]"
      ]
     },
     "execution_count": 73,
     "metadata": {},
     "output_type": "execute_result"
    }
   ],
   "source": [
    "sys.trains.all_trains"
   ]
  },
  {
   "cell_type": "code",
   "execution_count": 68,
   "metadata": {
    "scrolled": true
   },
   "outputs": [
    {
     "name": "stderr",
     "output_type": "stream",
     "text": [
      "No handles with labels found to put in legend.\n"
     ]
    },
    {
     "data": {
      "image/png": "[encoded data removed]",
      "text/plain": [
       "<Figure size 1200x800 with 1 Axes>"
      ]
     },
     "metadata": {
      "needs_background": "light"
     },
     "output_type": "display_data"
    }
   ],
   "source": [
    "string_diagram(sys)"
   ]
  },
  {
   "cell_type": "code",
   "execution_count": 28,
   "metadata": {
    "scrolled": false
   },
   "outputs": [
    {
     "data": {
      "text/plain": [
       "[train index 0, current occupation: [((AutoPoint9, 0), (AutoPoint8, 1))], head MP: 40.00, rear MP 41.00,\n",
       " train index 1, current occupation: [((ControlPoint6, 0), (AutoPoint5, 1))], head MP: 25.00, rear MP 26.00]"
      ]
     },
     "execution_count": 28,
     "metadata": {},
     "output_type": "execute_result"
    }
   ],
   "source": [
    "sys.get_trains_between_points(to_point=sys.signal_points[10], sys.signal_points[3], obv=True)"
   ]
  },
  {
   "cell_type": "code",
   "execution_count": 10,
   "metadata": {},
   "outputs": [
    {
     "name": "stdout",
     "output_type": "stream",
     "text": [
      "train index 0, current occupation: [((ControlPoint4, 0), (ControlPoint3, 1))], head MP: 16.98, rear MP 17.98\n",
      "train index 1, current occupation: [((ControlPoint4, 2), (ControlPoint3, 3))], head MP: 15.00, rear MP 16.00\n",
      "train index 2, current occupation: [((AutoPoint2, 1), (ControlPoint3, 0))], head MP: 15.00, rear MP 14.00\n",
      "train index 3, current occupation: [((ControlPoint10, 1), (None, None)), ((AutoPoint9, 1), (ControlPoint10, 0))], head MP: 50.07, rear MP 49.07\n"
     ]
    }
   ],
   "source": [
    "print(K166)\n",
    "print(T166)\n",
    "print(K165)\n",
    "print(T165)"
   ]
  },
  {
   "cell_type": "code",
   "execution_count": 27,
   "metadata": {},
   "outputs": [
    {
     "data": {
      "text/plain": [
       "1"
      ]
     },
     "execution_count": 27,
     "metadata": {},
     "output_type": "execute_result"
    }
   ],
   "source": [
    "sys.num_parallel_tracks(init_point, dest_point=sys.signal_points[0])"
   ]
  },
  {
   "cell_type": "code",
   "execution_count": 12,
   "metadata": {},
   "outputs": [
    {
     "data": {
      "text/plain": [
       "[]"
      ]
     },
     "execution_count": 12,
     "metadata": {},
     "output_type": "execute_result"
    }
   ],
   "source": [
    "T165.curr_control_point.available_ports_by_port[1]"
   ]
  },
  {
   "cell_type": "code",
   "execution_count": 14,
   "metadata": {},
   "outputs": [
    {
     "data": {
      "text/plain": [
       "True"
      ]
     },
     "execution_count": 14,
     "metadata": {},
     "output_type": "execute_result"
    }
   ],
   "source": [
    "K165.stopped"
   ]
  },
  {
   "cell_type": "code",
   "execution_count": 13,
   "metadata": {},
   "outputs": [
    {
     "data": {
      "text/plain": [
       "defaultdict(list, {0: [1], 2: [1], 1: [2]})"
      ]
     },
     "execution_count": 13,
     "metadata": {},
     "output_type": "execute_result"
    }
   ],
   "source": [
    "sys.signal_points[7].available_ports_by_port"
   ]
  },
  {
   "cell_type": "code",
   "execution_count": 4,
   "metadata": {},
   "outputs": [
    {
     "name": "stdout",
     "output_type": "stream",
     "text": [
      "T166: stopped: True, \tcurr_MP:  0.00, \tcurr_spd: 0.00, \ttgt_spd: 0.00,\tnum_blk_ahead: 0, \taspect: Aspect: r, \t route None, target speed 0.0 mph,\n"
     ]
    },
    {
     "ename": "NameError",
     "evalue": "name 'K166' is not defined",
     "output_type": "error",
     "traceback": [
      "\u001b[1;31m---------------------------------------------------------------------------\u001b[0m",
      "\u001b[1;31mNameError\u001b[0m                                 Traceback (most recent call last)",
      "\u001b[1;32m<ipython-input-4-bca9eff63663>\u001b[0m in \u001b[0;36m<module>\u001b[1;34m\u001b[0m\n\u001b[0;32m      5\u001b[0m                                                                \u001b[0mT166\u001b[0m\u001b[1;33m.\u001b[0m\u001b[0mcurr_sig\u001b[0m\u001b[1;33m.\u001b[0m\u001b[0mnumber_of_blocks_cleared_ahead\u001b[0m\u001b[1;33m,\u001b[0m\u001b[0;31m \u001b[0m\u001b[0;31m\\\u001b[0m\u001b[1;33m\u001b[0m\u001b[1;33m\u001b[0m\u001b[0m\n\u001b[0;32m      6\u001b[0m                                                                T166.curr_sig.aspect))\n\u001b[1;32m----> 7\u001b[1;33m print('K166: stopped: {}, \\tcurr_MP: {}, \\tcurr_spd: {}, \\ttgt_spd: {},\\tnum_blk_ahead: {}, \\taspect: {},'.format(K166.stopped,\\\n\u001b[0m\u001b[0;32m      8\u001b[0m                                                                 \u001b[0mstr\u001b[0m\u001b[1;33m(\u001b[0m\u001b[1;34m\"%.2f\"\u001b[0m \u001b[1;33m%\u001b[0m \u001b[0mround\u001b[0m\u001b[1;33m(\u001b[0m\u001b[0mK166\u001b[0m\u001b[1;33m.\u001b[0m\u001b[0mcurr_MP\u001b[0m\u001b[1;33m,\u001b[0m\u001b[1;36m2\u001b[0m\u001b[1;33m)\u001b[0m\u001b[1;33m)\u001b[0m\u001b[1;33m.\u001b[0m\u001b[0mrjust\u001b[0m\u001b[1;33m(\u001b[0m\u001b[1;36m5\u001b[0m\u001b[1;33m,\u001b[0m\u001b[1;34m' '\u001b[0m\u001b[1;33m)\u001b[0m\u001b[1;33m,\u001b[0m\u001b[0;31m \u001b[0m\u001b[0;31m\\\u001b[0m\u001b[1;33m\u001b[0m\u001b[1;33m\u001b[0m\u001b[0m\n\u001b[0;32m      9\u001b[0m                                                                \u001b[1;34m\"%.2f\"\u001b[0m \u001b[1;33m%\u001b[0m \u001b[0mround\u001b[0m\u001b[1;33m(\u001b[0m\u001b[0mK166\u001b[0m\u001b[1;33m.\u001b[0m\u001b[0mcurr_speed\u001b[0m\u001b[1;33m*\u001b[0m\u001b[1;36m3600\u001b[0m\u001b[1;33m,\u001b[0m\u001b[1;36m2\u001b[0m\u001b[1;33m)\u001b[0m\u001b[1;33m,\u001b[0m\u001b[0;31m \u001b[0m\u001b[0;31m\\\u001b[0m\u001b[1;33m\u001b[0m\u001b[1;33m\u001b[0m\u001b[0m\n",
      "\u001b[1;31mNameError\u001b[0m: name 'K166' is not defined"
     ]
    }
   ],
   "source": [
    "print('T166: stopped: {}, \\tcurr_MP: {}, \\tcurr_spd: {}, \\ttgt_spd: {},\\tnum_blk_ahead: {}, \\taspect: {},'.format(T166.stopped,\\\n",
    "                                                                str(\"%.2f\" % round(T166.curr_MP,2)).rjust(5,' '), \\\n",
    "                                                               \"%.2f\" % round(T166.curr_speed*3600,2), \\\n",
    "                                                               \"%.2f\" % round(T166.curr_target_spd_abs*3600,2), \\\n",
    "                                                               T166.curr_sig.number_of_blocks_cleared_ahead, \\\n",
    "                                                               T166.curr_sig.aspect))\n",
    "print('K166: stopped: {}, \\tcurr_MP: {}, \\tcurr_spd: {}, \\ttgt_spd: {},\\tnum_blk_ahead: {}, \\taspect: {},'.format(K166.stopped,\\\n",
    "                                                                str(\"%.2f\" % round(K166.curr_MP,2)).rjust(5,' '), \\\n",
    "                                                               \"%.2f\" % round(K166.curr_speed*3600,2), \\\n",
    "                                                               \"%.2f\" % round(K166.curr_target_spd_abs*3600,2), \\\n",
    "                                                               K166.curr_sig.number_of_blocks_cleared_ahead, \\\n",
    "                                                               K166.curr_sig.aspect))"
   ]
  },
  {
   "cell_type": "code",
   "execution_count": 11,
   "metadata": {},
   "outputs": [
    {
     "name": "stdout",
     "output_type": "stream",
     "text": [
      "((ControlPoint0, 1), (AutoPoint1, 0)) []\n",
      "((AutoPoint1, 1), (AutoPoint2, 0)) []\n",
      "((AutoPoint2, 1), (ControlPoint3, 0)) [train index 1, current occupying sections: [((AutoPoint2, 1), (ControlPoint3, 0))], head MP: 15.00, rear MP 14.00]\n",
      "None []\n",
      "None []\n",
      "None []\n",
      "None []\n",
      "None []\n",
      "None []\n",
      "None []\n",
      "None []\n",
      "None []\n",
      "\n",
      "\n",
      "((ControlPoint0, 1), (ControlPoint3, 0))\n",
      "None\n",
      "None\n",
      "None\n",
      "None\n",
      "None\n",
      "None\n"
     ]
    }
   ],
   "source": [
    "for t in sys.tracks:\n",
    "    print(t.routing,t.train)\n",
    "print('\\n')\n",
    "for b in sys.bigblocks:\n",
    "    print(b.routing)"
   ]
  },
  {
   "cell_type": "code",
   "execution_count": 69,
   "metadata": {},
   "outputs": [
    {
     "data": {
      "text/plain": [
       "[]"
      ]
     },
     "execution_count": 69,
     "metadata": {},
     "output_type": "execute_result"
    }
   ],
   "source": [
    "sys.G_origin[sys.signal_points[0]][sys.signal_points[1]][0]['instance'].train"
   ]
  },
  {
   "cell_type": "code",
   "execution_count": 23,
   "metadata": {},
   "outputs": [
    {
     "data": {
      "text/plain": [
       "'1'"
      ]
     },
     "execution_count": 23,
     "metadata": {},
     "output_type": "execute_result"
    }
   ],
   "source": [
    "repr(1)"
   ]
  },
  {
   "cell_type": "code",
   "execution_count": 5,
   "metadata": {},
   "outputs": [],
   "source": [
    "from infrastructure import Track, BigBlock\n",
    "from system import System\n",
    "from train import Train\n",
    "import matplotlib.pyplot as plt\n",
    "import matplotlib.dates as mdates\n",
    "from datetime import datetime, timedelta\n",
    "import numpy as np\n",
    "\n",
    "\n",
    "def string_diagram(sys):\n",
    "    '''To draw the string diagram based on the schedule dictionary for all the trains. \n",
    "    '''\n",
    "    plt.rcParams['figure.dpi'] = 200\n",
    "    plt.ion()\n",
    "    start_time, end_time = sys.init_time, sys.term_time\n",
    "    colors = ['red','green','blue','black','orange','cyan','magenta']\n",
    "    color_num = len(colors)\n",
    "    t_color = [colors[i%color_num] for i in range(len(sys.trains))]\n",
    "    x, y = [], []\n",
    "    plt.clf()\n",
    "    for i in range(len(sys.trains)):\n",
    "        x.append([mdates.date2num(datetime.fromtimestamp(j)) for (j,_) in sys.trains[i].time_pos_list])\n",
    "        y.append([j for (_,j) in sys.trains[i].time_pos_list])\n",
    "        plt.plot([mdates.date2num(datetime.fromtimestamp(j)) for (j,_) in sys.trains[i].time_pos_list], \\\n",
    "                 [j for (_,j) in sys.trains[i].time_pos_list], color=t_color[i])\n",
    "\n",
    "    train_idx = list(range(len(sys.trains)))\n",
    "    min_t, max_t = min([i[0] for i in x if i]), max([i[-1] for i in x if i])\n",
    "\n",
    "    \n",
    "    plt.title('String Diagram')\n",
    "    hours = mdates.HourLocator()\n",
    "    minutes = mdates.MinuteLocator()\n",
    "    seconds = mdates.SecondLocator()\n",
    "    dateFmt = mdates.DateFormatter(\"%H:%M\")\n",
    "    plt.gca().xaxis.set_major_locator(hours)\n",
    "    plt.gca().xaxis.set_minor_locator(minutes)\n",
    "    plt.gca().xaxis.set_major_formatter(dateFmt)\n",
    "    plt.xticks(rotation=90)\n",
    "    plt.grid(True, linestyle = \"-.\", color = \"r\", linewidth = \"0.1\")\n",
    "    plt.legend()\n",
    "    plt.xlabel('Time')\n",
    "    plt.ylabel('Mile Post/miles')\n",
    "    plt.axis([(datetime.fromtimestamp(start_time - 500)), \\\n",
    "            (datetime.fromtimestamp(end_time + 500)), -5 , 55])\n",
    "# #     ===============================================================================\n",
    "#     time_length = end_time - start_time\n",
    "#     step_size = 10\n",
    "#     for start in range(1,time_length + 1, step_size):\n",
    "#         plt.axis([(datetime.fromtimestamp(start_time - 500)), \\\n",
    "#             (datetime.fromtimestamp(end_time + 500)), -5 , 55])\n",
    "         \n",
    "#         for n in range(len(x)-1):\n",
    "#             new_x_y = [[mdates.date2num(datetime.fromtimestamp(i)), j] for i, j in zip(x[n], y[n]) if i < start_time + start and i > start_time + start - 1 - step_size]\n",
    "#             new_x = []\n",
    "#             new_y = []\n",
    "#             for i , j in new_x_y:\n",
    "#                 new_x.append(i)\n",
    "#                 new_y.append(j)\n",
    "#             if(len(new_x) == 0):\n",
    "#                 continue\n",
    "#             plt.plot(new_x, new_y, color=t_color[n])\n",
    "#             # print('==============')\n",
    "#             # print('Length of new_x: {}'.format(len(new_x)))\n",
    "#             # print('Length of new_y: {}'.format(len(new_y)))\n",
    "#         plt.pause(0.00001)\n",
    "# #     ===============================================================================\n",
    "    plt.gca().axhspan(15,20,color='yellow',alpha=0.5)\n",
    "    plt.gca().axhspan(30,35,color='yellow',alpha=0.5)\n",
    "    plt.gca().axvspan((datetime.fromtimestamp(start_time + 90 * 60)),(datetime.fromtimestamp(start_time + 150 * 60)),color='black',alpha=0.5)\n",
    "    plt.pause(1)\n",
    "    plt.ioff()\n",
    "    plt.show()\n",
    "\n",
    "def speed_curve(sys, train):\n",
    "    '''To draw the speed curve based on a train's mileposts and speed . \n",
    "    '''\n",
    "    colors = ['red','green','purple']\n",
    "    mp, spd, spdlmt, tgt_spd = [], [], [], []\n",
    "    for i in range(len(train.pos_spd_list)):\n",
    "        mp.append(train.pos_spd_list[i][0])\n",
    "        spd.append(abs(train.pos_spd_list[i][1]*3600))\n",
    "        spdlmt.append(train.pos_spd_list[i][2]*3600)\n",
    "        tgt_spd.append(train.pos_spd_list[i][3]*3600)\n",
    "\n",
    "    min_mp, max_mp = min(mp), max(mp)\n",
    "    \n",
    "    plt.ion()\n",
    "    plt.title('Speed Curve')\n",
    "    plt.xticks(rotation=90)\n",
    "    plt.grid(True, linestyle = \"-.\", color = \"r\", linewidth = \"0.1\")\n",
    "    plt.legend()\n",
    "    plt.xlabel('Mile Post/miles')\n",
    "    plt.ylabel('MPH')\n",
    "    plt.plot(mp, spd, color=colors[1])  # train speed\n",
    "    plt.plot(mp, spdlmt, color=colors[0])  # train speed lmt\n",
    "    plt.plot(mp, tgt_spd, '--', color=colors[2])  # train tgt speed\n",
    "    \n",
    "    plt.figure(figsize=(18, 16), dpi= 80, facecolor='w', edgecolor='k')\n",
    "    plt.rcParams['figure.dpi'] = 200\n",
    "    import pylab; pylab.rcParams['figure.figsize'] = (15.0, 8.0)\n",
    "    plt.pause(0.01)\n",
    "    #plt.ioff()\n"
   ]
  },
  {
   "cell_type": "code",
   "execution_count": 13,
   "metadata": {},
   "outputs": [
    {
     "name": "stdout",
     "output_type": "stream",
     "text": [
      "train index 0, current occupation: [((None, None), (ControlPoint10, 1))], head MP: 50.00, rear MP 51.00\n",
      "train index 1, current occupation: [((ControlPoint10, 0), (AutoPoint9, 1))], head MP: 46.90, rear MP 47.90\n",
      "train index 2, current occupation: [((None, None), (ControlPoint0, 0))], head MP:  0.00, rear MP -1.00\n",
      "train index 3, current occupation: [((ControlPoint0, 1), (AutoPoint1, 0))], head MP:  2.94, rear MP  1.94\n"
     ]
    }
   ],
   "source": [
    "print(K166)\n",
    "print(T166)\n",
    "print(K165)\n",
    "print(T165)"
   ]
  },
  {
   "cell_type": "code",
   "execution_count": 50,
   "metadata": {},
   "outputs": [
    {
     "ename": "TypeError",
     "evalue": "'<' not supported between instances of 'TestTrain' and 'TestTrain'",
     "output_type": "error",
     "traceback": [
      "\u001b[0;31m---------------------------------------------------------------------------\u001b[0m",
      "\u001b[0;31mTypeError\u001b[0m                                 Traceback (most recent call last)",
      "\u001b[0;32m<ipython-input-50-8056d2e3e6e9>\u001b[0m in \u001b[0;36m<module>\u001b[0;34m\u001b[0m\n\u001b[0;32m----> 1\u001b[0;31m \u001b[0mstring_diagram\u001b[0m\u001b[0;34m(\u001b[0m\u001b[0msys\u001b[0m\u001b[0;34m)\u001b[0m\u001b[0;34m\u001b[0m\u001b[0;34m\u001b[0m\u001b[0m\n\u001b[0m",
      "\u001b[0;32m<ipython-input-8-8362a3d87e78>\u001b[0m in \u001b[0;36mstring_diagram\u001b[0;34m(sys)\u001b[0m\n\u001b[1;32m     18\u001b[0m     \u001b[0mcolors\u001b[0m \u001b[0;34m=\u001b[0m \u001b[0;34m[\u001b[0m\u001b[0;34m'red'\u001b[0m\u001b[0;34m,\u001b[0m\u001b[0;34m'green'\u001b[0m\u001b[0;34m,\u001b[0m\u001b[0;34m'blue'\u001b[0m\u001b[0;34m,\u001b[0m\u001b[0;34m'black'\u001b[0m\u001b[0;34m,\u001b[0m\u001b[0;34m'orange'\u001b[0m\u001b[0;34m,\u001b[0m\u001b[0;34m'cyan'\u001b[0m\u001b[0;34m,\u001b[0m\u001b[0;34m'magenta'\u001b[0m\u001b[0;34m]\u001b[0m\u001b[0;34m\u001b[0m\u001b[0;34m\u001b[0m\u001b[0m\n\u001b[1;32m     19\u001b[0m     \u001b[0mcolor_num\u001b[0m \u001b[0;34m=\u001b[0m \u001b[0mlen\u001b[0m\u001b[0;34m(\u001b[0m\u001b[0mcolors\u001b[0m\u001b[0;34m)\u001b[0m\u001b[0;34m\u001b[0m\u001b[0;34m\u001b[0m\u001b[0m\n\u001b[0;32m---> 20\u001b[0;31m     \u001b[0mt_color\u001b[0m \u001b[0;34m=\u001b[0m \u001b[0;34m[\u001b[0m\u001b[0mcolors\u001b[0m\u001b[0;34m[\u001b[0m\u001b[0mi\u001b[0m\u001b[0;34m%\u001b[0m\u001b[0mcolor_num\u001b[0m\u001b[0;34m]\u001b[0m \u001b[0;32mfor\u001b[0m \u001b[0mi\u001b[0m \u001b[0;32min\u001b[0m \u001b[0mrange\u001b[0m\u001b[0;34m(\u001b[0m\u001b[0mlen\u001b[0m\u001b[0;34m(\u001b[0m\u001b[0msys\u001b[0m\u001b[0;34m.\u001b[0m\u001b[0mtrains\u001b[0m\u001b[0;34m)\u001b[0m\u001b[0;34m)\u001b[0m\u001b[0;34m]\u001b[0m\u001b[0;34m\u001b[0m\u001b[0;34m\u001b[0m\u001b[0m\n\u001b[0m\u001b[1;32m     21\u001b[0m     \u001b[0mx\u001b[0m\u001b[0;34m,\u001b[0m \u001b[0my\u001b[0m \u001b[0;34m=\u001b[0m \u001b[0;34m[\u001b[0m\u001b[0;34m]\u001b[0m\u001b[0;34m,\u001b[0m \u001b[0;34m[\u001b[0m\u001b[0;34m]\u001b[0m\u001b[0;34m\u001b[0m\u001b[0;34m\u001b[0m\u001b[0m\n\u001b[1;32m     22\u001b[0m     \u001b[0mplt\u001b[0m\u001b[0;34m.\u001b[0m\u001b[0mclf\u001b[0m\u001b[0;34m(\u001b[0m\u001b[0;34m)\u001b[0m\u001b[0;34m\u001b[0m\u001b[0;34m\u001b[0m\u001b[0m\n",
      "\u001b[0;32m~/Documents/GitHub/Rutgers_Railway_security_research/OOD_Train/train.py\u001b[0m in \u001b[0;36m__len__\u001b[0;34m(self)\u001b[0m\n\u001b[1;32m     53\u001b[0m     \u001b[0;32mdef\u001b[0m \u001b[0m__len__\u001b[0m\u001b[0;34m(\u001b[0m\u001b[0mself\u001b[0m\u001b[0;34m)\u001b[0m\u001b[0;34m:\u001b[0m\u001b[0;34m\u001b[0m\u001b[0;34m\u001b[0m\u001b[0m\n\u001b[1;32m     54\u001b[0m         \u001b[0;34m\"\"\"List length\"\"\"\u001b[0m\u001b[0;34m\u001b[0m\u001b[0;34m\u001b[0m\u001b[0m\n\u001b[0;32m---> 55\u001b[0;31m         \u001b[0;32mreturn\u001b[0m \u001b[0mlen\u001b[0m\u001b[0;34m(\u001b[0m\u001b[0mself\u001b[0m\u001b[0;34m.\u001b[0m\u001b[0mall_trains\u001b[0m\u001b[0;34m)\u001b[0m\u001b[0;34m\u001b[0m\u001b[0;34m\u001b[0m\u001b[0m\n\u001b[0m\u001b[1;32m     56\u001b[0m \u001b[0;34m\u001b[0m\u001b[0m\n\u001b[1;32m     57\u001b[0m     \u001b[0;32mdef\u001b[0m \u001b[0m__getitem__\u001b[0m\u001b[0;34m(\u001b[0m\u001b[0mself\u001b[0m\u001b[0;34m,\u001b[0m \u001b[0mii\u001b[0m\u001b[0;34m)\u001b[0m\u001b[0;34m:\u001b[0m\u001b[0;34m\u001b[0m\u001b[0;34m\u001b[0m\u001b[0m\n",
      "\u001b[0;32m~/Documents/GitHub/Rutgers_Railway_security_research/OOD_Train/train.py\u001b[0m in \u001b[0;36mall_trains\u001b[0;34m(self)\u001b[0m\n\u001b[1;32m     35\u001b[0m     \u001b[0;34m@\u001b[0m\u001b[0mproperty\u001b[0m\u001b[0;34m\u001b[0m\u001b[0;34m\u001b[0m\u001b[0m\n\u001b[1;32m     36\u001b[0m     \u001b[0;32mdef\u001b[0m \u001b[0mall_trains\u001b[0m\u001b[0;34m(\u001b[0m\u001b[0mself\u001b[0m\u001b[0;34m)\u001b[0m\u001b[0;34m:\u001b[0m\u001b[0;34m\u001b[0m\u001b[0;34m\u001b[0m\u001b[0m\n\u001b[0;32m---> 37\u001b[0;31m         \u001b[0m_all_trains\u001b[0m \u001b[0;34m=\u001b[0m \u001b[0mself\u001b[0m\u001b[0;34m.\u001b[0m\u001b[0muptrains\u001b[0m \u001b[0;34m+\u001b[0m \u001b[0mself\u001b[0m\u001b[0;34m.\u001b[0m\u001b[0mdowntrains\u001b[0m\u001b[0;34m\u001b[0m\u001b[0;34m\u001b[0m\u001b[0m\n\u001b[0m\u001b[1;32m     38\u001b[0m         \u001b[0m_all_idx\u001b[0m \u001b[0;34m=\u001b[0m \u001b[0;34m[\u001b[0m\u001b[0mt\u001b[0m\u001b[0;34m.\u001b[0m\u001b[0mtrain_idx\u001b[0m \u001b[0;32mfor\u001b[0m \u001b[0mt\u001b[0m \u001b[0;32min\u001b[0m \u001b[0m_all_trains\u001b[0m\u001b[0;34m]\u001b[0m\u001b[0;34m\u001b[0m\u001b[0;34m\u001b[0m\u001b[0m\n\u001b[1;32m     39\u001b[0m         \u001b[0;32mreturn\u001b[0m \u001b[0;34m[\u001b[0m\u001b[0mt\u001b[0m \u001b[0;32mfor\u001b[0m \u001b[0m_\u001b[0m\u001b[0;34m,\u001b[0m\u001b[0mt\u001b[0m \u001b[0;32min\u001b[0m \u001b[0msorted\u001b[0m\u001b[0;34m(\u001b[0m\u001b[0mzip\u001b[0m\u001b[0;34m(\u001b[0m\u001b[0m_all_idx\u001b[0m\u001b[0;34m,\u001b[0m\u001b[0m_all_trains\u001b[0m\u001b[0;34m)\u001b[0m\u001b[0;34m)\u001b[0m\u001b[0;34m]\u001b[0m\u001b[0;34m\u001b[0m\u001b[0;34m\u001b[0m\u001b[0m\n",
      "\u001b[0;32m~/Documents/GitHub/Rutgers_Railway_security_research/OOD_Train/train.py\u001b[0m in \u001b[0;36muptrains\u001b[0;34m(self)\u001b[0m\n\u001b[1;32m     25\u001b[0m     \u001b[0;34m@\u001b[0m\u001b[0mproperty\u001b[0m\u001b[0;34m\u001b[0m\u001b[0;34m\u001b[0m\u001b[0m\n\u001b[1;32m     26\u001b[0m     \u001b[0;32mdef\u001b[0m \u001b[0muptrains\u001b[0m\u001b[0;34m(\u001b[0m\u001b[0mself\u001b[0m\u001b[0;34m)\u001b[0m\u001b[0;34m:\u001b[0m\u001b[0;34m\u001b[0m\u001b[0;34m\u001b[0m\u001b[0m\n\u001b[0;32m---> 27\u001b[0;31m         \u001b[0mself\u001b[0m\u001b[0;34m.\u001b[0m\u001b[0m_uptrains\u001b[0m\u001b[0;34m.\u001b[0m\u001b[0msort\u001b[0m\u001b[0;34m(\u001b[0m\u001b[0;34m)\u001b[0m\u001b[0;34m\u001b[0m\u001b[0;34m\u001b[0m\u001b[0m\n\u001b[0m\u001b[1;32m     28\u001b[0m         \u001b[0;32mreturn\u001b[0m \u001b[0mself\u001b[0m\u001b[0;34m.\u001b[0m\u001b[0m_uptrains\u001b[0m\u001b[0;34m\u001b[0m\u001b[0;34m\u001b[0m\u001b[0m\n\u001b[1;32m     29\u001b[0m \u001b[0;34m\u001b[0m\u001b[0m\n",
      "\u001b[0;31mTypeError\u001b[0m: '<' not supported between instances of 'TestTrain' and 'TestTrain'"
     ]
    }
   ],
   "source": [
    "string_diagram(sys)"
   ]
  },
  {
   "cell_type": "code",
   "execution_count": 18,
   "metadata": {},
   "outputs": [],
   "source": [
    "from datetime import datetime, timedelta\n",
    "import numpy as np\n",
    "import random\n",
    "from infrastructure import Yard, Track, BigBlock\n",
    "from signaling import AutoSignal, HomeSignal, AutoPoint, ControlPoint\n",
    "from system import System\n",
    "from train import TrainList, Train\n",
    "import networkx as nx\n",
    "\n",
    "import matplotlib.pyplot as plt\n",
    "import matplotlib.dates as mdates\n",
    "def string_diagram(sys):\n",
    "    '''To draw the string diagram based on the schedule dictionary for all the trains. \n",
    "    '''\n",
    "    plt.rcParams['figure.dpi'] = 200\n",
    "    plt.ion()\n",
    "    start_time, end_time = sys.init_time, sys.term_time\n",
    "    colors = ['red','green','blue','black','orange','cyan','magenta']\n",
    "    color_num = len(colors)\n",
    "    t_color = [colors[i%color_num] for i in range(len(sys.trains))]\n",
    "    x, y = [], []\n",
    "    plt.clf()\n",
    "    for i in range(len(sys.trains)):\n",
    "        x.append([mdates.date2num(datetime.fromtimestamp(j)) for (j,_) in sys.trains[i].time_pos_list])\n",
    "        y.append([j for (_,j) in sys.trains[i].time_pos_list])\n",
    "        plt.plot([mdates.date2num(datetime.fromtimestamp(j)) for (j,_) in sys.trains[i].time_pos_list], \\\n",
    "                 [j for (_,j) in sys.trains[i].time_pos_list], color=t_color[i])\n",
    "\n",
    "    train_idx = list(range(len(sys.trains)))\n",
    "    min_t, max_t = min([i[0] for i in x if i]), max([i[-1] for i in x if i])\n",
    "\n",
    "    \n",
    "    plt.title('String Diagram')\n",
    "    hours = mdates.HourLocator()\n",
    "    minutes = mdates.MinuteLocator()\n",
    "    seconds = mdates.SecondLocator()\n",
    "    dateFmt = mdates.DateFormatter(\"%H:%M\")\n",
    "    plt.gca().xaxis.set_major_locator(hours)\n",
    "    plt.gca().xaxis.set_minor_locator(minutes)\n",
    "    plt.gca().xaxis.set_major_formatter(dateFmt)\n",
    "    plt.xticks(rotation=90)\n",
    "    plt.grid(True, linestyle = \"-.\", color = \"r\", linewidth = \"0.1\")\n",
    "    plt.legend()\n",
    "    plt.xlabel('Time')\n",
    "    plt.ylabel('Mile Post/miles')\n",
    "    plt.axis([(datetime.fromtimestamp(start_time - 500)), \\\n",
    "            (datetime.fromtimestamp(end_time + 500)), -5 , 55])\n",
    "# #     ===============================================================================\n",
    "#     time_length = end_time - start_time\n",
    "#     step_size = 10\n",
    "#     for start in range(1,time_length + 1, step_size):\n",
    "#         plt.axis([(datetime.fromtimestamp(start_time - 500)), \\\n",
    "#             (datetime.fromtimestamp(end_time + 500)), -5 , 55])\n",
    "         \n",
    "#         for n in range(len(x)-1):\n",
    "#             new_x_y = [[mdates.date2num(datetime.fromtimestamp(i)), j] for i, j in zip(x[n], y[n]) if i < start_time + start and i > start_time + start - 1 - step_size]\n",
    "#             new_x = []\n",
    "#             new_y = []\n",
    "#             for i , j in new_x_y:\n",
    "#                 new_x.append(i)\n",
    "#                 new_y.append(j)\n",
    "#             if(len(new_x) == 0):\n",
    "#                 continue\n",
    "#             plt.plot(new_x, new_y, color=t_color[n])\n",
    "#             # print('==============')\n",
    "#             # print('Length of new_x: {}'.format(len(new_x)))\n",
    "#             # print('Length of new_y: {}'.format(len(new_y)))\n",
    "#         plt.pause(0.00001)\n",
    "# #     ===============================================================================\n",
    "    plt.gca().axhspan(15,20,color='yellow',alpha=0.5)\n",
    "    plt.gca().axhspan(30,35,color='yellow',alpha=0.5)\n",
    "    plt.gca().axvspan((datetime.fromtimestamp(start_time + 90 * 60)),(datetime.fromtimestamp(start_time + 150 * 60)),color='black',alpha=0.5)\n",
    "    plt.pause(1)\n",
    "    plt.ioff()\n",
    "    plt.show()\n",
    "\n",
    "def speed_curve(sys, train, scatter=False):\n",
    "    '''To draw the speed curve based on a train's mileposts and speed . \n",
    "    '''\n",
    "    colors = ['red','green','purple']\n",
    "    mp, spd, spdlmt, tgt_spd = [], [], [], []\n",
    "    for i in range(len(train.pos_spd_list)):\n",
    "        mp.append(train.pos_spd_list[i][0])\n",
    "        spd.append(abs(train.pos_spd_list[i][1]*3600))\n",
    "        spdlmt.append(train.pos_spd_list[i][2]*3600)\n",
    "        tgt_spd.append(train.pos_spd_list[i][3]*3600)\n",
    "\n",
    "    min_mp, max_mp = min(mp), max(mp)\n",
    "    \n",
    "    plt.ion()\n",
    "    plt.title('Speed Curve')\n",
    "    plt.xticks(rotation=90)\n",
    "    plt.grid(True, linestyle = \"-.\", color = \"r\", linewidth = \"0.1\")\n",
    "    plt.legend()\n",
    "    plt.xlabel('Mile Post/miles')\n",
    "    plt.ylabel('MPH')\n",
    "    if not scatter:\n",
    "        plt.plot(mp, spd, color=colors[1])  # train speed\n",
    "        plt.plot(mp, spdlmt, color=colors[0])  # train speed lmt\n",
    "        plt.plot(mp, tgt_spd, '--', color=colors[2])  # train tgt speed\n",
    "    if scatter:\n",
    "        plt.scatter(mp, spd, color=colors[1])  # train speed\n",
    "        plt.scatter(mp, spdlmt, color=colors[0])  # train speed lmt\n",
    "        plt.scatter(mp, tgt_spd, color=colors[2])  # train tgt speed\n",
    "    plt.figure(figsize=(18, 16), dpi= 80, facecolor='w', edgecolor='k')\n",
    "    plt.rcParams['figure.dpi'] = 200\n",
    "    import pylab; pylab.rcParams['figure.figsize'] = (15.0, 8.0)\n",
    "    plt.pause(0.01)\n",
    "\n",
    "sim_init_time = datetime.strptime('2018-01-10 10:00:00', \"%Y-%m-%d %H:%M:%S\")\n",
    "sim_term_time = datetime.strptime('2018-01-10 15:30:00', \"%Y-%m-%d %H:%M:%S\")\n",
    "sp_container = [random.uniform(0.01, 0.02) for i in range(20)]\n",
    "acc_container = [0.5*random.uniform(2.78e-05*0.85, 2.78e-05*1.15) for i in range(20)]\n",
    "dcc_container = [0.2*random.uniform(2.78e-05*0.85, 2.78e-05*1.15) for i in range(20)]\n",
    "headway = 300 + random.random() * 400\n",
    "sys = System(sim_init_time, sp_container, acc_container, dcc_container,\n",
    "             term_time=sim_term_time,\n",
    "             dos_period=['2018-01-10 11:30:00', '2018-01-10 12:30:00'],  \n",
    "             dos_pos=(15,20),\n",
    "             headway=headway, \n",
    "             refresh_time=50)\n",
    "K165 = Train(sys, sys.sys_time, ((sys.signal_points[0],1),(sys.signal_points[1],0)),\n",
    "             max_sp=sys.sp_container[sys.train_num % len(sys.sp_container)],\n",
    "            max_acc=sys.acc_container[sys.train_num % len(sys.acc_container)],\n",
    "            max_dcc=sys.dcc_container[sys.train_num % len(sys.dcc_container)],\n",
    "            length=1)"
   ]
  },
  {
   "cell_type": "code",
   "execution_count": 25,
   "metadata": {},
   "outputs": [
    {
     "data": {
      "text/plain": [
       "[train index 0, current occupation: [((ControlPoint0, 1), (AutoPoint1, 0))], head MP:  5.00, rear MP  4.00]"
      ]
     },
     "execution_count": 25,
     "metadata": {},
     "output_type": "execute_result"
    }
   ],
   "source": [
    "sys.signal_points[0].track_by_port[1].train"
   ]
  },
  {
   "cell_type": "code",
   "execution_count": 26,
   "metadata": {},
   "outputs": [
    {
     "data": {
      "text/plain": [
       "Aspect: r, \t route (0, 1), target speed 0.0 mph"
      ]
     },
     "execution_count": 26,
     "metadata": {},
     "output_type": "execute_result"
    }
   ],
   "source": [
    "sys.signal_points[0].signal_by_port[0].aspect"
   ]
  },
  {
   "cell_type": "code",
   "execution_count": 24,
   "metadata": {},
   "outputs": [
    {
     "data": {
      "text/plain": [
       "[[((None, None), (ControlPoint0, 0)),\n",
       "  ((ControlPoint0, 1), (AutoPoint1, 0)),\n",
       "  ((AutoPoint1, 1), (AutoPoint2, 0)),\n",
       "  ((AutoPoint2, 1), (ControlPoint3, 0))]]"
      ]
     },
     "execution_count": 24,
     "metadata": {},
     "output_type": "execute_result"
    }
   ],
   "source": [
    "sys.curr_routing_paths"
   ]
  },
  {
   "cell_type": "code",
   "execution_count": 32,
   "metadata": {},
   "outputs": [
    {
     "data": {
      "text/plain": [
       "-0.06333881577705458"
      ]
     },
     "execution_count": 32,
     "metadata": {},
     "output_type": "execute_result"
    }
   ],
   "source": [
    "(T166.curr_sig.MP-T166.curr_MP)*(T166.curr_sig.MP-(T166.curr_MP+delta_s))"
   ]
  },
  {
   "cell_type": "code",
   "execution_count": null,
   "metadata": {},
   "outputs": [],
   "source": [
    "print(sys.trains)\n",
    "sys.signal_points[0].open_route((0,1))\n",
    "sys.signal_points[10].open_route((1,0))\n",
    "while T165.rear_curr_MP<=0 and T166.rear_curr_MP>=50:\n",
    "    T166.update_acc()\n",
    "    T165.update_acc()\n",
    "    K166.update_acc()\n",
    "    K165.update_acc()\n",
    "    sys.sys_time+=sys.refresh_time\n",
    "sys.signal_points[0].open_route((0,1))\n",
    "sys.signal_points[10].open_route((1,0))\n",
    "# both all the trains to enter the system\n",
    "sys.signal_points[7].open_route((1,2))\n",
    "sys.signal_points[6].open_route((0,1))\n",
    "sys.signal_points[3].open_route((0,1))\n",
    "sys.signal_points[4].open_route((0,1))\n",
    "# T166 to meet T165 at siding 2\n",
    "while T165.rear_curr_MP<=15:\n",
    "    T166.update_acc()\n",
    "    T165.update_acc()\n",
    "    K166.update_acc()\n",
    "    K165.update_acc()\n",
    "    sys.sys_time+=sys.refresh_time\n",
    "sys.signal_points[3].open_route((0,3))\n",
    "while T165.rear_curr_MP<=30:\n",
    "    T166.update_acc()\n",
    "    T165.update_acc()\n",
    "    K166.update_acc()\n",
    "    K165.update_acc()\n",
    "    sys.sys_time+=sys.refresh_time  \n",
    "sys.signal_points[6].open_route((3,0))\n",
    "sys.signal_points[4].open_route((1,0))\n",
    "while T166.rear_curr_MP>=30:\n",
    "    T166.update_acc()\n",
    "    T165.update_acc()\n",
    "    K166.update_acc()\n",
    "    K165.update_acc()\n",
    "    sys.sys_time+=sys.refresh_time  \n",
    "sys.signal_points[7].open_route((1,2))\n",
    "while K166.rear_curr_MP>=35:\n",
    "    T166.update_acc()\n",
    "    T165.update_acc()\n",
    "    K166.update_acc()\n",
    "    K165.update_acc()\n",
    "    sys.sys_time+=sys.refresh_time\n",
    "sys.signal_points[6].open_route((3,0))   \n",
    "sys.signal_points[7].open_route((0,1))   \n",
    "sys.signal_points[10].open_route((0,1))\n",
    "while T166.rear_curr_MP>=20:\n",
    "    T166.update_acc()\n",
    "    T165.update_acc()\n",
    "    K166.update_acc()\n",
    "    K165.update_acc()\n",
    "    sys.sys_time+=sys.refresh_time\n",
    "sys.signal_points[4].open_route((2,1))\n",
    "sys.signal_points[6].open_route((3,0))\n",
    "sys.signal_points[3].open_route((1,0))\n",
    "sys.signal_points[0].open_route((1,0))\n",
    "while T165.rear_curr_MP<=50:\n",
    "    T166.update_acc()\n",
    "    T165.update_acc()\n",
    "    K166.update_acc()\n",
    "    K165.update_acc()\n",
    "    sys.sys_time+=sys.refresh_time\n",
    "sys.signal_points[10].open_route((0,1))\n",
    "while K165.rear_curr_MP<=50:\n",
    "    T166.update_acc()\n",
    "    T165.update_acc()\n",
    "    K166.update_acc()\n",
    "    K165.update_acc()\n",
    "    sys.sys_time+=sys.refresh_time\n",
    "\n",
    "# while T166.rear_curr_MP>=30:\n",
    "#     T166.update_acc()\n",
    "#     T165.update_acc()\n",
    "#     K166.update_acc()\n",
    "#     K165.update_acc()\n",
    "#     sys.sys_time+=sys.refresh_time\n",
    "# sys.signal_points[7].open_route((1,2))\n",
    "# while K166.rear_curr_MP>=35:\n",
    "#     T166.update_acc()\n",
    "#     T165.update_acc()\n",
    "#     K166.update_acc()\n",
    "#     K165.update_acc()\n",
    "#     sys.sys_time+=sys.refresh_time\n",
    "# sys.signal_points[6].open_route((3,0))\n",
    "# sys.signal_points[4].open_route((3,0))    \n",
    "# sys.signal_points[7].open_route((0,1))\n",
    "# sys.signal_points[10].open_route((0,1))\n",
    "\n",
    "\n",
    "# sys.signal_points[10].open_route((1,0))\n",
    "# sys.signal_points[7].open_route((1,0))\n",
    "# sys.signal_points[6].open_route((1,0))\n",
    "# sys.signal_points[4].open_route((1,0))\n",
    "# count=0\n",
    "# while T166.rear_curr_MP>20:\n",
    "#     count+=1\n",
    "#     T166.update_acc()\n",
    "#     T165.update_acc()\n",
    "#     sys.sys_time+=sys.refresh_time\n",
    "# print(count)\n",
    "# sys.signal_points[0].open_route((1,0))\n",
    "# sys.signal_points[3].open_route((1,0))\n",
    "# sys.signal_points[10].open_route((0,1))\n",
    "# sys.signal_points[7].open_route((0,1))\n",
    "# sys.signal_points[6].open_route((0,1))\n",
    "# sys.signal_points[4].open_route((2,1))\n",
    "# count=0\n",
    "# while not T165.stopped:\n",
    "#     count+=1\n",
    "#     T166.update_acc()\n",
    "#     T165.update_acc()\n",
    "#     sys.sys_time+=sys.refresh_time\n",
    "# print(count)"
   ]
  },
  {
   "cell_type": "code",
   "execution_count": 17,
   "metadata": {},
   "outputs": [
    {
     "ename": "FileNotFoundError",
     "evalue": "[Errno 2] No such file or directory: '/Library/Fonts/Songti.ttc'",
     "output_type": "error",
     "traceback": [
      "\u001b[1;31m---------------------------------------------------------------------------\u001b[0m",
      "\u001b[1;31mFileNotFoundError\u001b[0m                         Traceback (most recent call last)",
      "\u001b[1;32m<ipython-input-17-bd39f3fbe915>\u001b[0m in \u001b[0;36m<module>\u001b[1;34m\u001b[0m\n\u001b[0;32m    133\u001b[0m  \u001b[1;32mreturn\u001b[0m\u001b[1;33m\u001b[0m\u001b[1;33m\u001b[0m\u001b[0m\n\u001b[0;32m    134\u001b[0m \u001b[1;33m\u001b[0m\u001b[0m\n\u001b[1;32m--> 135\u001b[1;33m \u001b[0msimple_plot\u001b[0m\u001b[1;33m(\u001b[0m\u001b[1;33m)\u001b[0m\u001b[1;33m\u001b[0m\u001b[1;33m\u001b[0m\u001b[0m\n\u001b[0m",
      "\u001b[1;32m<ipython-input-17-bd39f3fbe915>\u001b[0m in \u001b[0;36msimple_plot\u001b[1;34m()\u001b[0m\n\u001b[0;32m    117\u001b[0m      \u001b[1;31m# 暂停\u001b[0m\u001b[1;33m\u001b[0m\u001b[1;33m\u001b[0m\u001b[1;33m\u001b[0m\u001b[0m\n\u001b[0;32m    118\u001b[0m \u001b[1;33m\u001b[0m\u001b[0m\n\u001b[1;32m--> 119\u001b[1;33m      \u001b[0mplt\u001b[0m\u001b[1;33m.\u001b[0m\u001b[0mpause\u001b[0m\u001b[1;33m(\u001b[0m\u001b[1;36m0.1\u001b[0m\u001b[1;33m)\u001b[0m\u001b[1;33m\u001b[0m\u001b[1;33m\u001b[0m\u001b[0m\n\u001b[0m\u001b[0;32m    120\u001b[0m \u001b[1;33m\u001b[0m\u001b[0m\n\u001b[0;32m    121\u001b[0m \u001b[1;33m\u001b[0m\u001b[0m\n",
      "\u001b[1;32m~\\Anaconda3\\lib\\site-packages\\matplotlib\\pyplot.py\u001b[0m in \u001b[0;36mpause\u001b[1;34m(interval)\u001b[0m\n\u001b[0;32m    291\u001b[0m         \u001b[0mcanvas\u001b[0m \u001b[1;33m=\u001b[0m \u001b[0mmanager\u001b[0m\u001b[1;33m.\u001b[0m\u001b[0mcanvas\u001b[0m\u001b[1;33m\u001b[0m\u001b[1;33m\u001b[0m\u001b[0m\n\u001b[0;32m    292\u001b[0m         \u001b[1;32mif\u001b[0m \u001b[0mcanvas\u001b[0m\u001b[1;33m.\u001b[0m\u001b[0mfigure\u001b[0m\u001b[1;33m.\u001b[0m\u001b[0mstale\u001b[0m\u001b[1;33m:\u001b[0m\u001b[1;33m\u001b[0m\u001b[1;33m\u001b[0m\u001b[0m\n\u001b[1;32m--> 293\u001b[1;33m             \u001b[0mcanvas\u001b[0m\u001b[1;33m.\u001b[0m\u001b[0mdraw_idle\u001b[0m\u001b[1;33m(\u001b[0m\u001b[1;33m)\u001b[0m\u001b[1;33m\u001b[0m\u001b[1;33m\u001b[0m\u001b[0m\n\u001b[0m\u001b[0;32m    294\u001b[0m         \u001b[0mshow\u001b[0m\u001b[1;33m(\u001b[0m\u001b[0mblock\u001b[0m\u001b[1;33m=\u001b[0m\u001b[1;32mFalse\u001b[0m\u001b[1;33m)\u001b[0m\u001b[1;33m\u001b[0m\u001b[1;33m\u001b[0m\u001b[0m\n\u001b[0;32m    295\u001b[0m         \u001b[0mcanvas\u001b[0m\u001b[1;33m.\u001b[0m\u001b[0mstart_event_loop\u001b[0m\u001b[1;33m(\u001b[0m\u001b[0minterval\u001b[0m\u001b[1;33m)\u001b[0m\u001b[1;33m\u001b[0m\u001b[1;33m\u001b[0m\u001b[0m\n",
      "\u001b[1;32m~\\Anaconda3\\lib\\site-packages\\matplotlib\\backend_bases.py\u001b[0m in \u001b[0;36mdraw_idle\u001b[1;34m(self, *args, **kwargs)\u001b[0m\n\u001b[0;32m   1897\u001b[0m         \u001b[1;32mif\u001b[0m \u001b[1;32mnot\u001b[0m \u001b[0mself\u001b[0m\u001b[1;33m.\u001b[0m\u001b[0m_is_idle_drawing\u001b[0m\u001b[1;33m:\u001b[0m\u001b[1;33m\u001b[0m\u001b[1;33m\u001b[0m\u001b[0m\n\u001b[0;32m   1898\u001b[0m             \u001b[1;32mwith\u001b[0m \u001b[0mself\u001b[0m\u001b[1;33m.\u001b[0m\u001b[0m_idle_draw_cntx\u001b[0m\u001b[1;33m(\u001b[0m\u001b[1;33m)\u001b[0m\u001b[1;33m:\u001b[0m\u001b[1;33m\u001b[0m\u001b[1;33m\u001b[0m\u001b[0m\n\u001b[1;32m-> 1899\u001b[1;33m                 \u001b[0mself\u001b[0m\u001b[1;33m.\u001b[0m\u001b[0mdraw\u001b[0m\u001b[1;33m(\u001b[0m\u001b[1;33m*\u001b[0m\u001b[0margs\u001b[0m\u001b[1;33m,\u001b[0m \u001b[1;33m**\u001b[0m\u001b[0mkwargs\u001b[0m\u001b[1;33m)\u001b[0m\u001b[1;33m\u001b[0m\u001b[1;33m\u001b[0m\u001b[0m\n\u001b[0m\u001b[0;32m   1900\u001b[0m \u001b[1;33m\u001b[0m\u001b[0m\n\u001b[0;32m   1901\u001b[0m     \u001b[1;32mdef\u001b[0m \u001b[0mdraw_cursor\u001b[0m\u001b[1;33m(\u001b[0m\u001b[0mself\u001b[0m\u001b[1;33m,\u001b[0m \u001b[0mevent\u001b[0m\u001b[1;33m)\u001b[0m\u001b[1;33m:\u001b[0m\u001b[1;33m\u001b[0m\u001b[1;33m\u001b[0m\u001b[0m\n",
      "\u001b[1;32m~\\Anaconda3\\lib\\site-packages\\matplotlib\\backends\\backend_agg.py\u001b[0m in \u001b[0;36mdraw\u001b[1;34m(self)\u001b[0m\n\u001b[0;32m    400\u001b[0m         \u001b[0mtoolbar\u001b[0m \u001b[1;33m=\u001b[0m \u001b[0mself\u001b[0m\u001b[1;33m.\u001b[0m\u001b[0mtoolbar\u001b[0m\u001b[1;33m\u001b[0m\u001b[1;33m\u001b[0m\u001b[0m\n\u001b[0;32m    401\u001b[0m         \u001b[1;32mtry\u001b[0m\u001b[1;33m:\u001b[0m\u001b[1;33m\u001b[0m\u001b[1;33m\u001b[0m\u001b[0m\n\u001b[1;32m--> 402\u001b[1;33m             \u001b[0mself\u001b[0m\u001b[1;33m.\u001b[0m\u001b[0mfigure\u001b[0m\u001b[1;33m.\u001b[0m\u001b[0mdraw\u001b[0m\u001b[1;33m(\u001b[0m\u001b[0mself\u001b[0m\u001b[1;33m.\u001b[0m\u001b[0mrenderer\u001b[0m\u001b[1;33m)\u001b[0m\u001b[1;33m\u001b[0m\u001b[1;33m\u001b[0m\u001b[0m\n\u001b[0m\u001b[0;32m    403\u001b[0m             \u001b[1;31m# A GUI class may be need to update a window using this draw, so\u001b[0m\u001b[1;33m\u001b[0m\u001b[1;33m\u001b[0m\u001b[1;33m\u001b[0m\u001b[0m\n\u001b[0;32m    404\u001b[0m             \u001b[1;31m# don't forget to call the superclass.\u001b[0m\u001b[1;33m\u001b[0m\u001b[1;33m\u001b[0m\u001b[1;33m\u001b[0m\u001b[0m\n",
      "\u001b[1;32m~\\Anaconda3\\lib\\site-packages\\matplotlib\\artist.py\u001b[0m in \u001b[0;36mdraw_wrapper\u001b[1;34m(artist, renderer, *args, **kwargs)\u001b[0m\n\u001b[0;32m     48\u001b[0m                 \u001b[0mrenderer\u001b[0m\u001b[1;33m.\u001b[0m\u001b[0mstart_filter\u001b[0m\u001b[1;33m(\u001b[0m\u001b[1;33m)\u001b[0m\u001b[1;33m\u001b[0m\u001b[1;33m\u001b[0m\u001b[0m\n\u001b[0;32m     49\u001b[0m \u001b[1;33m\u001b[0m\u001b[0m\n\u001b[1;32m---> 50\u001b[1;33m             \u001b[1;32mreturn\u001b[0m \u001b[0mdraw\u001b[0m\u001b[1;33m(\u001b[0m\u001b[0martist\u001b[0m\u001b[1;33m,\u001b[0m \u001b[0mrenderer\u001b[0m\u001b[1;33m,\u001b[0m \u001b[1;33m*\u001b[0m\u001b[0margs\u001b[0m\u001b[1;33m,\u001b[0m \u001b[1;33m**\u001b[0m\u001b[0mkwargs\u001b[0m\u001b[1;33m)\u001b[0m\u001b[1;33m\u001b[0m\u001b[1;33m\u001b[0m\u001b[0m\n\u001b[0m\u001b[0;32m     51\u001b[0m         \u001b[1;32mfinally\u001b[0m\u001b[1;33m:\u001b[0m\u001b[1;33m\u001b[0m\u001b[1;33m\u001b[0m\u001b[0m\n\u001b[0;32m     52\u001b[0m             \u001b[1;32mif\u001b[0m \u001b[0martist\u001b[0m\u001b[1;33m.\u001b[0m\u001b[0mget_agg_filter\u001b[0m\u001b[1;33m(\u001b[0m\u001b[1;33m)\u001b[0m \u001b[1;32mis\u001b[0m \u001b[1;32mnot\u001b[0m \u001b[1;32mNone\u001b[0m\u001b[1;33m:\u001b[0m\u001b[1;33m\u001b[0m\u001b[1;33m\u001b[0m\u001b[0m\n",
      "\u001b[1;32m~\\Anaconda3\\lib\\site-packages\\matplotlib\\figure.py\u001b[0m in \u001b[0;36mdraw\u001b[1;34m(self, renderer)\u001b[0m\n\u001b[0;32m   1647\u001b[0m \u001b[1;33m\u001b[0m\u001b[0m\n\u001b[0;32m   1648\u001b[0m             mimage._draw_list_compositing_images(\n\u001b[1;32m-> 1649\u001b[1;33m                 renderer, self, artists, self.suppressComposite)\n\u001b[0m\u001b[0;32m   1650\u001b[0m \u001b[1;33m\u001b[0m\u001b[0m\n\u001b[0;32m   1651\u001b[0m             \u001b[0mrenderer\u001b[0m\u001b[1;33m.\u001b[0m\u001b[0mclose_group\u001b[0m\u001b[1;33m(\u001b[0m\u001b[1;34m'figure'\u001b[0m\u001b[1;33m)\u001b[0m\u001b[1;33m\u001b[0m\u001b[1;33m\u001b[0m\u001b[0m\n",
      "\u001b[1;32m~\\Anaconda3\\lib\\site-packages\\matplotlib\\image.py\u001b[0m in \u001b[0;36m_draw_list_compositing_images\u001b[1;34m(renderer, parent, artists, suppress_composite)\u001b[0m\n\u001b[0;32m    136\u001b[0m     \u001b[1;32mif\u001b[0m \u001b[0mnot_composite\u001b[0m \u001b[1;32mor\u001b[0m \u001b[1;32mnot\u001b[0m \u001b[0mhas_images\u001b[0m\u001b[1;33m:\u001b[0m\u001b[1;33m\u001b[0m\u001b[1;33m\u001b[0m\u001b[0m\n\u001b[0;32m    137\u001b[0m         \u001b[1;32mfor\u001b[0m \u001b[0ma\u001b[0m \u001b[1;32min\u001b[0m \u001b[0martists\u001b[0m\u001b[1;33m:\u001b[0m\u001b[1;33m\u001b[0m\u001b[1;33m\u001b[0m\u001b[0m\n\u001b[1;32m--> 138\u001b[1;33m             \u001b[0ma\u001b[0m\u001b[1;33m.\u001b[0m\u001b[0mdraw\u001b[0m\u001b[1;33m(\u001b[0m\u001b[0mrenderer\u001b[0m\u001b[1;33m)\u001b[0m\u001b[1;33m\u001b[0m\u001b[1;33m\u001b[0m\u001b[0m\n\u001b[0m\u001b[0;32m    139\u001b[0m     \u001b[1;32melse\u001b[0m\u001b[1;33m:\u001b[0m\u001b[1;33m\u001b[0m\u001b[1;33m\u001b[0m\u001b[0m\n\u001b[0;32m    140\u001b[0m         \u001b[1;31m# Composite any adjacent images together\u001b[0m\u001b[1;33m\u001b[0m\u001b[1;33m\u001b[0m\u001b[1;33m\u001b[0m\u001b[0m\n",
      "\u001b[1;32m~\\Anaconda3\\lib\\site-packages\\matplotlib\\artist.py\u001b[0m in \u001b[0;36mdraw_wrapper\u001b[1;34m(artist, renderer, *args, **kwargs)\u001b[0m\n\u001b[0;32m     48\u001b[0m                 \u001b[0mrenderer\u001b[0m\u001b[1;33m.\u001b[0m\u001b[0mstart_filter\u001b[0m\u001b[1;33m(\u001b[0m\u001b[1;33m)\u001b[0m\u001b[1;33m\u001b[0m\u001b[1;33m\u001b[0m\u001b[0m\n\u001b[0;32m     49\u001b[0m \u001b[1;33m\u001b[0m\u001b[0m\n\u001b[1;32m---> 50\u001b[1;33m             \u001b[1;32mreturn\u001b[0m \u001b[0mdraw\u001b[0m\u001b[1;33m(\u001b[0m\u001b[0martist\u001b[0m\u001b[1;33m,\u001b[0m \u001b[0mrenderer\u001b[0m\u001b[1;33m,\u001b[0m \u001b[1;33m*\u001b[0m\u001b[0margs\u001b[0m\u001b[1;33m,\u001b[0m \u001b[1;33m**\u001b[0m\u001b[0mkwargs\u001b[0m\u001b[1;33m)\u001b[0m\u001b[1;33m\u001b[0m\u001b[1;33m\u001b[0m\u001b[0m\n\u001b[0m\u001b[0;32m     51\u001b[0m         \u001b[1;32mfinally\u001b[0m\u001b[1;33m:\u001b[0m\u001b[1;33m\u001b[0m\u001b[1;33m\u001b[0m\u001b[0m\n\u001b[0;32m     52\u001b[0m             \u001b[1;32mif\u001b[0m \u001b[0martist\u001b[0m\u001b[1;33m.\u001b[0m\u001b[0mget_agg_filter\u001b[0m\u001b[1;33m(\u001b[0m\u001b[1;33m)\u001b[0m \u001b[1;32mis\u001b[0m \u001b[1;32mnot\u001b[0m \u001b[1;32mNone\u001b[0m\u001b[1;33m:\u001b[0m\u001b[1;33m\u001b[0m\u001b[1;33m\u001b[0m\u001b[0m\n",
      "\u001b[1;32m~\\Anaconda3\\lib\\site-packages\\matplotlib\\axes\\_base.py\u001b[0m in \u001b[0;36mdraw\u001b[1;34m(self, renderer, inframe)\u001b[0m\n\u001b[0;32m   2626\u001b[0m             \u001b[0mrenderer\u001b[0m\u001b[1;33m.\u001b[0m\u001b[0mstop_rasterizing\u001b[0m\u001b[1;33m(\u001b[0m\u001b[1;33m)\u001b[0m\u001b[1;33m\u001b[0m\u001b[1;33m\u001b[0m\u001b[0m\n\u001b[0;32m   2627\u001b[0m \u001b[1;33m\u001b[0m\u001b[0m\n\u001b[1;32m-> 2628\u001b[1;33m         \u001b[0mmimage\u001b[0m\u001b[1;33m.\u001b[0m\u001b[0m_draw_list_compositing_images\u001b[0m\u001b[1;33m(\u001b[0m\u001b[0mrenderer\u001b[0m\u001b[1;33m,\u001b[0m \u001b[0mself\u001b[0m\u001b[1;33m,\u001b[0m \u001b[0martists\u001b[0m\u001b[1;33m)\u001b[0m\u001b[1;33m\u001b[0m\u001b[1;33m\u001b[0m\u001b[0m\n\u001b[0m\u001b[0;32m   2629\u001b[0m \u001b[1;33m\u001b[0m\u001b[0m\n\u001b[0;32m   2630\u001b[0m         \u001b[0mrenderer\u001b[0m\u001b[1;33m.\u001b[0m\u001b[0mclose_group\u001b[0m\u001b[1;33m(\u001b[0m\u001b[1;34m'axes'\u001b[0m\u001b[1;33m)\u001b[0m\u001b[1;33m\u001b[0m\u001b[1;33m\u001b[0m\u001b[0m\n",
      "\u001b[1;32m~\\Anaconda3\\lib\\site-packages\\matplotlib\\image.py\u001b[0m in \u001b[0;36m_draw_list_compositing_images\u001b[1;34m(renderer, parent, artists, suppress_composite)\u001b[0m\n\u001b[0;32m    136\u001b[0m     \u001b[1;32mif\u001b[0m \u001b[0mnot_composite\u001b[0m \u001b[1;32mor\u001b[0m \u001b[1;32mnot\u001b[0m \u001b[0mhas_images\u001b[0m\u001b[1;33m:\u001b[0m\u001b[1;33m\u001b[0m\u001b[1;33m\u001b[0m\u001b[0m\n\u001b[0;32m    137\u001b[0m         \u001b[1;32mfor\u001b[0m \u001b[0ma\u001b[0m \u001b[1;32min\u001b[0m \u001b[0martists\u001b[0m\u001b[1;33m:\u001b[0m\u001b[1;33m\u001b[0m\u001b[1;33m\u001b[0m\u001b[0m\n\u001b[1;32m--> 138\u001b[1;33m             \u001b[0ma\u001b[0m\u001b[1;33m.\u001b[0m\u001b[0mdraw\u001b[0m\u001b[1;33m(\u001b[0m\u001b[0mrenderer\u001b[0m\u001b[1;33m)\u001b[0m\u001b[1;33m\u001b[0m\u001b[1;33m\u001b[0m\u001b[0m\n\u001b[0m\u001b[0;32m    139\u001b[0m     \u001b[1;32melse\u001b[0m\u001b[1;33m:\u001b[0m\u001b[1;33m\u001b[0m\u001b[1;33m\u001b[0m\u001b[0m\n\u001b[0;32m    140\u001b[0m         \u001b[1;31m# Composite any adjacent images together\u001b[0m\u001b[1;33m\u001b[0m\u001b[1;33m\u001b[0m\u001b[1;33m\u001b[0m\u001b[0m\n",
      "\u001b[1;32m~\\Anaconda3\\lib\\site-packages\\matplotlib\\artist.py\u001b[0m in \u001b[0;36mdraw_wrapper\u001b[1;34m(artist, renderer, *args, **kwargs)\u001b[0m\n\u001b[0;32m     48\u001b[0m                 \u001b[0mrenderer\u001b[0m\u001b[1;33m.\u001b[0m\u001b[0mstart_filter\u001b[0m\u001b[1;33m(\u001b[0m\u001b[1;33m)\u001b[0m\u001b[1;33m\u001b[0m\u001b[1;33m\u001b[0m\u001b[0m\n\u001b[0;32m     49\u001b[0m \u001b[1;33m\u001b[0m\u001b[0m\n\u001b[1;32m---> 50\u001b[1;33m             \u001b[1;32mreturn\u001b[0m \u001b[0mdraw\u001b[0m\u001b[1;33m(\u001b[0m\u001b[0martist\u001b[0m\u001b[1;33m,\u001b[0m \u001b[0mrenderer\u001b[0m\u001b[1;33m,\u001b[0m \u001b[1;33m*\u001b[0m\u001b[0margs\u001b[0m\u001b[1;33m,\u001b[0m \u001b[1;33m**\u001b[0m\u001b[0mkwargs\u001b[0m\u001b[1;33m)\u001b[0m\u001b[1;33m\u001b[0m\u001b[1;33m\u001b[0m\u001b[0m\n\u001b[0m\u001b[0;32m     51\u001b[0m         \u001b[1;32mfinally\u001b[0m\u001b[1;33m:\u001b[0m\u001b[1;33m\u001b[0m\u001b[1;33m\u001b[0m\u001b[0m\n\u001b[0;32m     52\u001b[0m             \u001b[1;32mif\u001b[0m \u001b[0martist\u001b[0m\u001b[1;33m.\u001b[0m\u001b[0mget_agg_filter\u001b[0m\u001b[1;33m(\u001b[0m\u001b[1;33m)\u001b[0m \u001b[1;32mis\u001b[0m \u001b[1;32mnot\u001b[0m \u001b[1;32mNone\u001b[0m\u001b[1;33m:\u001b[0m\u001b[1;33m\u001b[0m\u001b[1;33m\u001b[0m\u001b[0m\n",
      "\u001b[1;32m~\\Anaconda3\\lib\\site-packages\\matplotlib\\axis.py\u001b[0m in \u001b[0;36mdraw\u001b[1;34m(self, renderer, *args, **kwargs)\u001b[0m\n\u001b[0;32m   1197\u001b[0m         \u001b[0mself\u001b[0m\u001b[1;33m.\u001b[0m\u001b[0m_update_label_position\u001b[0m\u001b[1;33m(\u001b[0m\u001b[0mrenderer\u001b[0m\u001b[1;33m)\u001b[0m\u001b[1;33m\u001b[0m\u001b[1;33m\u001b[0m\u001b[0m\n\u001b[0;32m   1198\u001b[0m \u001b[1;33m\u001b[0m\u001b[0m\n\u001b[1;32m-> 1199\u001b[1;33m         \u001b[0mself\u001b[0m\u001b[1;33m.\u001b[0m\u001b[0mlabel\u001b[0m\u001b[1;33m.\u001b[0m\u001b[0mdraw\u001b[0m\u001b[1;33m(\u001b[0m\u001b[0mrenderer\u001b[0m\u001b[1;33m)\u001b[0m\u001b[1;33m\u001b[0m\u001b[1;33m\u001b[0m\u001b[0m\n\u001b[0m\u001b[0;32m   1200\u001b[0m \u001b[1;33m\u001b[0m\u001b[0m\n\u001b[0;32m   1201\u001b[0m         \u001b[0mself\u001b[0m\u001b[1;33m.\u001b[0m\u001b[0m_update_offset_text_position\u001b[0m\u001b[1;33m(\u001b[0m\u001b[0mticklabelBoxes\u001b[0m\u001b[1;33m,\u001b[0m \u001b[0mticklabelBoxes2\u001b[0m\u001b[1;33m)\u001b[0m\u001b[1;33m\u001b[0m\u001b[1;33m\u001b[0m\u001b[0m\n",
      "\u001b[1;32m~\\Anaconda3\\lib\\site-packages\\matplotlib\\artist.py\u001b[0m in \u001b[0;36mdraw_wrapper\u001b[1;34m(artist, renderer, *args, **kwargs)\u001b[0m\n\u001b[0;32m     48\u001b[0m                 \u001b[0mrenderer\u001b[0m\u001b[1;33m.\u001b[0m\u001b[0mstart_filter\u001b[0m\u001b[1;33m(\u001b[0m\u001b[1;33m)\u001b[0m\u001b[1;33m\u001b[0m\u001b[1;33m\u001b[0m\u001b[0m\n\u001b[0;32m     49\u001b[0m \u001b[1;33m\u001b[0m\u001b[0m\n\u001b[1;32m---> 50\u001b[1;33m             \u001b[1;32mreturn\u001b[0m \u001b[0mdraw\u001b[0m\u001b[1;33m(\u001b[0m\u001b[0martist\u001b[0m\u001b[1;33m,\u001b[0m \u001b[0mrenderer\u001b[0m\u001b[1;33m,\u001b[0m \u001b[1;33m*\u001b[0m\u001b[0margs\u001b[0m\u001b[1;33m,\u001b[0m \u001b[1;33m**\u001b[0m\u001b[0mkwargs\u001b[0m\u001b[1;33m)\u001b[0m\u001b[1;33m\u001b[0m\u001b[1;33m\u001b[0m\u001b[0m\n\u001b[0m\u001b[0;32m     51\u001b[0m         \u001b[1;32mfinally\u001b[0m\u001b[1;33m:\u001b[0m\u001b[1;33m\u001b[0m\u001b[1;33m\u001b[0m\u001b[0m\n\u001b[0;32m     52\u001b[0m             \u001b[1;32mif\u001b[0m \u001b[0martist\u001b[0m\u001b[1;33m.\u001b[0m\u001b[0mget_agg_filter\u001b[0m\u001b[1;33m(\u001b[0m\u001b[1;33m)\u001b[0m \u001b[1;32mis\u001b[0m \u001b[1;32mnot\u001b[0m \u001b[1;32mNone\u001b[0m\u001b[1;33m:\u001b[0m\u001b[1;33m\u001b[0m\u001b[1;33m\u001b[0m\u001b[0m\n",
      "\u001b[1;32m~\\Anaconda3\\lib\\site-packages\\matplotlib\\text.py\u001b[0m in \u001b[0;36mdraw\u001b[1;34m(self, renderer)\u001b[0m\n\u001b[0;32m    707\u001b[0m \u001b[1;33m\u001b[0m\u001b[0m\n\u001b[0;32m    708\u001b[0m         \u001b[1;32mwith\u001b[0m \u001b[0m_wrap_text\u001b[0m\u001b[1;33m(\u001b[0m\u001b[0mself\u001b[0m\u001b[1;33m)\u001b[0m \u001b[1;32mas\u001b[0m \u001b[0mtextobj\u001b[0m\u001b[1;33m:\u001b[0m\u001b[1;33m\u001b[0m\u001b[1;33m\u001b[0m\u001b[0m\n\u001b[1;32m--> 709\u001b[1;33m             \u001b[0mbbox\u001b[0m\u001b[1;33m,\u001b[0m \u001b[0minfo\u001b[0m\u001b[1;33m,\u001b[0m \u001b[0mdescent\u001b[0m \u001b[1;33m=\u001b[0m \u001b[0mtextobj\u001b[0m\u001b[1;33m.\u001b[0m\u001b[0m_get_layout\u001b[0m\u001b[1;33m(\u001b[0m\u001b[0mrenderer\u001b[0m\u001b[1;33m)\u001b[0m\u001b[1;33m\u001b[0m\u001b[1;33m\u001b[0m\u001b[0m\n\u001b[0m\u001b[0;32m    710\u001b[0m             \u001b[0mtrans\u001b[0m \u001b[1;33m=\u001b[0m \u001b[0mtextobj\u001b[0m\u001b[1;33m.\u001b[0m\u001b[0mget_transform\u001b[0m\u001b[1;33m(\u001b[0m\u001b[1;33m)\u001b[0m\u001b[1;33m\u001b[0m\u001b[1;33m\u001b[0m\u001b[0m\n\u001b[0;32m    711\u001b[0m \u001b[1;33m\u001b[0m\u001b[0m\n",
      "\u001b[1;32m~\\Anaconda3\\lib\\site-packages\\matplotlib\\text.py\u001b[0m in \u001b[0;36m_get_layout\u001b[1;34m(self, renderer)\u001b[0m\n\u001b[0;32m    302\u001b[0m         tmp, lp_h, lp_bl = renderer.get_text_width_height_descent('lp',\n\u001b[0;32m    303\u001b[0m                                                          \u001b[0mself\u001b[0m\u001b[1;33m.\u001b[0m\u001b[0m_fontproperties\u001b[0m\u001b[1;33m,\u001b[0m\u001b[1;33m\u001b[0m\u001b[1;33m\u001b[0m\u001b[0m\n\u001b[1;32m--> 304\u001b[1;33m                                                          ismath=False)\n\u001b[0m\u001b[0;32m    305\u001b[0m         \u001b[0moffsety\u001b[0m \u001b[1;33m=\u001b[0m \u001b[1;33m(\u001b[0m\u001b[0mlp_h\u001b[0m \u001b[1;33m-\u001b[0m \u001b[0mlp_bl\u001b[0m\u001b[1;33m)\u001b[0m \u001b[1;33m*\u001b[0m \u001b[0mself\u001b[0m\u001b[1;33m.\u001b[0m\u001b[0m_linespacing\u001b[0m\u001b[1;33m\u001b[0m\u001b[1;33m\u001b[0m\u001b[0m\n\u001b[0;32m    306\u001b[0m \u001b[1;33m\u001b[0m\u001b[0m\n",
      "\u001b[1;32m~\\Anaconda3\\lib\\site-packages\\matplotlib\\backends\\backend_agg.py\u001b[0m in \u001b[0;36mget_text_width_height_descent\u001b[1;34m(self, s, prop, ismath)\u001b[0m\n\u001b[0;32m    216\u001b[0m \u001b[1;33m\u001b[0m\u001b[0m\n\u001b[0;32m    217\u001b[0m         \u001b[0mflags\u001b[0m \u001b[1;33m=\u001b[0m \u001b[0mget_hinting_flag\u001b[0m\u001b[1;33m(\u001b[0m\u001b[1;33m)\u001b[0m\u001b[1;33m\u001b[0m\u001b[1;33m\u001b[0m\u001b[0m\n\u001b[1;32m--> 218\u001b[1;33m         \u001b[0mfont\u001b[0m \u001b[1;33m=\u001b[0m \u001b[0mself\u001b[0m\u001b[1;33m.\u001b[0m\u001b[0m_get_agg_font\u001b[0m\u001b[1;33m(\u001b[0m\u001b[0mprop\u001b[0m\u001b[1;33m)\u001b[0m\u001b[1;33m\u001b[0m\u001b[1;33m\u001b[0m\u001b[0m\n\u001b[0m\u001b[0;32m    219\u001b[0m         \u001b[0mfont\u001b[0m\u001b[1;33m.\u001b[0m\u001b[0mset_text\u001b[0m\u001b[1;33m(\u001b[0m\u001b[0ms\u001b[0m\u001b[1;33m,\u001b[0m \u001b[1;36m0.0\u001b[0m\u001b[1;33m,\u001b[0m \u001b[0mflags\u001b[0m\u001b[1;33m=\u001b[0m\u001b[0mflags\u001b[0m\u001b[1;33m)\u001b[0m\u001b[1;33m\u001b[0m\u001b[1;33m\u001b[0m\u001b[0m\n\u001b[0;32m    220\u001b[0m         \u001b[0mw\u001b[0m\u001b[1;33m,\u001b[0m \u001b[0mh\u001b[0m \u001b[1;33m=\u001b[0m \u001b[0mfont\u001b[0m\u001b[1;33m.\u001b[0m\u001b[0mget_width_height\u001b[0m\u001b[1;33m(\u001b[0m\u001b[1;33m)\u001b[0m  \u001b[1;31m# width and height of unrotated string\u001b[0m\u001b[1;33m\u001b[0m\u001b[1;33m\u001b[0m\u001b[0m\n",
      "\u001b[1;32m~\\Anaconda3\\lib\\site-packages\\matplotlib\\backends\\backend_agg.py\u001b[0m in \u001b[0;36m_get_agg_font\u001b[1;34m(self, prop)\u001b[0m\n\u001b[0;32m    251\u001b[0m         \"\"\"\n\u001b[0;32m    252\u001b[0m         \u001b[0mfname\u001b[0m \u001b[1;33m=\u001b[0m \u001b[0mfindfont\u001b[0m\u001b[1;33m(\u001b[0m\u001b[0mprop\u001b[0m\u001b[1;33m)\u001b[0m\u001b[1;33m\u001b[0m\u001b[1;33m\u001b[0m\u001b[0m\n\u001b[1;32m--> 253\u001b[1;33m         \u001b[0mfont\u001b[0m \u001b[1;33m=\u001b[0m \u001b[0mget_font\u001b[0m\u001b[1;33m(\u001b[0m\u001b[0mfname\u001b[0m\u001b[1;33m)\u001b[0m\u001b[1;33m\u001b[0m\u001b[1;33m\u001b[0m\u001b[0m\n\u001b[0m\u001b[0;32m    254\u001b[0m \u001b[1;33m\u001b[0m\u001b[0m\n\u001b[0;32m    255\u001b[0m         \u001b[0mfont\u001b[0m\u001b[1;33m.\u001b[0m\u001b[0mclear\u001b[0m\u001b[1;33m(\u001b[0m\u001b[1;33m)\u001b[0m\u001b[1;33m\u001b[0m\u001b[1;33m\u001b[0m\u001b[0m\n",
      "\u001b[1;32m~\\Anaconda3\\lib\\site-packages\\matplotlib\\font_manager.py\u001b[0m in \u001b[0;36mget_font\u001b[1;34m(filename, hinting_factor)\u001b[0m\n\u001b[0;32m   1289\u001b[0m     \u001b[1;32mif\u001b[0m \u001b[0mhinting_factor\u001b[0m \u001b[1;32mis\u001b[0m \u001b[1;32mNone\u001b[0m\u001b[1;33m:\u001b[0m\u001b[1;33m\u001b[0m\u001b[1;33m\u001b[0m\u001b[0m\n\u001b[0;32m   1290\u001b[0m         \u001b[0mhinting_factor\u001b[0m \u001b[1;33m=\u001b[0m \u001b[0mrcParams\u001b[0m\u001b[1;33m[\u001b[0m\u001b[1;34m'text.hinting_factor'\u001b[0m\u001b[1;33m]\u001b[0m\u001b[1;33m\u001b[0m\u001b[1;33m\u001b[0m\u001b[0m\n\u001b[1;32m-> 1291\u001b[1;33m     \u001b[1;32mreturn\u001b[0m \u001b[0m_get_font\u001b[0m\u001b[1;33m(\u001b[0m\u001b[0mfilename\u001b[0m\u001b[1;33m,\u001b[0m \u001b[0mhinting_factor\u001b[0m\u001b[1;33m)\u001b[0m\u001b[1;33m\u001b[0m\u001b[1;33m\u001b[0m\u001b[0m\n\u001b[0m\u001b[0;32m   1292\u001b[0m \u001b[1;33m\u001b[0m\u001b[0m\n\u001b[0;32m   1293\u001b[0m \u001b[1;33m\u001b[0m\u001b[0m\n",
      "\u001b[1;31mFileNotFoundError\u001b[0m: [Errno 2] No such file or directory: '/Library/Fonts/Songti.ttc'"
     ]
    },
    {
     "ename": "FileNotFoundError",
     "evalue": "[Errno 2] No such file or directory: '/Library/Fonts/Songti.ttc'",
     "output_type": "error",
     "traceback": [
      "\u001b[1;31m---------------------------------------------------------------------------\u001b[0m",
      "\u001b[1;31mFileNotFoundError\u001b[0m                         Traceback (most recent call last)",
      "\u001b[1;32m~\\Anaconda3\\lib\\site-packages\\IPython\\core\\formatters.py\u001b[0m in \u001b[0;36m__call__\u001b[1;34m(self, obj)\u001b[0m\n\u001b[0;32m    339\u001b[0m                 \u001b[1;32mpass\u001b[0m\u001b[1;33m\u001b[0m\u001b[1;33m\u001b[0m\u001b[0m\n\u001b[0;32m    340\u001b[0m             \u001b[1;32melse\u001b[0m\u001b[1;33m:\u001b[0m\u001b[1;33m\u001b[0m\u001b[1;33m\u001b[0m\u001b[0m\n\u001b[1;32m--> 341\u001b[1;33m                 \u001b[1;32mreturn\u001b[0m \u001b[0mprinter\u001b[0m\u001b[1;33m(\u001b[0m\u001b[0mobj\u001b[0m\u001b[1;33m)\u001b[0m\u001b[1;33m\u001b[0m\u001b[1;33m\u001b[0m\u001b[0m\n\u001b[0m\u001b[0;32m    342\u001b[0m             \u001b[1;31m# Finally look for special method names\u001b[0m\u001b[1;33m\u001b[0m\u001b[1;33m\u001b[0m\u001b[1;33m\u001b[0m\u001b[0m\n\u001b[0;32m    343\u001b[0m             \u001b[0mmethod\u001b[0m \u001b[1;33m=\u001b[0m \u001b[0mget_real_method\u001b[0m\u001b[1;33m(\u001b[0m\u001b[0mobj\u001b[0m\u001b[1;33m,\u001b[0m \u001b[0mself\u001b[0m\u001b[1;33m.\u001b[0m\u001b[0mprint_method\u001b[0m\u001b[1;33m)\u001b[0m\u001b[1;33m\u001b[0m\u001b[1;33m\u001b[0m\u001b[0m\n",
      "\u001b[1;32m~\\Anaconda3\\lib\\site-packages\\IPython\\core\\pylabtools.py\u001b[0m in \u001b[0;36m<lambda>\u001b[1;34m(fig)\u001b[0m\n\u001b[0;32m    242\u001b[0m \u001b[1;33m\u001b[0m\u001b[0m\n\u001b[0;32m    243\u001b[0m     \u001b[1;32mif\u001b[0m \u001b[1;34m'png'\u001b[0m \u001b[1;32min\u001b[0m \u001b[0mformats\u001b[0m\u001b[1;33m:\u001b[0m\u001b[1;33m\u001b[0m\u001b[1;33m\u001b[0m\u001b[0m\n\u001b[1;32m--> 244\u001b[1;33m         \u001b[0mpng_formatter\u001b[0m\u001b[1;33m.\u001b[0m\u001b[0mfor_type\u001b[0m\u001b[1;33m(\u001b[0m\u001b[0mFigure\u001b[0m\u001b[1;33m,\u001b[0m \u001b[1;32mlambda\u001b[0m \u001b[0mfig\u001b[0m\u001b[1;33m:\u001b[0m \u001b[0mprint_figure\u001b[0m\u001b[1;33m(\u001b[0m\u001b[0mfig\u001b[0m\u001b[1;33m,\u001b[0m \u001b[1;34m'png'\u001b[0m\u001b[1;33m,\u001b[0m \u001b[1;33m**\u001b[0m\u001b[0mkwargs\u001b[0m\u001b[1;33m)\u001b[0m\u001b[1;33m)\u001b[0m\u001b[1;33m\u001b[0m\u001b[1;33m\u001b[0m\u001b[0m\n\u001b[0m\u001b[0;32m    245\u001b[0m     \u001b[1;32mif\u001b[0m \u001b[1;34m'retina'\u001b[0m \u001b[1;32min\u001b[0m \u001b[0mformats\u001b[0m \u001b[1;32mor\u001b[0m \u001b[1;34m'png2x'\u001b[0m \u001b[1;32min\u001b[0m \u001b[0mformats\u001b[0m\u001b[1;33m:\u001b[0m\u001b[1;33m\u001b[0m\u001b[1;33m\u001b[0m\u001b[0m\n\u001b[0;32m    246\u001b[0m         \u001b[0mpng_formatter\u001b[0m\u001b[1;33m.\u001b[0m\u001b[0mfor_type\u001b[0m\u001b[1;33m(\u001b[0m\u001b[0mFigure\u001b[0m\u001b[1;33m,\u001b[0m \u001b[1;32mlambda\u001b[0m \u001b[0mfig\u001b[0m\u001b[1;33m:\u001b[0m \u001b[0mretina_figure\u001b[0m\u001b[1;33m(\u001b[0m\u001b[0mfig\u001b[0m\u001b[1;33m,\u001b[0m \u001b[1;33m**\u001b[0m\u001b[0mkwargs\u001b[0m\u001b[1;33m)\u001b[0m\u001b[1;33m)\u001b[0m\u001b[1;33m\u001b[0m\u001b[1;33m\u001b[0m\u001b[0m\n",
      "\u001b[1;32m~\\Anaconda3\\lib\\site-packages\\IPython\\core\\pylabtools.py\u001b[0m in \u001b[0;36mprint_figure\u001b[1;34m(fig, fmt, bbox_inches, **kwargs)\u001b[0m\n\u001b[0;32m    126\u001b[0m \u001b[1;33m\u001b[0m\u001b[0m\n\u001b[0;32m    127\u001b[0m     \u001b[0mbytes_io\u001b[0m \u001b[1;33m=\u001b[0m \u001b[0mBytesIO\u001b[0m\u001b[1;33m(\u001b[0m\u001b[1;33m)\u001b[0m\u001b[1;33m\u001b[0m\u001b[1;33m\u001b[0m\u001b[0m\n\u001b[1;32m--> 128\u001b[1;33m     \u001b[0mfig\u001b[0m\u001b[1;33m.\u001b[0m\u001b[0mcanvas\u001b[0m\u001b[1;33m.\u001b[0m\u001b[0mprint_figure\u001b[0m\u001b[1;33m(\u001b[0m\u001b[0mbytes_io\u001b[0m\u001b[1;33m,\u001b[0m \u001b[1;33m**\u001b[0m\u001b[0mkw\u001b[0m\u001b[1;33m)\u001b[0m\u001b[1;33m\u001b[0m\u001b[1;33m\u001b[0m\u001b[0m\n\u001b[0m\u001b[0;32m    129\u001b[0m     \u001b[0mdata\u001b[0m \u001b[1;33m=\u001b[0m \u001b[0mbytes_io\u001b[0m\u001b[1;33m.\u001b[0m\u001b[0mgetvalue\u001b[0m\u001b[1;33m(\u001b[0m\u001b[1;33m)\u001b[0m\u001b[1;33m\u001b[0m\u001b[1;33m\u001b[0m\u001b[0m\n\u001b[0;32m    130\u001b[0m     \u001b[1;32mif\u001b[0m \u001b[0mfmt\u001b[0m \u001b[1;33m==\u001b[0m \u001b[1;34m'svg'\u001b[0m\u001b[1;33m:\u001b[0m\u001b[1;33m\u001b[0m\u001b[1;33m\u001b[0m\u001b[0m\n",
      "\u001b[1;32m~\\Anaconda3\\lib\\site-packages\\matplotlib\\backend_bases.py\u001b[0m in \u001b[0;36mprint_figure\u001b[1;34m(self, filename, dpi, facecolor, edgecolor, orientation, format, bbox_inches, **kwargs)\u001b[0m\n\u001b[0;32m   2047\u001b[0m                         \u001b[0morientation\u001b[0m\u001b[1;33m=\u001b[0m\u001b[0morientation\u001b[0m\u001b[1;33m,\u001b[0m\u001b[1;33m\u001b[0m\u001b[1;33m\u001b[0m\u001b[0m\n\u001b[0;32m   2048\u001b[0m                         \u001b[0mdryrun\u001b[0m\u001b[1;33m=\u001b[0m\u001b[1;32mTrue\u001b[0m\u001b[1;33m,\u001b[0m\u001b[1;33m\u001b[0m\u001b[1;33m\u001b[0m\u001b[0m\n\u001b[1;32m-> 2049\u001b[1;33m                         **kwargs)\n\u001b[0m\u001b[0;32m   2050\u001b[0m                     \u001b[0mrenderer\u001b[0m \u001b[1;33m=\u001b[0m \u001b[0mself\u001b[0m\u001b[1;33m.\u001b[0m\u001b[0mfigure\u001b[0m\u001b[1;33m.\u001b[0m\u001b[0m_cachedRenderer\u001b[0m\u001b[1;33m\u001b[0m\u001b[1;33m\u001b[0m\u001b[0m\n\u001b[0;32m   2051\u001b[0m                     \u001b[0mbbox_artists\u001b[0m \u001b[1;33m=\u001b[0m \u001b[0mkwargs\u001b[0m\u001b[1;33m.\u001b[0m\u001b[0mpop\u001b[0m\u001b[1;33m(\u001b[0m\u001b[1;34m\"bbox_extra_artists\"\u001b[0m\u001b[1;33m,\u001b[0m \u001b[1;32mNone\u001b[0m\u001b[1;33m)\u001b[0m\u001b[1;33m\u001b[0m\u001b[1;33m\u001b[0m\u001b[0m\n",
      "\u001b[1;32m~\\Anaconda3\\lib\\site-packages\\matplotlib\\backends\\backend_agg.py\u001b[0m in \u001b[0;36mprint_png\u001b[1;34m(self, filename_or_obj, *args, **kwargs)\u001b[0m\n\u001b[0;32m    508\u001b[0m \u001b[1;33m\u001b[0m\u001b[0m\n\u001b[0;32m    509\u001b[0m         \"\"\"\n\u001b[1;32m--> 510\u001b[1;33m         \u001b[0mFigureCanvasAgg\u001b[0m\u001b[1;33m.\u001b[0m\u001b[0mdraw\u001b[0m\u001b[1;33m(\u001b[0m\u001b[0mself\u001b[0m\u001b[1;33m)\u001b[0m\u001b[1;33m\u001b[0m\u001b[1;33m\u001b[0m\u001b[0m\n\u001b[0m\u001b[0;32m    511\u001b[0m         \u001b[0mrenderer\u001b[0m \u001b[1;33m=\u001b[0m \u001b[0mself\u001b[0m\u001b[1;33m.\u001b[0m\u001b[0mget_renderer\u001b[0m\u001b[1;33m(\u001b[0m\u001b[1;33m)\u001b[0m\u001b[1;33m\u001b[0m\u001b[1;33m\u001b[0m\u001b[0m\n\u001b[0;32m    512\u001b[0m \u001b[1;33m\u001b[0m\u001b[0m\n",
      "\u001b[1;32m~\\Anaconda3\\lib\\site-packages\\matplotlib\\backends\\backend_agg.py\u001b[0m in \u001b[0;36mdraw\u001b[1;34m(self)\u001b[0m\n\u001b[0;32m    400\u001b[0m         \u001b[0mtoolbar\u001b[0m \u001b[1;33m=\u001b[0m \u001b[0mself\u001b[0m\u001b[1;33m.\u001b[0m\u001b[0mtoolbar\u001b[0m\u001b[1;33m\u001b[0m\u001b[1;33m\u001b[0m\u001b[0m\n\u001b[0;32m    401\u001b[0m         \u001b[1;32mtry\u001b[0m\u001b[1;33m:\u001b[0m\u001b[1;33m\u001b[0m\u001b[1;33m\u001b[0m\u001b[0m\n\u001b[1;32m--> 402\u001b[1;33m             \u001b[0mself\u001b[0m\u001b[1;33m.\u001b[0m\u001b[0mfigure\u001b[0m\u001b[1;33m.\u001b[0m\u001b[0mdraw\u001b[0m\u001b[1;33m(\u001b[0m\u001b[0mself\u001b[0m\u001b[1;33m.\u001b[0m\u001b[0mrenderer\u001b[0m\u001b[1;33m)\u001b[0m\u001b[1;33m\u001b[0m\u001b[1;33m\u001b[0m\u001b[0m\n\u001b[0m\u001b[0;32m    403\u001b[0m             \u001b[1;31m# A GUI class may be need to update a window using this draw, so\u001b[0m\u001b[1;33m\u001b[0m\u001b[1;33m\u001b[0m\u001b[1;33m\u001b[0m\u001b[0m\n\u001b[0;32m    404\u001b[0m             \u001b[1;31m# don't forget to call the superclass.\u001b[0m\u001b[1;33m\u001b[0m\u001b[1;33m\u001b[0m\u001b[1;33m\u001b[0m\u001b[0m\n",
      "\u001b[1;32m~\\Anaconda3\\lib\\site-packages\\matplotlib\\artist.py\u001b[0m in \u001b[0;36mdraw_wrapper\u001b[1;34m(artist, renderer, *args, **kwargs)\u001b[0m\n\u001b[0;32m     48\u001b[0m                 \u001b[0mrenderer\u001b[0m\u001b[1;33m.\u001b[0m\u001b[0mstart_filter\u001b[0m\u001b[1;33m(\u001b[0m\u001b[1;33m)\u001b[0m\u001b[1;33m\u001b[0m\u001b[1;33m\u001b[0m\u001b[0m\n\u001b[0;32m     49\u001b[0m \u001b[1;33m\u001b[0m\u001b[0m\n\u001b[1;32m---> 50\u001b[1;33m             \u001b[1;32mreturn\u001b[0m \u001b[0mdraw\u001b[0m\u001b[1;33m(\u001b[0m\u001b[0martist\u001b[0m\u001b[1;33m,\u001b[0m \u001b[0mrenderer\u001b[0m\u001b[1;33m,\u001b[0m \u001b[1;33m*\u001b[0m\u001b[0margs\u001b[0m\u001b[1;33m,\u001b[0m \u001b[1;33m**\u001b[0m\u001b[0mkwargs\u001b[0m\u001b[1;33m)\u001b[0m\u001b[1;33m\u001b[0m\u001b[1;33m\u001b[0m\u001b[0m\n\u001b[0m\u001b[0;32m     51\u001b[0m         \u001b[1;32mfinally\u001b[0m\u001b[1;33m:\u001b[0m\u001b[1;33m\u001b[0m\u001b[1;33m\u001b[0m\u001b[0m\n\u001b[0;32m     52\u001b[0m             \u001b[1;32mif\u001b[0m \u001b[0martist\u001b[0m\u001b[1;33m.\u001b[0m\u001b[0mget_agg_filter\u001b[0m\u001b[1;33m(\u001b[0m\u001b[1;33m)\u001b[0m \u001b[1;32mis\u001b[0m \u001b[1;32mnot\u001b[0m \u001b[1;32mNone\u001b[0m\u001b[1;33m:\u001b[0m\u001b[1;33m\u001b[0m\u001b[1;33m\u001b[0m\u001b[0m\n",
      "\u001b[1;32m~\\Anaconda3\\lib\\site-packages\\matplotlib\\figure.py\u001b[0m in \u001b[0;36mdraw\u001b[1;34m(self, renderer)\u001b[0m\n\u001b[0;32m   1647\u001b[0m \u001b[1;33m\u001b[0m\u001b[0m\n\u001b[0;32m   1648\u001b[0m             mimage._draw_list_compositing_images(\n\u001b[1;32m-> 1649\u001b[1;33m                 renderer, self, artists, self.suppressComposite)\n\u001b[0m\u001b[0;32m   1650\u001b[0m \u001b[1;33m\u001b[0m\u001b[0m\n\u001b[0;32m   1651\u001b[0m             \u001b[0mrenderer\u001b[0m\u001b[1;33m.\u001b[0m\u001b[0mclose_group\u001b[0m\u001b[1;33m(\u001b[0m\u001b[1;34m'figure'\u001b[0m\u001b[1;33m)\u001b[0m\u001b[1;33m\u001b[0m\u001b[1;33m\u001b[0m\u001b[0m\n",
      "\u001b[1;32m~\\Anaconda3\\lib\\site-packages\\matplotlib\\image.py\u001b[0m in \u001b[0;36m_draw_list_compositing_images\u001b[1;34m(renderer, parent, artists, suppress_composite)\u001b[0m\n\u001b[0;32m    136\u001b[0m     \u001b[1;32mif\u001b[0m \u001b[0mnot_composite\u001b[0m \u001b[1;32mor\u001b[0m \u001b[1;32mnot\u001b[0m \u001b[0mhas_images\u001b[0m\u001b[1;33m:\u001b[0m\u001b[1;33m\u001b[0m\u001b[1;33m\u001b[0m\u001b[0m\n\u001b[0;32m    137\u001b[0m         \u001b[1;32mfor\u001b[0m \u001b[0ma\u001b[0m \u001b[1;32min\u001b[0m \u001b[0martists\u001b[0m\u001b[1;33m:\u001b[0m\u001b[1;33m\u001b[0m\u001b[1;33m\u001b[0m\u001b[0m\n\u001b[1;32m--> 138\u001b[1;33m             \u001b[0ma\u001b[0m\u001b[1;33m.\u001b[0m\u001b[0mdraw\u001b[0m\u001b[1;33m(\u001b[0m\u001b[0mrenderer\u001b[0m\u001b[1;33m)\u001b[0m\u001b[1;33m\u001b[0m\u001b[1;33m\u001b[0m\u001b[0m\n\u001b[0m\u001b[0;32m    139\u001b[0m     \u001b[1;32melse\u001b[0m\u001b[1;33m:\u001b[0m\u001b[1;33m\u001b[0m\u001b[1;33m\u001b[0m\u001b[0m\n\u001b[0;32m    140\u001b[0m         \u001b[1;31m# Composite any adjacent images together\u001b[0m\u001b[1;33m\u001b[0m\u001b[1;33m\u001b[0m\u001b[1;33m\u001b[0m\u001b[0m\n",
      "\u001b[1;32m~\\Anaconda3\\lib\\site-packages\\matplotlib\\artist.py\u001b[0m in \u001b[0;36mdraw_wrapper\u001b[1;34m(artist, renderer, *args, **kwargs)\u001b[0m\n\u001b[0;32m     48\u001b[0m                 \u001b[0mrenderer\u001b[0m\u001b[1;33m.\u001b[0m\u001b[0mstart_filter\u001b[0m\u001b[1;33m(\u001b[0m\u001b[1;33m)\u001b[0m\u001b[1;33m\u001b[0m\u001b[1;33m\u001b[0m\u001b[0m\n\u001b[0;32m     49\u001b[0m \u001b[1;33m\u001b[0m\u001b[0m\n\u001b[1;32m---> 50\u001b[1;33m             \u001b[1;32mreturn\u001b[0m \u001b[0mdraw\u001b[0m\u001b[1;33m(\u001b[0m\u001b[0martist\u001b[0m\u001b[1;33m,\u001b[0m \u001b[0mrenderer\u001b[0m\u001b[1;33m,\u001b[0m \u001b[1;33m*\u001b[0m\u001b[0margs\u001b[0m\u001b[1;33m,\u001b[0m \u001b[1;33m**\u001b[0m\u001b[0mkwargs\u001b[0m\u001b[1;33m)\u001b[0m\u001b[1;33m\u001b[0m\u001b[1;33m\u001b[0m\u001b[0m\n\u001b[0m\u001b[0;32m     51\u001b[0m         \u001b[1;32mfinally\u001b[0m\u001b[1;33m:\u001b[0m\u001b[1;33m\u001b[0m\u001b[1;33m\u001b[0m\u001b[0m\n\u001b[0;32m     52\u001b[0m             \u001b[1;32mif\u001b[0m \u001b[0martist\u001b[0m\u001b[1;33m.\u001b[0m\u001b[0mget_agg_filter\u001b[0m\u001b[1;33m(\u001b[0m\u001b[1;33m)\u001b[0m \u001b[1;32mis\u001b[0m \u001b[1;32mnot\u001b[0m \u001b[1;32mNone\u001b[0m\u001b[1;33m:\u001b[0m\u001b[1;33m\u001b[0m\u001b[1;33m\u001b[0m\u001b[0m\n",
      "\u001b[1;32m~\\Anaconda3\\lib\\site-packages\\matplotlib\\axes\\_base.py\u001b[0m in \u001b[0;36mdraw\u001b[1;34m(self, renderer, inframe)\u001b[0m\n\u001b[0;32m   2626\u001b[0m             \u001b[0mrenderer\u001b[0m\u001b[1;33m.\u001b[0m\u001b[0mstop_rasterizing\u001b[0m\u001b[1;33m(\u001b[0m\u001b[1;33m)\u001b[0m\u001b[1;33m\u001b[0m\u001b[1;33m\u001b[0m\u001b[0m\n\u001b[0;32m   2627\u001b[0m \u001b[1;33m\u001b[0m\u001b[0m\n\u001b[1;32m-> 2628\u001b[1;33m         \u001b[0mmimage\u001b[0m\u001b[1;33m.\u001b[0m\u001b[0m_draw_list_compositing_images\u001b[0m\u001b[1;33m(\u001b[0m\u001b[0mrenderer\u001b[0m\u001b[1;33m,\u001b[0m \u001b[0mself\u001b[0m\u001b[1;33m,\u001b[0m \u001b[0martists\u001b[0m\u001b[1;33m)\u001b[0m\u001b[1;33m\u001b[0m\u001b[1;33m\u001b[0m\u001b[0m\n\u001b[0m\u001b[0;32m   2629\u001b[0m \u001b[1;33m\u001b[0m\u001b[0m\n\u001b[0;32m   2630\u001b[0m         \u001b[0mrenderer\u001b[0m\u001b[1;33m.\u001b[0m\u001b[0mclose_group\u001b[0m\u001b[1;33m(\u001b[0m\u001b[1;34m'axes'\u001b[0m\u001b[1;33m)\u001b[0m\u001b[1;33m\u001b[0m\u001b[1;33m\u001b[0m\u001b[0m\n",
      "\u001b[1;32m~\\Anaconda3\\lib\\site-packages\\matplotlib\\image.py\u001b[0m in \u001b[0;36m_draw_list_compositing_images\u001b[1;34m(renderer, parent, artists, suppress_composite)\u001b[0m\n\u001b[0;32m    136\u001b[0m     \u001b[1;32mif\u001b[0m \u001b[0mnot_composite\u001b[0m \u001b[1;32mor\u001b[0m \u001b[1;32mnot\u001b[0m \u001b[0mhas_images\u001b[0m\u001b[1;33m:\u001b[0m\u001b[1;33m\u001b[0m\u001b[1;33m\u001b[0m\u001b[0m\n\u001b[0;32m    137\u001b[0m         \u001b[1;32mfor\u001b[0m \u001b[0ma\u001b[0m \u001b[1;32min\u001b[0m \u001b[0martists\u001b[0m\u001b[1;33m:\u001b[0m\u001b[1;33m\u001b[0m\u001b[1;33m\u001b[0m\u001b[0m\n\u001b[1;32m--> 138\u001b[1;33m             \u001b[0ma\u001b[0m\u001b[1;33m.\u001b[0m\u001b[0mdraw\u001b[0m\u001b[1;33m(\u001b[0m\u001b[0mrenderer\u001b[0m\u001b[1;33m)\u001b[0m\u001b[1;33m\u001b[0m\u001b[1;33m\u001b[0m\u001b[0m\n\u001b[0m\u001b[0;32m    139\u001b[0m     \u001b[1;32melse\u001b[0m\u001b[1;33m:\u001b[0m\u001b[1;33m\u001b[0m\u001b[1;33m\u001b[0m\u001b[0m\n\u001b[0;32m    140\u001b[0m         \u001b[1;31m# Composite any adjacent images together\u001b[0m\u001b[1;33m\u001b[0m\u001b[1;33m\u001b[0m\u001b[1;33m\u001b[0m\u001b[0m\n",
      "\u001b[1;32m~\\Anaconda3\\lib\\site-packages\\matplotlib\\artist.py\u001b[0m in \u001b[0;36mdraw_wrapper\u001b[1;34m(artist, renderer, *args, **kwargs)\u001b[0m\n\u001b[0;32m     48\u001b[0m                 \u001b[0mrenderer\u001b[0m\u001b[1;33m.\u001b[0m\u001b[0mstart_filter\u001b[0m\u001b[1;33m(\u001b[0m\u001b[1;33m)\u001b[0m\u001b[1;33m\u001b[0m\u001b[1;33m\u001b[0m\u001b[0m\n\u001b[0;32m     49\u001b[0m \u001b[1;33m\u001b[0m\u001b[0m\n\u001b[1;32m---> 50\u001b[1;33m             \u001b[1;32mreturn\u001b[0m \u001b[0mdraw\u001b[0m\u001b[1;33m(\u001b[0m\u001b[0martist\u001b[0m\u001b[1;33m,\u001b[0m \u001b[0mrenderer\u001b[0m\u001b[1;33m,\u001b[0m \u001b[1;33m*\u001b[0m\u001b[0margs\u001b[0m\u001b[1;33m,\u001b[0m \u001b[1;33m**\u001b[0m\u001b[0mkwargs\u001b[0m\u001b[1;33m)\u001b[0m\u001b[1;33m\u001b[0m\u001b[1;33m\u001b[0m\u001b[0m\n\u001b[0m\u001b[0;32m     51\u001b[0m         \u001b[1;32mfinally\u001b[0m\u001b[1;33m:\u001b[0m\u001b[1;33m\u001b[0m\u001b[1;33m\u001b[0m\u001b[0m\n\u001b[0;32m     52\u001b[0m             \u001b[1;32mif\u001b[0m \u001b[0martist\u001b[0m\u001b[1;33m.\u001b[0m\u001b[0mget_agg_filter\u001b[0m\u001b[1;33m(\u001b[0m\u001b[1;33m)\u001b[0m \u001b[1;32mis\u001b[0m \u001b[1;32mnot\u001b[0m \u001b[1;32mNone\u001b[0m\u001b[1;33m:\u001b[0m\u001b[1;33m\u001b[0m\u001b[1;33m\u001b[0m\u001b[0m\n",
      "\u001b[1;32m~\\Anaconda3\\lib\\site-packages\\matplotlib\\axis.py\u001b[0m in \u001b[0;36mdraw\u001b[1;34m(self, renderer, *args, **kwargs)\u001b[0m\n\u001b[0;32m   1197\u001b[0m         \u001b[0mself\u001b[0m\u001b[1;33m.\u001b[0m\u001b[0m_update_label_position\u001b[0m\u001b[1;33m(\u001b[0m\u001b[0mrenderer\u001b[0m\u001b[1;33m)\u001b[0m\u001b[1;33m\u001b[0m\u001b[1;33m\u001b[0m\u001b[0m\n\u001b[0;32m   1198\u001b[0m \u001b[1;33m\u001b[0m\u001b[0m\n\u001b[1;32m-> 1199\u001b[1;33m         \u001b[0mself\u001b[0m\u001b[1;33m.\u001b[0m\u001b[0mlabel\u001b[0m\u001b[1;33m.\u001b[0m\u001b[0mdraw\u001b[0m\u001b[1;33m(\u001b[0m\u001b[0mrenderer\u001b[0m\u001b[1;33m)\u001b[0m\u001b[1;33m\u001b[0m\u001b[1;33m\u001b[0m\u001b[0m\n\u001b[0m\u001b[0;32m   1200\u001b[0m \u001b[1;33m\u001b[0m\u001b[0m\n\u001b[0;32m   1201\u001b[0m         \u001b[0mself\u001b[0m\u001b[1;33m.\u001b[0m\u001b[0m_update_offset_text_position\u001b[0m\u001b[1;33m(\u001b[0m\u001b[0mticklabelBoxes\u001b[0m\u001b[1;33m,\u001b[0m \u001b[0mticklabelBoxes2\u001b[0m\u001b[1;33m)\u001b[0m\u001b[1;33m\u001b[0m\u001b[1;33m\u001b[0m\u001b[0m\n",
      "\u001b[1;32m~\\Anaconda3\\lib\\site-packages\\matplotlib\\artist.py\u001b[0m in \u001b[0;36mdraw_wrapper\u001b[1;34m(artist, renderer, *args, **kwargs)\u001b[0m\n\u001b[0;32m     48\u001b[0m                 \u001b[0mrenderer\u001b[0m\u001b[1;33m.\u001b[0m\u001b[0mstart_filter\u001b[0m\u001b[1;33m(\u001b[0m\u001b[1;33m)\u001b[0m\u001b[1;33m\u001b[0m\u001b[1;33m\u001b[0m\u001b[0m\n\u001b[0;32m     49\u001b[0m \u001b[1;33m\u001b[0m\u001b[0m\n\u001b[1;32m---> 50\u001b[1;33m             \u001b[1;32mreturn\u001b[0m \u001b[0mdraw\u001b[0m\u001b[1;33m(\u001b[0m\u001b[0martist\u001b[0m\u001b[1;33m,\u001b[0m \u001b[0mrenderer\u001b[0m\u001b[1;33m,\u001b[0m \u001b[1;33m*\u001b[0m\u001b[0margs\u001b[0m\u001b[1;33m,\u001b[0m \u001b[1;33m**\u001b[0m\u001b[0mkwargs\u001b[0m\u001b[1;33m)\u001b[0m\u001b[1;33m\u001b[0m\u001b[1;33m\u001b[0m\u001b[0m\n\u001b[0m\u001b[0;32m     51\u001b[0m         \u001b[1;32mfinally\u001b[0m\u001b[1;33m:\u001b[0m\u001b[1;33m\u001b[0m\u001b[1;33m\u001b[0m\u001b[0m\n\u001b[0;32m     52\u001b[0m             \u001b[1;32mif\u001b[0m \u001b[0martist\u001b[0m\u001b[1;33m.\u001b[0m\u001b[0mget_agg_filter\u001b[0m\u001b[1;33m(\u001b[0m\u001b[1;33m)\u001b[0m \u001b[1;32mis\u001b[0m \u001b[1;32mnot\u001b[0m \u001b[1;32mNone\u001b[0m\u001b[1;33m:\u001b[0m\u001b[1;33m\u001b[0m\u001b[1;33m\u001b[0m\u001b[0m\n",
      "\u001b[1;32m~\\Anaconda3\\lib\\site-packages\\matplotlib\\text.py\u001b[0m in \u001b[0;36mdraw\u001b[1;34m(self, renderer)\u001b[0m\n\u001b[0;32m    707\u001b[0m \u001b[1;33m\u001b[0m\u001b[0m\n\u001b[0;32m    708\u001b[0m         \u001b[1;32mwith\u001b[0m \u001b[0m_wrap_text\u001b[0m\u001b[1;33m(\u001b[0m\u001b[0mself\u001b[0m\u001b[1;33m)\u001b[0m \u001b[1;32mas\u001b[0m \u001b[0mtextobj\u001b[0m\u001b[1;33m:\u001b[0m\u001b[1;33m\u001b[0m\u001b[1;33m\u001b[0m\u001b[0m\n\u001b[1;32m--> 709\u001b[1;33m             \u001b[0mbbox\u001b[0m\u001b[1;33m,\u001b[0m \u001b[0minfo\u001b[0m\u001b[1;33m,\u001b[0m \u001b[0mdescent\u001b[0m \u001b[1;33m=\u001b[0m \u001b[0mtextobj\u001b[0m\u001b[1;33m.\u001b[0m\u001b[0m_get_layout\u001b[0m\u001b[1;33m(\u001b[0m\u001b[0mrenderer\u001b[0m\u001b[1;33m)\u001b[0m\u001b[1;33m\u001b[0m\u001b[1;33m\u001b[0m\u001b[0m\n\u001b[0m\u001b[0;32m    710\u001b[0m             \u001b[0mtrans\u001b[0m \u001b[1;33m=\u001b[0m \u001b[0mtextobj\u001b[0m\u001b[1;33m.\u001b[0m\u001b[0mget_transform\u001b[0m\u001b[1;33m(\u001b[0m\u001b[1;33m)\u001b[0m\u001b[1;33m\u001b[0m\u001b[1;33m\u001b[0m\u001b[0m\n\u001b[0;32m    711\u001b[0m \u001b[1;33m\u001b[0m\u001b[0m\n",
      "\u001b[1;32m~\\Anaconda3\\lib\\site-packages\\matplotlib\\text.py\u001b[0m in \u001b[0;36m_get_layout\u001b[1;34m(self, renderer)\u001b[0m\n\u001b[0;32m    302\u001b[0m         tmp, lp_h, lp_bl = renderer.get_text_width_height_descent('lp',\n\u001b[0;32m    303\u001b[0m                                                          \u001b[0mself\u001b[0m\u001b[1;33m.\u001b[0m\u001b[0m_fontproperties\u001b[0m\u001b[1;33m,\u001b[0m\u001b[1;33m\u001b[0m\u001b[1;33m\u001b[0m\u001b[0m\n\u001b[1;32m--> 304\u001b[1;33m                                                          ismath=False)\n\u001b[0m\u001b[0;32m    305\u001b[0m         \u001b[0moffsety\u001b[0m \u001b[1;33m=\u001b[0m \u001b[1;33m(\u001b[0m\u001b[0mlp_h\u001b[0m \u001b[1;33m-\u001b[0m \u001b[0mlp_bl\u001b[0m\u001b[1;33m)\u001b[0m \u001b[1;33m*\u001b[0m \u001b[0mself\u001b[0m\u001b[1;33m.\u001b[0m\u001b[0m_linespacing\u001b[0m\u001b[1;33m\u001b[0m\u001b[1;33m\u001b[0m\u001b[0m\n\u001b[0;32m    306\u001b[0m \u001b[1;33m\u001b[0m\u001b[0m\n",
      "\u001b[1;32m~\\Anaconda3\\lib\\site-packages\\matplotlib\\backends\\backend_agg.py\u001b[0m in \u001b[0;36mget_text_width_height_descent\u001b[1;34m(self, s, prop, ismath)\u001b[0m\n\u001b[0;32m    216\u001b[0m \u001b[1;33m\u001b[0m\u001b[0m\n\u001b[0;32m    217\u001b[0m         \u001b[0mflags\u001b[0m \u001b[1;33m=\u001b[0m \u001b[0mget_hinting_flag\u001b[0m\u001b[1;33m(\u001b[0m\u001b[1;33m)\u001b[0m\u001b[1;33m\u001b[0m\u001b[1;33m\u001b[0m\u001b[0m\n\u001b[1;32m--> 218\u001b[1;33m         \u001b[0mfont\u001b[0m \u001b[1;33m=\u001b[0m \u001b[0mself\u001b[0m\u001b[1;33m.\u001b[0m\u001b[0m_get_agg_font\u001b[0m\u001b[1;33m(\u001b[0m\u001b[0mprop\u001b[0m\u001b[1;33m)\u001b[0m\u001b[1;33m\u001b[0m\u001b[1;33m\u001b[0m\u001b[0m\n\u001b[0m\u001b[0;32m    219\u001b[0m         \u001b[0mfont\u001b[0m\u001b[1;33m.\u001b[0m\u001b[0mset_text\u001b[0m\u001b[1;33m(\u001b[0m\u001b[0ms\u001b[0m\u001b[1;33m,\u001b[0m \u001b[1;36m0.0\u001b[0m\u001b[1;33m,\u001b[0m \u001b[0mflags\u001b[0m\u001b[1;33m=\u001b[0m\u001b[0mflags\u001b[0m\u001b[1;33m)\u001b[0m\u001b[1;33m\u001b[0m\u001b[1;33m\u001b[0m\u001b[0m\n\u001b[0;32m    220\u001b[0m         \u001b[0mw\u001b[0m\u001b[1;33m,\u001b[0m \u001b[0mh\u001b[0m \u001b[1;33m=\u001b[0m \u001b[0mfont\u001b[0m\u001b[1;33m.\u001b[0m\u001b[0mget_width_height\u001b[0m\u001b[1;33m(\u001b[0m\u001b[1;33m)\u001b[0m  \u001b[1;31m# width and height of unrotated string\u001b[0m\u001b[1;33m\u001b[0m\u001b[1;33m\u001b[0m\u001b[0m\n",
      "\u001b[1;32m~\\Anaconda3\\lib\\site-packages\\matplotlib\\backends\\backend_agg.py\u001b[0m in \u001b[0;36m_get_agg_font\u001b[1;34m(self, prop)\u001b[0m\n\u001b[0;32m    251\u001b[0m         \"\"\"\n\u001b[0;32m    252\u001b[0m         \u001b[0mfname\u001b[0m \u001b[1;33m=\u001b[0m \u001b[0mfindfont\u001b[0m\u001b[1;33m(\u001b[0m\u001b[0mprop\u001b[0m\u001b[1;33m)\u001b[0m\u001b[1;33m\u001b[0m\u001b[1;33m\u001b[0m\u001b[0m\n\u001b[1;32m--> 253\u001b[1;33m         \u001b[0mfont\u001b[0m \u001b[1;33m=\u001b[0m \u001b[0mget_font\u001b[0m\u001b[1;33m(\u001b[0m\u001b[0mfname\u001b[0m\u001b[1;33m)\u001b[0m\u001b[1;33m\u001b[0m\u001b[1;33m\u001b[0m\u001b[0m\n\u001b[0m\u001b[0;32m    254\u001b[0m \u001b[1;33m\u001b[0m\u001b[0m\n\u001b[0;32m    255\u001b[0m         \u001b[0mfont\u001b[0m\u001b[1;33m.\u001b[0m\u001b[0mclear\u001b[0m\u001b[1;33m(\u001b[0m\u001b[1;33m)\u001b[0m\u001b[1;33m\u001b[0m\u001b[1;33m\u001b[0m\u001b[0m\n",
      "\u001b[1;32m~\\Anaconda3\\lib\\site-packages\\matplotlib\\font_manager.py\u001b[0m in \u001b[0;36mget_font\u001b[1;34m(filename, hinting_factor)\u001b[0m\n\u001b[0;32m   1289\u001b[0m     \u001b[1;32mif\u001b[0m \u001b[0mhinting_factor\u001b[0m \u001b[1;32mis\u001b[0m \u001b[1;32mNone\u001b[0m\u001b[1;33m:\u001b[0m\u001b[1;33m\u001b[0m\u001b[1;33m\u001b[0m\u001b[0m\n\u001b[0;32m   1290\u001b[0m         \u001b[0mhinting_factor\u001b[0m \u001b[1;33m=\u001b[0m \u001b[0mrcParams\u001b[0m\u001b[1;33m[\u001b[0m\u001b[1;34m'text.hinting_factor'\u001b[0m\u001b[1;33m]\u001b[0m\u001b[1;33m\u001b[0m\u001b[1;33m\u001b[0m\u001b[0m\n\u001b[1;32m-> 1291\u001b[1;33m     \u001b[1;32mreturn\u001b[0m \u001b[0m_get_font\u001b[0m\u001b[1;33m(\u001b[0m\u001b[0mfilename\u001b[0m\u001b[1;33m,\u001b[0m \u001b[0mhinting_factor\u001b[0m\u001b[1;33m)\u001b[0m\u001b[1;33m\u001b[0m\u001b[1;33m\u001b[0m\u001b[0m\n\u001b[0m\u001b[0;32m   1292\u001b[0m \u001b[1;33m\u001b[0m\u001b[0m\n\u001b[0;32m   1293\u001b[0m \u001b[1;33m\u001b[0m\u001b[0m\n",
      "\u001b[1;31mFileNotFoundError\u001b[0m: [Errno 2] No such file or directory: '/Library/Fonts/Songti.ttc'"
     ]
    },
    {
     "data": {
      "text/plain": [
       "<Figure size 640x480 with 1 Axes>"
      ]
     },
     "metadata": {
      "needs_background": "light"
     },
     "output_type": "display_data"
    }
   ],
   "source": [
    "###################################################################\n",
    "#                                                                 #\n",
    "#                     PLOTTING A LIVE GRAPH                       #\n",
    "#                  ----------------------------                   #\n",
    "#            EMBED A MATPLOTLIB ANIMATION INSIDE YOUR             #\n",
    "#            OWN GUI!                                             #\n",
    "#                                                                 #\n",
    "###################################################################\n",
    "\n",
    "\n",
    "import sys\n",
    "import os\n",
    "from PyQt4 import QtGui\n",
    "from PyQt4 import QtCore\n",
    "import functools\n",
    "import numpy as np\n",
    "import random as rd\n",
    "import matplotlib\n",
    "matplotlib.use(\"Qt4Agg\")\n",
    "from matplotlib.figure import Figure\n",
    "from matplotlib.animation import TimedAnimation\n",
    "from matplotlib.lines import Line2D\n",
    "from matplotlib.backends.backend_qt4agg import FigureCanvasQTAgg as FigureCanvas\n",
    "import time\n",
    "import threading\n",
    "\n",
    "\n",
    "\n",
    "def setCustomSize(x, width, height):\n",
    "    sizePolicy = QtGui.QSizePolicy(QtGui.QSizePolicy.Fixed, QtGui.QSizePolicy.Fixed)\n",
    "    sizePolicy.setHorizontalStretch(0)\n",
    "    sizePolicy.setVerticalStretch(0)\n",
    "    sizePolicy.setHeightForWidth(x.sizePolicy().hasHeightForWidth())\n",
    "    x.setSizePolicy(sizePolicy)\n",
    "    x.setMinimumSize(QtCore.QSize(width, height))\n",
    "    x.setMaximumSize(QtCore.QSize(width, height))\n",
    "\n",
    "''''''\n",
    "\n",
    "class CustomMainWindow(QtGui.QMainWindow):\n",
    "\n",
    "    def __init__(self):\n",
    "\n",
    "        super(CustomMainWindow, self).__init__()\n",
    "\n",
    "        # Define the geometry of the main window\n",
    "        self.setGeometry(300, 300, 800, 400)\n",
    "        self.setWindowTitle(\"my first window\")\n",
    "\n",
    "        # Create FRAME_A\n",
    "        self.FRAME_A = QtGui.QFrame(self)\n",
    "        self.FRAME_A.setStyleSheet(\"QWidget { background-color: %s }\" % QtGui.QColor(210,210,235,255).name())\n",
    "        self.LAYOUT_A = QtGui.QGridLayout()\n",
    "        self.FRAME_A.setLayout(self.LAYOUT_A)\n",
    "        self.setCentralWidget(self.FRAME_A)\n",
    "\n",
    "        # Place the zoom button\n",
    "        self.zoomBtn = QtGui.QPushButton(text = 'zoom')\n",
    "        setCustomSize(self.zoomBtn, 100, 50)\n",
    "        self.zoomBtn.clicked.connect(self.zoomBtnAction)\n",
    "        self.LAYOUT_A.addWidget(self.zoomBtn, *(0,0))\n",
    "\n",
    "        # Place the matplotlib figure\n",
    "        self.myFig = CustomFigCanvas()\n",
    "        self.LAYOUT_A.addWidget(self.myFig, *(0,1))\n",
    "\n",
    "        # Add the callbackfunc to ..\n",
    "        myDataLoop = threading.Thread(name = 'myDataLoop', target = dataSendLoop, daemon = True, args = (self.addData_callbackFunc,))\n",
    "        myDataLoop.start()\n",
    "\n",
    "        self.show()\n",
    "\n",
    "    ''''''\n",
    "\n",
    "\n",
    "    def zoomBtnAction(self):\n",
    "        print(\"zoom in\")\n",
    "        self.myFig.zoomIn(5)\n",
    "\n",
    "    ''''''\n",
    "\n",
    "    def addData_callbackFunc(self, value):\n",
    "        # print(\"Add data: \" + str(value))\n",
    "        self.myFig.addData(value)\n",
    "\n",
    "\n",
    "\n",
    "''' End Class '''\n",
    "\n",
    "\n",
    "class CustomFigCanvas(FigureCanvas, TimedAnimation):\n",
    "\n",
    "    def __init__(self):\n",
    "\n",
    "        self.addedData = []\n",
    "        print(matplotlib.__version__)\n",
    "\n",
    "        # The data\n",
    "        self.xlim = 200\n",
    "        self.n = np.linspace(0, self.xlim - 1, self.xlim)\n",
    "        a = []\n",
    "        b = []\n",
    "        a.append(2.0)\n",
    "        a.append(4.0)\n",
    "        a.append(2.0)\n",
    "        b.append(4.0)\n",
    "        b.append(3.0)\n",
    "        b.append(4.0)\n",
    "        self.y = (self.n * 0.0) + 50\n",
    "\n",
    "        # The window\n",
    "        self.fig = Figure(figsize=(5,5), dpi=100)\n",
    "        self.ax1 = self.fig.add_subplot(111)\n",
    "\n",
    "\n",
    "        # self.ax1 settings\n",
    "        self.ax1.set_xlabel('time')\n",
    "        self.ax1.set_ylabel('raw data')\n",
    "        self.line1 = Line2D([], [], color='blue')\n",
    "        self.line1_tail = Line2D([], [], color='red', linewidth=2)\n",
    "        self.line1_head = Line2D([], [], color='red', marker='o', markeredgecolor='r')\n",
    "        self.ax1.add_line(self.line1)\n",
    "        self.ax1.add_line(self.line1_tail)\n",
    "        self.ax1.add_line(self.line1_head)\n",
    "        self.ax1.set_xlim(0, self.xlim - 1)\n",
    "        self.ax1.set_ylim(0, 100)\n",
    "\n",
    "\n",
    "        FigureCanvas.__init__(self, self.fig)\n",
    "        TimedAnimation.__init__(self, self.fig, interval = 50, blit = True)\n",
    "\n",
    "    def new_frame_seq(self):\n",
    "        return iter(range(self.n.size))\n",
    "\n",
    "    def _init_draw(self):\n",
    "        lines = [self.line1, self.line1_tail, self.line1_head]\n",
    "        for l in lines:\n",
    "            l.set_data([], [])\n",
    "\n",
    "    def addData(self, value):\n",
    "        self.addedData.append(value)\n",
    "\n",
    "    def zoomIn(self, value):\n",
    "        bottom = self.ax1.get_ylim()[0]\n",
    "        top = self.ax1.get_ylim()[1]\n",
    "        bottom += value\n",
    "        top -= value\n",
    "        self.ax1.set_ylim(bottom,top)\n",
    "        self.draw()\n",
    "\n",
    "\n",
    "    def _step(self, *args):\n",
    "        # Extends the _step() method for the TimedAnimation class.\n",
    "        try:\n",
    "            TimedAnimation._step(self, *args)\n",
    "        except Exception as e:\n",
    "            self.abc += 1\n",
    "            print(str(self.abc))\n",
    "            TimedAnimation._stop(self)\n",
    "            pass\n",
    "\n",
    "    def _draw_frame(self, framedata):\n",
    "        margin = 2\n",
    "        while(len(self.addedData) > 0):\n",
    "            self.y = np.roll(self.y, -1)\n",
    "            self.y[-1] = self.addedData[0]\n",
    "            del(self.addedData[0])\n",
    "\n",
    "\n",
    "        self.line1.set_data(self.n[ 0 : self.n.size - margin ], self.y[ 0 : self.n.size - margin ])\n",
    "        self.line1_tail.set_data(np.append(self.n[-10:-1 - margin], self.n[-1 - margin]), np.append(self.y[-10:-1 - margin], self.y[-1 - margin]))\n",
    "        self.line1_head.set_data(self.n[-1 - margin], self.y[-1 - margin])\n",
    "        self._drawn_artists = [self.line1, self.line1_tail, self.line1_head]\n",
    "\n",
    "\n",
    "\n",
    "''' End Class '''\n",
    "\n",
    "\n",
    "# You need to setup a signal slot mechanism, to \n",
    "# send data to your GUI in a thread-safe way.\n",
    "# Believe me, if you don't do this right, things\n",
    "# go very very wrong..\n",
    "class Communicate(QtCore.QObject):\n",
    "    data_signal = QtCore.pyqtSignal(float)\n",
    "\n",
    "''' End Class '''\n",
    "\n",
    "\n",
    "\n",
    "def dataSendLoop(addData_callbackFunc):\n",
    "    # Setup the signal-slot mechanism.\n",
    "    mySrc = Communicate()\n",
    "    mySrc.data_signal.connect(addData_callbackFunc)\n",
    "\n",
    "    # Simulate some data\n",
    "    n = np.linspace(0, 499, 500)\n",
    "    y = 50 + 25*(np.sin(n / 8.3)) + 10*(np.sin(n / 7.5)) - 5*(np.sin(n / 1.5))\n",
    "    i = 0\n",
    "\n",
    "    while(True):\n",
    "        if(i > 499):\n",
    "            i = 0\n",
    "        time.sleep(0.1)\n",
    "        mySrc.data_signal.emit(y[i]) # <- Here you emit a signal!\n",
    "        i += 1\n",
    "    ###\n",
    "###\n",
    "\n",
    "\n",
    "\n",
    "\n",
    "if __name__== '__main__':\n",
    "    app = QtGui.QApplication(sys.argv)\n",
    "    QtGui.QApplication.setStyle(QtGui.QStyleFactory.create('Plastique'))\n",
    "    myGUI = CustomMainWindow()\n",
    "\n",
    "\n",
    "    sys.exit(app.exec_())\n",
    "\n",
    "''''''"
   ]
  },
  {
   "cell_type": "code",
   "execution_count": 16,
   "metadata": {},
   "outputs": [],
   "source": [
    "x = np.linspace(0, 2 * np.pi, 100)"
   ]
  },
  {
   "cell_type": "code",
   "execution_count": 15,
   "metadata": {},
   "outputs": [],
   "source": []
  },
  {
   "cell_type": "code",
   "execution_count": 19,
   "metadata": {},
   "outputs": [
    {
     "name": "stdout",
     "output_type": "stream",
     "text": [
      "ham\n",
      "eggs\n",
      "eggs\n"
     ]
    }
   ],
   "source": [
    "def foo():\n",
    "    def bar():\n",
    "        print(spam)\n",
    "\n",
    "    spam = 'ham'\n",
    "    bar()\n",
    "    spam = 'eggs'\n",
    "    bar()\n",
    "    return bar\n",
    "\n",
    "b = foo()\n",
    "b()"
   ]
  },
  {
   "cell_type": "code",
   "execution_count": 48,
   "metadata": {},
   "outputs": [
    {
     "name": "stdout",
     "output_type": "stream",
     "text": [
      "<class 'function'>\n",
      "<method-wrapper '__delattr__' of function object at 0x000002A0F9F6A840>\n",
      "<built-in method __dir__ of function object at 0x000002A0F9F6A840>\n",
      "None\n",
      "<method-wrapper '__eq__' of function object at 0x000002A0F9F6A840>\n",
      "<built-in method __format__ of function object at 0x000002A0F9F6A840>\n",
      "<method-wrapper '__ge__' of function object at 0x000002A0F9F6A840>\n",
      "<method-wrapper '__getattribute__' of function object at 0x000002A0F9F6A840>\n",
      "<method-wrapper '__gt__' of function object at 0x000002A0F9F6A840>\n",
      "<method-wrapper '__hash__' of function object at 0x000002A0F9F6A840>\n",
      "<method-wrapper '__init__' of function object at 0x000002A0F9F6A840>\n",
      "<built-in method __init_subclass__ of type object at 0x00007FFBFC7B3240>\n",
      "<method-wrapper '__le__' of function object at 0x000002A0F9F6A840>\n",
      "<method-wrapper '__lt__' of function object at 0x000002A0F9F6A840>\n",
      "<method-wrapper '__ne__' of function object at 0x000002A0F9F6A840>\n",
      "<built-in method __new__ of type object at 0x00007FFBFC7B3240>\n",
      "<built-in method __reduce__ of function object at 0x000002A0F9F6A840>\n",
      "<built-in method __reduce_ex__ of function object at 0x000002A0F9F6A840>\n",
      "<method-wrapper '__repr__' of function object at 0x000002A0F9F6A840>\n",
      "<method-wrapper '__setattr__' of function object at 0x000002A0F9F6A840>\n",
      "<built-in method __sizeof__ of function object at 0x000002A0F9F6A840>\n",
      "<method-wrapper '__str__' of function object at 0x000002A0F9F6A840>\n",
      "<built-in method __subclasshook__ of type object at 0x00007FFBFC7B3240>\n",
      "None\n"
     ]
    }
   ],
   "source": [
    "for i in dir(b.__closure__[0]):\n",
    "    print(getattr(b,i,None))"
   ]
  },
  {
   "cell_type": "code",
   "execution_count": 47,
   "metadata": {},
   "outputs": [
    {
     "data": {
      "text/plain": [
       "'eggs'"
      ]
     },
     "execution_count": 47,
     "metadata": {},
     "output_type": "execute_result"
    }
   ],
   "source": [
    "b.__closure__[0].cell_contents"
   ]
  },
  {
   "cell_type": "code",
   "execution_count": 72,
   "metadata": {},
   "outputs": [
    {
     "ename": "SyntaxError",
     "evalue": "unexpected EOF while parsing (<ipython-input-72-e2f2b05ad91f>, line 1)",
     "output_type": "error",
     "traceback": [
      "\u001b[1;36m  File \u001b[1;32m\"<ipython-input-72-e2f2b05ad91f>\"\u001b[1;36m, line \u001b[1;32m1\u001b[0m\n\u001b[1;33m    if [1]:\u001b[0m\n\u001b[1;37m           ^\u001b[0m\n\u001b[1;31mSyntaxError\u001b[0m\u001b[1;31m:\u001b[0m unexpected EOF while parsing\n"
     ]
    }
   ],
   "source": [
    " [1]"
   ]
  },
  {
   "cell_type": "code",
   "execution_count": 8,
   "metadata": {},
   "outputs": [
    {
     "ename": "SystemExit",
     "evalue": "0",
     "output_type": "error",
     "traceback": [
      "An exception has occurred, use %tb to see the full traceback.\n",
      "\u001b[1;31mSystemExit\u001b[0m\u001b[1;31m:\u001b[0m 0\n"
     ]
    },
    {
     "name": "stderr",
     "output_type": "stream",
     "text": [
      "C:\\Users\\Hegxiten\\Anaconda3\\lib\\site-packages\\IPython\\core\\interactiveshell.py:3275: UserWarning: To exit: use 'exit', 'quit', or Ctrl-D.\n",
      "  warn(\"To exit: use 'exit', 'quit', or Ctrl-D.\", stacklevel=1)\n"
     ]
    }
   ],
   "source": [
    "#!/usr/bin/python3\n",
    "# -*- coding: utf-8 -*-\n",
    "\n",
    "\"\"\"\n",
    "Py40 PyQt5 tutorial \n",
    "\n",
    "This program creates a quit\n",
    "button. When we press the button,\n",
    "the application terminates. \n",
    "\n",
    "author: Jan Bodnar\n",
    "website: py40.com \n",
    "last edited: January 2015\n",
    "\"\"\"\n",
    "\n",
    "import sys\n",
    "from PyQt5.QtWidgets import QWidget, QPushButton, QApplication\n",
    "from PyQt5.QtCore import QCoreApplication\n",
    "\n",
    "\n",
    "class Example(QWidget):\n",
    "    \n",
    "    def __init__(self):\n",
    "        super().__init__()\n",
    "        \n",
    "        self.initUI()\n",
    "        \n",
    "        \n",
    "    def initUI(self):               \n",
    "        \n",
    "        qbtn = QPushButton('Quit', self)\n",
    "        qbtn.clicked.connect(QCoreApplication.instance().quit)\n",
    "        qbtn.resize(qbtn.sizeHint())\n",
    "        qbtn.move(50, 50)       \n",
    "        \n",
    "        self.setGeometry(300, 300, 250, 150)\n",
    "        self.setWindowTitle('Quit button')    \n",
    "        self.show()\n",
    "        \n",
    "        \n",
    "if __name__ == '__main__':\n",
    "    \n",
    "    app = QApplication(sys.argv)\n",
    "    ex = Example()\n",
    "    sys.exit(app.exec_())"
   ]
  },
  {
   "cell_type": "code",
   "execution_count": null,
   "metadata": {},
   "outputs": [],
   "source": []
  }
 ],
 "metadata": {
  "kernelspec": {
   "display_name": "Python 3",
   "language": "python",
   "name": "python3"
  },
  "language_info": {
   "codemirror_mode": {
    "name": "ipython",
    "version": 3
   },
   "file_extension": ".py",
   "mimetype": "text/x-python",
   "name": "python",
   "nbconvert_exporter": "python",
   "pygments_lexer": "ipython3",
   "version": "3.7.3"
  }
 },
 "nbformat": 4,
 "nbformat_minor": 2
}
