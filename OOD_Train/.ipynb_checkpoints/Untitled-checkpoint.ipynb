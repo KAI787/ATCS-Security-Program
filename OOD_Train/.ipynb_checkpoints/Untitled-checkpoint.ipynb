{
 "cells": [
  {
   "cell_type": "code",
   "execution_count": 2,
   "metadata": {},
   "outputs": [],
   "source": [
    "import os\n",
    "import sys\n",
    "sys.path.append('D:\\\\Users\\\\Hegxiten\\\\workspace\\\\Rutgers_Railway_security_research\\\\OOD_Train')\n",
    "\n",
    "from datetime import datetime, timedelta\n",
    "import numpy as np\n",
    "import random\n",
    "from train import Train\n",
    "from infrastructure import Track, Block, BigBlock\n",
    "from signaling import AutoSignal, HomeSignal, AutoPoint, ControlPoint\n",
    "\n",
    "import networkx as nx\n"
   ]
  },
  {
   "cell_type": "code",
   "execution_count": 3,
   "metadata": {},
   "outputs": [],
   "source": [
    "_node = {   0:ControlPoint(idx=0, ports=[0,1], MP=0.0), \\\n",
    "            1:AutoPoint(1), \\\n",
    "            2:AutoPoint(2), \\\n",
    "            3:ControlPoint(idx=3, ports=[0,1,3], ban_routes_port={1:[3],3:[1]}), \\\n",
    "            4:ControlPoint(idx=4, ports=[0,2,1], ban_routes_port={0:[2],2:[0]}), \\\n",
    "            5:AutoPoint(5), \\\n",
    "            6:ControlPoint(idx=6, ports=[0,1,3], ban_routes_port={1:[3],3:[1]}), \\\n",
    "            7:ControlPoint(idx=7, ports=[0,2,1], ban_routes_port={0:[2],2:[0]}), \\\n",
    "            8:AutoPoint(8), \\\n",
    "            9:AutoPoint(9), \\\n",
    "            10:ControlPoint(idx=10, ports=[0,1])}       \n",
    "nbunch = [_node[i] for i in range(len(_node))]\n",
    "\n",
    "_track = [  Track(nbunch[0], 1, nbunch[1], 0), Track(nbunch[1], 1, nbunch[2], 0), Track(nbunch[2], 1, nbunch[3], 0),\\\n",
    "            Track(nbunch[3], 1, nbunch[4], 0), Track(nbunch[3], 3, nbunch[4], 2, edge_key=1),\\\n",
    "            Track(nbunch[4], 1, nbunch[5], 0), Track(nbunch[5], 1, nbunch[6], 0),\\\n",
    "            Track(nbunch[6], 1, nbunch[7], 0), Track(nbunch[6], 3, nbunch[7], 2, edge_key=1),\\\n",
    "            Track(nbunch[7], 1, nbunch[8], 0), Track(nbunch[8], 1, nbunch[9], 0), Track(nbunch[9], 1, nbunch[10], 0)]\n",
    "ebunch = [_track[i] for i in range(len(_track))]\n",
    "\n",
    "# _node and _track will be parameters passed from outside in the future development\n",
    "G = nx.MultiGraph()\n",
    "for n in nbunch:\n",
    "    G.add_node(n, attr=n.__dict__, instance=n)              \n",
    "    # __dict__ of instances (CPs, ATs, Tracks) is pointing the same \n",
    "    # attribute dictionary as the node in the MultiGraph\n",
    "\n",
    "for t in ebunch:\n",
    "    G.add_edge(t.L_point, t.R_point, key=t.edge_key, attr=t.__dict__, instance=t)          \n",
    "    # __dict__ of instances (CPs, ATs, Tracks) is pointing the same \n",
    "    # attribute dictionary as the edge in the MultiGraph\n",
    "    # key is the index of parallel edges between two nodes\n",
    "    t.L_point.port_track[t.L_point_port] = t.R_point.port_track[t.R_point_port] = t\n",
    "\n",
    "for i in G.nodes():     # register the neighbor nodes as observers to each node\n",
    "    i.neighbors.extend([n for n in G.neighbors(i)])              \n",
    "    for n in G.neighbors(i):\n",
    "        i.add_observer(n)"
   ]
  },
  {
   "cell_type": "code",
   "execution_count": 4,
   "metadata": {},
   "outputs": [],
   "source": [
    "F = G.copy()        \n",
    "# F is a shallow copy of G: attrbutes of G/F components \n",
    "# are pointing at the same memory.\n",
    "\n",
    "def _get_new_edge(node, length=False):\n",
    "    at_neighbor = [j for j in F.neighbors(i)]\n",
    "    assert len(at_neighbor) == len(F.edges(i)) == 2\n",
    "    edgetrk_L_points = [F[at_neighbor[0]][node][0]['instance'].L_point, F[node][at_neighbor[1]][0]['instance'].L_point]\n",
    "    edgetrk_R_points = [F[at_neighbor[0]][node][0]['instance'].R_point, F[node][at_neighbor[1]][0]['instance'].R_point]\n",
    "    edgetrk_L_points.remove(i)\n",
    "    edgetrk_R_points.remove(i)\n",
    "    new_edge_length = F[at_neighbor[0]][i][0]['instance'].length + F[i][at_neighbor[1]][0]['instance'].length\n",
    "    if length:\n",
    "        return edgetrk_L_points[0], edgetrk_R_points[0], new_edge_length\n",
    "    else:  \n",
    "        return edgetrk_L_points[0], edgetrk_R_points[0]\n",
    "\n",
    "for i in G.nodes():\n",
    "    # only use G.nodes() instead of F.nodes() to get original nodes \n",
    "    # to avoid dictionary size changing issues. \n",
    "    # all the following graph updates are targeted on F\n",
    "    if i.type == 'at':\n",
    "        new_L_point, new_R_point, new_length = _get_new_edge(i, length=True)\n",
    "        assert len(F[new_L_point][i]) == len(F[i][new_R_point]) == 1\n",
    "        new_track =  Track( new_L_point, F[new_L_point][i][0]['instance'].L_point_port,\\\n",
    "                            new_R_point, F[i][new_R_point][0]['instance'].R_point_port,\\\n",
    "                            edge_key=0, length=new_length)\n",
    "\n",
    "        F.remove_node(i)\n",
    "        F.add_edge(new_L_point, new_R_point, attr=new_track.__dict__, instance=new_track)     \n",
    "        # MultiGraph parallel edges are auto-keyed (0, 1, 2...)\n",
    "        # default 0 as mainline, idx as track number\n",
    "\n",
    "for (u, v, k) in F.edges(keys=True):\n",
    "    blk_path = nx.shortest_path(G, u, v)\n",
    "    big_block_edges = [(blk_path[i], blk_path[i+1]) for i in range(len(blk_path) - 1)]\n",
    "    big_block_instance = BigBlock(  u, F[u][v][k]['instance'].L_point_port,\\\n",
    "                                    v, F[u][v][k]['instance'].R_point_port,\\\n",
    "                                    edge_key=k, length=F[u][v][k]['instance'].length, \\\n",
    "                                    raw_graph=G, cp_graph=F)\n",
    "    u.port_bigblock[F[u][v][k]['instance'].L_point_port] = v.port_bigblock[F[u][v][k]['instance'].R_point_port] = big_block_instance\n",
    "\n",
    "    for (n, m) in big_block_edges:\n",
    "        if G[n][m][k]['instance'] not in big_block_instance.tracks:\n",
    "            big_block_instance.tracks.append(G[n][m][k]['instance'])\n",
    "        # get the list of track unit components of a bigblock, and record in the instance\n",
    "\n",
    "    F[u][v][k]['attr'] = big_block_instance.__dict__\n",
    "    F[u][v][k]['instance'] = big_block_instance\n",
    "    for t in F[u][v][k]['instance'].tracks:\n",
    "        t.bigblock = F[u][v][k]['instance']"
   ]
  },
  {
   "cell_type": "code",
   "execution_count": 5,
   "metadata": {
    "scrolled": true
   },
   "outputs": [
    {
     "data": {
      "text/plain": [
       "{'attr': {'_observers': [AutoPoint2, ControlPoint4],\n",
       "  'MP': 15.0,\n",
       "  'idx': 3,\n",
       "  'type': 'cp',\n",
       "  'ports': [0, 1, 3],\n",
       "  'available_routes_p2p': defaultdict(list, {0: [1, 3], 1: [0], 3: [0]}),\n",
       "  'non_mutex_routes': defaultdict(list, {}),\n",
       "  'ban_routes_port': {1: [3], 3: [1]},\n",
       "  'all_valid_routes': [(0, 1), (1, 0), (0, 3), (3, 0)],\n",
       "  '_current_routes': [],\n",
       "  'neighbors': [AutoPoint2, ControlPoint4],\n",
       "  'port_track': {0: Track MP: 10.0 to MP: 15.0 idx: 0,\n",
       "   1: Track MP: 15.0 to MP: 20.0 idx: 0,\n",
       "   3: Track MP: 15.0 to MP: 20.0 idx: 1},\n",
       "  'entry_signal_port': {0: HomeSignal of ControlPoint3, port: 0,\n",
       "   1: HomeSignal of ControlPoint3, port: 1,\n",
       "   3: HomeSignal of ControlPoint3, port: 3},\n",
       "  'port_bigblock': {0: BigBlock MP: 0.0 to MP: 15.0 idx: 0,\n",
       "   1: BigBlock MP: 15.0 to MP: 20.0 idx: 0,\n",
       "   3: BigBlock MP: 15.0 to MP: 20.0 idx: 1}},\n",
       " 'instance': ControlPoint3}"
      ]
     },
     "execution_count": 5,
     "metadata": {},
     "output_type": "execute_result"
    }
   ],
   "source": [
    "F.node[_node[3]]"
   ]
  },
  {
   "cell_type": "code",
   "execution_count": 6,
   "metadata": {},
   "outputs": [
    {
     "data": {
      "text/plain": [
       "{'_observers': [AutoPoint1, ControlPoint3],\n",
       " 'MP': 10.0,\n",
       " 'idx': 2,\n",
       " 'type': 'at',\n",
       " 'ports': [0, 1],\n",
       " 'available_routes_p2p': {0: [1], 1: [0]},\n",
       " 'non_mutex_routes': {},\n",
       " 'ban_routes_port': {},\n",
       " 'all_valid_routes': [(0, 1), (1, 0)],\n",
       " '_current_routes': [],\n",
       " 'neighbors': [AutoPoint1, ControlPoint3],\n",
       " 'port_track': {0: Track MP: 5.0 to MP: 10.0 idx: 0,\n",
       "  1: Track MP: 10.0 to MP: 15.0 idx: 0},\n",
       " 'entry_signal_port': {0: AutoSignal of AutoPoint2, port: 0,\n",
       "  1: AutoSignal of AutoPoint2, port: 1}}"
      ]
     },
     "execution_count": 6,
     "metadata": {},
     "output_type": "execute_result"
    }
   ],
   "source": [
    "_node[2].__dict__"
   ]
  },
  {
   "cell_type": "code",
   "execution_count": 7,
   "metadata": {},
   "outputs": [
    {
     "data": {
      "text/plain": [
       "Track MP: 10.0 to MP: 15.0 idx: 0"
      ]
     },
     "execution_count": 7,
     "metadata": {},
     "output_type": "execute_result"
    }
   ],
   "source": [
    "G[_node[2]][_node[3]][0]['instance']"
   ]
  },
  {
   "cell_type": "code",
   "execution_count": 8,
   "metadata": {},
   "outputs": [
    {
     "data": {
      "text/plain": [
       "['MP',\n",
       " '__class__',\n",
       " '__delattr__',\n",
       " '__dict__',\n",
       " '__dir__',\n",
       " '__doc__',\n",
       " '__eq__',\n",
       " '__format__',\n",
       " '__ge__',\n",
       " '__getattribute__',\n",
       " '__gt__',\n",
       " '__hash__',\n",
       " '__init__',\n",
       " '__init_subclass__',\n",
       " '__le__',\n",
       " '__lt__',\n",
       " '__module__',\n",
       " '__ne__',\n",
       " '__new__',\n",
       " '__reduce__',\n",
       " '__reduce_ex__',\n",
       " '__repr__',\n",
       " '__setattr__',\n",
       " '__sizeof__',\n",
       " '__str__',\n",
       " '__subclasshook__',\n",
       " '__weakref__',\n",
       " '_current_routes',\n",
       " '_observers',\n",
       " 'add_observer',\n",
       " 'all_valid_routes',\n",
       " 'available_routes_p2p',\n",
       " 'ban_routes_port',\n",
       " 'close_route',\n",
       " 'current_invalid_routes',\n",
       " 'current_route_port',\n",
       " 'current_routes',\n",
       " 'entry_signal_port',\n",
       " 'has_observer',\n",
       " 'idx',\n",
       " 'listener_updates',\n",
       " 'mutex_routes',\n",
       " 'neighbors',\n",
       " 'non_mutex_routes',\n",
       " 'observers',\n",
       " 'open_route',\n",
       " 'open_route_old',\n",
       " 'port_bigblock',\n",
       " 'port_track',\n",
       " 'ports',\n",
       " 'remove_observer',\n",
       " 'type',\n",
       " 'update',\n",
       " 'update_autopoints',\n",
       " 'update_signal']"
      ]
     },
     "execution_count": 8,
     "metadata": {},
     "output_type": "execute_result"
    }
   ],
   "source": [
    "dir(G.node[_node[3]]['instance'])"
   ]
  },
  {
   "cell_type": "code",
   "execution_count": 9,
   "metadata": {},
   "outputs": [
    {
     "data": {
      "text/plain": [
       "{'_observers': [AutoPoint2, ControlPoint4],\n",
       " 'MP': 15.0,\n",
       " 'idx': 3,\n",
       " 'type': 'cp',\n",
       " 'ports': [0, 1, 3],\n",
       " 'available_routes_p2p': defaultdict(list, {0: [1, 3], 1: [0], 3: [0]}),\n",
       " 'non_mutex_routes': defaultdict(list, {}),\n",
       " 'ban_routes_port': {1: [3], 3: [1]},\n",
       " 'all_valid_routes': [(0, 1), (1, 0), (0, 3), (3, 0)],\n",
       " '_current_routes': [],\n",
       " 'neighbors': [AutoPoint2, ControlPoint4],\n",
       " 'port_track': {0: Track MP: 10.0 to MP: 15.0 idx: 0,\n",
       "  1: Track MP: 15.0 to MP: 20.0 idx: 0,\n",
       "  3: Track MP: 15.0 to MP: 20.0 idx: 1},\n",
       " 'entry_signal_port': {0: HomeSignal of ControlPoint3, port: 0,\n",
       "  1: HomeSignal of ControlPoint3, port: 1,\n",
       "  3: HomeSignal of ControlPoint3, port: 3},\n",
       " 'port_bigblock': {0: BigBlock MP: 0.0 to MP: 15.0 idx: 0,\n",
       "  1: BigBlock MP: 15.0 to MP: 20.0 idx: 0,\n",
       "  3: BigBlock MP: 15.0 to MP: 20.0 idx: 1}}"
      ]
     },
     "execution_count": 9,
     "metadata": {},
     "output_type": "execute_result"
    }
   ],
   "source": [
    "_node[3].__dict__"
   ]
  },
  {
   "cell_type": "code",
   "execution_count": 10,
   "metadata": {},
   "outputs": [],
   "source": [
    "_node[0].open_route((1,0))"
   ]
  },
  {
   "cell_type": "code",
   "execution_count": 11,
   "metadata": {},
   "outputs": [
    {
     "data": {
      "text/plain": [
       "{'_observers': [AutoPoint1, ControlPoint3],\n",
       " 'MP': 10.0,\n",
       " 'idx': 2,\n",
       " 'type': 'at',\n",
       " 'ports': [0, 1],\n",
       " 'available_routes_p2p': {0: [1], 1: [0]},\n",
       " 'non_mutex_routes': {},\n",
       " 'ban_routes_port': {},\n",
       " 'all_valid_routes': [(0, 1), (1, 0)],\n",
       " '_current_routes': [],\n",
       " 'neighbors': [AutoPoint1, ControlPoint3],\n",
       " 'port_track': {0: Track MP: 5.0 to MP: 10.0 idx: 0,\n",
       "  1: Track MP: 10.0 to MP: 15.0 idx: 0},\n",
       " 'entry_signal_port': {0: AutoSignal of AutoPoint2, port: 0,\n",
       "  1: AutoSignal of AutoPoint2, port: 1}}"
      ]
     },
     "execution_count": 11,
     "metadata": {},
     "output_type": "execute_result"
    }
   ],
   "source": [
    "_node[2].__dict__"
   ]
  },
  {
   "cell_type": "code",
   "execution_count": 12,
   "metadata": {},
   "outputs": [
    {
     "data": {
      "text/plain": [
       "Aspect: r, route None"
      ]
     },
     "execution_count": 12,
     "metadata": {},
     "output_type": "execute_result"
    }
   ],
   "source": [
    "_node[2].entry_signal_port[1].aspect"
   ]
  },
  {
   "cell_type": "code",
   "execution_count": 13,
   "metadata": {},
   "outputs": [
    {
     "data": {
      "text/plain": [
       "Aspect: r, route None"
      ]
     },
     "execution_count": 13,
     "metadata": {},
     "output_type": "execute_result"
    }
   ],
   "source": [
    "_node[3].entry_signal_port[0].aspect"
   ]
  },
  {
   "cell_type": "code",
   "execution_count": 14,
   "metadata": {},
   "outputs": [
    {
     "data": {
      "text/plain": [
       "AutoSignal of AutoPoint2, port: 0"
      ]
     },
     "execution_count": 14,
     "metadata": {},
     "output_type": "execute_result"
    }
   ],
   "source": [
    "_node[2].entry_signal_port[0]"
   ]
  },
  {
   "cell_type": "code",
   "execution_count": 15,
   "metadata": {},
   "outputs": [
    {
     "data": {
      "text/plain": [
       "{'_observers': [AutoPoint1, ControlPoint3],\n",
       " 'MP': 10.0,\n",
       " 'idx': 2,\n",
       " 'type': 'at',\n",
       " 'ports': [0, 1],\n",
       " 'available_routes_p2p': {0: [1], 1: [0]},\n",
       " 'non_mutex_routes': {},\n",
       " 'ban_routes_port': {},\n",
       " 'all_valid_routes': [(0, 1), (1, 0)],\n",
       " '_current_routes': [],\n",
       " 'neighbors': [AutoPoint1, ControlPoint3],\n",
       " 'port_track': {0: Track MP: 5.0 to MP: 10.0 idx: 0,\n",
       "  1: Track MP: 10.0 to MP: 15.0 idx: 0},\n",
       " 'entry_signal_port': {0: AutoSignal of AutoPoint2, port: 0,\n",
       "  1: AutoSignal of AutoPoint2, port: 1}}"
      ]
     },
     "execution_count": 15,
     "metadata": {},
     "output_type": "execute_result"
    }
   ],
   "source": [
    "_node[2].__dict__"
   ]
  },
  {
   "cell_type": "code",
   "execution_count": null,
   "metadata": {},
   "outputs": [],
   "source": []
  }
 ],
 "metadata": {
  "kernelspec": {
   "display_name": "Python 3",
   "language": "python",
   "name": "python3"
  },
  "language_info": {
   "codemirror_mode": {
    "name": "ipython",
    "version": 3
   },
   "file_extension": ".py",
   "mimetype": "text/x-python",
   "name": "python",
   "nbconvert_exporter": "python",
   "pygments_lexer": "ipython3",
   "version": "3.7.1"
  }
 },
 "nbformat": 4,
 "nbformat_minor": 2
}
