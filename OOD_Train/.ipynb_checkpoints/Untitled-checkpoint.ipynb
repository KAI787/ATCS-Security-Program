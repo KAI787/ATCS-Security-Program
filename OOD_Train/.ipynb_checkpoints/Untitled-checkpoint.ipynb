{
 "cells": [
  {
   "cell_type": "code",
   "execution_count": 1,
   "metadata": {},
   "outputs": [],
   "source": [
    "from datetime import datetime, timedelta\n",
    "import numpy as np\n",
    "import random\n",
    "from train import Train\n",
    "from infrastructure import Track, Block, BigBlock\n",
    "from signaling import AutoSignal, HomeSignal, AutoPoint, ControlPoint"
   ]
  },
  {
   "cell_type": "code",
   "execution_count": null,
   "metadata": {},
   "outputs": [],
   "source": [
    "_nodes = {  0: ControlPoint(idx=0, ports=[0,1]), \\\n",
    "                    1: AutoPoint(1), \\\n",
    "                    2: AutoPoint(2), \\\n",
    "                    3: ControlPoint(idx=3, ports=[0,1,3], ban_routes={1:[3],3:[1]}), \\\n",
    "                    4: ControlPoint(idx=4, ports=[0,2,1], ban_routes={0:[2],2:[0]}), \\\n",
    "                    5: AutoPoint(5), \\\n",
    "                    6: ControlPoint(idx=6, ports=[0,1,3], ban_routes={1:[3],3:[1]}), \\\n",
    "                    7: ControlPoint(idx=7, ports=[0,2,1], ban_routes={0:[2],2:[0]}), \\\n",
    "                    8: AutoPoint(8), \\\n",
    "                    9: AutoPoint(9), \\\n",
    "                    10: ControlPoint(idx=10, ports=[0,1])}"
   ]
  },
  {
   "cell_type": "code",
   "execution_count": 1,
   "metadata": {},
   "outputs": [
    {
     "name": "stdout",
     "output_type": "stream",
     "text": [
      "1\n"
     ]
    }
   ],
   "source": [
    "print(1)"
   ]
  },
  {
   "cell_type": "code",
   "execution_count": 2,
   "metadata": {},
   "outputs": [
    {
     "ename": "NameError",
     "evalue": "name '_nodes' is not defined",
     "output_type": "error",
     "traceback": [
      "\u001b[1;31m---------------------------------------------------------------------------\u001b[0m",
      "\u001b[1;31mNameError\u001b[0m                                 Traceback (most recent call last)",
      "\u001b[1;32m<ipython-input-2-d1aa6775c86f>\u001b[0m in \u001b[0;36m<module>\u001b[1;34m\u001b[0m\n\u001b[1;32m----> 1\u001b[1;33m \u001b[0m_nodes\u001b[0m\u001b[1;33m\u001b[0m\u001b[1;33m\u001b[0m\u001b[0m\n\u001b[0m",
      "\u001b[1;31mNameError\u001b[0m: name '_nodes' is not defined"
     ]
    }
   ],
   "source": [
    "_nodes"
   ]
  },
  {
   "cell_type": "code",
   "execution_count": 3,
   "metadata": {},
   "outputs": [
    {
     "ename": "NameError",
     "evalue": "name 'ControlPoint' is not defined",
     "output_type": "error",
     "traceback": [
      "\u001b[1;31m---------------------------------------------------------------------------\u001b[0m",
      "\u001b[1;31mNameError\u001b[0m                                 Traceback (most recent call last)",
      "\u001b[1;32m<ipython-input-3-1708eceaadf7>\u001b[0m in \u001b[0;36m<module>\u001b[1;34m\u001b[0m\n\u001b[1;32m----> 1\u001b[1;33m _nodes = {  0: ControlPoint(idx=0, ports=[0,1]), \\\n\u001b[0m\u001b[0;32m      2\u001b[0m             \u001b[1;36m1\u001b[0m\u001b[1;33m:\u001b[0m \u001b[0mAutoPoint\u001b[0m\u001b[1;33m(\u001b[0m\u001b[1;36m1\u001b[0m\u001b[1;33m)\u001b[0m\u001b[1;33m,\u001b[0m\u001b[0;31m \u001b[0m\u001b[0;31m\\\u001b[0m\u001b[1;33m\u001b[0m\u001b[1;33m\u001b[0m\u001b[0m\n\u001b[0;32m      3\u001b[0m             \u001b[1;36m2\u001b[0m\u001b[1;33m:\u001b[0m \u001b[0mAutoPoint\u001b[0m\u001b[1;33m(\u001b[0m\u001b[1;36m2\u001b[0m\u001b[1;33m)\u001b[0m\u001b[1;33m,\u001b[0m\u001b[0;31m \u001b[0m\u001b[0;31m\\\u001b[0m\u001b[1;33m\u001b[0m\u001b[1;33m\u001b[0m\u001b[0m\n\u001b[0;32m      4\u001b[0m             \u001b[1;36m3\u001b[0m\u001b[1;33m:\u001b[0m \u001b[0mControlPoint\u001b[0m\u001b[1;33m(\u001b[0m\u001b[0midx\u001b[0m\u001b[1;33m=\u001b[0m\u001b[1;36m3\u001b[0m\u001b[1;33m,\u001b[0m \u001b[0mports\u001b[0m\u001b[1;33m=\u001b[0m\u001b[1;33m[\u001b[0m\u001b[1;36m0\u001b[0m\u001b[1;33m,\u001b[0m\u001b[1;36m1\u001b[0m\u001b[1;33m,\u001b[0m\u001b[1;36m3\u001b[0m\u001b[1;33m]\u001b[0m\u001b[1;33m,\u001b[0m \u001b[0mban_routes\u001b[0m\u001b[1;33m=\u001b[0m\u001b[1;33m{\u001b[0m\u001b[1;36m1\u001b[0m\u001b[1;33m:\u001b[0m\u001b[1;33m[\u001b[0m\u001b[1;36m3\u001b[0m\u001b[1;33m]\u001b[0m\u001b[1;33m,\u001b[0m\u001b[1;36m3\u001b[0m\u001b[1;33m:\u001b[0m\u001b[1;33m[\u001b[0m\u001b[1;36m1\u001b[0m\u001b[1;33m]\u001b[0m\u001b[1;33m}\u001b[0m\u001b[1;33m)\u001b[0m\u001b[1;33m,\u001b[0m\u001b[0;31m \u001b[0m\u001b[0;31m\\\u001b[0m\u001b[1;33m\u001b[0m\u001b[1;33m\u001b[0m\u001b[0m\n\u001b[0;32m      5\u001b[0m             \u001b[1;36m4\u001b[0m\u001b[1;33m:\u001b[0m \u001b[0mControlPoint\u001b[0m\u001b[1;33m(\u001b[0m\u001b[0midx\u001b[0m\u001b[1;33m=\u001b[0m\u001b[1;36m4\u001b[0m\u001b[1;33m,\u001b[0m \u001b[0mports\u001b[0m\u001b[1;33m=\u001b[0m\u001b[1;33m[\u001b[0m\u001b[1;36m0\u001b[0m\u001b[1;33m,\u001b[0m\u001b[1;36m2\u001b[0m\u001b[1;33m,\u001b[0m\u001b[1;36m1\u001b[0m\u001b[1;33m]\u001b[0m\u001b[1;33m,\u001b[0m \u001b[0mban_routes\u001b[0m\u001b[1;33m=\u001b[0m\u001b[1;33m{\u001b[0m\u001b[1;36m0\u001b[0m\u001b[1;33m:\u001b[0m\u001b[1;33m[\u001b[0m\u001b[1;36m2\u001b[0m\u001b[1;33m]\u001b[0m\u001b[1;33m,\u001b[0m\u001b[1;36m2\u001b[0m\u001b[1;33m:\u001b[0m\u001b[1;33m[\u001b[0m\u001b[1;36m0\u001b[0m\u001b[1;33m]\u001b[0m\u001b[1;33m}\u001b[0m\u001b[1;33m)\u001b[0m\u001b[1;33m,\u001b[0m\u001b[0;31m \u001b[0m\u001b[0;31m\\\u001b[0m\u001b[1;33m\u001b[0m\u001b[1;33m\u001b[0m\u001b[0m\n",
      "\u001b[1;31mNameError\u001b[0m: name 'ControlPoint' is not defined"
     ]
    }
   ],
   "source": [
    "_nodes = {  0: ControlPoint(idx=0, ports=[0,1]), \\\n",
    "            1: AutoPoint(1), \\\n",
    "            2: AutoPoint(2), \\\n",
    "            3: ControlPoint(idx=3, ports=[0,1,3], ban_routes={1:[3],3:[1]}), \\\n",
    "            4: ControlPoint(idx=4, ports=[0,2,1], ban_routes={0:[2],2:[0]}), \\\n",
    "            5: AutoPoint(5), \\\n",
    "            6: ControlPoint(idx=6, ports=[0,1,3], ban_routes={1:[3],3:[1]}), \\\n",
    "            7: ControlPoint(idx=7, ports=[0,2,1], ban_routes={0:[2],2:[0]}), \\\n",
    "            8: AutoPoint(8), \\\n",
    "            9: AutoPoint(9), \\\n",
    "            10: ControlPoint(idx=10, ports=[0,1])}"
   ]
  },
  {
   "cell_type": "code",
   "execution_count": 4,
   "metadata": {},
   "outputs": [],
   "source": [
    "from datetime import datetime, timedelta\n",
    "import numpy as np\n",
    "import random\n",
    "from train import Train\n",
    "from infrastructure import Track, Block, BigBlock\n",
    "from signaling import AutoSignal, HomeSignal, AutoPoint, ControlPoint"
   ]
  },
  {
   "cell_type": "code",
   "execution_count": null,
   "metadata": {},
   "outputs": [],
   "source": [
    "_nodes = {  0: ControlPoint(idx=0, ports=[0,1]), \\\n",
    "            1: AutoPoint(1), \\\n",
    "            2: AutoPoint(2), \\\n",
    "            3: ControlPoint(idx=3, ports=[0,1,3], ban_routes={1:[3],3:[1]}), \\\n",
    "            4: ControlPoint(idx=4, ports=[0,2,1], ban_routes={0:[2],2:[0]}), \\\n",
    "            5: AutoPoint(5), \\\n",
    "            6: ControlPoint(idx=6, ports=[0,1,3], ban_routes={1:[3],3:[1]}), \\\n",
    "            7: ControlPoint(idx=7, ports=[0,2,1], ban_routes={0:[2],2:[0]}), \\\n",
    "            8: AutoPoint(8), \\\n",
    "            9: AutoPoint(9), \\\n",
    "            10: ControlPoint(idx=10, ports=[0,1])}"
   ]
  },
  {
   "cell_type": "code",
   "execution_count": 1,
   "metadata": {},
   "outputs": [],
   "source": [
    "from datetime import datetime, timedelta\n",
    "import numpy as np\n",
    "import random\n",
    "from train import Train\n",
    "from infrastructure import Track, Block, BigBlock\n",
    "from signaling import AutoSignal, HomeSignal, AutoPoint, ControlPoint"
   ]
  },
  {
   "cell_type": "code",
   "execution_count": null,
   "metadata": {},
   "outputs": [],
   "source": [
    "ControlPoint(idx=0, ports=[0,1])"
   ]
  },
  {
   "cell_type": "code",
   "execution_count": 1,
   "metadata": {},
   "outputs": [
    {
     "ename": "NameError",
     "evalue": "name 'ControlPoint' is not defined",
     "output_type": "error",
     "traceback": [
      "\u001b[1;31m---------------------------------------------------------------------------\u001b[0m",
      "\u001b[1;31mNameError\u001b[0m                                 Traceback (most recent call last)",
      "\u001b[1;32m<ipython-input-1-5946fda4447d>\u001b[0m in \u001b[0;36m<module>\u001b[1;34m\u001b[0m\n\u001b[1;32m----> 1\u001b[1;33m _nodes = {  0:ControlPoint(idx=0, ports=[0,1]), \\\n\u001b[0m\u001b[0;32m      2\u001b[0m                     \u001b[1;36m1\u001b[0m\u001b[1;33m:\u001b[0m\u001b[0mAutoPoint\u001b[0m\u001b[1;33m(\u001b[0m\u001b[1;36m1\u001b[0m\u001b[1;33m)\u001b[0m\u001b[1;33m,\u001b[0m\u001b[0;31m \u001b[0m\u001b[0;31m\\\u001b[0m\u001b[1;33m\u001b[0m\u001b[1;33m\u001b[0m\u001b[0m\n\u001b[0;32m      3\u001b[0m                     \u001b[1;36m2\u001b[0m\u001b[1;33m:\u001b[0m\u001b[0mAutoPoint\u001b[0m\u001b[1;33m(\u001b[0m\u001b[1;36m2\u001b[0m\u001b[1;33m)\u001b[0m\u001b[1;33m,\u001b[0m\u001b[0;31m \u001b[0m\u001b[0;31m\\\u001b[0m\u001b[1;33m\u001b[0m\u001b[1;33m\u001b[0m\u001b[0m\n\u001b[0;32m      4\u001b[0m                     \u001b[1;36m3\u001b[0m\u001b[1;33m:\u001b[0m\u001b[0mControlPoint\u001b[0m\u001b[1;33m(\u001b[0m\u001b[0midx\u001b[0m\u001b[1;33m=\u001b[0m\u001b[1;36m3\u001b[0m\u001b[1;33m,\u001b[0m \u001b[0mports\u001b[0m\u001b[1;33m=\u001b[0m\u001b[1;33m[\u001b[0m\u001b[1;36m0\u001b[0m\u001b[1;33m,\u001b[0m\u001b[1;36m1\u001b[0m\u001b[1;33m,\u001b[0m\u001b[1;36m3\u001b[0m\u001b[1;33m]\u001b[0m\u001b[1;33m,\u001b[0m \u001b[0mban_routes\u001b[0m\u001b[1;33m=\u001b[0m\u001b[1;33m{\u001b[0m\u001b[1;36m1\u001b[0m\u001b[1;33m:\u001b[0m\u001b[1;33m[\u001b[0m\u001b[1;36m3\u001b[0m\u001b[1;33m]\u001b[0m\u001b[1;33m,\u001b[0m\u001b[1;36m3\u001b[0m\u001b[1;33m:\u001b[0m\u001b[1;33m[\u001b[0m\u001b[1;36m1\u001b[0m\u001b[1;33m]\u001b[0m\u001b[1;33m}\u001b[0m\u001b[1;33m)\u001b[0m\u001b[1;33m,\u001b[0m\u001b[0;31m \u001b[0m\u001b[0;31m\\\u001b[0m\u001b[1;33m\u001b[0m\u001b[1;33m\u001b[0m\u001b[0m\n\u001b[0;32m      5\u001b[0m                     \u001b[1;36m4\u001b[0m\u001b[1;33m:\u001b[0m\u001b[0mControlPoint\u001b[0m\u001b[1;33m(\u001b[0m\u001b[0midx\u001b[0m\u001b[1;33m=\u001b[0m\u001b[1;36m4\u001b[0m\u001b[1;33m,\u001b[0m \u001b[0mports\u001b[0m\u001b[1;33m=\u001b[0m\u001b[1;33m[\u001b[0m\u001b[1;36m0\u001b[0m\u001b[1;33m,\u001b[0m\u001b[1;36m2\u001b[0m\u001b[1;33m,\u001b[0m\u001b[1;36m1\u001b[0m\u001b[1;33m]\u001b[0m\u001b[1;33m,\u001b[0m \u001b[0mban_routes\u001b[0m\u001b[1;33m=\u001b[0m\u001b[1;33m{\u001b[0m\u001b[1;36m0\u001b[0m\u001b[1;33m:\u001b[0m\u001b[1;33m[\u001b[0m\u001b[1;36m2\u001b[0m\u001b[1;33m]\u001b[0m\u001b[1;33m,\u001b[0m\u001b[1;36m2\u001b[0m\u001b[1;33m:\u001b[0m\u001b[1;33m[\u001b[0m\u001b[1;36m0\u001b[0m\u001b[1;33m]\u001b[0m\u001b[1;33m}\u001b[0m\u001b[1;33m)\u001b[0m\u001b[1;33m,\u001b[0m\u001b[0;31m \u001b[0m\u001b[0;31m\\\u001b[0m\u001b[1;33m\u001b[0m\u001b[1;33m\u001b[0m\u001b[0m\n",
      "\u001b[1;31mNameError\u001b[0m: name 'ControlPoint' is not defined"
     ]
    }
   ],
   "source": [
    "_nodes = {  0:ControlPoint(idx=0, ports=[0,1]), \\\n",
    "                    1:AutoPoint(1), \\\n",
    "                    2:AutoPoint(2), \\\n",
    "                    3:ControlPoint(idx=3, ports=[0,1,3], ban_routes={1:[3],3:[1]}), \\\n",
    "                    4:ControlPoint(idx=4, ports=[0,2,1], ban_routes={0:[2],2:[0]}), \\\n",
    "                    5:AutoPoint(5), \\\n",
    "                    6:ControlPoint(idx=6, ports=[0,1,3], ban_routes={1:[3],3:[1]}), \\\n",
    "                    7:ControlPoint(idx=7, ports=[0,2,1], ban_routes={0:[2],2:[0]}), \\\n",
    "                    8:AutoPoint(8), \\\n",
    "                    9:AutoPoint(9), \\\n",
    "                    10:ControlPoint(idx=10, ports=[0,1])}"
   ]
  },
  {
   "cell_type": "code",
   "execution_count": 2,
   "metadata": {},
   "outputs": [],
   "source": [
    "from datetime import datetime, timedelta\n",
    "import numpy as np\n",
    "import random\n",
    "from train import Train\n",
    "from infrastructure import Track, Block, BigBlock\n",
    "from signaling import AutoSignal, HomeSignal, AutoPoint, ControlPoint"
   ]
  },
  {
   "cell_type": "code",
   "execution_count": null,
   "metadata": {},
   "outputs": [],
   "source": [
    "_nodes = {  0:ControlPoint(idx=0, ports=[0,1]), \\\n",
    "                    1:AutoPoint(1), \\\n",
    "                    2:AutoPoint(2), \\\n",
    "                    3:ControlPoint(idx=3, ports=[0,1,3], ban_routes={1:[3],3:[1]}), \\\n",
    "                    4:ControlPoint(idx=4, ports=[0,2,1], ban_routes={0:[2],2:[0]}), \\\n",
    "                    5:AutoPoint(5), \\\n",
    "                    6:ControlPoint(idx=6, ports=[0,1,3], ban_routes={1:[3],3:[1]}), \\\n",
    "                    7:ControlPoint(idx=7, ports=[0,2,1], ban_routes={0:[2],2:[0]}), \\\n",
    "                    8:AutoPoint(8), \\\n",
    "                    9:AutoPoint(9), \\\n",
    "                    10:ControlPoint(idx=10, ports=[0,1])}"
   ]
  },
  {
   "cell_type": "code",
   "execution_count": 1,
   "metadata": {},
   "outputs": [
    {
     "ename": "NameError",
     "evalue": "name 'AutoPoint' is not defined",
     "output_type": "error",
     "traceback": [
      "\u001b[1;31m---------------------------------------------------------------------------\u001b[0m",
      "\u001b[1;31mNameError\u001b[0m                                 Traceback (most recent call last)",
      "\u001b[1;32m<ipython-input-1-7d4ef95ccaec>\u001b[0m in \u001b[0;36m<module>\u001b[1;34m\u001b[0m\n\u001b[1;32m----> 1\u001b[1;33m \u001b[0mAutoPoint\u001b[0m\u001b[1;33m(\u001b[0m\u001b[1;36m1\u001b[0m\u001b[1;33m)\u001b[0m\u001b[1;33m\u001b[0m\u001b[1;33m\u001b[0m\u001b[0m\n\u001b[0m",
      "\u001b[1;31mNameError\u001b[0m: name 'AutoPoint' is not defined"
     ]
    }
   ],
   "source": [
    "AutoPoint(1)"
   ]
  },
  {
   "cell_type": "code",
   "execution_count": 2,
   "metadata": {},
   "outputs": [],
   "source": [
    "from datetime import datetime, timedelta\n",
    "import numpy as np\n",
    "import random\n",
    "from train import Train\n",
    "from infrastructure import Track, Block, BigBlock\n",
    "from signaling import AutoSignal, HomeSignal, AutoPoint, ControlPoint"
   ]
  },
  {
   "cell_type": "code",
   "execution_count": 3,
   "metadata": {},
   "outputs": [
    {
     "data": {
      "text/plain": [
       "<signaling.AutoPoint at 0x1990fe01518>"
      ]
     },
     "execution_count": 3,
     "metadata": {},
     "output_type": "execute_result"
    }
   ],
   "source": [
    "AutoPoint(1)"
   ]
  },
  {
   "cell_type": "code",
   "execution_count": null,
   "metadata": {},
   "outputs": [],
   "source": [
    "ControlPoint(idx=10, ports=[0,1])"
   ]
  },
  {
   "cell_type": "code",
   "execution_count": 1,
   "metadata": {},
   "outputs": [],
   "source": [
    "from signaling import AutoSignal, HomeSignal, AutoPoint, ControlPoint"
   ]
  },
  {
   "cell_type": "code",
   "execution_count": 2,
   "metadata": {},
   "outputs": [],
   "source": [
    "import networkx as nx"
   ]
  },
  {
   "cell_type": "code",
   "execution_count": null,
   "metadata": {},
   "outputs": [],
   "source": [
    "ControlPoint(idx=3, ports=[0,1,3], ban_routes={1:[3],3:[1]})"
   ]
  },
  {
   "cell_type": "code",
   "execution_count": 1,
   "metadata": {},
   "outputs": [
    {
     "ename": "ImportError",
     "evalue": "bad magic number in 'train': b'\\x03\\xf3\\r\\n'",
     "output_type": "error",
     "traceback": [
      "\u001b[1;31m---------------------------------------------------------------------------\u001b[0m",
      "\u001b[1;31mImportError\u001b[0m                               Traceback (most recent call last)",
      "\u001b[1;32m<ipython-input-1-e755c0bebb9d>\u001b[0m in \u001b[0;36m<module>\u001b[1;34m\u001b[0m\n\u001b[0;32m      2\u001b[0m \u001b[1;32mimport\u001b[0m \u001b[0mnumpy\u001b[0m \u001b[1;32mas\u001b[0m \u001b[0mnp\u001b[0m\u001b[1;33m\u001b[0m\u001b[1;33m\u001b[0m\u001b[0m\n\u001b[0;32m      3\u001b[0m \u001b[1;32mimport\u001b[0m \u001b[0mrandom\u001b[0m\u001b[1;33m\u001b[0m\u001b[1;33m\u001b[0m\u001b[0m\n\u001b[1;32m----> 4\u001b[1;33m \u001b[1;32mfrom\u001b[0m \u001b[0mtrain\u001b[0m \u001b[1;32mimport\u001b[0m \u001b[0mTrain\u001b[0m\u001b[1;33m\u001b[0m\u001b[1;33m\u001b[0m\u001b[0m\n\u001b[0m\u001b[0;32m      5\u001b[0m \u001b[1;32mfrom\u001b[0m \u001b[0minfrastructure\u001b[0m \u001b[1;32mimport\u001b[0m \u001b[0mTrack\u001b[0m\u001b[1;33m,\u001b[0m \u001b[0mBlock\u001b[0m\u001b[1;33m,\u001b[0m \u001b[0mBigBlock\u001b[0m\u001b[1;33m\u001b[0m\u001b[1;33m\u001b[0m\u001b[0m\n\u001b[0;32m      6\u001b[0m \u001b[1;32mfrom\u001b[0m \u001b[0msignaling\u001b[0m \u001b[1;32mimport\u001b[0m \u001b[0mAutoSignal\u001b[0m\u001b[1;33m,\u001b[0m \u001b[0mHomeSignal\u001b[0m\u001b[1;33m,\u001b[0m \u001b[0mAutoPoint\u001b[0m\u001b[1;33m,\u001b[0m \u001b[0mControlPoint\u001b[0m\u001b[1;33m\u001b[0m\u001b[1;33m\u001b[0m\u001b[0m\n",
      "\u001b[1;31mImportError\u001b[0m: bad magic number in 'train': b'\\x03\\xf3\\r\\n'"
     ]
    }
   ],
   "source": [
    "from datetime import datetime, timedelta\n",
    "import numpy as np\n",
    "import random\n",
    "from train import Train\n",
    "from infrastructure import Track, Block, BigBlock\n",
    "from signaling import AutoSignal, HomeSignal, AutoPoint, ControlPoint"
   ]
  },
  {
   "cell_type": "code",
   "execution_count": 2,
   "metadata": {},
   "outputs": [],
   "source": [
    "from datetime import datetime, timedelta\n",
    "import numpy as np\n",
    "import random\n",
    "from train import Train\n",
    "from infrastructure import Track, Block, BigBlock\n",
    "from signaling import AutoSignal, HomeSignal, AutoPoint, ControlPoint"
   ]
  },
  {
   "cell_type": "code",
   "execution_count": null,
   "metadata": {},
   "outputs": [],
   "source": [
    "ControlPoint(idx=3, ports=[0,1,3], ban_routes={1:[3],3:[1]})"
   ]
  },
  {
   "cell_type": "code",
   "execution_count": 1,
   "metadata": {},
   "outputs": [
    {
     "ename": "SyntaxError",
     "evalue": "invalid syntax (infrastructure.py, line 76)",
     "output_type": "error",
     "traceback": [
      "Traceback \u001b[1;36m(most recent call last)\u001b[0m:\n",
      "  File \u001b[0;32m\"C:\\Users\\Hegxiten\\Anaconda3\\lib\\site-packages\\IPython\\core\\interactiveshell.py\"\u001b[0m, line \u001b[0;32m3267\u001b[0m, in \u001b[0;35mrun_code\u001b[0m\n    exec(code_obj, self.user_global_ns, self.user_ns)\n",
      "\u001b[1;36m  File \u001b[1;32m\"<ipython-input-1-e755c0bebb9d>\"\u001b[1;36m, line \u001b[1;32m5\u001b[1;36m, in \u001b[1;35m<module>\u001b[1;36m\u001b[0m\n\u001b[1;33m    from infrastructure import Track, Block, BigBlock\u001b[0m\n",
      "\u001b[1;36m  File \u001b[1;32m\"D:\\Users\\Hegxiten\\workspace\\Rutgers_Railway_security_research\\OOD_Train\\infrastructure.py\"\u001b[1;36m, line \u001b[1;32m76\u001b[0m\n\u001b[1;33m    for track in the bigblock:\u001b[0m\n\u001b[1;37m                            ^\u001b[0m\n\u001b[1;31mSyntaxError\u001b[0m\u001b[1;31m:\u001b[0m invalid syntax\n"
     ]
    }
   ],
   "source": [
    "from datetime import datetime, timedelta\n",
    "import numpy as np\n",
    "import random\n",
    "from train import Train\n",
    "from infrastructure import Track, Block, BigBlock\n",
    "from signaling import AutoSignal, HomeSignal, AutoPoint, ControlPoint"
   ]
  },
  {
   "cell_type": "code",
   "execution_count": 2,
   "metadata": {},
   "outputs": [
    {
     "ename": "NameError",
     "evalue": "name 'G' is not defined",
     "output_type": "error",
     "traceback": [
      "\u001b[1;31m---------------------------------------------------------------------------\u001b[0m",
      "\u001b[1;31mNameError\u001b[0m                                 Traceback (most recent call last)",
      "\u001b[1;32m<ipython-input-2-96e89ba817df>\u001b[0m in \u001b[0;36m<module>\u001b[1;34m\u001b[0m\n\u001b[1;32m----> 1\u001b[1;33m \u001b[0mG\u001b[0m\u001b[1;33m\u001b[0m\u001b[1;33m\u001b[0m\u001b[0m\n\u001b[0m",
      "\u001b[1;31mNameError\u001b[0m: name 'G' is not defined"
     ]
    }
   ],
   "source": [
    "G"
   ]
  },
  {
   "cell_type": "code",
   "execution_count": 3,
   "metadata": {},
   "outputs": [],
   "source": [
    "from datetime import datetime, timedelta\n",
    "import numpy as np\n",
    "import random\n",
    "from train import Train\n",
    "from infrastructure import Track, Block, BigBlock\n",
    "from signaling import AutoSignal, HomeSignal, AutoPoint, ControlPoint"
   ]
  },
  {
   "cell_type": "code",
   "execution_count": 4,
   "metadata": {},
   "outputs": [
    {
     "ename": "IndentationError",
     "evalue": "unexpected indent (<ipython-input-4-f3baeca97048>, line 13)",
     "output_type": "error",
     "traceback": [
      "\u001b[1;36m  File \u001b[1;32m\"<ipython-input-4-f3baeca97048>\"\u001b[1;36m, line \u001b[1;32m13\u001b[0m\n\u001b[1;33m    pbunch = [_node[i] for i in range(len(_node))]\u001b[0m\n\u001b[1;37m    ^\u001b[0m\n\u001b[1;31mIndentationError\u001b[0m\u001b[1;31m:\u001b[0m unexpected indent\n"
     ]
    }
   ],
   "source": [
    "_node = {  0:ControlPoint(idx=0, ports=[0,1], MP=0.0), \\\n",
    "                    1:AutoPoint(1), \\\n",
    "                    2:AutoPoint(2), \\\n",
    "                    3:ControlPoint(idx=3, ports=[0,1,3], ban_routes={1:[3],3:[1]}), \\\n",
    "                    4:ControlPoint(idx=4, ports=[0,2,1], ban_routes={0:[2],2:[0]}), \\\n",
    "                    5:AutoPoint(5), \\\n",
    "                    6:ControlPoint(idx=6, ports=[0,1,3], ban_routes={1:[3],3:[1]}), \\\n",
    "                    7:ControlPoint(idx=7, ports=[0,2,1], ban_routes={0:[2],2:[0]}), \\\n",
    "                    8:AutoPoint(8), \\\n",
    "                    9:AutoPoint(9), \\\n",
    "                    10:ControlPoint(idx=10, ports=[0,1])}\n",
    "                \n",
    "        pbunch = [_node[i] for i in range(len(_node))]\n",
    "\n",
    "        tbunch = [  Track(pbunch[0], 1, pbunch[1], 0), Track(pbunch[1], 1, pbunch[2], 0), Track(pbunch[2], 1, pbunch[3], 0),\\\n",
    "                    Track(pbunch[3], 1, pbunch[4], 0), Track(pbunch[3], 3, pbunch[4], 2, edge_key=1),\\\n",
    "                    Track(pbunch[4], 1, pbunch[5], 0), Track(pbunch[5], 1, pbunch[6], 0),\\\n",
    "                    Track(pbunch[6], 1, pbunch[7], 0), Track(pbunch[6], 3, pbunch[7], 2, edge_key=1),\\\n",
    "                    Track(pbunch[7], 1, pbunch[8], 0), Track(pbunch[8], 1, pbunch[9], 0), Track(pbunch[9], 1, pbunch[10], 0)]\n",
    "        # pbunch and tbunch will be parameters passed from outside in the future development\n",
    "        G = nx.MultiGraph()\n",
    "        for p in pbunch:\n",
    "            G.add_node(p, attr=p.__dict__)              \n",
    "            # __dict__ of instances (CPs, ATs, Tracks) is pointing the same \n",
    "            # attribute dictionary as the node in the MultiGraph\n",
    "\n",
    "        for t in tbunch:\n",
    "            t.L_point.port_track[t.entry_port_L] = t.R_point.port_track[t.entry_port_R] = t\n",
    "            G.add_edge(t.L_point, t.R_point, key=t.edge_key, attr=t.__dict__)          \n",
    "            # __dict__ of instances (CPs, ATs, Tracks) is pointing the same \n",
    "            # attribute dictionary as the edge in the MultiGraph\n",
    "            # key is the index of parallel edges between two nodes\n",
    "\n",
    "        for i in G.nodes():\n",
    "            i.neighbors.extend([n for n in G.neighbors(i)])              \n",
    "            for n in G.neighbors(i):\n",
    "                i.add_observer(n)"
   ]
  },
  {
   "cell_type": "code",
   "execution_count": 5,
   "metadata": {},
   "outputs": [
    {
     "ename": "NameError",
     "evalue": "name 'nx' is not defined",
     "output_type": "error",
     "traceback": [
      "\u001b[1;31m---------------------------------------------------------------------------\u001b[0m",
      "\u001b[1;31mNameError\u001b[0m                                 Traceback (most recent call last)",
      "\u001b[1;32m<ipython-input-5-6230aad9e2e4>\u001b[0m in \u001b[0;36m<module>\u001b[1;34m\u001b[0m\n\u001b[0;32m     19\u001b[0m             Track(pbunch[7], 1, pbunch[8], 0), Track(pbunch[8], 1, pbunch[9], 0), Track(pbunch[9], 1, pbunch[10], 0)]\n\u001b[0;32m     20\u001b[0m \u001b[1;31m# pbunch and tbunch will be parameters passed from outside in the future development\u001b[0m\u001b[1;33m\u001b[0m\u001b[1;33m\u001b[0m\u001b[1;33m\u001b[0m\u001b[0m\n\u001b[1;32m---> 21\u001b[1;33m \u001b[0mG\u001b[0m \u001b[1;33m=\u001b[0m \u001b[0mnx\u001b[0m\u001b[1;33m.\u001b[0m\u001b[0mMultiGraph\u001b[0m\u001b[1;33m(\u001b[0m\u001b[1;33m)\u001b[0m\u001b[1;33m\u001b[0m\u001b[1;33m\u001b[0m\u001b[0m\n\u001b[0m\u001b[0;32m     22\u001b[0m \u001b[1;32mfor\u001b[0m \u001b[0mp\u001b[0m \u001b[1;32min\u001b[0m \u001b[0mpbunch\u001b[0m\u001b[1;33m:\u001b[0m\u001b[1;33m\u001b[0m\u001b[1;33m\u001b[0m\u001b[0m\n\u001b[0;32m     23\u001b[0m     \u001b[0mG\u001b[0m\u001b[1;33m.\u001b[0m\u001b[0madd_node\u001b[0m\u001b[1;33m(\u001b[0m\u001b[0mp\u001b[0m\u001b[1;33m,\u001b[0m \u001b[0mattr\u001b[0m\u001b[1;33m=\u001b[0m\u001b[0mp\u001b[0m\u001b[1;33m.\u001b[0m\u001b[0m__dict__\u001b[0m\u001b[1;33m)\u001b[0m\u001b[1;33m\u001b[0m\u001b[1;33m\u001b[0m\u001b[0m\n",
      "\u001b[1;31mNameError\u001b[0m: name 'nx' is not defined"
     ]
    }
   ],
   "source": [
    "_node = {  0:ControlPoint(idx=0, ports=[0,1], MP=0.0), \\\n",
    "            1:AutoPoint(1), \\\n",
    "            2:AutoPoint(2), \\\n",
    "            3:ControlPoint(idx=3, ports=[0,1,3], ban_routes={1:[3],3:[1]}), \\\n",
    "            4:ControlPoint(idx=4, ports=[0,2,1], ban_routes={0:[2],2:[0]}), \\\n",
    "            5:AutoPoint(5), \\\n",
    "            6:ControlPoint(idx=6, ports=[0,1,3], ban_routes={1:[3],3:[1]}), \\\n",
    "            7:ControlPoint(idx=7, ports=[0,2,1], ban_routes={0:[2],2:[0]}), \\\n",
    "            8:AutoPoint(8), \\\n",
    "            9:AutoPoint(9), \\\n",
    "            10:ControlPoint(idx=10, ports=[0,1])}\n",
    "        \n",
    "pbunch = [_node[i] for i in range(len(_node))]\n",
    "\n",
    "tbunch = [  Track(pbunch[0], 1, pbunch[1], 0), Track(pbunch[1], 1, pbunch[2], 0), Track(pbunch[2], 1, pbunch[3], 0),\\\n",
    "            Track(pbunch[3], 1, pbunch[4], 0), Track(pbunch[3], 3, pbunch[4], 2, edge_key=1),\\\n",
    "            Track(pbunch[4], 1, pbunch[5], 0), Track(pbunch[5], 1, pbunch[6], 0),\\\n",
    "            Track(pbunch[6], 1, pbunch[7], 0), Track(pbunch[6], 3, pbunch[7], 2, edge_key=1),\\\n",
    "            Track(pbunch[7], 1, pbunch[8], 0), Track(pbunch[8], 1, pbunch[9], 0), Track(pbunch[9], 1, pbunch[10], 0)]\n",
    "# pbunch and tbunch will be parameters passed from outside in the future development\n",
    "G = nx.MultiGraph()\n",
    "for p in pbunch:\n",
    "    G.add_node(p, attr=p.__dict__)              \n",
    "    # __dict__ of instances (CPs, ATs, Tracks) is pointing the same \n",
    "    # attribute dictionary as the node in the MultiGraph\n",
    "\n",
    "for t in tbunch:\n",
    "    t.L_point.port_track[t.entry_port_L] = t.R_point.port_track[t.entry_port_R] = t\n",
    "    G.add_edge(t.L_point, t.R_point, key=t.edge_key, attr=t.__dict__)          \n",
    "    # __dict__ of instances (CPs, ATs, Tracks) is pointing the same \n",
    "    # attribute dictionary as the edge in the MultiGraph\n",
    "    # key is the index of parallel edges between two nodes\n",
    "\n",
    "for i in G.nodes():\n",
    "    i.neighbors.extend([n for n in G.neighbors(i)])              \n",
    "    for n in G.neighbors(i):\n",
    "        i.add_observer(n)"
   ]
  },
  {
   "cell_type": "code",
   "execution_count": 6,
   "metadata": {},
   "outputs": [],
   "source": [
    "import networkx as nx"
   ]
  },
  {
   "cell_type": "code",
   "execution_count": 7,
   "metadata": {},
   "outputs": [],
   "source": [
    "_node = {  0:ControlPoint(idx=0, ports=[0,1], MP=0.0), \\\n",
    "            1:AutoPoint(1), \\\n",
    "            2:AutoPoint(2), \\\n",
    "            3:ControlPoint(idx=3, ports=[0,1,3], ban_routes={1:[3],3:[1]}), \\\n",
    "            4:ControlPoint(idx=4, ports=[0,2,1], ban_routes={0:[2],2:[0]}), \\\n",
    "            5:AutoPoint(5), \\\n",
    "            6:ControlPoint(idx=6, ports=[0,1,3], ban_routes={1:[3],3:[1]}), \\\n",
    "            7:ControlPoint(idx=7, ports=[0,2,1], ban_routes={0:[2],2:[0]}), \\\n",
    "            8:AutoPoint(8), \\\n",
    "            9:AutoPoint(9), \\\n",
    "            10:ControlPoint(idx=10, ports=[0,1])}\n",
    "        \n",
    "pbunch = [_node[i] for i in range(len(_node))]\n",
    "\n",
    "tbunch = [  Track(pbunch[0], 1, pbunch[1], 0), Track(pbunch[1], 1, pbunch[2], 0), Track(pbunch[2], 1, pbunch[3], 0),\\\n",
    "            Track(pbunch[3], 1, pbunch[4], 0), Track(pbunch[3], 3, pbunch[4], 2, edge_key=1),\\\n",
    "            Track(pbunch[4], 1, pbunch[5], 0), Track(pbunch[5], 1, pbunch[6], 0),\\\n",
    "            Track(pbunch[6], 1, pbunch[7], 0), Track(pbunch[6], 3, pbunch[7], 2, edge_key=1),\\\n",
    "            Track(pbunch[7], 1, pbunch[8], 0), Track(pbunch[8], 1, pbunch[9], 0), Track(pbunch[9], 1, pbunch[10], 0)]\n",
    "# pbunch and tbunch will be parameters passed from outside in the future development\n",
    "G = nx.MultiGraph()\n",
    "for p in pbunch:\n",
    "    G.add_node(p, attr=p.__dict__)              \n",
    "    # __dict__ of instances (CPs, ATs, Tracks) is pointing the same \n",
    "    # attribute dictionary as the node in the MultiGraph\n",
    "\n",
    "for t in tbunch:\n",
    "    t.L_point.port_track[t.entry_port_L] = t.R_point.port_track[t.entry_port_R] = t\n",
    "    G.add_edge(t.L_point, t.R_point, key=t.edge_key, attr=t.__dict__)          \n",
    "    # __dict__ of instances (CPs, ATs, Tracks) is pointing the same \n",
    "    # attribute dictionary as the edge in the MultiGraph\n",
    "    # key is the index of parallel edges between two nodes\n",
    "\n",
    "for i in G.nodes():\n",
    "    i.neighbors.extend([n for n in G.neighbors(i)])              \n",
    "    for n in G.neighbors(i):\n",
    "        i.add_observer(n)"
   ]
  },
  {
   "cell_type": "code",
   "execution_count": 8,
   "metadata": {},
   "outputs": [],
   "source": [
    "F = G.copy()        \n",
    "# F is a shallow copy of G: attrbutes of G/F components \n",
    "# are pointing at the same memory.\n",
    "for i in G.nodes():\n",
    "    # only use G.nodes() instead of F.nodes() to get original nodes \n",
    "    # to avoid dictionary size changing issues. \n",
    "    # all the following graph updates are targeted on F\n",
    "    if i.type == 'at':\n",
    "        at_neighbor = [j for j in F.neighbors(i)]\n",
    "        assert len(at_neighbor) == len(F.edges(i)) == 2\n",
    "        edgetrk_L_points = [F[at_neighbor[0]][i][0]['attr']['L_point'], F[i][at_neighbor[1]][0]['attr']['L_point']]\n",
    "        edgetrk_R_points = [F[at_neighbor[0]][i][0]['attr']['R_point'], F[i][at_neighbor[1]][0]['attr']['R_point']]\n",
    "        edgetrk_L_points.remove(i)\n",
    "        edgetrk_R_points.remove(i)\n",
    "        new_L_point, new_R_point = edgetrk_L_points[0], edgetrk_R_points[0]               \n",
    "        new_length = F[at_neighbor[0]][i][0]['attr']['length'] + F[i][at_neighbor[1]][0]['attr']['length']\n",
    "        new_attr = {'length':   new_length,\n",
    "                    'L_point':  new_L_point,\n",
    "                    'R_point':  new_R_point,\n",
    "                    'entry_port_L': F[new_L_point][i][0]['attr']['entry_port_L'],\n",
    "                    'entry_port_R': F[i][new_R_point][0]['attr']['entry_port_R'],\n",
    "                    'train':        [],\n",
    "                    'traffic_direction': None,\n",
    "                    'track_ports': {new_L_point: F[new_L_point][i][0]['attr']['track_ports'][new_L_point],\n",
    "                                    new_R_point: F[i][new_R_point][0]['attr']['track_ports'][new_R_point]}}\n",
    "        F.remove_node(i)\n",
    "        F.add_edge(new_L_point, new_R_point, attr=new_attr)     \n",
    "        # MultiGraph parallel edges are auto-keyed (0, 1, 2...)\n",
    "        # default 0 as mainline\n",
    "H = F.copy()"
   ]
  },
  {
   "cell_type": "code",
   "execution_count": 9,
   "metadata": {},
   "outputs": [
    {
     "data": {
      "text/plain": [
       "MultiEdgeDataView([(ControlPoint0, ControlPoint3), (ControlPoint3, ControlPoint4), (ControlPoint3, ControlPoint4), (ControlPoint4, ControlPoint6), (ControlPoint6, ControlPoint7), (ControlPoint6, ControlPoint7), (ControlPoint7, ControlPoint10)])"
      ]
     },
     "execution_count": 9,
     "metadata": {},
     "output_type": "execute_result"
    }
   ],
   "source": [
    "H.edges()"
   ]
  },
  {
   "cell_type": "code",
   "execution_count": 10,
   "metadata": {},
   "outputs": [
    {
     "data": {
      "text/plain": [
       "[(ControlPoint0, ControlPoint3),\n",
       " (ControlPoint3, ControlPoint4),\n",
       " (ControlPoint3, ControlPoint4),\n",
       " (ControlPoint4, ControlPoint6),\n",
       " (ControlPoint6, ControlPoint7),\n",
       " (ControlPoint6, ControlPoint7),\n",
       " (ControlPoint7, ControlPoint10)]"
      ]
     },
     "execution_count": 10,
     "metadata": {},
     "output_type": "execute_result"
    }
   ],
   "source": [
    "list(H.edges())"
   ]
  },
  {
   "cell_type": "code",
   "execution_count": 11,
   "metadata": {},
   "outputs": [
    {
     "data": {
      "text/plain": [
       "[(ControlPoint0, ControlPoint3),\n",
       " (ControlPoint3, ControlPoint4),\n",
       " (ControlPoint3, ControlPoint4),\n",
       " (ControlPoint4, ControlPoint6),\n",
       " (ControlPoint6, ControlPoint7),\n",
       " (ControlPoint6, ControlPoint7),\n",
       " (ControlPoint7, ControlPoint10)]"
      ]
     },
     "execution_count": 11,
     "metadata": {},
     "output_type": "execute_result"
    }
   ],
   "source": [
    "[e for e in H.edges()]"
   ]
  },
  {
   "cell_type": "code",
   "execution_count": 12,
   "metadata": {},
   "outputs": [],
   "source": [
    "l=[e for e in H.edges()]"
   ]
  },
  {
   "cell_type": "code",
   "execution_count": 13,
   "metadata": {},
   "outputs": [
    {
     "data": {
      "text/plain": [
       "ControlPoint0"
      ]
     },
     "execution_count": 13,
     "metadata": {},
     "output_type": "execute_result"
    }
   ],
   "source": [
    "l[0][0]"
   ]
  },
  {
   "cell_type": "code",
   "execution_count": 14,
   "metadata": {},
   "outputs": [
    {
     "data": {
      "text/plain": [
       "[[ControlPoint0, AutoPoint1, AutoPoint2, ControlPoint3]]"
      ]
     },
     "execution_count": 14,
     "metadata": {},
     "output_type": "execute_result"
    }
   ],
   "source": [
    "[p for p in nx.all_shortest_paths(G, l[0][0], l[0][1])]"
   ]
  },
  {
   "cell_type": "code",
   "execution_count": 15,
   "metadata": {},
   "outputs": [
    {
     "ename": "TypeError",
     "evalue": "all_shortest_paths() missing 2 required positional arguments: 'source' and 'target'",
     "output_type": "error",
     "traceback": [
      "\u001b[1;31m---------------------------------------------------------------------------\u001b[0m",
      "\u001b[1;31mTypeError\u001b[0m                                 Traceback (most recent call last)",
      "\u001b[1;32m<ipython-input-15-fdab47825f11>\u001b[0m in \u001b[0;36m<module>\u001b[1;34m\u001b[0m\n\u001b[1;32m----> 1\u001b[1;33m \u001b[0mnx\u001b[0m\u001b[1;33m.\u001b[0m\u001b[0mall_shortest_paths\u001b[0m\u001b[1;33m(\u001b[0m\u001b[1;33m(\u001b[0m\u001b[0mG\u001b[0m\u001b[1;33m,\u001b[0m \u001b[0ml\u001b[0m\u001b[1;33m[\u001b[0m\u001b[1;36m0\u001b[0m\u001b[1;33m]\u001b[0m\u001b[1;33m[\u001b[0m\u001b[1;36m0\u001b[0m\u001b[1;33m]\u001b[0m\u001b[1;33m,\u001b[0m \u001b[0ml\u001b[0m\u001b[1;33m[\u001b[0m\u001b[1;36m0\u001b[0m\u001b[1;33m]\u001b[0m\u001b[1;33m[\u001b[0m\u001b[1;36m1\u001b[0m\u001b[1;33m]\u001b[0m\u001b[1;33m)\u001b[0m\u001b[1;33m)\u001b[0m\u001b[1;33m\u001b[0m\u001b[1;33m\u001b[0m\u001b[0m\n\u001b[0m",
      "\u001b[1;31mTypeError\u001b[0m: all_shortest_paths() missing 2 required positional arguments: 'source' and 'target'"
     ]
    }
   ],
   "source": [
    "nx.all_shortest_paths((G, l[0][0], l[0][1]))"
   ]
  },
  {
   "cell_type": "code",
   "execution_count": 16,
   "metadata": {},
   "outputs": [
    {
     "data": {
      "text/plain": [
       "<generator object all_shortest_paths at 0x00000234C4709930>"
      ]
     },
     "execution_count": 16,
     "metadata": {},
     "output_type": "execute_result"
    }
   ],
   "source": []
  },
  {
   "cell_type": "code",
   "execution_count": 17,
   "metadata": {},
   "outputs": [
    {
     "data": {
      "text/plain": [
       "[[ControlPoint0, AutoPoint1, AutoPoint2, ControlPoint3]]"
      ]
     },
     "execution_count": 17,
     "metadata": {},
     "output_type": "execute_result"
    }
   ],
   "source": [
    "[p for p in nx.all_shortest_paths(G, l[0][0], l[0][1])]"
   ]
  },
  {
   "cell_type": "code",
   "execution_count": 18,
   "metadata": {},
   "outputs": [
    {
     "name": "stdout",
     "output_type": "stream",
     "text": [
      "<generator object all_shortest_paths at 0x00000234C4709C78>\n"
     ]
    }
   ],
   "source": [
    "print(nx.all_shortest_paths(G, l[0][0], l[0][1]))"
   ]
  },
  {
   "cell_type": "code",
   "execution_count": 19,
   "metadata": {},
   "outputs": [
    {
     "data": {
      "text/plain": [
       "[ControlPoint0, AutoPoint1, AutoPoint2, ControlPoint3]"
      ]
     },
     "execution_count": 19,
     "metadata": {},
     "output_type": "execute_result"
    }
   ],
   "source": [
    "nx.shortest_path(G, l[0][0], l[0][1])"
   ]
  },
  {
   "cell_type": "code",
   "execution_count": 20,
   "metadata": {},
   "outputs": [
    {
     "data": {
      "text/plain": [
       "<generator object all_shortest_paths at 0x00000234C4709C78>"
      ]
     },
     "execution_count": 20,
     "metadata": {},
     "output_type": "execute_result"
    }
   ],
   "source": [
    "nx.all_shortest_paths(G, l[0][0], l[0][1])"
   ]
  },
  {
   "cell_type": "code",
   "execution_count": 21,
   "metadata": {},
   "outputs": [
    {
     "data": {
      "text/plain": [
       "list"
      ]
     },
     "execution_count": 21,
     "metadata": {},
     "output_type": "execute_result"
    }
   ],
   "source": [
    "type(nx.shortest_path(G, l[0][0], l[0][1]))"
   ]
  },
  {
   "cell_type": "code",
   "execution_count": 22,
   "metadata": {},
   "outputs": [],
   "source": [
    "blk_path = nx.shortest_path(G, l[0][0], l[0][1])"
   ]
  },
  {
   "cell_type": "code",
   "execution_count": 23,
   "metadata": {},
   "outputs": [
    {
     "ename": "IndexError",
     "evalue": "list index out of range",
     "output_type": "error",
     "traceback": [
      "\u001b[1;31m---------------------------------------------------------------------------\u001b[0m",
      "\u001b[1;31mIndexError\u001b[0m                                Traceback (most recent call last)",
      "\u001b[1;32m<ipython-input-23-b65fa04049b9>\u001b[0m in \u001b[0;36m<module>\u001b[1;34m\u001b[0m\n\u001b[1;32m----> 1\u001b[1;33m \u001b[1;33m[\u001b[0m\u001b[1;33m(\u001b[0m\u001b[0mblk_path\u001b[0m\u001b[1;33m[\u001b[0m\u001b[0mi\u001b[0m\u001b[1;33m]\u001b[0m\u001b[1;33m,\u001b[0m \u001b[0mblk_path\u001b[0m\u001b[1;33m[\u001b[0m\u001b[0mi\u001b[0m\u001b[1;33m+\u001b[0m\u001b[1;36m1\u001b[0m\u001b[1;33m]\u001b[0m\u001b[1;33m)\u001b[0m \u001b[1;32mfor\u001b[0m \u001b[0mi\u001b[0m \u001b[1;32min\u001b[0m \u001b[0mrange\u001b[0m\u001b[1;33m(\u001b[0m\u001b[0mlen\u001b[0m\u001b[1;33m(\u001b[0m\u001b[0mblk_path\u001b[0m\u001b[1;33m)\u001b[0m\u001b[1;33m)\u001b[0m\u001b[1;33m]\u001b[0m\u001b[1;33m\u001b[0m\u001b[1;33m\u001b[0m\u001b[0m\n\u001b[0m",
      "\u001b[1;32m<ipython-input-23-b65fa04049b9>\u001b[0m in \u001b[0;36m<listcomp>\u001b[1;34m(.0)\u001b[0m\n\u001b[1;32m----> 1\u001b[1;33m \u001b[1;33m[\u001b[0m\u001b[1;33m(\u001b[0m\u001b[0mblk_path\u001b[0m\u001b[1;33m[\u001b[0m\u001b[0mi\u001b[0m\u001b[1;33m]\u001b[0m\u001b[1;33m,\u001b[0m \u001b[0mblk_path\u001b[0m\u001b[1;33m[\u001b[0m\u001b[0mi\u001b[0m\u001b[1;33m+\u001b[0m\u001b[1;36m1\u001b[0m\u001b[1;33m]\u001b[0m\u001b[1;33m)\u001b[0m \u001b[1;32mfor\u001b[0m \u001b[0mi\u001b[0m \u001b[1;32min\u001b[0m \u001b[0mrange\u001b[0m\u001b[1;33m(\u001b[0m\u001b[0mlen\u001b[0m\u001b[1;33m(\u001b[0m\u001b[0mblk_path\u001b[0m\u001b[1;33m)\u001b[0m\u001b[1;33m)\u001b[0m\u001b[1;33m]\u001b[0m\u001b[1;33m\u001b[0m\u001b[1;33m\u001b[0m\u001b[0m\n\u001b[0m",
      "\u001b[1;31mIndexError\u001b[0m: list index out of range"
     ]
    }
   ],
   "source": [
    "[(blk_path[i], blk_path[i+1]) for i in range(len(blk_path))]"
   ]
  },
  {
   "cell_type": "code",
   "execution_count": 24,
   "metadata": {},
   "outputs": [
    {
     "ename": "IndexError",
     "evalue": "list index out of range",
     "output_type": "error",
     "traceback": [
      "\u001b[1;31m---------------------------------------------------------------------------\u001b[0m",
      "\u001b[1;31mIndexError\u001b[0m                                Traceback (most recent call last)",
      "\u001b[1;32m<ipython-input-24-0fd10eec7f08>\u001b[0m in \u001b[0;36m<module>\u001b[1;34m\u001b[0m\n\u001b[1;32m----> 1\u001b[1;33m \u001b[1;33m[\u001b[0m\u001b[1;33m(\u001b[0m\u001b[0mblk_path\u001b[0m\u001b[1;33m[\u001b[0m\u001b[0mi\u001b[0m\u001b[1;33m]\u001b[0m\u001b[1;33m,\u001b[0m \u001b[0mblk_path\u001b[0m\u001b[1;33m[\u001b[0m\u001b[0mi\u001b[0m\u001b[1;33m+\u001b[0m\u001b[1;36m1\u001b[0m\u001b[1;33m]\u001b[0m\u001b[1;33m)\u001b[0m \u001b[1;32mfor\u001b[0m \u001b[0mi\u001b[0m \u001b[1;32min\u001b[0m \u001b[0mrange\u001b[0m\u001b[1;33m(\u001b[0m\u001b[0mlen\u001b[0m\u001b[1;33m(\u001b[0m\u001b[0mblk_path\u001b[0m\u001b[1;33m)\u001b[0m\u001b[1;33m+\u001b[0m\u001b[1;36m1\u001b[0m\u001b[1;33m)\u001b[0m\u001b[1;33m]\u001b[0m\u001b[1;33m\u001b[0m\u001b[1;33m\u001b[0m\u001b[0m\n\u001b[0m",
      "\u001b[1;32m<ipython-input-24-0fd10eec7f08>\u001b[0m in \u001b[0;36m<listcomp>\u001b[1;34m(.0)\u001b[0m\n\u001b[1;32m----> 1\u001b[1;33m \u001b[1;33m[\u001b[0m\u001b[1;33m(\u001b[0m\u001b[0mblk_path\u001b[0m\u001b[1;33m[\u001b[0m\u001b[0mi\u001b[0m\u001b[1;33m]\u001b[0m\u001b[1;33m,\u001b[0m \u001b[0mblk_path\u001b[0m\u001b[1;33m[\u001b[0m\u001b[0mi\u001b[0m\u001b[1;33m+\u001b[0m\u001b[1;36m1\u001b[0m\u001b[1;33m]\u001b[0m\u001b[1;33m)\u001b[0m \u001b[1;32mfor\u001b[0m \u001b[0mi\u001b[0m \u001b[1;32min\u001b[0m \u001b[0mrange\u001b[0m\u001b[1;33m(\u001b[0m\u001b[0mlen\u001b[0m\u001b[1;33m(\u001b[0m\u001b[0mblk_path\u001b[0m\u001b[1;33m)\u001b[0m\u001b[1;33m+\u001b[0m\u001b[1;36m1\u001b[0m\u001b[1;33m)\u001b[0m\u001b[1;33m]\u001b[0m\u001b[1;33m\u001b[0m\u001b[1;33m\u001b[0m\u001b[0m\n\u001b[0m",
      "\u001b[1;31mIndexError\u001b[0m: list index out of range"
     ]
    }
   ],
   "source": [
    "[(blk_path[i], blk_path[i+1]) for i in range(len(blk_path)+1)]"
   ]
  },
  {
   "cell_type": "code",
   "execution_count": 25,
   "metadata": {},
   "outputs": [
    {
     "data": {
      "text/plain": [
       "[(ControlPoint0, AutoPoint1),\n",
       " (AutoPoint1, AutoPoint2),\n",
       " (AutoPoint2, ControlPoint3)]"
      ]
     },
     "execution_count": 25,
     "metadata": {},
     "output_type": "execute_result"
    }
   ],
   "source": [
    "[(blk_path[i], blk_path[i+1]) for i in range(len(blk_path)-1)]"
   ]
  },
  {
   "cell_type": "code",
   "execution_count": 26,
   "metadata": {},
   "outputs": [],
   "source": [
    "blk_path = nx.shortest_path(G, l[1][0], l[1][1])"
   ]
  },
  {
   "cell_type": "code",
   "execution_count": 27,
   "metadata": {},
   "outputs": [
    {
     "data": {
      "text/plain": [
       "[(ControlPoint3, ControlPoint4)]"
      ]
     },
     "execution_count": 27,
     "metadata": {},
     "output_type": "execute_result"
    }
   ],
   "source": [
    "[(blk_path[i], blk_path[i+1]) for i in range(len(blk_path)-1)]"
   ]
  },
  {
   "cell_type": "code",
   "execution_count": 28,
   "metadata": {},
   "outputs": [
    {
     "data": {
      "text/plain": [
       "<networkx.classes.multigraph.MultiGraph at 0x234c46c9748>"
      ]
     },
     "execution_count": 28,
     "metadata": {},
     "output_type": "execute_result"
    }
   ],
   "source": [
    "G"
   ]
  },
  {
   "cell_type": "code",
   "execution_count": 29,
   "metadata": {},
   "outputs": [
    {
     "data": {
      "text/plain": [
       "{'attr': {'_observers': [ControlPoint0, AutoPoint1],\n",
       "  '_train': [],\n",
       "  '_traffic_direction': None,\n",
       "  'type': 'track',\n",
       "  'length': 5,\n",
       "  'L_point': ControlPoint0,\n",
       "  'R_point': AutoPoint1,\n",
       "  'entry_port_L': 1,\n",
       "  'entry_port_R': 0,\n",
       "  'edge_key': 0,\n",
       "  'is_Occupied': False,\n",
       "  'allow_sp': 30,\n",
       "  'track_ports': {ControlPoint0: 1, AutoPoint1: 0},\n",
       "  'MP': (0.0, 5.0),\n",
       "  '_Track__bigblock': None}}"
      ]
     },
     "execution_count": 29,
     "metadata": {},
     "output_type": "execute_result"
    }
   ],
   "source": [
    "G[_node[0]][_node[1]][0]"
   ]
  },
  {
   "cell_type": "code",
   "execution_count": 31,
   "metadata": {},
   "outputs": [
    {
     "data": {
      "text/plain": [
       "{'attr': {'length': 15,\n",
       "  'L_point': ControlPoint0,\n",
       "  'R_point': ControlPoint3,\n",
       "  'entry_port_L': 1,\n",
       "  'entry_port_R': 0,\n",
       "  'train': [],\n",
       "  'traffic_direction': None,\n",
       "  'track_ports': {ControlPoint0: 1, ControlPoint3: 0}}}"
      ]
     },
     "execution_count": 31,
     "metadata": {},
     "output_type": "execute_result"
    }
   ],
   "source": [
    "F[_node[0]][_node[3]][0]"
   ]
  },
  {
   "cell_type": "code",
   "execution_count": 33,
   "metadata": {},
   "outputs": [
    {
     "data": {
      "text/plain": [
       "[[ControlPoint3, ControlPoint4]]"
      ]
     },
     "execution_count": 33,
     "metadata": {},
     "output_type": "execute_result"
    }
   ],
   "source": [
    "[n for n in nx.all_shortest_paths(G, _node[3], _node[4])]"
   ]
  },
  {
   "cell_type": "code",
   "execution_count": 38,
   "metadata": {},
   "outputs": [
    {
     "data": {
      "text/plain": [
       "[(ControlPoint0, ControlPoint3, 0),\n",
       " (ControlPoint3, ControlPoint4, 0),\n",
       " (ControlPoint3, ControlPoint4, 1),\n",
       " (ControlPoint4, ControlPoint6, 0),\n",
       " (ControlPoint6, ControlPoint7, 0),\n",
       " (ControlPoint6, ControlPoint7, 1),\n",
       " (ControlPoint7, ControlPoint10, 0)]"
      ]
     },
     "execution_count": 38,
     "metadata": {},
     "output_type": "execute_result"
    }
   ],
   "source": [
    "[e for e in F.edges(keys=True)]"
   ]
  },
  {
   "cell_type": "code",
   "execution_count": 40,
   "metadata": {},
   "outputs": [
    {
     "data": {
      "text/plain": [
       "AtlasView({0: {'attr': {'_observers': [AutoPoint1, AutoPoint2], '_train': [], '_traffic_direction': None, 'type': 'track', 'length': 5, 'L_point': AutoPoint1, 'R_point': AutoPoint2, 'entry_port_L': 1, 'entry_port_R': 0, 'edge_key': 0, 'is_Occupied': False, 'allow_sp': 30, 'track_ports': {AutoPoint1: 1, AutoPoint2: 0}, 'MP': (5.0, 10.0), '_Track__bigblock': None}}})"
      ]
     },
     "execution_count": 40,
     "metadata": {},
     "output_type": "execute_result"
    }
   ],
   "source": [
    "G[_node[1]][_node[2]]"
   ]
  },
  {
   "cell_type": "code",
   "execution_count": 41,
   "metadata": {},
   "outputs": [
    {
     "data": {
      "text/plain": [
       "[0]"
      ]
     },
     "execution_count": 41,
     "metadata": {},
     "output_type": "execute_result"
    }
   ],
   "source": [
    "[k for k in G[_node[1]][_node[2]]]"
   ]
  },
  {
   "cell_type": "code",
   "execution_count": 49,
   "metadata": {},
   "outputs": [
    {
     "data": {
      "text/plain": [
       "[0, 1]"
      ]
     },
     "execution_count": 49,
     "metadata": {},
     "output_type": "execute_result"
    }
   ],
   "source": [
    "[k for k in G[_node[3]][_node[4]]]"
   ]
  },
  {
   "cell_type": "code",
   "execution_count": 52,
   "metadata": {},
   "outputs": [
    {
     "data": {
      "text/plain": [
       "True"
      ]
     },
     "execution_count": 52,
     "metadata": {},
     "output_type": "execute_result"
    }
   ],
   "source": [
    "isinstance(G, nx.MultiGraph)"
   ]
  },
  {
   "cell_type": "code",
   "execution_count": 54,
   "metadata": {},
   "outputs": [
    {
     "ename": "NameError",
     "evalue": "name 'NaaaaaaaaameError' is not defined",
     "output_type": "error",
     "traceback": [
      "\u001b[1;31m---------------------------------------------------------------------------\u001b[0m",
      "\u001b[1;31mNameError\u001b[0m                                 Traceback (most recent call last)",
      "\u001b[1;32m<ipython-input-54-d680e94a84bd>\u001b[0m in \u001b[0;36m<module>\u001b[1;34m\u001b[0m\n\u001b[1;32m----> 1\u001b[1;33m \u001b[1;32mraise\u001b[0m \u001b[0mNaaaaaaaaameError\u001b[0m\u001b[1;33m(\u001b[0m\u001b[1;34m'HiThere'\u001b[0m\u001b[1;33m)\u001b[0m\u001b[1;33m\u001b[0m\u001b[1;33m\u001b[0m\u001b[0m\n\u001b[0m",
      "\u001b[1;31mNameError\u001b[0m: name 'NaaaaaaaaameError' is not defined"
     ]
    }
   ],
   "source": [
    "raise NaaaaaaaaameError('HiThere')"
   ]
  },
  {
   "cell_type": "code",
   "execution_count": null,
   "metadata": {},
   "outputs": [],
   "source": []
  }
 ],
 "metadata": {
  "kernelspec": {
   "display_name": "Python 3",
   "language": "python",
   "name": "python3"
  },
  "language_info": {
   "codemirror_mode": {
    "name": "ipython",
    "version": 3
   },
   "file_extension": ".py",
   "mimetype": "text/x-python",
   "name": "python",
   "nbconvert_exporter": "python",
   "pygments_lexer": "ipython3",
   "version": "3.7.1"
  }
 },
 "nbformat": 4,
 "nbformat_minor": 2
}
