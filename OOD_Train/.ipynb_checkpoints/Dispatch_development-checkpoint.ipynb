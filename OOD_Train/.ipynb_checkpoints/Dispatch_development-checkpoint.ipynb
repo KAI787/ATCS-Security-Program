{
 "cells": [
  {
   "cell_type": "code",
   "execution_count": 4,
   "metadata": {},
   "outputs": [],
   "source": [
    "from datetime import datetime, timedelta\n",
    "import numpy as np\n",
    "import random\n",
    "from infrastructure import Yard, Track, BigBlock\n",
    "from signaling import AutoSignal, HomeSignal, AutoPoint, ControlPoint\n",
    "from system import System\n",
    "from train import TrainList, Train\n",
    "from dispatch import Dispatcher\n",
    "import networkx as nx\n",
    "from sim import string_diagram, speed_curve\n",
    "from itertools import combinations, permutations\n",
    "\n",
    "import matplotlib.pyplot as plt\n",
    "import matplotlib.dates as mdates"
   ]
  },
  {
   "cell_type": "code",
   "execution_count": 24,
   "metadata": {},
   "outputs": [],
   "source": [
    "sim_init_time = datetime.strptime('2018-01-10 10:00:00', \"%Y-%m-%d %H:%M:%S\")\n",
    "sim_term_time = datetime.strptime('2018-01-10 15:30:00', \"%Y-%m-%d %H:%M:%S\")\n",
    "sp_container = [random.uniform(0.01, 0.02) for i in range(20)]\n",
    "acc_container = [0.5*random.uniform(2.78e-05*0.85, 2.78e-05*1.15) for i in range(20)]\n",
    "dcc_container = [0.2*random.uniform(2.78e-05*0.85, 2.78e-05*1.15) for i in range(20)]\n",
    "headway = 300 + random.random() * 400\n",
    "sys = System(sim_init_time, sp_container, acc_container, dcc_container,\n",
    "             term_time=sim_term_time,\n",
    "             dos_period=['2018-01-10 11:30:00', '2018-01-10 12:30:00'],  \n",
    "             dos_pos=(15,20),\n",
    "             headway=headway, \n",
    "             refresh_time=50)\n",
    "K165 = Train(sys, sys.sys_time, ((sys.signal_points[0],1),(sys.signal_points[1],0)),\n",
    "             max_sp=sys.sp_container[sys.train_num % len(sys.sp_container)],\n",
    "             max_acc=sys.acc_container[sys.train_num % len(sys.acc_container)],\n",
    "             max_dcc=sys.dcc_container[sys.train_num % len(sys.dcc_container)],\n",
    "             length=1)\n",
    "T165 = Train(sys, sys.sys_time, ((None,None),(sys.signal_points[0],0)),\n",
    "             max_sp=K165.max_speed*1.02,\n",
    "             max_acc=sys.acc_container[sys.train_num % len(sys.acc_container)],\n",
    "             max_dcc=sys.dcc_container[sys.train_num % len(sys.dcc_container)],\n",
    "             length=1)\n",
    "K166 = Train(sys, sys.sys_time, ((sys.signal_points[10],0),(sys.signal_points[9],1)),\n",
    "             max_sp=sys.sp_container[sys.train_num % len(sys.sp_container)],\n",
    "             max_acc=sys.acc_container[sys.train_num % len(sys.acc_container)],\n",
    "             max_dcc=sys.dcc_container[sys.train_num % len(sys.dcc_container)],\n",
    "             length=1)\n",
    "T166 = Train(sys, sys.sys_time, ((None,None),(sys.signal_points[10],1)),\n",
    "             max_sp=K166.max_speed*1.02,\n",
    "             max_acc=sys.acc_container[sys.train_num % len(sys.acc_container)],\n",
    "             max_dcc=sys.dcc_container[sys.train_num % len(sys.dcc_container)],\n",
    "             length=1)"
   ]
  },
  {
   "cell_type": "code",
   "execution_count": 3,
   "metadata": {},
   "outputs": [
    {
     "name": "stdout",
     "output_type": "stream",
     "text": [
      "train idx: 0, MP:  5.00 requested (0, 1) at CP: 15.0\n",
      "\troute (0, 1) of ControlPoint3 is opened\n",
      "train idx: 1, MP:  0.00 requested (0, 1) at CP: 0.0\n",
      "\troute (0, 1) of ControlPoint0 is opened\n",
      "train idx: 2, MP: 45.00 requested (1, 0) at CP: 35.0\n",
      "\troute (1, 0) of ControlPoint7 is opened\n",
      "train idx: 3, MP: 50.00 requested (1, 0) at CP: 50.0\n",
      "\troute (1, 0) of ControlPoint10 is opened\n",
      "train idx: 1 initiated, entering into Track MP: 0.0 to MP: 5.0 idx: 0\n",
      "\troute (0, 1) of ControlPoint0 is closed\n",
      "train idx: 3 initiated, entering into Track MP: 45.0 to MP: 50.0 idx: 0\n",
      "\troute (1, 0) of ControlPoint10 is closed\n"
     ]
    },
    {
     "ename": "AssertionError",
     "evalue": "",
     "output_type": "error",
     "traceback": [
      "\u001b[0;31m---------------------------------------------------------------------------\u001b[0m",
      "\u001b[0;31mAssertionError\u001b[0m                            Traceback (most recent call last)",
      "\u001b[0;32m<ipython-input-3-c5c1cea2fcd3>\u001b[0m in \u001b[0;36m<module>\u001b[0;34m\u001b[0m\n\u001b[1;32m      3\u001b[0m     \u001b[0;32mfor\u001b[0m \u001b[0mt\u001b[0m \u001b[0;32min\u001b[0m \u001b[0msys\u001b[0m\u001b[0;34m.\u001b[0m\u001b[0mtrains\u001b[0m\u001b[0;34m:\u001b[0m\u001b[0;34m\u001b[0m\u001b[0;34m\u001b[0m\u001b[0m\n\u001b[1;32m      4\u001b[0m         \u001b[0mt\u001b[0m\u001b[0;34m.\u001b[0m\u001b[0mrequest_routing\u001b[0m\u001b[0;34m(\u001b[0m\u001b[0;34m)\u001b[0m\u001b[0;34m\u001b[0m\u001b[0;34m\u001b[0m\u001b[0m\n\u001b[0;32m----> 5\u001b[0;31m         \u001b[0mt\u001b[0m\u001b[0;34m.\u001b[0m\u001b[0mupdate_acc\u001b[0m\u001b[0;34m(\u001b[0m\u001b[0;34m)\u001b[0m\u001b[0;34m\u001b[0m\u001b[0;34m\u001b[0m\u001b[0m\n\u001b[0m\u001b[1;32m      6\u001b[0m     \u001b[0msys\u001b[0m\u001b[0;34m.\u001b[0m\u001b[0msys_time\u001b[0m\u001b[0;34m+=\u001b[0m\u001b[0msys\u001b[0m\u001b[0;34m.\u001b[0m\u001b[0mrefresh_time\u001b[0m\u001b[0;34m\u001b[0m\u001b[0;34m\u001b[0m\u001b[0m\n\u001b[1;32m      7\u001b[0m     \u001b[0;32mif\u001b[0m \u001b[0mK165\u001b[0m\u001b[0;34m.\u001b[0m\u001b[0mcurr_MP\u001b[0m \u001b[0;34m>\u001b[0m \u001b[0;36m20\u001b[0m\u001b[0;34m:\u001b[0m\u001b[0;34m\u001b[0m\u001b[0;34m\u001b[0m\u001b[0m\n",
      "\u001b[0;32m~/Documents/GitHub/Rutgers_Railway_security_research/OOD_Train/train.py\u001b[0m in \u001b[0;36mupdate_acc\u001b[0;34m(self)\u001b[0m\n\u001b[1;32m   1020\u001b[0m             @return: None'''\n\u001b[1;32m   1021\u001b[0m         \u001b[0;32mif\u001b[0m \u001b[0;32mnot\u001b[0m \u001b[0mself\u001b[0m\u001b[0;34m.\u001b[0m\u001b[0mstopped\u001b[0m\u001b[0;34m:\u001b[0m\u001b[0;34m\u001b[0m\u001b[0;34m\u001b[0m\u001b[0m\n\u001b[0;32m-> 1022\u001b[0;31m             \u001b[0mself\u001b[0m\u001b[0;34m.\u001b[0m\u001b[0mcurr_speed\u001b[0m \u001b[0;34m=\u001b[0m \u001b[0mself\u001b[0m\u001b[0;34m.\u001b[0m\u001b[0mcurr_speed\u001b[0m \u001b[0;34m+\u001b[0m \u001b[0mself\u001b[0m\u001b[0;34m.\u001b[0m\u001b[0mcurr_acc\u001b[0m \u001b[0;34m*\u001b[0m \u001b[0mself\u001b[0m\u001b[0;34m.\u001b[0m\u001b[0msystem\u001b[0m\u001b[0;34m.\u001b[0m\u001b[0mrefresh_time\u001b[0m\u001b[0;34m\u001b[0m\u001b[0;34m\u001b[0m\u001b[0m\n\u001b[0m\u001b[1;32m   1023\u001b[0m             \u001b[0mdelta_s\u001b[0m \u001b[0;34m=\u001b[0m \u001b[0mself\u001b[0m\u001b[0;34m.\u001b[0m\u001b[0mcurr_speed\u001b[0m \u001b[0;34m*\u001b[0m \u001b[0mself\u001b[0m\u001b[0;34m.\u001b[0m\u001b[0msystem\u001b[0m\u001b[0;34m.\u001b[0m\u001b[0mrefresh_time\u001b[0m \u001b[0;34m+\u001b[0m\u001b[0;31m \u001b[0m\u001b[0;31m\\\u001b[0m\u001b[0;34m\u001b[0m\u001b[0;34m\u001b[0m\u001b[0m\n\u001b[1;32m   1024\u001b[0m                 \u001b[0;36m0.5\u001b[0m \u001b[0;34m*\u001b[0m \u001b[0mself\u001b[0m\u001b[0;34m.\u001b[0m\u001b[0mcurr_acc\u001b[0m \u001b[0;34m*\u001b[0m \u001b[0mself\u001b[0m\u001b[0;34m.\u001b[0m\u001b[0msystem\u001b[0m\u001b[0;34m.\u001b[0m\u001b[0mrefresh_time\u001b[0m \u001b[0;34m**\u001b[0m \u001b[0;36m2\u001b[0m\u001b[0;34m\u001b[0m\u001b[0;34m\u001b[0m\u001b[0m\n",
      "\u001b[0;32m~/Documents/GitHub/Rutgers_Railway_security_research/OOD_Train/train.py\u001b[0m in \u001b[0;36mcurr_speed\u001b[0;34m(self, new_speed)\u001b[0m\n\u001b[1;32m    599\u001b[0m             \u001b[0;36m2\u001b[0m\u001b[0;34m:\u001b[0m \u001b[0mnew\u001b[0m \u001b[0mspeed\u001b[0m \u001b[0mafter\u001b[0m \u001b[0mupdate\u001b[0m \u001b[0mhas\u001b[0m \u001b[0mthe\u001b[0m \u001b[0mopposite\u001b[0m \u001b[0msign\u001b[0m \u001b[0mto\u001b[0m \u001b[0mold_speed\u001b[0m \u001b[0;34m(\u001b[0m\u001b[0mspeed\u001b[0m \u001b[0mvalue\u001b[0m \u001b[0mcrossing\u001b[0m \u001b[0mzero\u001b[0m\u001b[0;34m)\u001b[0m\u001b[0;34m:\u001b[0m\u001b[0;34m\u001b[0m\u001b[0;34m\u001b[0m\u001b[0m\n\u001b[1;32m    600\u001b[0m                 the train is decelerating into a complete stop, setting the speed as 0.'''\n\u001b[0;32m--> 601\u001b[0;31m         \u001b[0;32massert\u001b[0m \u001b[0mself\u001b[0m\u001b[0;34m.\u001b[0m\u001b[0mcurr_brake_distance_abs\u001b[0m \u001b[0;34m<=\u001b[0m \u001b[0mself\u001b[0m\u001b[0;34m.\u001b[0m\u001b[0mcurr_dis_to_curr_sig_abs\u001b[0m\u001b[0;34m\u001b[0m\u001b[0;34m\u001b[0m\u001b[0m\n\u001b[0m\u001b[1;32m    602\u001b[0m         \u001b[0;32massert\u001b[0m \u001b[0mabs\u001b[0m\u001b[0;34m(\u001b[0m\u001b[0mself\u001b[0m\u001b[0;34m.\u001b[0m\u001b[0mcurr_speed\u001b[0m\u001b[0;34m)\u001b[0m \u001b[0;34m<=\u001b[0m \u001b[0mself\u001b[0m\u001b[0;34m.\u001b[0m\u001b[0mcurr_spd_lmt_abs\u001b[0m\u001b[0;34m\u001b[0m\u001b[0;34m\u001b[0m\u001b[0m\n\u001b[1;32m    603\u001b[0m         \u001b[0;31m# assert always-on braking distance/speed limit satisfaction to find bugs\u001b[0m\u001b[0;34m\u001b[0m\u001b[0;34m\u001b[0m\u001b[0;34m\u001b[0m\u001b[0m\n",
      "\u001b[0;31mAssertionError\u001b[0m: "
     ]
    }
   ],
   "source": [
    "while sys.sys_time - sys.init_time <= sys.term_time - sys.init_time:\n",
    "    _semaphore_to_return = False\n",
    "    for t in sys.trains:\n",
    "        t.request_routing()\n",
    "        t.update_acc()\n",
    "    sys.sys_time+=sys.refresh_time\n",
    "    if K165.curr_MP > 20:\n",
    "        break"
   ]
  },
  {
   "cell_type": "code",
   "execution_count": 2,
   "metadata": {},
   "outputs": [
    {
     "ename": "NameError",
     "evalue": "name 'sys' is not defined",
     "output_type": "error",
     "traceback": [
      "\u001b[0;31m---------------------------------------------------------------------------\u001b[0m",
      "\u001b[0;31mNameError\u001b[0m                                 Traceback (most recent call last)",
      "\u001b[0;32m<ipython-input-2-d8f9acfba351>\u001b[0m in \u001b[0;36m<module>\u001b[0;34m\u001b[0m\n\u001b[0;32m----> 1\u001b[0;31m \u001b[0mpath\u001b[0m \u001b[0;34m=\u001b[0m \u001b[0mnx\u001b[0m\u001b[0;34m.\u001b[0m\u001b[0mshortest_path\u001b[0m\u001b[0;34m(\u001b[0m\u001b[0msys\u001b[0m\u001b[0;34m.\u001b[0m\u001b[0mG_skeleton\u001b[0m\u001b[0;34m,\u001b[0m \u001b[0msource\u001b[0m\u001b[0;34m=\u001b[0m\u001b[0msys\u001b[0m\u001b[0;34m.\u001b[0m\u001b[0msignal_points\u001b[0m\u001b[0;34m[\u001b[0m\u001b[0;36m0\u001b[0m\u001b[0;34m]\u001b[0m\u001b[0;34m,\u001b[0m\u001b[0mtarget\u001b[0m\u001b[0;34m=\u001b[0m\u001b[0msys\u001b[0m\u001b[0;34m.\u001b[0m\u001b[0msignal_points\u001b[0m\u001b[0;34m[\u001b[0m\u001b[0;36m10\u001b[0m\u001b[0;34m]\u001b[0m\u001b[0;34m,\u001b[0m \u001b[0mweight\u001b[0m\u001b[0;34m=\u001b[0m\u001b[0;34m'edge_key'\u001b[0m\u001b[0;34m)\u001b[0m\u001b[0;34m\u001b[0m\u001b[0;34m\u001b[0m\u001b[0m\n\u001b[0m\u001b[1;32m      2\u001b[0m \u001b[0mprint\u001b[0m\u001b[0;34m(\u001b[0m\u001b[0mpath\u001b[0m\u001b[0;34m)\u001b[0m\u001b[0;34m\u001b[0m\u001b[0;34m\u001b[0m\u001b[0m\n\u001b[1;32m      3\u001b[0m \u001b[0medges_ids\u001b[0m \u001b[0;34m=\u001b[0m \u001b[0;34m[\u001b[0m\u001b[0;34m]\u001b[0m\u001b[0;34m\u001b[0m\u001b[0;34m\u001b[0m\u001b[0m\n\u001b[1;32m      4\u001b[0m \u001b[0medgesinpath\u001b[0m\u001b[0;34m=\u001b[0m\u001b[0mzip\u001b[0m\u001b[0;34m(\u001b[0m\u001b[0mpath\u001b[0m\u001b[0;34m[\u001b[0m\u001b[0;36m0\u001b[0m\u001b[0;34m:\u001b[0m\u001b[0;34m]\u001b[0m\u001b[0;34m,\u001b[0m\u001b[0mpath\u001b[0m\u001b[0;34m[\u001b[0m\u001b[0;36m1\u001b[0m\u001b[0;34m:\u001b[0m\u001b[0;34m]\u001b[0m\u001b[0;34m)\u001b[0m\u001b[0;34m\u001b[0m\u001b[0;34m\u001b[0m\u001b[0m\n\u001b[1;32m      5\u001b[0m \u001b[0;32mfor\u001b[0m \u001b[0mu\u001b[0m\u001b[0;34m,\u001b[0m\u001b[0mv\u001b[0m \u001b[0;32min\u001b[0m \u001b[0medgesinpath\u001b[0m\u001b[0;34m:\u001b[0m\u001b[0;34m\u001b[0m\u001b[0;34m\u001b[0m\u001b[0m\n",
      "\u001b[0;31mNameError\u001b[0m: name 'sys' is not defined"
     ]
    }
   ],
   "source": [
    "path = nx.shortest_path(sys.G_skeleton, source=sys.signal_points[0],target=sys.signal_points[10], weight='edge_key')\n",
    "print(path)\n",
    "edges_ids = []\n",
    "edgesinpath=zip(path[0:],path[1:])\n",
    "for u,v in edgesinpath:\n",
    "    edge = sorted(sys.G_origin[u][v], key=lambda x:sys.G_origin[u][v][x]['length'])[0]\n",
    "    edges_ids.append(g[u][v][edge]['index'])"
   ]
  },
  {
   "cell_type": "code",
   "execution_count": 5,
   "metadata": {},
   "outputs": [],
   "source": [
    "Z165 = Train(sys, sys.sys_time, ((None,None),(sys.signal_points[0],0)),\n",
    "             max_sp=K166.max_speed*1.02,\n",
    "             max_acc=sys.acc_container[sys.train_num % len(sys.acc_container)],\n",
    "             max_dcc=sys.dcc_container[sys.train_num % len(sys.dcc_container)],\n",
    "             length=1)"
   ]
  },
  {
   "cell_type": "code",
   "execution_count": 1,
   "metadata": {},
   "outputs": [],
   "source": [
    "from datetime import datetime, timedelta\n",
    "import numpy as np\n",
    "import random\n",
    "from infrastructure import *\n",
    "from signaling import *\n",
    "from system import *\n",
    "from train import *\n",
    "from dispatch import *\n",
    "import networkx as nx\n",
    "from sim import *\n",
    "from rail_networkx import *\n",
    "from itertools import combinations, permutations\n",
    "\n",
    "import matplotlib.pyplot as plt\n",
    "import matplotlib.dates as mdates\n",
    "\n",
    "from rail_networkx import all_simple_paths, shortest_path\n",
    "\n",
    "sim_init_time = datetime.strptime('2018-01-10 10:00:00', \"%Y-%m-%d %H:%M:%S\")\n",
    "sim_term_time = datetime.strptime('2018-01-10 15:30:00', \"%Y-%m-%d %H:%M:%S\")\n",
    "sp_container = [random.uniform(0.01, 0.02) for i in range(20)]\n",
    "acc_container = [0.5*random.uniform(2.78e-05*0.85, 2.78e-05*1.15) for i in range(20)]\n",
    "dcc_container = [0.2*random.uniform(2.78e-05*0.85, 2.78e-05*1.15) for i in range(20)]\n",
    "headway = 300 + random.random() * 400\n",
    "sys = System(sim_init_time, sp_container, acc_container, dcc_container,\n",
    "             term_time=sim_term_time,\n",
    "             dos_period=['2018-01-10 11:30:00', '2018-01-10 12:30:00'],  \n",
    "             dos_pos=(15,20),\n",
    "             headway=headway, \n",
    "             refresh_time=50)\n",
    "dp = Dispatcher(sys)"
   ]
  },
  {
   "cell_type": "code",
   "execution_count": 2,
   "metadata": {
    "scrolled": true
   },
   "outputs": [
    {
     "name": "stdout",
     "output_type": "stream",
     "text": [
      "[]\n",
      "[]\n",
      "[(ControlPoint2, ControlPoint14), (ControlPoint14, ControlPoint2), (ControlPoint2, ControlPoint3), (ControlPoint3, ControlPoint2), (ControlPoint2, ControlPoint14), (ControlPoint14, ControlPoint2), (ControlPoint2, ControlPoint3), (ControlPoint3, ControlPoint2)]\n",
      "[(ControlPoint3, ControlPoint4), (ControlPoint4, ControlPoint3), (ControlPoint3, ControlPoint4), (ControlPoint4, ControlPoint3)]\n",
      "[(ControlPoint4, ControlPoint3), (ControlPoint3, ControlPoint4), (ControlPoint4, ControlPoint3), (ControlPoint3, ControlPoint4)]\n",
      "[(ControlPoint5, AutoPoint11), (AutoPoint11, ControlPoint5), (ControlPoint5, ControlPoint6), (ControlPoint6, ControlPoint5), (ControlPoint5, ControlPoint8), (ControlPoint8, ControlPoint5), (ControlPoint5, ControlPoint6), (ControlPoint6, ControlPoint5)]\n",
      "[(ControlPoint6, ControlPoint7), (ControlPoint7, ControlPoint6), (ControlPoint6, ControlPoint7), (ControlPoint7, ControlPoint6)]\n",
      "[(ControlPoint7, ControlPoint6), (ControlPoint6, ControlPoint7), (ControlPoint7, ControlPoint6), (ControlPoint6, ControlPoint7)]\n",
      "[(ControlPoint8, AutoPoint12), (AutoPoint12, ControlPoint8), (ControlPoint8, ControlPoint7), (ControlPoint7, ControlPoint8), (ControlPoint8, ControlPoint5), (ControlPoint5, ControlPoint8), (ControlPoint8, ControlPoint7), (ControlPoint7, ControlPoint8)]\n",
      "[]\n",
      "[]\n",
      "[]\n",
      "[]\n",
      "[]\n",
      "[(ControlPoint14, AutoPoint15), (AutoPoint15, ControlPoint14), (ControlPoint14, ControlPoint16), (ControlPoint16, ControlPoint14), (ControlPoint14, ControlPoint16), (ControlPoint16, ControlPoint14)]\n",
      "[]\n",
      "[(ControlPoint16, AutoPoint15), (AutoPoint15, ControlPoint16), (ControlPoint16, ControlPoint14), (ControlPoint14, ControlPoint16), (ControlPoint16, ControlPoint14), (ControlPoint14, ControlPoint16)]\n"
     ]
    }
   ],
   "source": [
    "for p in sys.signal_points:\n",
    "    print(p.banned_paths)"
   ]
  },
  {
   "cell_type": "code",
   "execution_count": 3,
   "metadata": {},
   "outputs": [
    {
     "name": "stdout",
     "output_type": "stream",
     "text": [
      "3\n"
     ]
    }
   ],
   "source": [
    "one_end_track = sys.signal_points[3].track_by_port[1]\n",
    "for bp in sys.signal_points[3].ban_ports_by_port[1]:\n",
    "    print(bp)"
   ]
  },
  {
   "cell_type": "code",
   "execution_count": 6,
   "metadata": {},
   "outputs": [
    {
     "data": {
      "text/plain": [
       "[BigBlock MP: 0.0 to MP: 10.0 idx: 0,\n",
       " BigBlock MP: 10.0 to MP: 15.0 idx: 0,\n",
       " BigBlock MP: 10.0 to MP: 5.0 idx: 0,\n",
       " BigBlock MP: 15.0 to MP: 20.0 idx: 0,\n",
       " BigBlock MP: 15.0 to MP: 20.0 idx: 1,\n",
       " BigBlock MP: 20.0 to MP: 25.0 idx: 0,\n",
       " BigBlock MP: 25.0 to MP: 30.0 idx: 0,\n",
       " BigBlock MP: 25.0 to MP: 40.0 idx: 0,\n",
       " BigBlock MP: 30.0 to MP: 35.0 idx: 0,\n",
       " BigBlock MP: 30.0 to MP: 35.0 idx: 1,\n",
       " BigBlock MP: 35.0 to MP: 40.0 idx: 0,\n",
       " BigBlock MP: 40.0 to MP: 50.0 idx: 0,\n",
       " BigBlock MP: 20.0 to MP: 15.0 idx: 0,\n",
       " BigBlock MP: 5.0 to MP: 15.0 idx: 0,\n",
       " BigBlock MP: 5.0 to MP: 15.0 idx: 1]"
      ]
     },
     "execution_count": 6,
     "metadata": {},
     "output_type": "execute_result"
    }
   ],
   "source": [
    "sys.signal_points[4].signal_by_port[2].reachable(sys.signal_points[13].signal_by_port[0])"
   ]
  },
  {
   "cell_type": "code",
   "execution_count": 5,
   "metadata": {},
   "outputs": [
    {
     "data": {
      "text/plain": [
       "[[ControlPoint0, AutoPoint1, AutoPoint2, ControlPoint3, ControlPoint4],\n",
       " [ControlPoint0, AutoPoint1, AutoPoint2, ControlPoint3, ControlPoint4]]"
      ]
     },
     "execution_count": 5,
     "metadata": {},
     "output_type": "execute_result"
    }
   ],
   "source": [
    "list(all_simple_paths(sys.G_origin, sys.signal_points[0], sys.signal_points[4]))"
   ]
  },
  {
   "cell_type": "code",
   "execution_count": 16,
   "metadata": {},
   "outputs": [
    {
     "data": {
      "text/plain": [
       "[[((None, None), (ControlPoint0, 0)),\n",
       "  ((ControlPoint0, 1), (ControlPoint3, 0)),\n",
       "  ((ControlPoint3, 1), (ControlPoint4, 0)),\n",
       "  ((ControlPoint4, 1), (ControlPoint6, 0))],\n",
       " [((None, None), (ControlPoint0, 0)),\n",
       "  ((ControlPoint0, 1), (ControlPoint3, 0)),\n",
       "  ((ControlPoint3, 3), (ControlPoint4, 2)),\n",
       "  ((ControlPoint4, 1), (ControlPoint6, 0))]]"
      ]
     },
     "execution_count": 16,
     "metadata": {},
     "output_type": "execute_result"
    }
   ],
   "source": [
    "dp.get_all_routes(sys.signal_points[0], 0, sys.signal_points[4], 1, )"
   ]
  },
  {
   "cell_type": "code",
   "execution_count": 7,
   "metadata": {},
   "outputs": [
    {
     "data": {
      "text/plain": [
       "AutoPoint2"
      ]
     },
     "execution_count": 7,
     "metadata": {},
     "output_type": "execute_result"
    }
   ],
   "source": [
    "sys.signal_points[2].signal_by_port[0].sigpoint"
   ]
  },
  {
   "cell_type": "code",
   "execution_count": 8,
   "metadata": {},
   "outputs": [
    {
     "name": "stdout",
     "output_type": "stream",
     "text": [
      "[ControlPoint0, AutoPoint1, AutoPoint2, ControlPoint3, ControlPoint4, AutoPoint5, ControlPoint6, ControlPoint7, AutoPoint8, AutoPoint9, ControlPoint10]\n",
      "[ControlPoint0, AutoPoint1, AutoPoint2, ControlPoint3, ControlPoint4, AutoPoint5, ControlPoint6, ControlPoint7, AutoPoint8, AutoPoint9, ControlPoint10]\n",
      "[ControlPoint0, AutoPoint1, AutoPoint2, ControlPoint3, ControlPoint4, AutoPoint5, ControlPoint6, ControlPoint7, AutoPoint8, AutoPoint9, ControlPoint10]\n",
      "[ControlPoint0, AutoPoint1, AutoPoint2, ControlPoint3, ControlPoint4, AutoPoint5, ControlPoint6, ControlPoint7, AutoPoint8, AutoPoint9, ControlPoint10]\n"
     ]
    }
   ],
   "source": [
    "for i in nx.all_simple_paths(sys.G_origin, sys.signal_points[0],sys.signal_points[10]):\n",
    "    print(i)"
   ]
  },
  {
   "cell_type": "code",
   "execution_count": 7,
   "metadata": {},
   "outputs": [
    {
     "ename": "TypeError",
     "evalue": "'range' object is not an iterator",
     "output_type": "error",
     "traceback": [
      "\u001b[0;31m---------------------------------------------------------------------------\u001b[0m",
      "\u001b[0;31mTypeError\u001b[0m                                 Traceback (most recent call last)",
      "\u001b[0;32m<ipython-input-7-15841f3f11d4>\u001b[0m in \u001b[0;36m<module>\u001b[0;34m\u001b[0m\n\u001b[0;32m----> 1\u001b[0;31m \u001b[0mnext\u001b[0m\u001b[0;34m(\u001b[0m\u001b[0ma\u001b[0m\u001b[0;34m)\u001b[0m\u001b[0;34m\u001b[0m\u001b[0;34m\u001b[0m\u001b[0m\n\u001b[0m",
      "\u001b[0;31mTypeError\u001b[0m: 'range' object is not an iterator"
     ]
    }
   ],
   "source": [
    "next(a)"
   ]
  },
  {
   "cell_type": "code",
   "execution_count": 9,
   "metadata": {
    "scrolled": true
   },
   "outputs": [
    {
     "data": {
      "text/plain": [
       "['__annotations__',\n",
       " '__call__',\n",
       " '__class__',\n",
       " '__closure__',\n",
       " '__code__',\n",
       " '__defaults__',\n",
       " '__delattr__',\n",
       " '__dict__',\n",
       " '__dir__',\n",
       " '__doc__',\n",
       " '__eq__',\n",
       " '__format__',\n",
       " '__ge__',\n",
       " '__get__',\n",
       " '__getattribute__',\n",
       " '__globals__',\n",
       " '__gt__',\n",
       " '__hash__',\n",
       " '__init__',\n",
       " '__init_subclass__',\n",
       " '__kwdefaults__',\n",
       " '__le__',\n",
       " '__lt__',\n",
       " '__module__',\n",
       " '__name__',\n",
       " '__ne__',\n",
       " '__new__',\n",
       " '__qualname__',\n",
       " '__reduce__',\n",
       " '__reduce_ex__',\n",
       " '__repr__',\n",
       " '__setattr__',\n",
       " '__sizeof__',\n",
       " '__str__',\n",
       " '__subclasshook__']"
      ]
     },
     "execution_count": 9,
     "metadata": {},
     "output_type": "execute_result"
    }
   ],
   "source": [
    "dir(nx.all_simple_paths)"
   ]
  },
  {
   "cell_type": "code",
   "execution_count": 17,
   "metadata": {},
   "outputs": [
    {
     "data": {
      "text/plain": [
       "'all_simple_paths'"
      ]
     },
     "execution_count": 17,
     "metadata": {},
     "output_type": "execute_result"
    }
   ],
   "source": [
    "nx.all_simple_paths.__name__"
   ]
  },
  {
   "cell_type": "code",
   "execution_count": 26,
   "metadata": {},
   "outputs": [],
   "source": [
    "a=[1,2]"
   ]
  },
  {
   "cell_type": "code",
   "execution_count": 32,
   "metadata": {},
   "outputs": [],
   "source": [
    "for x,y,z in zip(a[0:],a[1:],a[2:]):\n",
    "    if x not in [1,2,34]:\n",
    "        print(True)"
   ]
  },
  {
   "cell_type": "code",
   "execution_count": 41,
   "metadata": {},
   "outputs": [],
   "source": [
    "def generator_function():\n",
    "    for i in range(10):\n",
    "        if i:\n",
    "            yield i\n",
    "        \n",
    "            "
   ]
  },
  {
   "cell_type": "code",
   "execution_count": 42,
   "metadata": {},
   "outputs": [],
   "source": [
    "a=generator_function()"
   ]
  },
  {
   "cell_type": "code",
   "execution_count": 40,
   "metadata": {},
   "outputs": [
    {
     "data": {
      "text/plain": [
       "<generator object generator_function at 0xa22de9318>"
      ]
     },
     "execution_count": 40,
     "metadata": {},
     "output_type": "execute_result"
    }
   ],
   "source": [
    "a"
   ]
  },
  {
   "cell_type": "code",
   "execution_count": 43,
   "metadata": {},
   "outputs": [
    {
     "ename": "AttributeError",
     "evalue": "'NoneType' object has no attribute 'attr'",
     "output_type": "error",
     "traceback": [
      "\u001b[0;31m---------------------------------------------------------------------------\u001b[0m",
      "\u001b[0;31mAttributeError\u001b[0m                            Traceback (most recent call last)",
      "\u001b[0;32m<ipython-input-43-a1a736aa872e>\u001b[0m in \u001b[0;36m<module>\u001b[0;34m\u001b[0m\n\u001b[0;32m----> 1\u001b[0;31m \u001b[0;32mNone\u001b[0m\u001b[0;34m.\u001b[0m\u001b[0mattr\u001b[0m\u001b[0;34m\u001b[0m\u001b[0;34m\u001b[0m\u001b[0m\n\u001b[0m",
      "\u001b[0;31mAttributeError\u001b[0m: 'NoneType' object has no attribute 'attr'"
     ]
    }
   ],
   "source": [
    "None.attr"
   ]
  },
  {
   "cell_type": "code",
   "execution_count": 46,
   "metadata": {},
   "outputs": [
    {
     "data": {
      "text/plain": [
       "'meiyou'"
      ]
     },
     "execution_count": 46,
     "metadata": {},
     "output_type": "execute_result"
    }
   ],
   "source": [
    "getattr(getattr(None,'a','yuanlaimeiyou'),'a','meiyou')"
   ]
  },
  {
   "cell_type": "code",
   "execution_count": 47,
   "metadata": {},
   "outputs": [
    {
     "data": {
      "text/plain": [
       "'yuanlaimeiyou'"
      ]
     },
     "execution_count": 47,
     "metadata": {},
     "output_type": "execute_result"
    }
   ],
   "source": [
    "getattr(None,'a','yuanlaimeiyou')"
   ]
  },
  {
   "cell_type": "code",
   "execution_count": null,
   "metadata": {},
   "outputs": [],
   "source": []
  }
 ],
 "metadata": {
  "kernelspec": {
   "display_name": "Python 3",
   "language": "python",
   "name": "python3"
  },
  "language_info": {
   "codemirror_mode": {
    "name": "ipython",
    "version": 3
   },
   "file_extension": ".py",
   "mimetype": "text/x-python",
   "name": "python",
   "nbconvert_exporter": "python",
   "pygments_lexer": "ipython3",
   "version": "3.7.3"
  }
 },
 "nbformat": 4,
 "nbformat_minor": 2
}
