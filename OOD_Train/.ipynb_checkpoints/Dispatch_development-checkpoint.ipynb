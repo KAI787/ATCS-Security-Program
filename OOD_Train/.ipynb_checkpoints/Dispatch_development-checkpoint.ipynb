{
 "cells": [
  {
   "cell_type": "code",
   "execution_count": 1,
   "metadata": {},
   "outputs": [],
   "source": [
    "from datetime import datetime, timedelta\n",
    "import numpy as np\n",
    "import random\n",
    "from infrastructure import *\n",
    "from signaling import *\n",
    "from system import *\n",
    "from train import *\n",
    "from dispatch import *\n",
    "import networkx as nx\n",
    "from sim import *\n",
    "from rail_networkx import *\n",
    "from itertools import combinations, permutations\n",
    "\n",
    "import matplotlib.pyplot as plt\n",
    "import matplotlib.dates as mdates\n",
    "\n",
    "from rail_networkx import all_simple_paths, shortest_path"
   ]
  },
  {
   "cell_type": "code",
   "execution_count": 2,
   "metadata": {},
   "outputs": [],
   "source": [
    "sim_init_time = datetime.strptime('2018-01-10 10:00:00', \"%Y-%m-%d %H:%M:%S\")\n",
    "sim_term_time = datetime.strptime('2018-01-10 15:30:00', \"%Y-%m-%d %H:%M:%S\")\n",
    "spd_container = [random.uniform(0.01, 0.02) for i in range(20)]\n",
    "acc_container = [0.5*random.uniform(2.78e-05*0.85, 2.78e-05*1.15) for i in range(20)]\n",
    "dcc_container = [0.2*random.uniform(2.78e-05*0.85, 2.78e-05*1.15) for i in range(20)]\n",
    "headway = 300 + random.random() * 400\n",
    "sys = System(sim_init_time, spd_container, acc_container, dcc_container,\n",
    "             term_time=sim_term_time,\n",
    "             dos_period=['2018-01-10 11:30:00', '2018-01-10 12:30:00'],  \n",
    "             dos_pos=(15,20),\n",
    "             headway=headway, \n",
    "             refresh_time=50)\n",
    "dp = Dispatcher(sys)\n",
    "K165 = Train(sys, \n",
    "             ((sys.signal_points[0],1),(sys.signal_points[1],0)),\n",
    "             ((sys.signal_points[10],1),(None,None)),\n",
    "             max_spd=random.choice(sys.spd_container),\n",
    "             max_acc=random.choice(sys.acc_container),\n",
    "             max_dcc=random.choice(sys.dcc_container),\n",
    "             length=1)\n",
    "T165 = Train(sys, \n",
    "             ((None,None),(sys.signal_points[0],0)),\n",
    "             ((sys.signal_points[10],1),(None,None)),\n",
    "             max_spd=K165.max_spd*1.02,\n",
    "             max_acc=random.choice(sys.acc_container),\n",
    "             max_dcc=random.choice(sys.dcc_container),\n",
    "             length=1)\n",
    "K166 = Train(sys, \n",
    "             ((sys.signal_points[10],0),(sys.signal_points[9],1)),\n",
    "             ((sys.signal_points[0],0),(None,None)),\n",
    "             max_spd=random.choice(sys.spd_container),\n",
    "             max_acc=random.choice(sys.acc_container),\n",
    "             max_dcc=random.choice(sys.dcc_container),\n",
    "             length=1)\n",
    "T166 = Train(sys, \n",
    "             ((None,None),(sys.signal_points[10],1)),\n",
    "             ((sys.signal_points[0],0),(None,None)),\n",
    "             max_spd=K166.max_spd*1.02,\n",
    "             max_acc=random.choice(sys.acc_container),\n",
    "             max_dcc=random.choice(sys.dcc_container),\n",
    "             length=1)"
   ]
  },
  {
   "cell_type": "code",
   "execution_count": 3,
   "metadata": {
    "scrolled": false
   },
   "outputs": [
    {
     "name": "stdout",
     "output_type": "stream",
     "text": [
      "train idx: 0 occupying:[((CtrlPnt 0, 1), (AutoPnt 1, 0))] head MP: 5.00 rear MP: 4.00, requested (0, 1) at 10.0\n",
      "\troute (0, 1) of CtrlPnt 2 is opened\n",
      "train idx: 1 occupying:[((None, None), (CtrlPnt 0, 0))] head MP: 0.00 rear MP:-1.00, requested (0, 1) at 0.0\n",
      "\troute (0, 1) of CtrlPnt 0 is opened\n",
      "train idx: 2 occupying:[((CtrlPnt10, 0), (AutoPnt 9, 1))] head MP:45.00 rear MP:46.00, requested (1, 0) at 40.0\n",
      "\troute (1, 0) of CtrlPnt 8 is opened\n",
      "train idx: 3 occupying:[((None, None), (CtrlPnt10, 1))] head MP:50.00 rear MP:51.00, requested (1, 0) at 50.0\n",
      "\troute (1, 0) of CtrlPnt10 is opened\n",
      "train train idx: 1 occupying:[((None, None), (CtrlPnt 0, 0))] head MP: 0.00 rear MP:-1.00 initiated, entering into Track <MP:  0.0~5.0  > <CtrlPnt 0 port: 1~AutoPnt 1 port: 0> key: 0\n",
      "\troute (0, 1) of CtrlPnt 0 is closed\n",
      "train train idx: 3 occupying:[((None, None), (CtrlPnt10, 1))] head MP:50.00 rear MP:51.00 initiated, entering into Track <MP: 45.0~50.0 > <AutoPnt 9 port: 1~CtrlPnt10 port: 0> key: 0\n",
      "\troute (1, 0) of CtrlPnt10 is closed\n",
      "\troute (0, 1) of CtrlPnt 2 is closed\n",
      "train idx: 0 occupying:[((CtrlPnt 2, 1), (CtrlPnt 3, 0)), ((AutoPnt 1, 1), (CtrlPnt 2, 0))] head MP:10.05 rear MP: 9.05, requested (0, 1) at 15.0\n",
      "\troute (0, 1) of CtrlPnt 3 is opened\n",
      "\troute (1, 0) of CtrlPnt 8 is closed\n",
      "train idx: 2 occupying:[((CtrlPnt 8, 0), (CtrlPnt 7, 1)), ((AutoPnt 9, 0), (CtrlPnt 8, 1))] head MP:39.79 rear MP:40.79, requested (1, 0) at 35.0\n",
      "\troute (1, 0) of CtrlPnt 7 is opened\n",
      "train idx: 1 occupying:[((CtrlPnt 0, 1), (AutoPnt 1, 0))] head MP: 3.19 rear MP: 2.19, requested (0, 3) at 10.0\n",
      "\troute (0, 3) of CtrlPnt 2 is opened\n",
      "train idx: 3 occupying:[((CtrlPnt10, 0), (AutoPnt 9, 1))] head MP:46.67 rear MP:47.67, requested (1, 2) at 40.0\n",
      "\troute (1, 2) of CtrlPnt 8 is opened\n",
      "\troute (0, 1) of CtrlPnt 3 is closed\n",
      "\troute (1, 0) of CtrlPnt 7 is closed\n",
      "\troute (1, 2) of CtrlPnt 8 is closed\n",
      "\troute (0, 3) of CtrlPnt 2 is closed\n"
     ]
    },
    {
     "ename": "AssertionError",
     "evalue": "",
     "output_type": "error",
     "traceback": [
      "\u001b[0;31m---------------------------------------------------------------------------\u001b[0m",
      "\u001b[0;31mAssertionError\u001b[0m                            Traceback (most recent call last)",
      "\u001b[0;32m<ipython-input-3-c5c1cea2fcd3>\u001b[0m in \u001b[0;36m<module>\u001b[0;34m\u001b[0m\n\u001b[1;32m      3\u001b[0m     \u001b[0;32mfor\u001b[0m \u001b[0mt\u001b[0m \u001b[0;32min\u001b[0m \u001b[0msys\u001b[0m\u001b[0;34m.\u001b[0m\u001b[0mtrains\u001b[0m\u001b[0;34m:\u001b[0m\u001b[0;34m\u001b[0m\u001b[0;34m\u001b[0m\u001b[0m\n\u001b[1;32m      4\u001b[0m         \u001b[0mt\u001b[0m\u001b[0;34m.\u001b[0m\u001b[0mrequest_routing\u001b[0m\u001b[0;34m(\u001b[0m\u001b[0;34m)\u001b[0m\u001b[0;34m\u001b[0m\u001b[0;34m\u001b[0m\u001b[0m\n\u001b[0;32m----> 5\u001b[0;31m         \u001b[0mt\u001b[0m\u001b[0;34m.\u001b[0m\u001b[0mupdate_acc\u001b[0m\u001b[0;34m(\u001b[0m\u001b[0;34m)\u001b[0m\u001b[0;34m\u001b[0m\u001b[0;34m\u001b[0m\u001b[0m\n\u001b[0m\u001b[1;32m      6\u001b[0m     \u001b[0msys\u001b[0m\u001b[0;34m.\u001b[0m\u001b[0msys_time\u001b[0m\u001b[0;34m+=\u001b[0m\u001b[0msys\u001b[0m\u001b[0;34m.\u001b[0m\u001b[0mrefresh_time\u001b[0m\u001b[0;34m\u001b[0m\u001b[0;34m\u001b[0m\u001b[0m\n\u001b[1;32m      7\u001b[0m     \u001b[0;32mif\u001b[0m \u001b[0mK165\u001b[0m\u001b[0;34m.\u001b[0m\u001b[0mcurr_MP\u001b[0m \u001b[0;34m>\u001b[0m \u001b[0;36m20\u001b[0m\u001b[0;34m:\u001b[0m\u001b[0;34m\u001b[0m\u001b[0;34m\u001b[0m\u001b[0m\n",
      "\u001b[0;32m~/Documents/GitHub/Rutgers_Railway_security_research/OOD_Train/train.py\u001b[0m in \u001b[0;36mupdate_acc\u001b[0;34m(self)\u001b[0m\n\u001b[1;32m   1017\u001b[0m             \u001b[0mdelta_s\u001b[0m \u001b[0;34m=\u001b[0m \u001b[0mself\u001b[0m\u001b[0;34m.\u001b[0m\u001b[0mcurr_speed\u001b[0m \u001b[0;34m*\u001b[0m \u001b[0mself\u001b[0m\u001b[0;34m.\u001b[0m\u001b[0msystem\u001b[0m\u001b[0;34m.\u001b[0m\u001b[0mrefresh_time\u001b[0m \u001b[0;34m+\u001b[0m\u001b[0;31m \u001b[0m\u001b[0;31m\\\u001b[0m\u001b[0;34m\u001b[0m\u001b[0;34m\u001b[0m\u001b[0m\n\u001b[1;32m   1018\u001b[0m                 \u001b[0;36m0.5\u001b[0m \u001b[0;34m*\u001b[0m \u001b[0mself\u001b[0m\u001b[0;34m.\u001b[0m\u001b[0mcurr_acc\u001b[0m \u001b[0;34m*\u001b[0m \u001b[0mself\u001b[0m\u001b[0;34m.\u001b[0m\u001b[0msystem\u001b[0m\u001b[0;34m.\u001b[0m\u001b[0mrefresh_time\u001b[0m \u001b[0;34m**\u001b[0m \u001b[0;36m2\u001b[0m\u001b[0;34m\u001b[0m\u001b[0;34m\u001b[0m\u001b[0m\n\u001b[0;32m-> 1019\u001b[0;31m             \u001b[0mself\u001b[0m\u001b[0;34m.\u001b[0m\u001b[0mcurr_MP\u001b[0m \u001b[0;34m+=\u001b[0m \u001b[0mdelta_s\u001b[0m\u001b[0;34m\u001b[0m\u001b[0;34m\u001b[0m\u001b[0m\n\u001b[0m\u001b[1;32m   1020\u001b[0m             self.pos_spd_list.append([\n\u001b[1;32m   1021\u001b[0m                 \u001b[0mself\u001b[0m\u001b[0;34m.\u001b[0m\u001b[0mcurr_MP\u001b[0m\u001b[0;34m,\u001b[0m \u001b[0mself\u001b[0m\u001b[0;34m.\u001b[0m\u001b[0m_curr_speed\u001b[0m\u001b[0;34m,\u001b[0m \u001b[0mself\u001b[0m\u001b[0;34m.\u001b[0m\u001b[0mcurr_spd_lmt_abs\u001b[0m\u001b[0;34m,\u001b[0m\u001b[0;34m\u001b[0m\u001b[0;34m\u001b[0m\u001b[0m\n",
      "\u001b[0;32m~/Documents/GitHub/Rutgers_Railway_security_research/OOD_Train/train.py\u001b[0m in \u001b[0;36mcurr_MP\u001b[0;34m(self, new_MP)\u001b[0m\n\u001b[1;32m    492\u001b[0m         \u001b[0mself\u001b[0m\u001b[0;34m.\u001b[0m\u001b[0mrear_curr_MP\u001b[0m \u001b[0;34m=\u001b[0m \u001b[0mself\u001b[0m\u001b[0;34m.\u001b[0m\u001b[0mrear_curr_MP\u001b[0m \u001b[0;34m+\u001b[0m \u001b[0m_delta_s\u001b[0m\u001b[0;34m\u001b[0m\u001b[0;34m\u001b[0m\u001b[0m\n\u001b[1;32m    493\u001b[0m         \u001b[0;31m# set the new rear MP using the same delta_s\u001b[0m\u001b[0;34m\u001b[0m\u001b[0;34m\u001b[0m\u001b[0;34m\u001b[0m\u001b[0m\n\u001b[0;32m--> 494\u001b[0;31m         \u001b[0mself\u001b[0m\u001b[0;34m.\u001b[0m\u001b[0mtime_pos_list\u001b[0m\u001b[0;34m.\u001b[0m\u001b[0mappend\u001b[0m\u001b[0;34m(\u001b[0m\u001b[0;34m[\u001b[0m\u001b[0mself\u001b[0m\u001b[0;34m.\u001b[0m\u001b[0msystem\u001b[0m\u001b[0;34m.\u001b[0m\u001b[0msys_time\u001b[0m\u001b[0;34m,\u001b[0m \u001b[0mself\u001b[0m\u001b[0;34m.\u001b[0m\u001b[0mcurr_MP\u001b[0m\u001b[0;34m]\u001b[0m\u001b[0;34m)\u001b[0m\u001b[0;34m\u001b[0m\u001b[0;34m\u001b[0m\u001b[0m\n\u001b[0m\u001b[1;32m    495\u001b[0m \u001b[0;34m\u001b[0m\u001b[0m\n\u001b[1;32m    496\u001b[0m     \u001b[0;34m@\u001b[0m\u001b[0mproperty\u001b[0m\u001b[0;34m\u001b[0m\u001b[0;34m\u001b[0m\u001b[0m\n",
      "\u001b[0;32m~/Documents/GitHub/Rutgers_Railway_security_research/OOD_Train/train.py\u001b[0m in \u001b[0;36mcurr_MP\u001b[0;34m(self)\u001b[0m\n\u001b[1;32m    450\u001b[0m         \u001b[0;32mif\u001b[0m \u001b[0mself\u001b[0m\u001b[0;34m.\u001b[0m\u001b[0mcurr_track\u001b[0m\u001b[0;34m:\u001b[0m\u001b[0;34m\u001b[0m\u001b[0;34m\u001b[0m\u001b[0m\n\u001b[1;32m    451\u001b[0m             assert min(self.curr_track.MP) <= self._curr_MP <= max(\n\u001b[0;32m--> 452\u001b[0;31m                 self.curr_track.MP)\n\u001b[0m\u001b[1;32m    453\u001b[0m         \u001b[0;32mreturn\u001b[0m \u001b[0mself\u001b[0m\u001b[0;34m.\u001b[0m\u001b[0m_curr_MP\u001b[0m\u001b[0;34m\u001b[0m\u001b[0;34m\u001b[0m\u001b[0m\n\u001b[1;32m    454\u001b[0m \u001b[0;34m\u001b[0m\u001b[0m\n",
      "\u001b[0;31mAssertionError\u001b[0m: "
     ]
    }
   ],
   "source": [
    "while sys.sys_time - sys.init_time <= sys.term_time - sys.init_time:\n",
    "    _semaphore_to_return = False\n",
    "    for t in sys.trains:\n",
    "        t.request_routing()\n",
    "        t.update_acc()\n",
    "    sys.sys_time+=sys.refresh_time\n",
    "    if K165.curr_MP > 20:\n",
    "        break"
   ]
  },
  {
   "cell_type": "code",
   "execution_count": 28,
   "metadata": {},
   "outputs": [
    {
     "name": "stdout",
     "output_type": "stream",
     "text": [
      "train idx: 0 occupying:[((CtrlPnt 3, 1), (CtrlPnt 4, 0))] head MP:16.15 rear MP:15.15 Track <MP: 15.0~20.0 > <CtrlPnt 3 port: 1~CtrlPnt 4 port: 0> key: 0\n",
      "ayyyyyyyy\n",
      "Track <MP: 10.0~5.0  > <CtrlPnt 2 port: 3~CtrlPnt14 port: 0> key: 0\n",
      "train idx: 2 occupying:[((CtrlPnt 7, 0), (CtrlPnt 6, 1)), ((CtrlPnt 8, 0), (CtrlPnt 7, 1))] head MP:34.52 rear MP:35.52 Track <MP: 30.0~35.0 > <CtrlPnt 6 port: 1~CtrlPnt 7 port: 0> key: 0\n",
      "train idx: 3 occupying:[((CtrlPnt 8, 2), (AutoPnt12, 1)), ((AutoPnt 9, 0), (CtrlPnt 8, 1))] head MP:39.42 rear MP:40.42 Track <MP: 35.0~40.0 > <AutoPnt12 port: 1~CtrlPnt 8 port: 2> key: 0\n"
     ]
    }
   ],
   "source": [
    "for t in [K165,T165,K166,T166]:\n",
    "    try:\n",
    "        print(t, t.curr_track)\n",
    "    except:\n",
    "        print('ayyyyyyyy')\n",
    "        print(t.curr_track)\n"
   ]
  },
  {
   "cell_type": "code",
   "execution_count": 6,
   "metadata": {},
   "outputs": [],
   "source": [
    "shortest_path(sys.G_origin, sys.signal_points[8], sys.signal_points[11], weight='weight_mainline')"
   ]
  },
  {
   "cell_type": "code",
   "execution_count": 47,
   "metadata": {},
   "outputs": [
    {
     "ename": "StopIteration",
     "evalue": "",
     "output_type": "error",
     "traceback": [
      "\u001b[0;31m---------------------------------------------------------------------------\u001b[0m",
      "\u001b[0;31mStopIteration\u001b[0m                             Traceback (most recent call last)",
      "\u001b[0;32m<ipython-input-47-5d861cf0e4ad>\u001b[0m in \u001b[0;36m<module>\u001b[0;34m\u001b[0m\n\u001b[0;32m----> 1\u001b[0;31m \u001b[0mdp\u001b[0m\u001b[0;34m.\u001b[0m\u001b[0mget_route\u001b[0m\u001b[0;34m(\u001b[0m\u001b[0msys\u001b[0m\u001b[0;34m.\u001b[0m\u001b[0msignal_points\u001b[0m\u001b[0;34m[\u001b[0m\u001b[0;36m8\u001b[0m\u001b[0;34m]\u001b[0m\u001b[0;34m,\u001b[0m \u001b[0;36m0\u001b[0m\u001b[0;34m,\u001b[0m \u001b[0msys\u001b[0m\u001b[0;34m.\u001b[0m\u001b[0msignal_points\u001b[0m\u001b[0;34m[\u001b[0m\u001b[0;36m9\u001b[0m\u001b[0;34m]\u001b[0m\u001b[0;34m,\u001b[0m\u001b[0;36m1\u001b[0m\u001b[0;34m,\u001b[0m\u001b[0mmainline\u001b[0m\u001b[0;34m=\u001b[0m\u001b[0;32mFalse\u001b[0m\u001b[0;34m)\u001b[0m\u001b[0;34m\u001b[0m\u001b[0;34m\u001b[0m\u001b[0m\n\u001b[0m",
      "\u001b[0;32m~/Documents/GitHub/Rutgers_Railway_security_research/OOD_Train/dispatch.py\u001b[0m in \u001b[0;36mget_route\u001b[0;34m(self, src, srcport, tgt, tgtport, path, mainline)\u001b[0m\n\u001b[1;32m     50\u001b[0m                     \u001b[0;32mif\u001b[0m \u001b[0mmainline\u001b[0m\u001b[0;34m==\u001b[0m\u001b[0;32mTrue\u001b[0m \u001b[0;32melse\u001b[0m\u001b[0;31m \u001b[0m\u001b[0;31m\\\u001b[0m\u001b[0;34m\u001b[0m\u001b[0;34m\u001b[0m\u001b[0m\n\u001b[1;32m     51\u001b[0m                     next(all_simple_paths(self.system.G_skeleton, \n\u001b[0;32m---> 52\u001b[0;31m                                             source=src, target=tgt))\n\u001b[0m\u001b[1;32m     53\u001b[0m         port_by_bblk = lambda bblk, cp: [p for p in cp.ports \n\u001b[1;32m     54\u001b[0m             if cp.bigblock_by_port.get(p) == bblk][0]\n",
      "\u001b[0;31mStopIteration\u001b[0m: "
     ]
    }
   ],
   "source": [
    "dp.get_route(sys.signal_points[8], 0, sys.signal_points[9],1,mainline=False)"
   ]
  },
  {
   "cell_type": "code",
   "execution_count": 17,
   "metadata": {
    "scrolled": true
   },
   "outputs": [
    {
     "data": {
      "text/plain": [
       "[False, False, False, False]"
      ]
     },
     "execution_count": 17,
     "metadata": {},
     "output_type": "execute_result"
    }
   ],
   "source": [
    "[True if [] else False for i in [1,2,3,4]]"
   ]
  },
  {
   "cell_type": "code",
   "execution_count": 43,
   "metadata": {},
   "outputs": [
    {
     "data": {
      "text/plain": [
       "CtrlPnt 8"
      ]
     },
     "execution_count": 43,
     "metadata": {},
     "output_type": "execute_result"
    }
   ],
   "source": [
    "dp.cp_leading_to(sys.signal_points[9],1)\n",
    "\n"
   ]
  },
  {
   "cell_type": "code",
   "execution_count": 5,
   "metadata": {},
   "outputs": [
    {
     "data": {
      "text/plain": [
       "[BgBlk <MP:  0.0~10.0 > <CtrlPnt 0 port: 1~CtrlPnt 2 port: 0> key: 0,\n",
       " BgBlk <MP: 10.0~15.0 > <CtrlPnt 2 port: 1~CtrlPnt 3 port: 0> key: 0,\n",
       " BgBlk <MP: 10.0~5.0  > <CtrlPnt 2 port: 3~CtrlPnt14 port: 0> key: 0,\n",
       " BgBlk <MP: 15.0~20.0 > <CtrlPnt 3 port: 1~CtrlPnt 4 port: 0> key: 0,\n",
       " BgBlk <MP: 15.0~20.0 > <CtrlPnt 3 port: 3~CtrlPnt 4 port: 2> key: 1,\n",
       " BgBlk <MP: 20.0~25.0 > <CtrlPnt 4 port: 1~CtrlPnt 5 port: 0> key: 0,\n",
       " BgBlk <MP: 25.0~30.0 > <CtrlPnt 5 port: 1~CtrlPnt 6 port: 0> key: 0,\n",
       " BgBlk <MP: 25.0~40.0 > <CtrlPnt 5 port: 3~CtrlPnt 8 port: 2> key: 0,\n",
       " BgBlk <MP: 30.0~35.0 > <CtrlPnt 6 port: 1~CtrlPnt 7 port: 0> key: 0,\n",
       " BgBlk <MP: 30.0~35.0 > <CtrlPnt 6 port: 3~CtrlPnt 7 port: 2> key: 1,\n",
       " BgBlk <MP: 35.0~40.0 > <CtrlPnt 7 port: 1~CtrlPnt 8 port: 0> key: 0,\n",
       " BgBlk <MP: 40.0~50.0 > <CtrlPnt 8 port: 1~CtrlPnt10 port: 0> key: 0,\n",
       " BgBlk <MP: 15.0~20.0 > <CtrlPnt16 port: 1~CtrlPnt13 port: 0> key: 0,\n",
       " BgBlk <MP:  5.0~15.0 > <CtrlPnt14 port: 1~CtrlPnt16 port: 0> key: 0,\n",
       " BgBlk <MP:  5.0~15.0 > <CtrlPnt14 port: 3~CtrlPnt16 port: 2> key: 1]"
      ]
     },
     "execution_count": 5,
     "metadata": {},
     "output_type": "execute_result"
    }
   ],
   "source": [
    "[b for b in sys.bigblocks]"
   ]
  },
  {
   "cell_type": "code",
   "execution_count": 3,
   "metadata": {
    "scrolled": true
   },
   "outputs": [
    {
     "name": "stdout",
     "output_type": "stream",
     "text": [
      "[Track <MP:  0.0~5.0  > <CtrlPnt 0 port: 1~AutoPnt 1 port: 0> key: 0, Track <MP:  5.0~10.0 > <AutoPnt 1 port: 1~CtrlPnt 2 port: 0> key: 0]\n",
      "[Track <MP: 10.0~15.0 > <CtrlPnt 2 port: 1~CtrlPnt 3 port: 0> key: 0]\n",
      "[Track <MP: 10.0~5.0  > <CtrlPnt 2 port: 3~CtrlPnt14 port: 0> key: 0]\n",
      "[Track <MP: 15.0~20.0 > <CtrlPnt 3 port: 1~CtrlPnt 4 port: 0> key: 0]\n",
      "[Track <MP: 15.0~20.0 > <CtrlPnt 3 port: 3~CtrlPnt 4 port: 2> key: 1]\n",
      "[Track <MP: 20.0~25.0 > <CtrlPnt 4 port: 1~CtrlPnt 5 port: 0> key: 0]\n",
      "[Track <MP: 25.0~30.0 > <CtrlPnt 5 port: 1~CtrlPnt 6 port: 0> key: 0]\n",
      "[Track <MP: 25.0~30.0 > <CtrlPnt 5 port: 3~AutoPnt11 port: 0> key: 0, Track <MP: 30.0~35.0 > <AutoPnt11 port: 1~AutoPnt12 port: 0> key: 0, Track <MP: 35.0~40.0 > <AutoPnt12 port: 1~CtrlPnt 8 port: 2> key: 0]\n",
      "[Track <MP: 30.0~35.0 > <CtrlPnt 6 port: 1~CtrlPnt 7 port: 0> key: 0]\n",
      "[Track <MP: 30.0~35.0 > <CtrlPnt 6 port: 3~CtrlPnt 7 port: 2> key: 1]\n",
      "[Track <MP: 35.0~40.0 > <CtrlPnt 7 port: 1~CtrlPnt 8 port: 0> key: 0]\n",
      "[Track <MP: 40.0~45.0 > <CtrlPnt 8 port: 1~AutoPnt 9 port: 0> key: 0, Track <MP: 45.0~50.0 > <AutoPnt 9 port: 1~CtrlPnt10 port: 0> key: 0]\n",
      "[Track <MP: 15.0~20.0 > <CtrlPnt16 port: 1~CtrlPnt13 port: 0> key: 0]\n",
      "[Track <MP:  5.0~15.0 > <CtrlPnt14 port: 1~CtrlPnt16 port: 0> key: 0]\n",
      "[Track <MP:  5.0~10.0 > <CtrlPnt14 port: 3~AutoPnt15 port: 0> key: 0, Track <MP: 10.0~15.0 > <AutoPnt15 port: 1~CtrlPnt16 port: 2> key: 0]\n"
     ]
    }
   ],
   "source": [
    "for e in sys.G_skeleton.edges(data=True):\n",
    "    print(e[2]['instance'].tracks)"
   ]
  },
  {
   "cell_type": "code",
   "execution_count": 10,
   "metadata": {},
   "outputs": [
    {
     "name": "stdout",
     "output_type": "stream",
     "text": [
      "HomeSig port: 0 of CtrlPnt 0\n",
      "HomeSig port: 1 of CtrlPnt 0\n",
      "HomeSig port: 0 of CtrlPnt 2\n",
      "HomeSig port: 1 of CtrlPnt 2\n",
      "HomeSig port: 3 of CtrlPnt 2\n",
      "HomeSig port: 0 of CtrlPnt 3\n",
      "HomeSig port: 1 of CtrlPnt 3\n",
      "HomeSig port: 3 of CtrlPnt 3\n",
      "HomeSig port: 0 of CtrlPnt 4\n",
      "HomeSig port: 2 of CtrlPnt 4\n",
      "HomeSig port: 1 of CtrlPnt 4\n",
      "HomeSig port: 0 of CtrlPnt 5\n",
      "HomeSig port: 1 of CtrlPnt 5\n",
      "HomeSig port: 3 of CtrlPnt 5\n",
      "HomeSig port: 0 of CtrlPnt 6\n",
      "HomeSig port: 1 of CtrlPnt 6\n",
      "HomeSig port: 3 of CtrlPnt 6\n",
      "HomeSig port: 0 of CtrlPnt 7\n",
      "HomeSig port: 2 of CtrlPnt 7\n",
      "HomeSig port: 1 of CtrlPnt 7\n",
      "HomeSig port: 0 of CtrlPnt 8\n",
      "HomeSig port: 2 of CtrlPnt 8\n",
      "HomeSig port: 1 of CtrlPnt 8\n",
      "HomeSig port: 0 of CtrlPnt10\n",
      "HomeSig port: 1 of CtrlPnt10\n",
      "HomeSig port: 0 of CtrlPnt13\n",
      "HomeSig port: 1 of CtrlPnt13\n",
      "HomeSig port: 0 of CtrlPnt14\n",
      "HomeSig port: 1 of CtrlPnt14\n",
      "HomeSig port: 3 of CtrlPnt14\n",
      "HomeSig port: 0 of CtrlPnt16\n",
      "HomeSig port: 2 of CtrlPnt16\n",
      "HomeSig port: 1 of CtrlPnt16\n"
     ]
    }
   ],
   "source": [
    "for i in sys.ctrl_points:\n",
    "    for _,j in i.signal_by_port.items():\n",
    "        print(j)"
   ]
  },
  {
   "cell_type": "code",
   "execution_count": 11,
   "metadata": {},
   "outputs": [
    {
     "name": "stdout",
     "output_type": "stream",
     "text": [
      "BgBlk MP:<  0.0~10.0 > <CtrlPnt 0 port: 1~CtrlPnt 2 port: 0> key: 0\n",
      "BgBlk MP:< 10.0~15.0 > <CtrlPnt 2 port: 1~CtrlPnt 3 port: 0> key: 0\n",
      "BgBlk MP:< 10.0~5.0  > <CtrlPnt 2 port: 3~CtrlPnt14 port: 0> key: 0\n",
      "BgBlk MP:< 15.0~20.0 > <CtrlPnt 3 port: 1~CtrlPnt 4 port: 0> key: 0\n",
      "BgBlk MP:< 15.0~20.0 > <CtrlPnt 3 port: 3~CtrlPnt 4 port: 2> key: 1\n",
      "BgBlk MP:< 20.0~25.0 > <CtrlPnt 4 port: 1~CtrlPnt 5 port: 0> key: 0\n",
      "BgBlk MP:< 25.0~30.0 > <CtrlPnt 5 port: 1~CtrlPnt 6 port: 0> key: 0\n",
      "BgBlk MP:< 25.0~40.0 > <CtrlPnt 5 port: 3~CtrlPnt 8 port: 2> key: 0\n",
      "BgBlk MP:< 30.0~35.0 > <CtrlPnt 6 port: 1~CtrlPnt 7 port: 0> key: 0\n",
      "BgBlk MP:< 30.0~35.0 > <CtrlPnt 6 port: 3~CtrlPnt 7 port: 2> key: 1\n",
      "BgBlk MP:< 35.0~40.0 > <CtrlPnt 7 port: 1~CtrlPnt 8 port: 0> key: 0\n",
      "BgBlk MP:< 40.0~50.0 > <CtrlPnt 8 port: 1~CtrlPnt10 port: 0> key: 0\n",
      "BgBlk MP:< 15.0~20.0 > <CtrlPnt16 port: 1~CtrlPnt13 port: 0> key: 0\n",
      "BgBlk MP:<  5.0~15.0 > <CtrlPnt14 port: 1~CtrlPnt16 port: 0> key: 0\n",
      "BgBlk MP:<  5.0~15.0 > <CtrlPnt14 port: 3~CtrlPnt16 port: 2> key: 1\n"
     ]
    }
   ],
   "source": [
    "for i in sys.bigblocks:\n",
    "    print(i)"
   ]
  },
  {
   "cell_type": "code",
   "execution_count": null,
   "metadata": {},
   "outputs": [],
   "source": []
  },
  {
   "cell_type": "code",
   "execution_count": null,
   "metadata": {},
   "outputs": [],
   "source": []
  }
 ],
 "metadata": {
  "kernelspec": {
   "display_name": "Python 3",
   "language": "python",
   "name": "python3"
  },
  "language_info": {
   "codemirror_mode": {
    "name": "ipython",
    "version": 3
   },
   "file_extension": ".py",
   "mimetype": "text/x-python",
   "name": "python",
   "nbconvert_exporter": "python",
   "pygments_lexer": "ipython3",
   "version": "3.7.3"
  }
 },
 "nbformat": 4,
 "nbformat_minor": 2
}
