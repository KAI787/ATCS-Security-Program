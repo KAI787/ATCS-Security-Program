{
 "cells": [
  {
   "cell_type": "code",
   "execution_count": 4,
   "metadata": {},
   "outputs": [],
   "source": [
    "from block import Block\n",
    "from system import System\n",
    "from train import Train\n",
    "import matplotlib.pyplot as plt\n",
    "import matplotlib.dates as mdates\n",
    "from datetime import datetime, timedelta\n",
    "import numpy as np"
   ]
  },
  {
   "cell_type": "code",
   "execution_count": 5,
   "metadata": {},
   "outputs": [],
   "source": [
    "def string_diagram(sys, start_time, end_time):\n",
    "    '''To draw the string diagram based on the schedule dictionary for all the trains. \n",
    "    '''\n",
    "    colors = ['red','green','blue','black','orange','cyan','magenta']\n",
    "    color_num = len(colors)\n",
    "    x = []; y = []; \n",
    "    for i in range(len(sys.trains)-1):\n",
    "        x.append([])\n",
    "        y.append([])\n",
    "        for j in range(len(sys.trains[i].time_pos_list)-1):\n",
    "            x[i].append(datetime.fromtimestamp(sys.trains[i].time_pos_list[j][0]))\n",
    "            y[i].append(sys.trains[i].time_pos_list[j][1])\n",
    "            # x[i].append(sys.trains[i].time_pos_list[j][0])\n",
    "            # y[i].append(sys.trains[i].time_pos_list[j][1])\n",
    "\n",
    "    y = [i for _,i in sorted(zip([i[0] for i in x], y))]\n",
    "    x = sorted(x, key = lambda x: x[0])\n",
    "    assert len(x) == len(y)\n",
    "    \n",
    "    train_idx = list(range(len(x)))\n",
    "    t_color = [colors[x.index(i)%color_num] for i in x]\n",
    "    min_t, max_t = min([i[0] for i in x]), max([i[-1] for i in x])\n",
    "\n",
    "    #plt.ion()\n",
    "    plt.title('Result Analysis')\n",
    "    hours = mdates.HourLocator()\n",
    "    minutes = mdates.MinuteLocator()\n",
    "    seconds = mdates.SecondLocator()\n",
    "    dateFmt = mdates.DateFormatter(\"%H:%M\")\n",
    "    plt.gca().xaxis.set_major_locator(hours)\n",
    "    plt.gca().xaxis.set_minor_locator(minutes)\n",
    "    plt.gca().xaxis.set_major_formatter(dateFmt)\n",
    "    plt.xticks(rotation=90)\n",
    "    plt.grid(True, linestyle = \"-.\", color = \"r\", linewidth = \"0.1\")\n",
    "    plt.legend()\n",
    "    plt.xlabel('Time')\n",
    "    plt.ylabel('Mile Post/miles')\n",
    "    start_time = int(start_time.timestamp())\n",
    "    end_time = int(end_time.timestamp())\n",
    "    plt.axis([(datetime.fromtimestamp(start_time - 500)), \\\n",
    "            (datetime.fromtimestamp(end_time + 500)), -5 , 55])\n",
    "    #===============================================================================\n",
    "    # time_length = end_time - start_time\n",
    "    # step_size = 10\n",
    "    # for start in range(1,time_length + 1, step_size):\n",
    "    #     plt.axis([(datetime.fromtimestamp(start_time - 500)), \\\n",
    "    #         (datetime.fromtimestamp(end_time + 500)), -5 , 55])\n",
    "        \n",
    "    #     for n in range(len(x)-1):\n",
    "    #         new_x_y = [[mdates.date2num(datetime.fromtimestamp(i)), j] for i, j in zip(x[n], y[n]) if i < start_time + start and i > start_time + start - 1 - step_size]\n",
    "    #         new_x = []\n",
    "    #         new_y = []\n",
    "    #         for i , j in new_x_y:\n",
    "    #             new_x.append(i)\n",
    "    #             new_y.append(j)\n",
    "    #         if(len(new_x) == 0):\n",
    "    #             continue\n",
    "    #         plt.plot(new_x, new_y, color=t_color[n])\n",
    "    #         # print('==============')\n",
    "    #         # print('Length of new_x: {}'.format(len(new_x)))\n",
    "    #         # print('Length of new_y: {}'.format(len(new_y)))\n",
    "    #     plt.pause(0.00001)\n",
    "    #===============================================================================\n",
    "    for n in range(len(x)-1):\n",
    "        #assert len(x[n]) == len(y[n]) == t_color[n]\n",
    "        plt.plot([mdates.date2num(i) for i in x[n]], y[n], color=t_color[n])\n",
    "    plt.gca().axhspan(15,20,color='yellow',alpha=0.5)\n",
    "    plt.gca().axhspan(30,35,color='yellow',alpha=0.5)\n",
    "    plt.gca().axvspan((datetime.fromtimestamp(start_time + 90 * 60)),(datetime.fromtimestamp(start_time + 150 * 60)),color='black',alpha=0.5)\n",
    "    plt.show()\n",
    "    #plt.ioff()"
   ]
  },
  {
   "cell_type": "code",
   "execution_count": 6,
   "metadata": {},
   "outputs": [],
   "source": [
    "def main():\n",
    "    sim_init_time = datetime.strptime('2018-01-10 10:00:00', \"%Y-%m-%d %H:%M:%S\")\n",
    "    sim_term_time = datetime.strptime('2018-01-10 15:30:00', \"%Y-%m-%d %H:%M:%S\")\n",
    "    sys = System(sim_init_time, [5] * 10, [1,1,1,2,1,1,2,1,1,1], dos_period=['2018-01-10 11:30:00', '2018-01-10 11:45:00'], dos_pos=-1)\n",
    "    sim_timedelta = sim_term_time - sim_init_time\n",
    "    i = 0\n",
    "    while (datetime.fromtimestamp(sys.sys_time) - sim_init_time).total_seconds() < sim_timedelta.total_seconds():\n",
    "        i += 1\n",
    "        sys.refresh()\n",
    "    string_diagram(sys, sim_init_time, sim_term_time)"
   ]
  },
  {
   "cell_type": "code",
   "execution_count": 7,
   "metadata": {},
   "outputs": [
    {
     "ename": "TypeError",
     "evalue": "__init__() missing 2 required positional arguments: 'sp_container' and 'acc_container'",
     "output_type": "error",
     "traceback": [
      "\u001b[1;31m---------------------------------------------------------------------------\u001b[0m",
      "\u001b[1;31mTypeError\u001b[0m                                 Traceback (most recent call last)",
      "\u001b[1;32m<ipython-input-7-263240bbee7e>\u001b[0m in \u001b[0;36m<module>\u001b[1;34m()\u001b[0m\n\u001b[1;32m----> 1\u001b[1;33m \u001b[0mmain\u001b[0m\u001b[1;33m(\u001b[0m\u001b[1;33m)\u001b[0m\u001b[1;33m\u001b[0m\u001b[0m\n\u001b[0m",
      "\u001b[1;32m<ipython-input-6-bc6baf6d9303>\u001b[0m in \u001b[0;36mmain\u001b[1;34m()\u001b[0m\n\u001b[0;32m      2\u001b[0m     \u001b[0msim_init_time\u001b[0m \u001b[1;33m=\u001b[0m \u001b[0mdatetime\u001b[0m\u001b[1;33m.\u001b[0m\u001b[0mstrptime\u001b[0m\u001b[1;33m(\u001b[0m\u001b[1;34m'2018-01-10 10:00:00'\u001b[0m\u001b[1;33m,\u001b[0m \u001b[1;34m\"%Y-%m-%d %H:%M:%S\"\u001b[0m\u001b[1;33m)\u001b[0m\u001b[1;33m\u001b[0m\u001b[0m\n\u001b[0;32m      3\u001b[0m     \u001b[0msim_term_time\u001b[0m \u001b[1;33m=\u001b[0m \u001b[0mdatetime\u001b[0m\u001b[1;33m.\u001b[0m\u001b[0mstrptime\u001b[0m\u001b[1;33m(\u001b[0m\u001b[1;34m'2018-01-10 15:30:00'\u001b[0m\u001b[1;33m,\u001b[0m \u001b[1;34m\"%Y-%m-%d %H:%M:%S\"\u001b[0m\u001b[1;33m)\u001b[0m\u001b[1;33m\u001b[0m\u001b[0m\n\u001b[1;32m----> 4\u001b[1;33m     \u001b[0msys\u001b[0m \u001b[1;33m=\u001b[0m \u001b[0mSystem\u001b[0m\u001b[1;33m(\u001b[0m\u001b[0msim_init_time\u001b[0m\u001b[1;33m,\u001b[0m \u001b[1;33m[\u001b[0m\u001b[1;36m5\u001b[0m\u001b[1;33m]\u001b[0m \u001b[1;33m*\u001b[0m \u001b[1;36m10\u001b[0m\u001b[1;33m,\u001b[0m \u001b[1;33m[\u001b[0m\u001b[1;36m1\u001b[0m\u001b[1;33m,\u001b[0m\u001b[1;36m1\u001b[0m\u001b[1;33m,\u001b[0m\u001b[1;36m1\u001b[0m\u001b[1;33m,\u001b[0m\u001b[1;36m2\u001b[0m\u001b[1;33m,\u001b[0m\u001b[1;36m1\u001b[0m\u001b[1;33m,\u001b[0m\u001b[1;36m1\u001b[0m\u001b[1;33m,\u001b[0m\u001b[1;36m2\u001b[0m\u001b[1;33m,\u001b[0m\u001b[1;36m1\u001b[0m\u001b[1;33m,\u001b[0m\u001b[1;36m1\u001b[0m\u001b[1;33m,\u001b[0m\u001b[1;36m1\u001b[0m\u001b[1;33m]\u001b[0m\u001b[1;33m,\u001b[0m \u001b[0mdos_period\u001b[0m\u001b[1;33m=\u001b[0m\u001b[1;33m[\u001b[0m\u001b[1;34m'2018-01-10 11:30:00'\u001b[0m\u001b[1;33m,\u001b[0m \u001b[1;34m'2018-01-10 11:45:00'\u001b[0m\u001b[1;33m]\u001b[0m\u001b[1;33m,\u001b[0m \u001b[0mdos_pos\u001b[0m\u001b[1;33m=\u001b[0m\u001b[1;33m-\u001b[0m\u001b[1;36m1\u001b[0m\u001b[1;33m)\u001b[0m\u001b[1;33m\u001b[0m\u001b[0m\n\u001b[0m\u001b[0;32m      5\u001b[0m     \u001b[0msim_timedelta\u001b[0m \u001b[1;33m=\u001b[0m \u001b[0msim_term_time\u001b[0m \u001b[1;33m-\u001b[0m \u001b[0msim_init_time\u001b[0m\u001b[1;33m\u001b[0m\u001b[0m\n\u001b[0;32m      6\u001b[0m     \u001b[0mi\u001b[0m \u001b[1;33m=\u001b[0m \u001b[1;36m0\u001b[0m\u001b[1;33m\u001b[0m\u001b[0m\n",
      "\u001b[1;31mTypeError\u001b[0m: __init__() missing 2 required positional arguments: 'sp_container' and 'acc_container'"
     ]
    }
   ],
   "source": [
    "main()"
   ]
  },
  {
   "cell_type": "code",
   "execution_count": 8,
   "metadata": {},
   "outputs": [],
   "source": [
    "def func1(a, b):\n",
    "    return a / b\n",
    "\n",
    "def func2(x):\n",
    "    a = x\n",
    "    b = x - 1\n",
    "    return func1(a, b)"
   ]
  },
  {
   "cell_type": "code",
   "execution_count": 16,
   "metadata": {
    "scrolled": true
   },
   "outputs": [
    {
     "ename": "ZeroDivisionError",
     "evalue": "division by zero",
     "output_type": "error",
     "traceback": [
      "\u001b[1;31m---------------------------------------------------------------------------\u001b[0m",
      "\u001b[1;31mZeroDivisionError\u001b[0m                         Traceback (most recent call last)",
      "\u001b[1;32m<ipython-input-16-7cb498ea7ed1>\u001b[0m in \u001b[0;36m<module>\u001b[1;34m()\u001b[0m\n\u001b[1;32m----> 1\u001b[1;33m \u001b[0mfunc2\u001b[0m\u001b[1;33m(\u001b[0m\u001b[1;36m1\u001b[0m\u001b[1;33m)\u001b[0m\u001b[1;33m\u001b[0m\u001b[0m\n\u001b[0m        \u001b[1;36mglobal\u001b[0m \u001b[0;36mfunc2\u001b[0m \u001b[1;34m= <function func2 at 0x000001FD53EA5D08>\u001b[0m\n",
      "\u001b[1;32m<ipython-input-8-586ccabd0db3>\u001b[0m in \u001b[0;36mfunc2\u001b[1;34m(x=1)\u001b[0m\n\u001b[0;32m      5\u001b[0m     \u001b[0ma\u001b[0m \u001b[1;33m=\u001b[0m \u001b[0mx\u001b[0m\u001b[1;33m\u001b[0m\u001b[0m\n\u001b[0;32m      6\u001b[0m     \u001b[0mb\u001b[0m \u001b[1;33m=\u001b[0m \u001b[0mx\u001b[0m \u001b[1;33m-\u001b[0m \u001b[1;36m1\u001b[0m\u001b[1;33m\u001b[0m\u001b[0m\n\u001b[1;32m----> 7\u001b[1;33m     \u001b[1;32mreturn\u001b[0m \u001b[0mfunc1\u001b[0m\u001b[1;33m(\u001b[0m\u001b[0ma\u001b[0m\u001b[1;33m,\u001b[0m \u001b[0mb\u001b[0m\u001b[1;33m)\u001b[0m\u001b[1;33m\u001b[0m\u001b[0m\n\u001b[0m        \u001b[1;36mglobal\u001b[0m \u001b[0;36mfunc1\u001b[0m \u001b[1;34m= <function func1 at 0x000001FD53EA5EA0>\u001b[0m\u001b[1;34m\n        \u001b[0m\u001b[0;36ma\u001b[0m \u001b[1;34m= 1\u001b[0m\u001b[1;34m\n        \u001b[0m\u001b[0;36mb\u001b[0m \u001b[1;34m= 0\u001b[0m\n",
      "\u001b[1;32m<ipython-input-8-586ccabd0db3>\u001b[0m in \u001b[0;36mfunc1\u001b[1;34m(a=1, b=0)\u001b[0m\n\u001b[0;32m      1\u001b[0m \u001b[1;32mdef\u001b[0m \u001b[0mfunc1\u001b[0m\u001b[1;33m(\u001b[0m\u001b[0ma\u001b[0m\u001b[1;33m,\u001b[0m \u001b[0mb\u001b[0m\u001b[1;33m)\u001b[0m\u001b[1;33m:\u001b[0m\u001b[1;33m\u001b[0m\u001b[0m\n\u001b[1;32m----> 2\u001b[1;33m     \u001b[1;32mreturn\u001b[0m \u001b[0ma\u001b[0m \u001b[1;33m/\u001b[0m \u001b[0mb\u001b[0m\u001b[1;33m\u001b[0m\u001b[0m\n\u001b[0m        \u001b[0;36ma\u001b[0m \u001b[1;34m= 1\u001b[0m\u001b[1;34m\n        \u001b[0m\u001b[0;36mb\u001b[0m \u001b[1;34m= 0\u001b[0m\n\u001b[0;32m      3\u001b[0m \u001b[1;33m\u001b[0m\u001b[0m\n\u001b[0;32m      4\u001b[0m \u001b[1;32mdef\u001b[0m \u001b[0mfunc2\u001b[0m\u001b[1;33m(\u001b[0m\u001b[0mx\u001b[0m\u001b[1;33m)\u001b[0m\u001b[1;33m:\u001b[0m\u001b[1;33m\u001b[0m\u001b[0m\n\u001b[0;32m      5\u001b[0m     \u001b[0ma\u001b[0m \u001b[1;33m=\u001b[0m \u001b[0mx\u001b[0m\u001b[1;33m\u001b[0m\u001b[0m\n",
      "\u001b[1;31mZeroDivisionError\u001b[0m: division by zero"
     ]
    }
   ],
   "source": [
    "func2(1)"
   ]
  },
  {
   "cell_type": "code",
   "execution_count": null,
   "metadata": {},
   "outputs": [],
   "source": [
    "%debug"
   ]
  },
  {
   "cell_type": "code",
   "execution_count": null,
   "metadata": {},
   "outputs": [],
   "source": []
  },
  {
   "cell_type": "code",
   "execution_count": null,
   "metadata": {},
   "outputs": [],
   "source": []
  }
 ],
 "metadata": {
  "kernelspec": {
   "display_name": "Python 3",
   "language": "python",
   "name": "python3"
  },
  "language_info": {
   "codemirror_mode": {
    "name": "ipython",
    "version": 3
   },
   "file_extension": ".py",
   "mimetype": "text/x-python",
   "name": "python",
   "nbconvert_exporter": "python",
   "pygments_lexer": "ipython3",
   "version": "3.7.0"
  }
 },
 "nbformat": 4,
 "nbformat_minor": 2
}
