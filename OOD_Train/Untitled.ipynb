{
 "cells": [
  {
   "cell_type": "code",
   "execution_count": 1,
   "metadata": {},
   "outputs": [],
   "source": [
    "import os\n",
    "import sys\n",
    "sys.path.append('D:\\\\Users\\\\Hegxiten\\\\workspace\\\\Rutgers_Railway_security_research\\\\OOD_Train')\n",
    "\n",
    "from datetime import datetime, timedelta\n",
    "import numpy as np\n",
    "import random\n",
    "from train import Train\n",
    "from infrastructure import Track, Block, BigBlock\n",
    "from signaling import AutoSignal, HomeSignal, AutoPoint, ControlPoint\n",
    "\n",
    "import networkx as nx\n"
   ]
  },
  {
   "cell_type": "code",
   "execution_count": 2,
   "metadata": {},
   "outputs": [],
   "source": [
    "_node = {  0:ControlPoint(idx=0, ports=[0,1], MP=0.0), \\\n",
    "                    1:AutoPoint(1), \\\n",
    "                    2:AutoPoint(2), \\\n",
    "                    3:ControlPoint(idx=3, ports=[0,1,3], ban_routes={1:[3],3:[1]}), \\\n",
    "                    4:ControlPoint(idx=4, ports=[0,2,1], ban_routes={0:[2],2:[0]}), \\\n",
    "                    5:AutoPoint(5), \\\n",
    "                    6:ControlPoint(idx=6, ports=[0,1,3], ban_routes={1:[3],3:[1]}), \\\n",
    "                    7:ControlPoint(idx=7, ports=[0,2,1], ban_routes={0:[2],2:[0]}), \\\n",
    "                    8:AutoPoint(8), \\\n",
    "                    9:AutoPoint(9), \\\n",
    "                    10:ControlPoint(idx=10, ports=[0,1])}       \n",
    "nbunch = [_node[i] for i in range(len(_node))]\n",
    "\n",
    "_track = [  Track(nbunch[0], 1, nbunch[1], 0), Track(nbunch[1], 1, nbunch[2], 0), Track(nbunch[2], 1, nbunch[3], 0),\\\n",
    "            Track(nbunch[3], 1, nbunch[4], 0), Track(nbunch[3], 3, nbunch[4], 2, edge_key=1),\\\n",
    "            Track(nbunch[4], 1, nbunch[5], 0), Track(nbunch[5], 1, nbunch[6], 0),\\\n",
    "            Track(nbunch[6], 1, nbunch[7], 0), Track(nbunch[6], 3, nbunch[7], 2, edge_key=1),\\\n",
    "            Track(nbunch[7], 1, nbunch[8], 0), Track(nbunch[8], 1, nbunch[9], 0), Track(nbunch[9], 1, nbunch[10], 0)]\n",
    "ebunch = [_track[i] for i in range(len(_track))]\n",
    "\n",
    "# _node and _track will be parameters passed from outside in the future development\n",
    "G = nx.MultiGraph()\n",
    "for n in nbunch:\n",
    "    G.add_node(n, attr=n.__dict__, instance=n)              \n",
    "    # __dict__ of instances (CPs, ATs, Tracks) is pointing the same \n",
    "    # attribute dictionary as the node in the MultiGraph\n",
    "\n",
    "for t in ebunch:\n",
    "    G.add_edge(t.L_point, t.R_point, key=t.edge_key, attr=t.__dict__, instance=t)          \n",
    "    # __dict__ of instances (CPs, ATs, Tracks) is pointing the same \n",
    "    # attribute dictionary as the edge in the MultiGraph\n",
    "    # key is the index of parallel edges between two nodes\n",
    "    t.L_point.port_track[t.entry_port_L] = t.R_point.port_track[t.entry_port_R] = t\n",
    "\n",
    "for i in G.nodes():     # register the neighbor nodes as observers to each node\n",
    "    i.neighbors.extend([n for n in G.neighbors(i)])              \n",
    "    for n in G.neighbors(i):\n",
    "        i.add_observer(n)"
   ]
  },
  {
   "cell_type": "code",
   "execution_count": 6,
   "metadata": {},
   "outputs": [],
   "source": [
    "F = G.copy()        \n",
    "# F is a shallow copy of G: attrbutes of G/F components \n",
    "# are pointing at the same memory.\n",
    "\n",
    "def _get_new_edge(node, length=False):\n",
    "    at_neighbor = [j for j in F.neighbors(i)]\n",
    "    assert len(at_neighbor) == len(F.edges(i)) == 2\n",
    "    edgetrk_L_points = [F[at_neighbor[0]][node][0]['instance'].L_point, F[node][at_neighbor[1]][0]['instance'].L_point]\n",
    "    edgetrk_R_points = [F[at_neighbor[0]][node][0]['instance'].R_point, F[node][at_neighbor[1]][0]['instance'].R_point]\n",
    "    edgetrk_L_points.remove(i)\n",
    "    edgetrk_R_points.remove(i)\n",
    "    new_edge_length = F[at_neighbor[0]][i][0]['instance'].length + F[i][at_neighbor[1]][0]['instance'].length\n",
    "    if length:\n",
    "        return edgetrk_L_points[0], edgetrk_R_points[0], new_edge_length\n",
    "    else:  \n",
    "        return edgetrk_L_points[0], edgetrk_R_points[0]\n",
    "\n",
    "for i in G.nodes():\n",
    "    # only use G.nodes() instead of F.nodes() to get original nodes \n",
    "    # to avoid dictionary size changing issues. \n",
    "    # all the following graph updates are targeted on F\n",
    "    if i.type == 'at':\n",
    "        new_L_point, new_R_point, new_length = _get_new_edge(i, length=True)\n",
    "        assert len(F[new_L_point][i]) == len(F[i][new_R_point]) == 1\n",
    "        new_track =  Track( new_L_point, F[new_L_point][i][0]['instance'].entry_port_L,\\\n",
    "                            new_R_point, F[i][new_R_point][0]['instance'].entry_port_R,\\\n",
    "                            edge_key=0, length=new_length)\n",
    "\n",
    "        F.remove_node(i)\n",
    "        F.add_edge(new_L_point, new_R_point, attr=new_track.__dict__, instance=new_track)     \n",
    "        # MultiGraph parallel edges are auto-keyed (0, 1, 2...)\n",
    "        # default 0 as mainline, idx as track number\n",
    "\n",
    "for (u, v, k) in F.edges(keys=True):\n",
    "    blk_path = nx.shortest_path(G, u, v)\n",
    "    big_block_edges = [(blk_path[i], blk_path[i+1]) for i in range(len(blk_path) - 1)]\n",
    "    big_block_instance = BigBlock(  u, F[u][v][k]['instance'].entry_port_L,\\\n",
    "                                    v, F[u][v][k]['instance'].entry_port_R,\\\n",
    "                                    edge_key=k, length=F[u][v][k]['instance'].length, \\\n",
    "                                    raw_graph=G, cp_graph=F)\n",
    "    for (n, m) in big_block_edges:\n",
    "        if G[n][m][k]['instance'] not in big_block_instance.tracks:\n",
    "            big_block_instance.tracks.append(G[n][m][k]['instance'])\n",
    "        # get the list of track unit components of a bigblock, and record in the instance\n",
    "\n",
    "    F[u][v][k]['attr'] = big_block_instance.__dict__\n",
    "    F[u][v][k]['instance'] = big_block_instance\n",
    "    for t in F[u][v][k]['instance'].tracks:\n",
    "        t.bigblock = F[u][v][k]['instance']"
   ]
  },
  {
   "cell_type": "code",
   "execution_count": 7,
   "metadata": {},
   "outputs": [],
   "source": [
    "F[_node[0]][_node[3]][0]['instance'].traffic_direction = 'east'"
   ]
  },
  {
   "cell_type": "code",
   "execution_count": 10,
   "metadata": {},
   "outputs": [],
   "source": [
    "G[_node[0]][_node[1]][0]['instance'].traffic_direction = 'east'"
   ]
  },
  {
   "cell_type": "code",
   "execution_count": null,
   "metadata": {},
   "outputs": [],
   "source": []
  }
 ],
 "metadata": {
  "kernelspec": {
   "display_name": "Python 3",
   "language": "python",
   "name": "python3"
  },
  "language_info": {
   "codemirror_mode": {
    "name": "ipython",
    "version": 3
   },
   "file_extension": ".py",
   "mimetype": "text/x-python",
   "name": "python",
   "nbconvert_exporter": "python",
   "pygments_lexer": "ipython3",
   "version": "3.7.1"
  }
 },
 "nbformat": 4,
 "nbformat_minor": 2
}
