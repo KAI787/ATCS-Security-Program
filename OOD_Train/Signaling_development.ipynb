{
 "cells": [
  {
   "cell_type": "code",
   "execution_count": 1,
   "metadata": {},
   "outputs": [],
   "source": [
    "import os\n",
    "import sys\n",
    "sys.path.append('D:\\\\Users\\\\Hegxiten\\\\workspace\\\\Rutgers_Railway_security_research\\\\OOD_Train')\n",
    "\n",
    "from datetime import datetime, timedelta\n",
    "import numpy as np\n",
    "import random\n",
    "from infrastructure import Yard, Track, BigBlock\n",
    "from signaling import AutoSignal, HomeSignal, AutoPoint, CtrlPoint\n",
    "from system import System\n",
    "from train import TrainList, Train\n",
    "from dispatch import Dispatcher\n",
    "import networkx as nx\n",
    "from sim import string_diagram, speed_curve\n",
    "from itertools import combinations, permutations\n",
    "\n",
    "import matplotlib.pyplot as plt\n",
    "import matplotlib.dates as mdates\n"
   ]
  },
  {
   "cell_type": "code",
   "execution_count": 4,
   "metadata": {},
   "outputs": [],
   "source": [
    "_node = {   0:CtrlPoint(idx=0, ports=[0,1], MP=0.0), \\\n",
    "                    1:AutoPoint(1, MP=5.0), \\\n",
    "                    2:AutoPoint(2, MP=10.0), \\\n",
    "                    3:CtrlPoint(idx=3, ports=[0,1,3], ban_ports_by_port={1:[3],3:[1]}, MP=15.0), \\\n",
    "                    4:CtrlPoint(idx=4, ports=[0,2,1], ban_ports_by_port={0:[2],2:[0]}, MP=20.0), \\\n",
    "                    5:AutoPoint(5, MP=25.0), \\\n",
    "                    6:CtrlPoint(idx=6, ports=[0,1,3], ban_ports_by_port={1:[3],3:[1]}, MP=30.0), \\\n",
    "                    7:CtrlPoint(idx=7, ports=[0,2,1], ban_ports_by_port={0:[2],2:[0]}, MP=35.0), \\\n",
    "                    8:AutoPoint(8, MP=40.0), \\\n",
    "                    9:AutoPoint(9, MP=45.0), \\\n",
    "                    10:CtrlPoint(idx=10, ports=[0,1], MP=50.0)}       \n",
    "nbunch = [_node[i] for i in range(len(_node))]\n",
    "\n",
    "_track = [  Track(nbunch[0], 1, nbunch[1], 0), Track(nbunch[1], 1, nbunch[2], 0), Track(nbunch[2], 1, nbunch[3], 0),\\\n",
    "            Track(nbunch[3], 1, nbunch[4], 0), Track(nbunch[3], 3, nbunch[4], 2, edge_key=1),\\\n",
    "            Track(nbunch[4], 1, nbunch[5], 0), Track(nbunch[5], 1, nbunch[6], 0),\\\n",
    "            Track(nbunch[6], 1, nbunch[7], 0), Track(nbunch[6], 3, nbunch[7], 2, edge_key=1),\\\n",
    "            Track(nbunch[7], 1, nbunch[8], 0), Track(nbunch[8], 1, nbunch[9], 0), Track(nbunch[9], 1, nbunch[10], 0)]\n",
    "ebunch = [_track[i] for i in range(len(_track))]\n",
    "\n",
    "# _node and _track will be parameters passed from outside in the future development\n",
    "G = nx.MultiGraph()\n",
    "for n in nbunch:\n",
    "    G.add_node(n, attr=n.__dict__, instance=n)              \n",
    "    # __dict__ of instances (CPs, ATs, Tracks) is pointing the same \n",
    "    # attribute dictionary as the node in the MultiGraph\n",
    "\n",
    "for t in ebunch:\n",
    "    G.add_edge(t.L_point, t.R_point, key=t.edge_key, attr=t.__dict__, instance=t)          \n",
    "    # __dict__ of instances (CPs, ATs, Tracks) is pointing the same \n",
    "    # attribute dictionary as the edge in the MultiGraph\n",
    "    # key is the index of parallel edges between two nodes\n",
    "    t.L_point.track_by_port[t.L_point_port] = t.R_point.track_by_port[t.R_point_port] = t\n",
    "\n",
    "for i in G.nodes():     # register the neighbor nodes as observers to each node\n",
    "    i.neighbor_nodes.extend([n for n in G.neighbors(i)])              \n",
    "    for n in G.neighbors(i):\n",
    "        i.add_observer(n)"
   ]
  },
  {
   "cell_type": "code",
   "execution_count": 6,
   "metadata": {},
   "outputs": [],
   "source": [
    "    F = G.copy()        \n",
    "    # F is a shallow copy of G: attrbutes of G/F components \n",
    "    # are pointing at the same memory.\n",
    "\n",
    "    def _get_new_edge(node, length=False):\n",
    "        at_neighbor = [j for j in F.neighbors(i)]\n",
    "        assert len(at_neighbor) == len(F.edges(i)) == 2\n",
    "        edgetrk_L_points = [F[at_neighbor[0]][node][0]['instance'].L_point, F[node][at_neighbor[1]][0]['instance'].L_point]\n",
    "        edgetrk_R_points = [F[at_neighbor[0]][node][0]['instance'].R_point, F[node][at_neighbor[1]][0]['instance'].R_point]\n",
    "        edgetrk_L_points.remove(i)\n",
    "        edgetrk_R_points.remove(i)\n",
    "        new_edge_length = F[at_neighbor[0]][i][0]['instance'].length + F[i][at_neighbor[1]][0]['instance'].length\n",
    "        if length:\n",
    "            return edgetrk_L_points[0], edgetrk_R_points[0], new_edge_length\n",
    "        else:  \n",
    "            return edgetrk_L_points[0], edgetrk_R_points[0]\n",
    "\n",
    "    for i in G.nodes():\n",
    "        # only use G.nodes() instead of F.nodes() to get original nodes \n",
    "        # to avoid dictionary size changing issues. \n",
    "        # all the following graph updates are targeted on F\n",
    "        if i.type == 'at':\n",
    "            new_L_point, new_R_point, new_length = _get_new_edge(i, length=True)\n",
    "            assert len(F[new_L_point][i]) == len(F[i][new_R_point]) == 1\n",
    "            new_track =  Track( new_L_point, F[new_L_point][i][0]['instance'].L_point_port,\\\n",
    "                                new_R_point, F[i][new_R_point][0]['instance'].R_point_port,\\\n",
    "                                edge_key=0)\n",
    "\n",
    "            F.remove_node(i)\n",
    "            F.add_edge(new_L_point, new_R_point, attr=new_track.__dict__, instance=new_track)     \n",
    "            # MultiGraph parallel edges are auto-keyed (0, 1, 2...)\n",
    "            # default 0 as mainline, idx as track number\n",
    "\n",
    "    for (u, v, k) in F.edges(keys=True):\n",
    "        blk_path = nx.shortest_path(G, u, v)\n",
    "        big_block_edges = [(blk_path[i], blk_path[i+1]) for i in range(len(blk_path) - 1)]\n",
    "        big_block_instance = BigBlock(  u, F[u][v][k]['instance'].L_point_port,\\\n",
    "                                        v, F[u][v][k]['instance'].R_point_port,\\\n",
    "                                        edge_key=k, length=F[u][v][k]['instance'].length, \\\n",
    "                                        raw_graph=G, cp_graph=F)\n",
    "        u.bigblock_by_port[F[u][v][k]['instance'].L_point_port] = v.bigblock_by_port[F[u][v][k]['instance'].R_point_port] = big_block_instance\n",
    "\n",
    "        for (n, m) in big_block_edges:\n",
    "            if G[n][m][k]['instance'] not in big_block_instance.tracks:\n",
    "                big_block_instance.tracks.append(G[n][m][k]['instance'])\n",
    "            # get the list of track unit components of a bigblock, and record in the instance\n",
    "\n",
    "        F[u][v][k]['attr'] = big_block_instance.__dict__\n",
    "        F[u][v][k]['instance'] = big_block_instance\n",
    "        for t in F[u][v][k]['instance'].tracks:\n",
    "            t.bigblock = F[u][v][k]['instance']"
   ]
  },
  {
   "cell_type": "code",
   "execution_count": 8,
   "metadata": {},
   "outputs": [
    {
     "name": "stdout",
     "output_type": "stream",
     "text": [
      "route (0, 1) for CtrlPoint3 already opened\n",
      "0.0\n",
      "Aspect: r, \t route None, target speed 0.0 mph\n",
      "5.0\n",
      "Aspect: g, \t route (0, 1), target speed 72.0 mph\n",
      "10.0\n",
      "Aspect: yy, \t route (0, 1), target speed 40.0 mph\n",
      "15.0\n",
      "Aspect: y, \t route (0, 1), target speed 20.0 mph\n",
      "20.0\n",
      "Aspect: r, \t route None, target speed 0.0 mph\n",
      "25.0\n",
      "Aspect: r, \t route None, target speed 0.0 mph\n",
      "30.0\n",
      "Aspect: r, \t route None, target speed 0.0 mph\n",
      "35.0\n",
      "Aspect: r, \t route None, target speed 0.0 mph\n",
      "40.0\n",
      "Aspect: r, \t route None, target speed 0.0 mph\n",
      "45.0\n",
      "Aspect: r, \t route None, target speed 0.0 mph\n",
      "50.0\n",
      "Aspect: r, \t route None, target speed 0.0 mph\n"
     ]
    }
   ],
   "source": [
    "_node[3].open_route((0,1))\n",
    "for _,n in _node.items():\n",
    "    print(n.MP)\n",
    "    print(n.signal_by_port[0].aspect)"
   ]
  },
  {
   "cell_type": "code",
   "execution_count": 30,
   "metadata": {
    "scrolled": true
   },
   "outputs": [],
   "source": [
    "_node[5].track_by_port[1].train.append('165')"
   ]
  },
  {
   "cell_type": "code",
   "execution_count": 34,
   "metadata": {},
   "outputs": [
    {
     "name": "stdout",
     "output_type": "stream",
     "text": [
      "all routes for CtrlPoint0 are closed\n",
      "all routes for CtrlPoint3 are closed\n",
      "all routes for CtrlPoint4 are closed\n",
      "all routes for CtrlPoint6 are closed\n",
      "all routes for CtrlPoint7 are closed\n",
      "all routes for CtrlPoint10 are closed\n"
     ]
    }
   ],
   "source": [
    "for _,n in _node.items():\n",
    "    if isinstance(n, CtrlPoint):\n",
    "        n.close_route()"
   ]
  },
  {
   "cell_type": "code",
   "execution_count": 6,
   "metadata": {},
   "outputs": [
    {
     "name": "stdout",
     "output_type": "stream",
     "text": [
      "0 CtrlPoint0 Aspect: r, route None\n",
      "1 AutoPoint1 Aspect: r, route None\n",
      "2 AutoPoint2 Aspect: r, route None\n",
      "3 CtrlPoint3 Aspect: r, route None\n",
      "4 CtrlPoint4 Aspect: r, route None\n",
      "5 AutoPoint5 Aspect: r, route None\n",
      "6 CtrlPoint6 Aspect: r, route None\n",
      "7 CtrlPoint7 Aspect: r, route None\n",
      "8 AutoPoint8 Aspect: r, route None\n",
      "9 AutoPoint9 Aspect: r, route None\n",
      "10 CtrlPoint10 Aspect: r, route None\n"
     ]
    }
   ],
   "source": [
    "for _,n in _node.items():\n",
    "    print(_, n, n.signal_by_port[1].aspect)"
   ]
  },
  {
   "cell_type": "code",
   "execution_count": 9,
   "metadata": {},
   "outputs": [],
   "source": [
    "a=[1,2,3,4]\n",
    "b=['a','b','c']"
   ]
  },
  {
   "cell_type": "code",
   "execution_count": 15,
   "metadata": {},
   "outputs": [
    {
     "data": {
      "text/plain": [
       "['a', 'b', 'c', 1, 2, 3, 4, 'a', 'b', 'c']"
      ]
     },
     "execution_count": 15,
     "metadata": {},
     "output_type": "execute_result"
    }
   ],
   "source": [
    "b"
   ]
  },
  {
   "cell_type": "code",
   "execution_count": 9,
   "metadata": {},
   "outputs": [],
   "source": [
    "G[_node[3]][_node[4]][0]['instance'].train.append('k166')"
   ]
  },
  {
   "cell_type": "code",
   "execution_count": 11,
   "metadata": {},
   "outputs": [
    {
     "data": {
      "text/plain": [
       "True"
      ]
     },
     "execution_count": 11,
     "metadata": {},
     "output_type": "execute_result"
    }
   ],
   "source": [
    "_node[3].signal_by_port[0].sigpoint.track_by_port[1].is_Occupied"
   ]
  },
  {
   "cell_type": "code",
   "execution_count": 76,
   "metadata": {},
   "outputs": [
    {
     "data": {
      "text/plain": [
       "{'_observers': [AutoPoint1],\n",
       " 'MP': 0.0,\n",
       " 'idx': 0,\n",
       " 'type': 'cp',\n",
       " 'ports': [0, 1],\n",
       " 'available_ports_by_port': defaultdict(list, {0: [1], 1: [0]}),\n",
       " 'non_mutex_routes_by_route': defaultdict(list, {}),\n",
       " 'ban_ports_by_port': defaultdict(list, {}),\n",
       " 'all_valid_routes': [(0, 1), (1, 0)],\n",
       " '_current_routes': [(0, 1)],\n",
       " 'neighbor_nodes': [AutoPoint1],\n",
       " 'track_by_port': {1: Track MP: 0.0 to MP: 5.0 idx: 0},\n",
       " 'signal_by_port': {0: HomeSignal of CtrlPoint0, port: 0,\n",
       "  1: HomeSignal of CtrlPoint0, port: 1},\n",
       " 'bigblock_by_port': {1: BigBlock MP: 0.0 to MP: 15.0 idx: 0}}"
      ]
     },
     "execution_count": 76,
     "metadata": {},
     "output_type": "execute_result"
    }
   ],
   "source": [
    "_node[0].__dict__"
   ]
  },
  {
   "cell_type": "code",
   "execution_count": 50,
   "metadata": {},
   "outputs": [
    {
     "data": {
      "text/plain": [
       "Aspect: r, route None"
      ]
     },
     "execution_count": 50,
     "metadata": {},
     "output_type": "execute_result"
    }
   ],
   "source": [
    "_node[3].signal_by_port[0].aspect"
   ]
  },
  {
   "cell_type": "code",
   "execution_count": 12,
   "metadata": {},
   "outputs": [
    {
     "data": {
      "text/plain": [
       "AutoSignal of AutoPoint2, port: 0"
      ]
     },
     "execution_count": 12,
     "metadata": {},
     "output_type": "execute_result"
    }
   ],
   "source": [
    "_node[2].signal_by_port[0]"
   ]
  },
  {
   "cell_type": "code",
   "execution_count": 13,
   "metadata": {},
   "outputs": [
    {
     "data": {
      "text/plain": [
       "{'_observers': [AutoPoint1, CtrlPoint3],\n",
       " 'MP': 10.0,\n",
       " 'idx': 2,\n",
       " 'type': 'at',\n",
       " 'ports': [0, 1],\n",
       " 'available_ports_by_port': {0: [1], 1: [0]},\n",
       " 'non_mutex_routes_by_route': {},\n",
       " 'ban_ports_by_port': {},\n",
       " 'all_valid_routes': [(0, 1), (1, 0)],\n",
       " '_current_routes': [],\n",
       " 'neighbor_nodes': [AutoPoint1, CtrlPoint3],\n",
       " 'track_by_port': {0: Track MP: 5.0 to MP: 10.0 idx: 0,\n",
       "  1: Track MP: 10.0 to MP: 15.0 idx: 0},\n",
       " 'signal_by_port': {0: AutoSignal of AutoPoint2, port: 0,\n",
       "  1: AutoSignal of AutoPoint2, port: 1}}"
      ]
     },
     "execution_count": 13,
     "metadata": {},
     "output_type": "execute_result"
    }
   ],
   "source": [
    "_node[2].__dict__"
   ]
  },
  {
   "cell_type": "code",
   "execution_count": null,
   "metadata": {},
   "outputs": [],
   "source": []
  },
  {
   "cell_type": "code",
   "execution_count": null,
   "metadata": {},
   "outputs": [],
   "source": []
  },
  {
   "cell_type": "code",
   "execution_count": null,
   "metadata": {},
   "outputs": [],
   "source": []
  }
 ],
 "metadata": {
  "kernelspec": {
   "display_name": "Python 3",
   "language": "python",
   "name": "python3"
  },
  "language_info": {
   "codemirror_mode": {
    "name": "ipython",
    "version": 3
   },
   "file_extension": ".py",
   "mimetype": "text/x-python",
   "name": "python",
   "nbconvert_exporter": "python",
   "pygments_lexer": "ipython3",
   "version": "3.7.3"
  }
 },
 "nbformat": 4,
 "nbformat_minor": 2
}
