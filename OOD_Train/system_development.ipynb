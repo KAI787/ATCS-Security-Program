{
 "cells": [
  {
   "cell_type": "code",
   "execution_count": 1,
   "metadata": {},
   "outputs": [],
   "source": [
    "import os\n",
    "import sys\n",
    "sys.path.append('D:\\\\Users\\\\Hegxiten\\\\workspace\\\\Rutgers_Railway_security_research\\\\OOD_Train')\n",
    "\n",
    "from datetime import datetime, timedelta\n",
    "import numpy as np\n",
    "import random\n",
    "from infrastructure import Track, Block, BigBlock\n",
    "from signaling import AutoSignal, HomeSignal, AutoPoint, ControlPoint\n",
    "from system import System\n",
    "from train import Train\n",
    "import networkx as nx\n"
   ]
  },
  {
   "cell_type": "code",
   "execution_count": 2,
   "metadata": {},
   "outputs": [],
   "source": [
    "sim_init_time = datetime.strptime('2018-01-10 10:00:00', \"%Y-%m-%d %H:%M:%S\")\n",
    "sim_term_time = datetime.strptime('2018-01-10 15:30:00', \"%Y-%m-%d %H:%M:%S\")\n",
    "sp_container = [random.uniform(0.01, 0.02) for i in range(20)]\n",
    "acc_container = [random.uniform(2.78e-05*0.85, 2.78e-05*1.15) for i in range(20)]\n",
    "dcc_container = [random.uniform(2.78e-05*0.85, 2.78e-05*1.15) for i in range(20)]\n",
    "headway = 200 * random.random() + 400\n",
    "sys = System(sim_init_time, sp_container, acc_container, dcc_container,\n",
    "             dos_period=['2018-01-10 11:30:00', '2018-01-10 12:30:00'],  \n",
    "             headway=headway, \n",
    "             tracks=[1,1,1,4,1,1,3,1,1,1], \n",
    "             dos_pos=-1)\n",
    "k165 = Train(idx=sys.train_num, \n",
    "                  rank=sys.train_num, \n",
    "                  system=sys, \n",
    "                  init_time=sys.sys_time, \n",
    "                  init_segment=((None,None),(sys.control_points[0],0)), \n",
    "                  max_sp=sys.sp_container[sys.train_num % len(sys.sp_container)], \n",
    "                  max_acc=sys.acc_container[sys.train_num % len(sys.acc_container)], \n",
    "                  max_dcc=sys.dcc_container[sys.train_num % len(sys.dcc_container)])"
   ]
  },
  {
   "cell_type": "code",
   "execution_count": 3,
   "metadata": {},
   "outputs": [
    {
     "name": "stdout",
     "output_type": "stream",
     "text": [
      "route (0, 1) is opened\n",
      "route (0, 1) is opened\n",
      "route (0, 1) is opened\n",
      "route (0, 1) is opened\n",
      "route (0, 1) is opened\n",
      "route (0, 1) is opened\n"
     ]
    }
   ],
   "source": [
    "for n in sys.control_points:\n",
    "    n.open_route((0,1))"
   ]
  },
  {
   "cell_type": "code",
   "execution_count": 4,
   "metadata": {},
   "outputs": [
    {
     "name": "stdout",
     "output_type": "stream",
     "text": [
      "((ControlPoint0, 1), (ControlPoint3, 0))\n",
      "((ControlPoint3, 1), (ControlPoint4, 0))\n",
      "None\n",
      "((ControlPoint4, 1), (ControlPoint6, 0))\n",
      "((ControlPoint6, 1), (ControlPoint7, 0))\n",
      "None\n",
      "((ControlPoint7, 1), (ControlPoint10, 0))\n"
     ]
    }
   ],
   "source": [
    "for b in sys.bigblocks:\n",
    "    print(b.routing)"
   ]
  },
  {
   "cell_type": "code",
   "execution_count": 6,
   "metadata": {
    "scrolled": true
   },
   "outputs": [],
   "source": [
    "def _timeit_analyze_(func):\n",
    "    from timeit import Timer\n",
    "    t1 = Timer(\"%s()\" % func.__name__, \"from __main__ import %s\" % func.__name__)\n",
    "    print(\"{:<20}{:10.6} s\".format(func.__name__ + \":\", t1.timeit(exec_times)))"
   ]
  },
  {
   "cell_type": "code",
   "execution_count": 6,
   "metadata": {},
   "outputs": [
    {
     "name": "stdout",
     "output_type": "stream",
     "text": [
      "False 1e-05 0.0869 72.0 current acc 2.4138889255862335e-05\n"
     ]
    }
   ],
   "source": [
    "print(k165.stopped, round(k165.curr_MP,5), round(k165.curr_speed*3600,5)\\\n",
    "      , round(k165.curr_sig.aspect.target_speed*3600,2), 'current acc',\\\n",
    "     k165.curr_acc)\n",
    "k165.update_acc()\n",
    "sys.sys_time+=sys.refresh_time"
   ]
  },
  {
   "cell_type": "markdown",
   "metadata": {},
   "source": [
    "\n"
   ]
  },
  {
   "cell_type": "code",
   "execution_count": 20,
   "metadata": {},
   "outputs": [
    {
     "ename": "AssertionError",
     "evalue": "",
     "output_type": "error",
     "traceback": [
      "\u001b[1;31m---------------------------------------------------------------------------\u001b[0m",
      "\u001b[1;31mAssertionError\u001b[0m                            Traceback (most recent call last)",
      "\u001b[1;32m<ipython-input-20-9877d5473483>\u001b[0m in \u001b[0;36m<module>\u001b[1;34m\u001b[0m\n\u001b[1;32m----> 1\u001b[1;33m \u001b[0mk165\u001b[0m\u001b[1;33m.\u001b[0m\u001b[0mcurr_speed\u001b[0m \u001b[1;33m=\u001b[0m \u001b[1;36m50\u001b[0m\u001b[1;33m\u001b[0m\u001b[1;33m\u001b[0m\u001b[0m\n\u001b[0m",
      "\u001b[1;32m<ipython-input-13-d855f0504809>\u001b[0m in \u001b[0;36mcurr_speed\u001b[1;34m(self, new_speed)\u001b[0m\n\u001b[0;32m    101\u001b[0m         \u001b[1;32mif\u001b[0m \u001b[0mself\u001b[0m\u001b[1;33m.\u001b[0m\u001b[0mcurr_brake_distance\u001b[0m \u001b[1;33m>\u001b[0m \u001b[0mself\u001b[0m\u001b[1;33m.\u001b[0m\u001b[0mcurr_dis_to_curr_sig\u001b[0m\u001b[1;33m:\u001b[0m\u001b[1;33m\u001b[0m\u001b[1;33m\u001b[0m\u001b[0m\n\u001b[0;32m    102\u001b[0m             \u001b[0mself\u001b[0m\u001b[1;33m.\u001b[0m\u001b[0m_curr_speed\u001b[0m \u001b[1;33m=\u001b[0m \u001b[0m_old_speed\u001b[0m\u001b[1;33m\u001b[0m\u001b[1;33m\u001b[0m\u001b[0m\n\u001b[1;32m--> 103\u001b[1;33m         \u001b[1;32massert\u001b[0m \u001b[0mself\u001b[0m\u001b[1;33m.\u001b[0m\u001b[0mcurr_brake_distance\u001b[0m \u001b[1;33m<=\u001b[0m \u001b[0mself\u001b[0m\u001b[1;33m.\u001b[0m\u001b[0mcurr_dis_to_curr_sig\u001b[0m\u001b[1;33m\u001b[0m\u001b[1;33m\u001b[0m\u001b[0m\n\u001b[0m\u001b[0;32m    104\u001b[0m \u001b[1;33m\u001b[0m\u001b[0m\n\u001b[0;32m    105\u001b[0m     \u001b[1;33m@\u001b[0m\u001b[0mproperty\u001b[0m\u001b[1;33m\u001b[0m\u001b[1;33m\u001b[0m\u001b[0m\n",
      "\u001b[1;31mAssertionError\u001b[0m: "
     ]
    }
   ],
   "source": [
    "k165.curr_speed = 50"
   ]
  },
  {
   "cell_type": "code",
   "execution_count": null,
   "metadata": {},
   "outputs": [],
   "source": []
  },
  {
   "cell_type": "code",
   "execution_count": null,
   "metadata": {},
   "outputs": [],
   "source": []
  },
  {
   "cell_type": "code",
   "execution_count": null,
   "metadata": {},
   "outputs": [],
   "source": []
  }
 ],
 "metadata": {
  "kernelspec": {
   "display_name": "Python 3",
   "language": "python",
   "name": "python3"
  },
  "language_info": {
   "codemirror_mode": {
    "name": "ipython",
    "version": 3
   },
   "file_extension": ".py",
   "mimetype": "text/x-python",
   "name": "python",
   "nbconvert_exporter": "python",
   "pygments_lexer": "ipython3",
   "version": "3.7.1"
  }
 },
 "nbformat": 4,
 "nbformat_minor": 2
}
