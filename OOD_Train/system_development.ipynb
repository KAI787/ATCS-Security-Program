{
 "cells": [
  {
   "cell_type": "code",
   "execution_count": 1,
   "metadata": {},
   "outputs": [],
   "source": [
    "import os\n",
    "import sys\n",
    "sys.path.append('D:\\\\Users\\\\Hegxiten\\\\workspace\\\\Rutgers_Railway_security_research\\\\OOD_Train')\n",
    "\n",
    "from datetime import datetime, timedelta\n",
    "import numpy as np\n",
    "import random\n",
    "from infrastructure import Track, BigBlock\n",
    "from signaling import AutoSignal, HomeSignal, AutoPoint, ControlPoint\n",
    "from system import System\n",
    "from train import Train\n",
    "import networkx as nx\n"
   ]
  },
  {
   "cell_type": "code",
   "execution_count": 2,
   "metadata": {},
   "outputs": [
    {
     "name": "stdout",
     "output_type": "stream",
     "text": [
      "route (0, 1) of ControlPoint0 is opened\n",
      "route (1, 0) of ControlPoint10 is opened\n",
      "train train index 1, current occupying sections: [((None, None), (ControlPoint10, 1))], head MP: 50.00, rear MP 51.00 initiated entering into track Track MP: 45.0 to MP: 50.0 idx: 0\n",
      "route (1, 0) of ControlPoint10 is closed\n",
      "train train index 3, current occupying sections: [((None, None), (ControlPoint0, 0))], head MP:  0.00, rear MP -1.00 initiated entering into track Track MP: 0.0 to MP: 5.0 idx: 0\n",
      "route (0, 1) of ControlPoint0 is closed\n",
      "route (0, 1) of ControlPoint0 is opened\n",
      "route (1, 0) of ControlPoint10 is opened\n",
      "route (1, 2) of ControlPoint7 is opened\n",
      "route (0, 1) of ControlPoint6 is opened\n",
      "route (0, 1) of ControlPoint3 is opened\n",
      "route (0, 1) of ControlPoint4 is opened\n",
      "train train index 2, current occupying sections: [((None, None), (ControlPoint0, 0))], head MP:  0.00, rear MP -1.00 initiated entering into track Track MP: 0.0 to MP: 5.0 idx: 0\n",
      "route (0, 1) of ControlPoint0 is closed\n",
      "train train index 0, current occupying sections: [((None, None), (ControlPoint10, 1))], head MP: 50.00, rear MP 51.00 initiated entering into track Track MP: 45.0 to MP: 50.0 idx: 0\n",
      "route (1, 0) of ControlPoint10 is closed\n",
      "route (0, 1) of ControlPoint3 is closed\n",
      "route (0, 3) of ControlPoint3 is opened\n",
      "route (0, 1) of ControlPoint4 is closed\n",
      "route (1, 2) of ControlPoint7 is closed\n",
      "route (0, 1) of ControlPoint6 is closed\n",
      "route (3, 0) of ControlPoint6 is opened\n",
      "route (1, 0) of ControlPoint4 is opened\n",
      "route (3, 0) of ControlPoint6 is closed\n",
      "route (0, 3) of ControlPoint3 is closed\n",
      "route (1, 2) of ControlPoint7 is opened\n"
     ]
    },
    {
     "ename": "AssertionError",
     "evalue": "",
     "output_type": "error",
     "traceback": [
      "\u001b[1;31m---------------------------------------------------------------------------\u001b[0m",
      "\u001b[1;31mAssertionError\u001b[0m                            Traceback (most recent call last)",
      "\u001b[1;32m<ipython-input-2-c1240908ba23>\u001b[0m in \u001b[0;36m<module>\u001b[1;34m\u001b[0m\n\u001b[0;32m     89\u001b[0m \u001b[0msys\u001b[0m\u001b[1;33m.\u001b[0m\u001b[0msignal_points\u001b[0m\u001b[1;33m[\u001b[0m\u001b[1;36m7\u001b[0m\u001b[1;33m]\u001b[0m\u001b[1;33m.\u001b[0m\u001b[0mopen_route\u001b[0m\u001b[1;33m(\u001b[0m\u001b[1;33m(\u001b[0m\u001b[1;36m1\u001b[0m\u001b[1;33m,\u001b[0m\u001b[1;36m2\u001b[0m\u001b[1;33m)\u001b[0m\u001b[1;33m)\u001b[0m\u001b[1;33m\u001b[0m\u001b[1;33m\u001b[0m\u001b[0m\n\u001b[0;32m     90\u001b[0m \u001b[1;32mwhile\u001b[0m \u001b[0mK166\u001b[0m\u001b[1;33m.\u001b[0m\u001b[0mrear_curr_MP\u001b[0m\u001b[1;33m>=\u001b[0m\u001b[1;36m35\u001b[0m\u001b[1;33m:\u001b[0m\u001b[1;33m\u001b[0m\u001b[1;33m\u001b[0m\u001b[0m\n\u001b[1;32m---> 91\u001b[1;33m     \u001b[0mT166\u001b[0m\u001b[1;33m.\u001b[0m\u001b[0mupdate_acc\u001b[0m\u001b[1;33m(\u001b[0m\u001b[1;33m)\u001b[0m\u001b[1;33m\u001b[0m\u001b[1;33m\u001b[0m\u001b[0m\n\u001b[0m\u001b[0;32m     92\u001b[0m     \u001b[0mT165\u001b[0m\u001b[1;33m.\u001b[0m\u001b[0mupdate_acc\u001b[0m\u001b[1;33m(\u001b[0m\u001b[1;33m)\u001b[0m\u001b[1;33m\u001b[0m\u001b[1;33m\u001b[0m\u001b[0m\n\u001b[0;32m     93\u001b[0m     \u001b[0mK166\u001b[0m\u001b[1;33m.\u001b[0m\u001b[0mupdate_acc\u001b[0m\u001b[1;33m(\u001b[0m\u001b[1;33m)\u001b[0m\u001b[1;33m\u001b[0m\u001b[1;33m\u001b[0m\u001b[0m\n",
      "\u001b[1;32mD:\\Users\\Hegxiten\\workspace\\Rutgers_Railway_security_research\\OOD_Train\\train.py\u001b[0m in \u001b[0;36mupdate_acc\u001b[1;34m(self)\u001b[0m\n\u001b[0;32m    535\u001b[0m     \u001b[1;32mdef\u001b[0m \u001b[0mupdate_acc\u001b[0m\u001b[1;33m(\u001b[0m\u001b[0mself\u001b[0m\u001b[1;33m)\u001b[0m\u001b[1;33m:\u001b[0m\u001b[1;33m\u001b[0m\u001b[1;33m\u001b[0m\u001b[0m\n\u001b[0;32m    536\u001b[0m         \u001b[1;32mif\u001b[0m \u001b[1;32mnot\u001b[0m \u001b[0mself\u001b[0m\u001b[1;33m.\u001b[0m\u001b[0mstopped\u001b[0m\u001b[1;33m:\u001b[0m\u001b[1;33m\u001b[0m\u001b[1;33m\u001b[0m\u001b[0m\n\u001b[1;32m--> 537\u001b[1;33m             \u001b[0mself\u001b[0m\u001b[1;33m.\u001b[0m\u001b[0mcurr_speed\u001b[0m \u001b[1;33m=\u001b[0m \u001b[0mself\u001b[0m\u001b[1;33m.\u001b[0m\u001b[0mcurr_speed\u001b[0m \u001b[1;33m+\u001b[0m \u001b[0mself\u001b[0m\u001b[1;33m.\u001b[0m\u001b[0mcurr_acc\u001b[0m \u001b[1;33m*\u001b[0m \u001b[0mself\u001b[0m\u001b[1;33m.\u001b[0m\u001b[0msystem\u001b[0m\u001b[1;33m.\u001b[0m\u001b[0mrefresh_time\u001b[0m\u001b[1;33m\u001b[0m\u001b[1;33m\u001b[0m\u001b[0m\n\u001b[0m\u001b[0;32m    538\u001b[0m             \u001b[0mdelta_s\u001b[0m \u001b[1;33m=\u001b[0m \u001b[0mself\u001b[0m\u001b[1;33m.\u001b[0m\u001b[0mcurr_speed\u001b[0m \u001b[1;33m*\u001b[0m \u001b[0mself\u001b[0m\u001b[1;33m.\u001b[0m\u001b[0msystem\u001b[0m\u001b[1;33m.\u001b[0m\u001b[0mrefresh_time\u001b[0m \u001b[1;33m+\u001b[0m \u001b[1;36m0.5\u001b[0m \u001b[1;33m*\u001b[0m \u001b[0mself\u001b[0m\u001b[1;33m.\u001b[0m\u001b[0mcurr_acc\u001b[0m \u001b[1;33m*\u001b[0m \u001b[0mself\u001b[0m\u001b[1;33m.\u001b[0m\u001b[0msystem\u001b[0m\u001b[1;33m.\u001b[0m\u001b[0mrefresh_time\u001b[0m \u001b[1;33m**\u001b[0m \u001b[1;36m2\u001b[0m\u001b[1;33m\u001b[0m\u001b[1;33m\u001b[0m\u001b[0m\n\u001b[0;32m    539\u001b[0m             \u001b[0mself\u001b[0m\u001b[1;33m.\u001b[0m\u001b[0mcurr_MP\u001b[0m \u001b[1;33m+=\u001b[0m \u001b[0mdelta_s\u001b[0m\u001b[1;33m\u001b[0m\u001b[1;33m\u001b[0m\u001b[0m\n",
      "\u001b[1;32mD:\\Users\\Hegxiten\\workspace\\Rutgers_Railway_security_research\\OOD_Train\\train.py\u001b[0m in \u001b[0;36mcurr_speed\u001b[1;34m(self, new_speed)\u001b[0m\n\u001b[0;32m    324\u001b[0m         \u001b[1;32melse\u001b[0m\u001b[1;33m:\u001b[0m\u001b[1;33m\u001b[0m\u001b[1;33m\u001b[0m\u001b[0m\n\u001b[0;32m    325\u001b[0m             \u001b[1;32mraise\u001b[0m \u001b[0mValueError\u001b[0m\u001b[1;33m(\u001b[0m\u001b[1;34m'Undefined speed value {} to set for old speed {}'\u001b[0m\u001b[1;33m.\u001b[0m\u001b[0mformat\u001b[0m\u001b[1;33m(\u001b[0m\u001b[0mnew_speed\u001b[0m\u001b[1;33m,\u001b[0m \u001b[0m_old_speed\u001b[0m\u001b[1;33m)\u001b[0m\u001b[1;33m)\u001b[0m\u001b[1;33m\u001b[0m\u001b[1;33m\u001b[0m\u001b[0m\n\u001b[1;32m--> 326\u001b[1;33m         \u001b[1;32massert\u001b[0m \u001b[0mself\u001b[0m\u001b[1;33m.\u001b[0m\u001b[0mcurr_brake_distance_abs\u001b[0m \u001b[1;33m<=\u001b[0m \u001b[0mself\u001b[0m\u001b[1;33m.\u001b[0m\u001b[0mcurr_dis_to_curr_sig_abs\u001b[0m\u001b[1;33m\u001b[0m\u001b[1;33m\u001b[0m\u001b[0m\n\u001b[0m\u001b[0;32m    327\u001b[0m \u001b[1;33m\u001b[0m\u001b[0m\n\u001b[0;32m    328\u001b[0m     \u001b[1;33m@\u001b[0m\u001b[0mproperty\u001b[0m\u001b[1;33m\u001b[0m\u001b[1;33m\u001b[0m\u001b[0m\n",
      "\u001b[1;31mAssertionError\u001b[0m: "
     ]
    }
   ],
   "source": [
    "sim_init_time = datetime.strptime('2018-01-10 10:00:00', \"%Y-%m-%d %H:%M:%S\")\n",
    "sim_term_time = datetime.strptime('2018-01-10 15:30:00', \"%Y-%m-%d %H:%M:%S\")\n",
    "sp_container = [random.uniform(0.01, 0.02) for i in range(20)]\n",
    "acc_container = [0.5*random.uniform(2.78e-05*0.85, 2.78e-05*1.15) for i in range(20)]\n",
    "dcc_container = [0.2*random.uniform(2.78e-05*0.85, 2.78e-05*1.15) for i in range(20)]\n",
    "headway = 200 * random.random() + 400\n",
    "sys = System(sim_init_time, sp_container, acc_container, dcc_container,\n",
    "             dos_period=['2018-01-10 11:30:00', '2018-01-10 12:30:00'],  \n",
    "             dos_pos=-1,\n",
    "             headway=headway, \n",
    "             refresh_time=10)\n",
    "\n",
    "K166 = Train(idx=sys.train_num, \n",
    "                  rank=sys.train_num, \n",
    "                  system=sys, \n",
    "                  init_time=sys.sys_time, \n",
    "                  init_segment=((None, None),(sys.signal_points[10],1)),\n",
    "                  max_sp=sys.sp_container[sys.train_num % len(sys.sp_container)], \n",
    "                  max_acc=sys.acc_container[sys.train_num % len(sys.acc_container)], \n",
    "                  max_dcc=sys.dcc_container[sys.train_num % len(sys.dcc_container)],\n",
    "                  length=1)\n",
    "\n",
    "T166 = Train(idx=sys.train_num, \n",
    "                  rank=sys.train_num, \n",
    "                  system=sys, \n",
    "                  init_time=sys.sys_time, \n",
    "                  init_segment=((None, None),(sys.signal_points[10],1)),\n",
    "                  max_sp=sys.sp_container[sys.train_num % len(sys.sp_container)], \n",
    "                  max_acc=sys.acc_container[sys.train_num % len(sys.acc_container)], \n",
    "                  max_dcc=sys.dcc_container[sys.train_num % len(sys.dcc_container)],\n",
    "                  length=1)\n",
    "\n",
    "K165 = Train(idx=sys.train_num, \n",
    "                  rank=sys.train_num, \n",
    "                  system=sys, \n",
    "                  init_time=sys.sys_time, \n",
    "                  init_segment=((None, None),(sys.signal_points[0],0)),\n",
    "                  max_sp=sys.sp_container[sys.train_num % len(sys.sp_container)], \n",
    "                  max_acc=sys.acc_container[sys.train_num % len(sys.acc_container)], \n",
    "                  max_dcc=sys.dcc_container[sys.train_num % len(sys.dcc_container)],\n",
    "                  length=1)\n",
    "\n",
    "T165 = Train(idx=sys.train_num, \n",
    "                  rank=sys.train_num, \n",
    "                  system=sys, \n",
    "                  init_time=sys.sys_time, \n",
    "                  init_segment=((None, None),(sys.signal_points[0],0)),\n",
    "                  max_sp=sys.sp_container[sys.train_num % len(sys.sp_container)], \n",
    "                  max_acc=sys.acc_container[sys.train_num % len(sys.acc_container)], \n",
    "                  max_dcc=sys.dcc_container[sys.train_num % len(sys.dcc_container)],\n",
    "                  length=1)\n",
    "sys.signal_points[0].open_route((0,1))\n",
    "sys.signal_points[10].open_route((1,0))\n",
    "while T165.rear_curr_MP<=0 and T166.rear_curr_MP>=50:\n",
    "    T166.update_acc()\n",
    "    T165.update_acc()\n",
    "    K166.update_acc()\n",
    "    K165.update_acc()\n",
    "    sys.sys_time+=sys.refresh_time\n",
    "sys.signal_points[0].open_route((0,1))\n",
    "sys.signal_points[10].open_route((1,0))\n",
    "# both all the trains to enter the system\n",
    "sys.signal_points[7].open_route((1,2))\n",
    "sys.signal_points[6].open_route((0,1))\n",
    "sys.signal_points[3].open_route((0,1))\n",
    "sys.signal_points[4].open_route((0,1))\n",
    "# T166 to meet T165 at siding 2\n",
    "while T165.rear_curr_MP<=15:\n",
    "    T166.update_acc()\n",
    "    T165.update_acc()\n",
    "    K166.update_acc()\n",
    "    K165.update_acc()\n",
    "    sys.sys_time+=sys.refresh_time\n",
    "sys.signal_points[3].open_route((0,3))\n",
    "while T165.rear_curr_MP<=30:\n",
    "    T166.update_acc()\n",
    "    T165.update_acc()\n",
    "    K166.update_acc()\n",
    "    K165.update_acc()\n",
    "    sys.sys_time+=sys.refresh_time  \n",
    "sys.signal_points[6].open_route((3,0))\n",
    "sys.signal_points[4].open_route((1,0))\n",
    "while T166.rear_curr_MP>=30:\n",
    "    T166.update_acc()\n",
    "    T165.update_acc()\n",
    "    K166.update_acc()\n",
    "    K165.update_acc()\n",
    "    sys.sys_time+=sys.refresh_time  \n",
    "sys.signal_points[7].open_route((1,2))\n",
    "while K166.rear_curr_MP>=35:\n",
    "    T166.update_acc()\n",
    "    T165.update_acc()\n",
    "    K166.update_acc()\n",
    "    K165.update_acc()\n",
    "    sys.sys_time+=sys.refresh_time\n",
    "sys.signal_points[6].open_route((3,0))   \n",
    "sys.signal_points[7].open_route((0,1))   \n",
    "sys.signal_points[10].open_route((0,1))\n",
    "while T166.rear_curr_MP>=20:\n",
    "    T166.update_acc()\n",
    "    T165.update_acc()\n",
    "    K166.update_acc()\n",
    "    K165.update_acc()\n",
    "    sys.sys_time+=sys.refresh_time\n",
    "sys.signal_points[4].open_route((2,1))\n",
    "sys.signal_points[6].open_route((3,0))\n",
    "sys.signal_points[3].open_route((1,0))\n",
    "sys.signal_points[0].open_route((1,0))\n",
    "while T165.rear_curr_MP<=50:\n",
    "    T166.update_acc()\n",
    "    T165.update_acc()\n",
    "    K166.update_acc()\n",
    "    K165.update_acc()\n",
    "    sys.sys_time+=sys.refresh_time\n",
    "sys.signal_points[10].open_route((0,1))\n",
    "while K165.rear_curr_MP<=50:\n",
    "    T166.update_acc()\n",
    "    T165.update_acc()\n",
    "    K166.update_acc()\n",
    "    K165.update_acc()\n",
    "    sys.sys_time+=sys.refresh_time\n",
    "\n",
    "# while T166.rear_curr_MP>=30:\n",
    "#     T166.update_acc()\n",
    "#     T165.update_acc()\n",
    "#     K166.update_acc()\n",
    "#     K165.update_acc()\n",
    "#     sys.sys_time+=sys.refresh_time\n",
    "# sys.signal_points[7].open_route((1,2))\n",
    "# while K166.rear_curr_MP>=35:\n",
    "#     T166.update_acc()\n",
    "#     T165.update_acc()\n",
    "#     K166.update_acc()\n",
    "#     K165.update_acc()\n",
    "#     sys.sys_time+=sys.refresh_time\n",
    "# sys.signal_points[6].open_route((3,0))\n",
    "# sys.signal_points[4].open_route((3,0))    \n",
    "# sys.signal_points[7].open_route((0,1))\n",
    "# sys.signal_points[10].open_route((0,1))\n",
    "\n",
    "\n",
    "# sys.signal_points[10].open_route((1,0))\n",
    "# sys.signal_points[7].open_route((1,0))\n",
    "# sys.signal_points[6].open_route((1,0))\n",
    "# sys.signal_points[4].open_route((1,0))\n",
    "# count=0\n",
    "# while T166.rear_curr_MP>20:\n",
    "#     count+=1\n",
    "#     T166.update_acc()\n",
    "#     T165.update_acc()\n",
    "#     sys.sys_time+=sys.refresh_time\n",
    "# print(count)\n",
    "# sys.signal_points[0].open_route((1,0))\n",
    "# sys.signal_points[3].open_route((1,0))\n",
    "# sys.signal_points[10].open_route((0,1))\n",
    "# sys.signal_points[7].open_route((0,1))\n",
    "# sys.signal_points[6].open_route((0,1))\n",
    "# sys.signal_points[4].open_route((2,1))\n",
    "# count=0\n",
    "# while not T165.stopped:\n",
    "#     count+=1\n",
    "#     T166.update_acc()\n",
    "#     T165.update_acc()\n",
    "#     sys.sys_time+=sys.refresh_time\n",
    "# print(count)"
   ]
  },
  {
   "cell_type": "code",
   "execution_count": 13,
   "metadata": {},
   "outputs": [
    {
     "name": "stdout",
     "output_type": "stream",
     "text": [
      "T166: stopped: False, \tcurr_MP: 49.09, curr_spd: -16.82, tgt_spd: 65.00,\tnum_blk_ahead: 3, \n",
      "\taspect: Aspect: g, \t route (1, 0), target speed 72.0 mph,\n",
      "K166: stopped: False, \tcurr_MP: 50.00, curr_spd:  0.50, tgt_spd: 0.00,\tnum_blk_ahead: 0, \n",
      "\taspect: Aspect: r, \t route (1, 0), target speed 0.0 mph,\n",
      "2.765432098765432e-05\n"
     ]
    }
   ],
   "source": [
    "print('T166: stopped: {}, \\tcurr_MP: {}, curr_spd: {}, tgt_spd: {},\\tnum_blk_ahead: {}, \\n\\taspect: {},'.format(T166.stopped,\\\n",
    "                                                                str(\"%.2f\" % round(T166.curr_MP,2)).rjust(5,' '), \\\n",
    "                                                               str(\"%.2f\" % round(T166.curr_speed*3600,2)).rjust(5,' '), \\\n",
    "                                                               \"%.2f\" % round(T166.curr_target_spd_abs*3600,2), \\\n",
    "                                                               T166.curr_sig.number_of_blocks_cleared_ahead, \\\n",
    "                                                               T166.curr_sig.aspect))\n",
    "print('K166: stopped: {}, \\tcurr_MP: {}, curr_spd: {}, tgt_spd: {},\\tnum_blk_ahead: {}, \\n\\taspect: {},'.format(K166.stopped,\\\n",
    "                                                                str(\"%.2f\" % round(K166.curr_MP,2)).rjust(5,' '), \\\n",
    "                                                               str(\"%.2f\" % round(K166.curr_speed*3600,2)).rjust(5,' '), \\\n",
    "                                                               \"%.2f\" % round(K166.curr_target_spd_abs*3600,2), \\\n",
    "                                                               K166.curr_sig.number_of_blocks_cleared_ahead, \\\n",
    "                                                               K166.curr_sig.aspect))\n",
    "print(K166.)"
   ]
  },
  {
   "cell_type": "code",
   "execution_count": 3,
   "metadata": {
    "scrolled": true
   },
   "outputs": [
    {
     "data": {
      "text/plain": [
       "True"
      ]
     },
     "execution_count": 3,
     "metadata": {},
     "output_type": "execute_result"
    }
   ],
   "source": [
    "sys.generable(sys.signal_points[0],1,sys.signal_points[10],0)"
   ]
  },
  {
   "cell_type": "code",
   "execution_count": 8,
   "metadata": {
    "scrolled": true
   },
   "outputs": [
    {
     "data": {
      "text/plain": [
       "((ControlPoint4, 1), (AutoPoint5, 0))"
      ]
     },
     "execution_count": 8,
     "metadata": {},
     "output_type": "execute_result"
    }
   ],
   "source": [
    "sys.tracks[5].routing"
   ]
  },
  {
   "cell_type": "markdown",
   "metadata": {},
   "source": []
  },
  {
   "cell_type": "code",
   "execution_count": 17,
   "metadata": {},
   "outputs": [
    {
     "name": "stdout",
     "output_type": "stream",
     "text": [
      "MP:\t\t 27.832402750765933\n",
      "curr_speed\t\t -65.0\n",
      "((ControlPoint6, 0), (AutoPoint5, 1))\n",
      "curr_tgt_speed\t\t 40.0\n",
      "curr_spd_lmt\t\t 65.0\n",
      "\n",
      "\n",
      "2.765432098765432e-05\n",
      "brk_dis\t\t 3.662109374999999\n",
      "sig_dis\t\t 2.832402750765933\n",
      "Aspect: yy, \t route (1, 0), target speed 40.0 mph\n",
      "Track MP: 0.0 to MP: 5.0 idx: 0 []\n",
      "Track MP: 5.0 to MP: 10.0 idx: 0 []\n",
      "Track MP: 10.0 to MP: 15.0 idx: 0 [train index 1, current occupying sections: [((AutoPoint2, 1), (ControlPoint3, 0))], head MP: 12.50, rear MP 11.50]\n",
      "Track MP: 15.0 to MP: 20.0 idx: 0 []\n",
      "Track MP: 15.0 to MP: 20.0 idx: 1 []\n",
      "Track MP: 20.0 to MP: 25.0 idx: 0 []\n",
      "Track MP: 25.0 to MP: 30.0 idx: 0 [train index 0, current occupying sections: [((ControlPoint6, 0), (AutoPoint5, 1))], head MP: 27.83, rear MP 28.83]\n",
      "Track MP: 30.0 to MP: 35.0 idx: 0 []\n",
      "Track MP: 30.0 to MP: 35.0 idx: 1 []\n",
      "Track MP: 35.0 to MP: 40.0 idx: 0 []\n",
      "Track MP: 40.0 to MP: 45.0 idx: 0 []\n",
      "Track MP: 45.0 to MP: 50.0 idx: 0 []\n"
     ]
    }
   ],
   "source": [
    "print('MP:\\t\\t', T166.curr_MP)\n",
    "print('curr_speed\\t\\t',T166.curr_speed * 3600)\n",
    "print(T166.curr_sig.governed_track.routing)\n",
    "print('curr_tgt_speed\\t\\t',T166.curr_target_spd_abs * 3600)\n",
    "print('curr_spd_lmt\\t\\t',T166.curr_spd_lmt_abs * 3600)\n",
    "print('\\n')\n",
    "print(T166.curr_acc)\n",
    "print('brk_dis\\t\\t',T166.curr_brake_distance_abs)\n",
    "print('sig_dis\\t\\t',T166.curr_dis_to_curr_sig_abs)\n",
    "print(T166.curr_sig.aspect)\n",
    "for t in sys.tracks:\n",
    "    print(t, t.train)"
   ]
  },
  {
   "cell_type": "code",
   "execution_count": 14,
   "metadata": {},
   "outputs": [
    {
     "name": "stdout",
     "output_type": "stream",
     "text": [
      "MP:\t\t 15.140266033221975\n",
      "curr_speed\t\t 20.088888888888896\n",
      "((ControlPoint3, 3), (ControlPoint4, 2))\n",
      "curr_tgt_speed\t\t 0.0\n",
      "curr_spd_lmt\t\t 20.0\n",
      "\n",
      "\n"
     ]
    },
    {
     "ename": "AssertionError",
     "evalue": "",
     "output_type": "error",
     "traceback": [
      "\u001b[1;31m---------------------------------------------------------------------------\u001b[0m",
      "\u001b[1;31mAssertionError\u001b[0m                            Traceback (most recent call last)",
      "\u001b[1;32m<ipython-input-14-3702f7f14a55>\u001b[0m in \u001b[0;36m<module>\u001b[1;34m\u001b[0m\n\u001b[0;32m      5\u001b[0m \u001b[0mprint\u001b[0m\u001b[1;33m(\u001b[0m\u001b[1;34m'curr_spd_lmt\\t\\t'\u001b[0m\u001b[1;33m,\u001b[0m\u001b[0mT165\u001b[0m\u001b[1;33m.\u001b[0m\u001b[0mcurr_spd_lmt_abs\u001b[0m \u001b[1;33m*\u001b[0m \u001b[1;36m3600\u001b[0m\u001b[1;33m)\u001b[0m\u001b[1;33m\u001b[0m\u001b[1;33m\u001b[0m\u001b[0m\n\u001b[0;32m      6\u001b[0m \u001b[0mprint\u001b[0m\u001b[1;33m(\u001b[0m\u001b[1;34m'\\n'\u001b[0m\u001b[1;33m)\u001b[0m\u001b[1;33m\u001b[0m\u001b[1;33m\u001b[0m\u001b[0m\n\u001b[1;32m----> 7\u001b[1;33m \u001b[0mprint\u001b[0m\u001b[1;33m(\u001b[0m\u001b[0mT165\u001b[0m\u001b[1;33m.\u001b[0m\u001b[0mcurr_acc\u001b[0m\u001b[1;33m)\u001b[0m\u001b[1;33m\u001b[0m\u001b[1;33m\u001b[0m\u001b[0m\n\u001b[0m\u001b[0;32m      8\u001b[0m \u001b[0mprint\u001b[0m\u001b[1;33m(\u001b[0m\u001b[1;34m'brk_dis\\t\\t'\u001b[0m\u001b[1;33m,\u001b[0m\u001b[0mT165\u001b[0m\u001b[1;33m.\u001b[0m\u001b[0mcurr_brake_distance_abs\u001b[0m\u001b[1;33m)\u001b[0m\u001b[1;33m\u001b[0m\u001b[1;33m\u001b[0m\u001b[0m\n\u001b[0;32m      9\u001b[0m \u001b[0mprint\u001b[0m\u001b[1;33m(\u001b[0m\u001b[1;34m'sig_dis\\t\\t'\u001b[0m\u001b[1;33m,\u001b[0m\u001b[0mT165\u001b[0m\u001b[1;33m.\u001b[0m\u001b[0mcurr_dis_to_curr_sig_abs\u001b[0m\u001b[1;33m)\u001b[0m\u001b[1;33m\u001b[0m\u001b[1;33m\u001b[0m\u001b[0m\n",
      "\u001b[1;32mD:\\Users\\Hegxiten\\workspace\\Rutgers_Railway_security_research\\OOD_Train\\train.py\u001b[0m in \u001b[0;36mcurr_acc\u001b[1;34m(self)\u001b[0m\n\u001b[0;32m    326\u001b[0m             \u001b[0mself\u001b[0m\u001b[1;33m.\u001b[0m\u001b[0m_curr_acc\u001b[0m \u001b[1;33m=\u001b[0m \u001b[1;36m0\u001b[0m\u001b[1;33m\u001b[0m\u001b[1;33m\u001b[0m\u001b[0m\n\u001b[0;32m    327\u001b[0m         \u001b[1;32melse\u001b[0m\u001b[1;33m:\u001b[0m\u001b[1;33m\u001b[0m\u001b[1;33m\u001b[0m\u001b[0m\n\u001b[1;32m--> 328\u001b[1;33m             \u001b[1;32massert\u001b[0m \u001b[0mabs\u001b[0m\u001b[1;33m(\u001b[0m\u001b[0mself\u001b[0m\u001b[1;33m.\u001b[0m\u001b[0mcurr_speed\u001b[0m\u001b[1;33m)\u001b[0m \u001b[1;33m<=\u001b[0m \u001b[0mself\u001b[0m\u001b[1;33m.\u001b[0m\u001b[0mcurr_spd_lmt_abs\u001b[0m\u001b[1;33m\u001b[0m\u001b[1;33m\u001b[0m\u001b[0m\n\u001b[0m\u001b[0;32m    329\u001b[0m             \u001b[1;32mif\u001b[0m \u001b[0mabs\u001b[0m\u001b[1;33m(\u001b[0m\u001b[0mself\u001b[0m\u001b[1;33m.\u001b[0m\u001b[0mcurr_speed\u001b[0m\u001b[1;33m)\u001b[0m \u001b[1;33m==\u001b[0m \u001b[0mself\u001b[0m\u001b[1;33m.\u001b[0m\u001b[0mcurr_spd_lmt_abs\u001b[0m\u001b[1;33m:\u001b[0m\u001b[1;33m\u001b[0m\u001b[1;33m\u001b[0m\u001b[0m\n\u001b[0;32m    330\u001b[0m                 \u001b[1;32mif\u001b[0m \u001b[0mself\u001b[0m\u001b[1;33m.\u001b[0m\u001b[0mcurr_target_spd_abs\u001b[0m \u001b[1;33m>=\u001b[0m \u001b[0mself\u001b[0m\u001b[1;33m.\u001b[0m\u001b[0mcurr_spd_lmt_abs\u001b[0m\u001b[1;33m:\u001b[0m\u001b[1;33m\u001b[0m\u001b[1;33m\u001b[0m\u001b[0m\n",
      "\u001b[1;31mAssertionError\u001b[0m: "
     ]
    }
   ],
   "source": [
    "print('MP:\\t\\t', T165.curr_MP)\n",
    "print('curr_speed\\t\\t',T165.curr_speed * 3600)\n",
    "print(T165.curr_sig.governed_track.routing)\n",
    "print('curr_tgt_speed\\t\\t',T165.curr_target_spd_abs * 3600)\n",
    "print('curr_spd_lmt\\t\\t',T165.curr_spd_lmt_abs * 3600)\n",
    "print('\\n')\n",
    "print(T165.curr_acc)\n",
    "print('brk_dis\\t\\t',T165.curr_brake_distance_abs)\n",
    "print('sig_dis\\t\\t',T165.curr_dis_to_curr_sig_abs)"
   ]
  },
  {
   "cell_type": "code",
   "execution_count": 27,
   "metadata": {
    "scrolled": false
   },
   "outputs": [
    {
     "data": {
      "text/plain": [
       "0.059462750241297324"
      ]
     },
     "execution_count": 27,
     "metadata": {},
     "output_type": "execute_result"
    }
   ],
   "source": [
    "((-40.52928446657999/3600)**2-(40/3600)**2)/(2*2.765432098765432e-05)"
   ]
  },
  {
   "cell_type": "code",
   "execution_count": 15,
   "metadata": {},
   "outputs": [
    {
     "name": "stdout",
     "output_type": "stream",
     "text": [
      "T166: stopped: True, \tcurr_MP: 30.00, \tcurr_spd: 0.00, \ttgt_spd: 0.00,\tbrk_dis: 0.00, \tacc: 0.0000000000,\n"
     ]
    },
    {
     "ename": "NameError",
     "evalue": "name 'K166' is not defined",
     "output_type": "error",
     "traceback": [
      "\u001b[1;31m---------------------------------------------------------------------------\u001b[0m",
      "\u001b[1;31mNameError\u001b[0m                                 Traceback (most recent call last)",
      "\u001b[1;32m<ipython-input-15-c8a425b778d9>\u001b[0m in \u001b[0;36m<module>\u001b[1;34m\u001b[0m\n\u001b[0;32m      6\u001b[0m                                                                    \u001b[1;34m\"%.2f\"\u001b[0m \u001b[1;33m%\u001b[0m \u001b[0mround\u001b[0m\u001b[1;33m(\u001b[0m\u001b[0mT166\u001b[0m\u001b[1;33m.\u001b[0m\u001b[0mcurr_brake_distance_abs\u001b[0m\u001b[1;33m,\u001b[0m\u001b[1;36m2\u001b[0m\u001b[1;33m)\u001b[0m\u001b[1;33m,\u001b[0m\u001b[0;31m \u001b[0m\u001b[0;31m\\\u001b[0m\u001b[1;33m\u001b[0m\u001b[1;33m\u001b[0m\u001b[0m\n\u001b[0;32m      7\u001b[0m                                                                    \"%.10f\" % round(T166.curr_acc,10)))\n\u001b[1;32m----> 8\u001b[1;33m     print('K166: stopped: {}, \\tcurr_MP: {}, \\tcurr_spd: {}, \\ttgt_spd: {},\\tbrk_dis: {}, \\tacc: {},'.format(K166.stopped,\\\n\u001b[0m\u001b[0;32m      9\u001b[0m                                                                     \u001b[0mstr\u001b[0m\u001b[1;33m(\u001b[0m\u001b[1;34m\"%.2f\"\u001b[0m \u001b[1;33m%\u001b[0m \u001b[0mround\u001b[0m\u001b[1;33m(\u001b[0m\u001b[0mK166\u001b[0m\u001b[1;33m.\u001b[0m\u001b[0mcurr_MP\u001b[0m\u001b[1;33m,\u001b[0m\u001b[1;36m2\u001b[0m\u001b[1;33m)\u001b[0m\u001b[1;33m)\u001b[0m\u001b[1;33m.\u001b[0m\u001b[0mrjust\u001b[0m\u001b[1;33m(\u001b[0m\u001b[1;36m5\u001b[0m\u001b[1;33m,\u001b[0m\u001b[1;34m' '\u001b[0m\u001b[1;33m)\u001b[0m\u001b[1;33m,\u001b[0m\u001b[0;31m \u001b[0m\u001b[0;31m\\\u001b[0m\u001b[1;33m\u001b[0m\u001b[1;33m\u001b[0m\u001b[0m\n\u001b[0;32m     10\u001b[0m                                                                    \u001b[1;34m\"%.2f\"\u001b[0m \u001b[1;33m%\u001b[0m \u001b[0mround\u001b[0m\u001b[1;33m(\u001b[0m\u001b[0mK166\u001b[0m\u001b[1;33m.\u001b[0m\u001b[0mcurr_speed\u001b[0m\u001b[1;33m*\u001b[0m\u001b[1;36m3600\u001b[0m\u001b[1;33m,\u001b[0m\u001b[1;36m2\u001b[0m\u001b[1;33m)\u001b[0m\u001b[1;33m,\u001b[0m\u001b[0;31m \u001b[0m\u001b[0;31m\\\u001b[0m\u001b[1;33m\u001b[0m\u001b[1;33m\u001b[0m\u001b[0m\n",
      "\u001b[1;31mNameError\u001b[0m: name 'K166' is not defined"
     ]
    }
   ],
   "source": [
    "for n in range(3600):\n",
    "    print('T166: stopped: {}, \\tcurr_MP: {}, \\tcurr_spd: {}, \\ttgt_spd: {},\\tbrk_dis: {}, \\tacc: {},'.format(T166.stopped,\\\n",
    "                                                                    str(\"%.2f\" % round(T166.curr_MP,2)).rjust(5,' '), \\\n",
    "                                                                   \"%.2f\" % round(T166.curr_speed*3600,2), \\\n",
    "                                                                   \"%.2f\" % round(T166.curr_target_spd_abs*3600,2), \\\n",
    "                                                                   \"%.2f\" % round(T166.curr_brake_distance_abs,2), \\\n",
    "                                                                   \"%.10f\" % round(T166.curr_acc,10)))\n",
    "    print('K166: stopped: {}, \\tcurr_MP: {}, \\tcurr_spd: {}, \\ttgt_spd: {},\\tbrk_dis: {}, \\tacc: {},'.format(K166.stopped,\\\n",
    "                                                                    str(\"%.2f\" % round(K166.curr_MP,2)).rjust(5,' '), \\\n",
    "                                                                   \"%.2f\" % round(K166.curr_speed*3600,2), \\\n",
    "                                                                   \"%.2f\" % round(K166.curr_target_spd_abs*3600,2), \\\n",
    "                                                                   \"%.2f\" % round(K166.curr_brake_distance_abs,2), \\\n",
    "                                                                   \"%.10f\" % round(K166.curr_acc,10)))\n",
    "    K166.update_acc()\n",
    "    T166.update_acc()\n",
    "    sys.sys_time+=sys.refresh_time"
   ]
  },
  {
   "cell_type": "code",
   "execution_count": 35,
   "metadata": {},
   "outputs": [
    {
     "name": "stdout",
     "output_type": "stream",
     "text": [
      "0 Aspect: r, \t route None, target speed 0.0 mph\n",
      "1 Aspect: r, \t route None, target speed 0.0 mph\n",
      "2 Aspect: r, \t route None, target speed 0.0 mph\n",
      "3 Aspect: r, \t route None, target speed 0.0 mph\n",
      "4 Aspect: r, \t route None, target speed 0.0 mph\n",
      "5 Aspect: r, \t route None, target speed 0.0 mph\n",
      "6 Aspect: r, \t route None, target speed 0.0 mph\n",
      "7 Aspect: r, \t route None, target speed 0.0 mph\n",
      "8 Aspect: y, \t route (1, 0), target speed 20.0 mph\n",
      "9 Aspect: yy, \t route (1, 0), target speed 40.0 mph\n",
      "10 Aspect: yy, \t route (1, 0), target speed 40.0 mph\n"
     ]
    }
   ],
   "source": [
    "for i in range(len(sys.signal_points)):\n",
    "    print(i, sys.signal_points[i].signal_by_port[1].aspect)"
   ]
  },
  {
   "cell_type": "code",
   "execution_count": 58,
   "metadata": {},
   "outputs": [],
   "source": [
    "def num_parallel_tracks(sys, init_point, dest_point):\n",
    "        _mainline_section = nx.shortest_path(sys.G_origin, init_point, dest_point)\n",
    "        _start_point = _mainline_section.pop(0)\n",
    "        count = 0\n",
    "        _traversed = []\n",
    "        while _mainline_section:\n",
    "            for t in _traversed:\n",
    "                if t in _mainline_section:\n",
    "                    _mainline_section.remove(t)\n",
    "            for p in _mainline_section:\n",
    "                if len(list(nx.all_simple_paths(sys.G_origin, _start_point, p))) == 1:\n",
    "                    _traversed.append(p)\n",
    "                    continue\n",
    "                else:\n",
    "                    count += len(list(nx.all_simple_paths(sys.G_origin, _start_point, p))) - 1\n",
    "                    _traversed.append(p)\n",
    "                    _start_point = p\n",
    "                    break\n",
    "        return count"
   ]
  },
  {
   "cell_type": "code",
   "execution_count": 66,
   "metadata": {},
   "outputs": [
    {
     "ename": "NameError",
     "evalue": "name 'k165' is not defined",
     "output_type": "error",
     "traceback": [
      "\u001b[1;31m---------------------------------------------------------------------------\u001b[0m",
      "\u001b[1;31mNameError\u001b[0m                                 Traceback (most recent call last)",
      "\u001b[1;32m<ipython-input-66-9b32744fd565>\u001b[0m in \u001b[0;36m<module>\u001b[1;34m\u001b[0m\n\u001b[0;32m      1\u001b[0m \u001b[1;32mfor\u001b[0m \u001b[0mn\u001b[0m \u001b[1;32min\u001b[0m \u001b[0mrange\u001b[0m\u001b[1;33m(\u001b[0m\u001b[1;36m3600\u001b[0m\u001b[1;33m)\u001b[0m\u001b[1;33m:\u001b[0m\u001b[1;33m\u001b[0m\u001b[1;33m\u001b[0m\u001b[0m\n\u001b[1;32m----> 2\u001b[1;33m     \u001b[0mprint\u001b[0m\u001b[1;33m(\u001b[0m\u001b[1;34m'k165: curr_MP: {}, curr_spd: {}, curr_tgt_spd'\u001b[0m\u001b[1;33m.\u001b[0m\u001b[0mformat\u001b[0m\u001b[1;33m(\u001b[0m\u001b[0mk165\u001b[0m\u001b[1;33m.\u001b[0m\u001b[0mcurr_MP\u001b[0m\u001b[1;33m,\u001b[0m \u001b[0mk165\u001b[0m\u001b[1;33m.\u001b[0m\u001b[0mcurr_speed\u001b[0m\u001b[1;33m,\u001b[0m \u001b[0mk165\u001b[0m\u001b[1;33m.\u001b[0m\u001b[0mcurr_target_spd_abs\u001b[0m\u001b[1;33m)\u001b[0m\u001b[1;33m)\u001b[0m\u001b[1;33m\u001b[0m\u001b[1;33m\u001b[0m\u001b[0m\n\u001b[0m\u001b[0;32m      3\u001b[0m     \u001b[0mprint\u001b[0m\u001b[1;33m(\u001b[0m\u001b[1;34m'k166: curr_MP: {}, curr_spd: {}, curr_tgt_spd'\u001b[0m\u001b[1;33m.\u001b[0m\u001b[0mformat\u001b[0m\u001b[1;33m(\u001b[0m\u001b[0mk166\u001b[0m\u001b[1;33m.\u001b[0m\u001b[0mcurr_MP\u001b[0m\u001b[1;33m,\u001b[0m \u001b[0mk166\u001b[0m\u001b[1;33m.\u001b[0m\u001b[0mcurr_speed\u001b[0m\u001b[1;33m,\u001b[0m \u001b[0mk166\u001b[0m\u001b[1;33m.\u001b[0m\u001b[0mcurr_target_spd_abs\u001b[0m\u001b[1;33m)\u001b[0m\u001b[1;33m)\u001b[0m\u001b[1;33m\u001b[0m\u001b[1;33m\u001b[0m\u001b[0m\n\u001b[0;32m      4\u001b[0m     \u001b[0mk166\u001b[0m\u001b[1;33m.\u001b[0m\u001b[0mupdate_acc\u001b[0m\u001b[1;33m(\u001b[0m\u001b[1;33m)\u001b[0m\u001b[1;33m\u001b[0m\u001b[1;33m\u001b[0m\u001b[0m\n\u001b[0;32m      5\u001b[0m     \u001b[0mk165\u001b[0m\u001b[1;33m.\u001b[0m\u001b[0mupdate_acc\u001b[0m\u001b[1;33m(\u001b[0m\u001b[1;33m)\u001b[0m\u001b[1;33m\u001b[0m\u001b[1;33m\u001b[0m\u001b[0m\n",
      "\u001b[1;31mNameError\u001b[0m: name 'k165' is not defined"
     ]
    }
   ],
   "source": [
    "for n in range(3600):\n",
    "    print('k165: curr_MP: {}, curr_spd: {}, curr_tgt_spd'.format(k165.curr_MP, k165.curr_speed, k165.curr_target_spd_abs))\n",
    "    print('k166: curr_MP: {}, curr_spd: {}, curr_tgt_spd'.format(k166.curr_MP, k166.curr_speed, k166.curr_target_spd_abs))\n",
    "    k166.update_acc()\n",
    "    k165.update_acc()\n",
    "    sys.sys_time+=1"
   ]
  },
  {
   "cell_type": "code",
   "execution_count": 59,
   "metadata": {},
   "outputs": [
    {
     "data": {
      "text/plain": [
       "2"
      ]
     },
     "execution_count": 59,
     "metadata": {},
     "output_type": "execute_result"
    }
   ],
   "source": [
    "num_parallel_tracks(sys, sys.signal_points[3],sys.signal_points[7])"
   ]
  },
  {
   "cell_type": "code",
   "execution_count": 4,
   "metadata": {},
   "outputs": [
    {
     "name": "stdout",
     "output_type": "stream",
     "text": [
      "T166: stopped: True, \tcurr_MP:  0.00, \tcurr_spd: 0.00, \ttgt_spd: 0.00,\tnum_blk_ahead: 0, \taspect: Aspect: r, \t route None, target speed 0.0 mph,\n"
     ]
    },
    {
     "ename": "NameError",
     "evalue": "name 'K166' is not defined",
     "output_type": "error",
     "traceback": [
      "\u001b[1;31m---------------------------------------------------------------------------\u001b[0m",
      "\u001b[1;31mNameError\u001b[0m                                 Traceback (most recent call last)",
      "\u001b[1;32m<ipython-input-4-bca9eff63663>\u001b[0m in \u001b[0;36m<module>\u001b[1;34m\u001b[0m\n\u001b[0;32m      5\u001b[0m                                                                \u001b[0mT166\u001b[0m\u001b[1;33m.\u001b[0m\u001b[0mcurr_sig\u001b[0m\u001b[1;33m.\u001b[0m\u001b[0mnumber_of_blocks_cleared_ahead\u001b[0m\u001b[1;33m,\u001b[0m\u001b[0;31m \u001b[0m\u001b[0;31m\\\u001b[0m\u001b[1;33m\u001b[0m\u001b[1;33m\u001b[0m\u001b[0m\n\u001b[0;32m      6\u001b[0m                                                                T166.curr_sig.aspect))\n\u001b[1;32m----> 7\u001b[1;33m print('K166: stopped: {}, \\tcurr_MP: {}, \\tcurr_spd: {}, \\ttgt_spd: {},\\tnum_blk_ahead: {}, \\taspect: {},'.format(K166.stopped,\\\n\u001b[0m\u001b[0;32m      8\u001b[0m                                                                 \u001b[0mstr\u001b[0m\u001b[1;33m(\u001b[0m\u001b[1;34m\"%.2f\"\u001b[0m \u001b[1;33m%\u001b[0m \u001b[0mround\u001b[0m\u001b[1;33m(\u001b[0m\u001b[0mK166\u001b[0m\u001b[1;33m.\u001b[0m\u001b[0mcurr_MP\u001b[0m\u001b[1;33m,\u001b[0m\u001b[1;36m2\u001b[0m\u001b[1;33m)\u001b[0m\u001b[1;33m)\u001b[0m\u001b[1;33m.\u001b[0m\u001b[0mrjust\u001b[0m\u001b[1;33m(\u001b[0m\u001b[1;36m5\u001b[0m\u001b[1;33m,\u001b[0m\u001b[1;34m' '\u001b[0m\u001b[1;33m)\u001b[0m\u001b[1;33m,\u001b[0m\u001b[0;31m \u001b[0m\u001b[0;31m\\\u001b[0m\u001b[1;33m\u001b[0m\u001b[1;33m\u001b[0m\u001b[0m\n\u001b[0;32m      9\u001b[0m                                                                \u001b[1;34m\"%.2f\"\u001b[0m \u001b[1;33m%\u001b[0m \u001b[0mround\u001b[0m\u001b[1;33m(\u001b[0m\u001b[0mK166\u001b[0m\u001b[1;33m.\u001b[0m\u001b[0mcurr_speed\u001b[0m\u001b[1;33m*\u001b[0m\u001b[1;36m3600\u001b[0m\u001b[1;33m,\u001b[0m\u001b[1;36m2\u001b[0m\u001b[1;33m)\u001b[0m\u001b[1;33m,\u001b[0m\u001b[0;31m \u001b[0m\u001b[0;31m\\\u001b[0m\u001b[1;33m\u001b[0m\u001b[1;33m\u001b[0m\u001b[0m\n",
      "\u001b[1;31mNameError\u001b[0m: name 'K166' is not defined"
     ]
    }
   ],
   "source": [
    "print('T166: stopped: {}, \\tcurr_MP: {}, \\tcurr_spd: {}, \\ttgt_spd: {},\\tnum_blk_ahead: {}, \\taspect: {},'.format(T166.stopped,\\\n",
    "                                                                str(\"%.2f\" % round(T166.curr_MP,2)).rjust(5,' '), \\\n",
    "                                                               \"%.2f\" % round(T166.curr_speed*3600,2), \\\n",
    "                                                               \"%.2f\" % round(T166.curr_target_spd_abs*3600,2), \\\n",
    "                                                               T166.curr_sig.number_of_blocks_cleared_ahead, \\\n",
    "                                                               T166.curr_sig.aspect))\n",
    "print('K166: stopped: {}, \\tcurr_MP: {}, \\tcurr_spd: {}, \\ttgt_spd: {},\\tnum_blk_ahead: {}, \\taspect: {},'.format(K166.stopped,\\\n",
    "                                                                str(\"%.2f\" % round(K166.curr_MP,2)).rjust(5,' '), \\\n",
    "                                                               \"%.2f\" % round(K166.curr_speed*3600,2), \\\n",
    "                                                               \"%.2f\" % round(K166.curr_target_spd_abs*3600,2), \\\n",
    "                                                               K166.curr_sig.number_of_blocks_cleared_ahead, \\\n",
    "                                                               K166.curr_sig.aspect))"
   ]
  },
  {
   "cell_type": "code",
   "execution_count": 11,
   "metadata": {},
   "outputs": [
    {
     "name": "stdout",
     "output_type": "stream",
     "text": [
      "((ControlPoint0, 1), (AutoPoint1, 0)) []\n",
      "((AutoPoint1, 1), (AutoPoint2, 0)) []\n",
      "((AutoPoint2, 1), (ControlPoint3, 0)) [train index 1, current occupying sections: [((AutoPoint2, 1), (ControlPoint3, 0))], head MP: 15.00, rear MP 14.00]\n",
      "None []\n",
      "None []\n",
      "None []\n",
      "None []\n",
      "None []\n",
      "None []\n",
      "None []\n",
      "None []\n",
      "None []\n",
      "\n",
      "\n",
      "((ControlPoint0, 1), (ControlPoint3, 0))\n",
      "None\n",
      "None\n",
      "None\n",
      "None\n",
      "None\n",
      "None\n"
     ]
    }
   ],
   "source": [
    "for t in sys.tracks:\n",
    "    print(t.routing,t.train)\n",
    "print('\\n')\n",
    "for b in sys.bigblocks:\n",
    "    print(b.routing)"
   ]
  },
  {
   "cell_type": "code",
   "execution_count": 69,
   "metadata": {},
   "outputs": [
    {
     "data": {
      "text/plain": [
       "[]"
      ]
     },
     "execution_count": 69,
     "metadata": {},
     "output_type": "execute_result"
    }
   ],
   "source": [
    "sys.G_origin[sys.signal_points[0]][sys.signal_points[1]][0]['instance'].train"
   ]
  },
  {
   "cell_type": "code",
   "execution_count": 31,
   "metadata": {},
   "outputs": [
    {
     "name": "stdout",
     "output_type": "stream",
     "text": [
      "normal method: <__main__.MyClass object at 0x0000025F2A2F3B00> static to call\n",
      "calling static method: <__main__.MyClass object at 0x0000025F2A2F3B00> static to call\n"
     ]
    },
    {
     "ename": "NameError",
     "evalue": "name 'static_method' is not defined",
     "output_type": "error",
     "traceback": [
      "\u001b[1;31m---------------------------------------------------------------------------\u001b[0m",
      "\u001b[1;31mNameError\u001b[0m                                 Traceback (most recent call last)",
      "\u001b[1;32m<ipython-input-31-6f6c09b3cca5>\u001b[0m in \u001b[0;36m<module>\u001b[1;34m\u001b[0m\n\u001b[1;32m----> 1\u001b[1;33m \u001b[0mmc\u001b[0m\u001b[1;33m.\u001b[0m\u001b[0mnormal_method\u001b[0m\u001b[1;33m(\u001b[0m\u001b[1;34m'static to call'\u001b[0m\u001b[1;33m)\u001b[0m\u001b[1;33m\u001b[0m\u001b[1;33m\u001b[0m\u001b[0m\n\u001b[0m",
      "\u001b[1;32m<ipython-input-29-89c8dded7dbf>\u001b[0m in \u001b[0;36mnormal_method\u001b[1;34m(self, data)\u001b[0m\n\u001b[0;32m      7\u001b[0m         \u001b[0mprint\u001b[0m\u001b[1;33m(\u001b[0m\u001b[1;34m\"normal method: %s %s\"\u001b[0m \u001b[1;33m%\u001b[0m \u001b[1;33m(\u001b[0m\u001b[0mself\u001b[0m\u001b[1;33m,\u001b[0m \u001b[0mdata\u001b[0m\u001b[1;33m)\u001b[0m\u001b[1;33m)\u001b[0m\u001b[1;33m\u001b[0m\u001b[1;33m\u001b[0m\u001b[0m\n\u001b[0;32m      8\u001b[0m         \u001b[0mprint\u001b[0m\u001b[1;33m(\u001b[0m\u001b[1;34m\"calling static method: %s %s\"\u001b[0m \u001b[1;33m%\u001b[0m \u001b[1;33m(\u001b[0m\u001b[0mself\u001b[0m\u001b[1;33m,\u001b[0m \u001b[0mdata\u001b[0m\u001b[1;33m)\u001b[0m\u001b[1;33m)\u001b[0m\u001b[1;33m\u001b[0m\u001b[1;33m\u001b[0m\u001b[0m\n\u001b[1;32m----> 9\u001b[1;33m         \u001b[0mstatic_method\u001b[0m\u001b[1;33m(\u001b[0m\u001b[1;34m\"called\"\u001b[0m\u001b[1;33m)\u001b[0m\u001b[1;33m\u001b[0m\u001b[1;33m\u001b[0m\u001b[0m\n\u001b[0m\u001b[0;32m     10\u001b[0m \u001b[1;33m\u001b[0m\u001b[0m\n\u001b[0;32m     11\u001b[0m     \u001b[1;33m@\u001b[0m\u001b[0mclassmethod\u001b[0m\u001b[1;33m\u001b[0m\u001b[1;33m\u001b[0m\u001b[0m\n",
      "\u001b[1;31mNameError\u001b[0m: name 'static_method' is not defined"
     ]
    }
   ],
   "source": [
    "mc.normal_method('static to call')"
   ]
  },
  {
   "cell_type": "code",
   "execution_count": 5,
   "metadata": {},
   "outputs": [
    {
     "name": "stderr",
     "output_type": "stream",
     "text": [
      "No handles with labels found to put in legend.\n"
     ]
    },
    {
     "data": {
      "image/png": "[encoded data removed]",
      "text/plain": [
       "<Figure size 3000x1600 with 1 Axes>"
      ]
     },
     "metadata": {
      "needs_background": "light"
     },
     "output_type": "display_data"
    },
    {
     "data": {
      "text/plain": [
       "<Figure size 1440x1280 with 0 Axes>"
      ]
     },
     "metadata": {},
     "output_type": "display_data"
    }
   ],
   "source": [
    "from infrastructure import Track,BigBlock\n",
    "from system import System\n",
    "from train import Train\n",
    "import matplotlib.pyplot as plt\n",
    "import matplotlib.dates as mdates\n",
    "from datetime import datetime, timedelta\n",
    "import numpy as np\n",
    "def string_diagram(sys, start_time, end_time):\n",
    "    '''To draw the string diagram based on the schedule dictionary for all the trains. \n",
    "    '''\n",
    "    colors = ['red','green','blue','black','orange','cyan','magenta']\n",
    "    color_num = len(colors)\n",
    "    x, y = [], []\n",
    "    for i in range(len(sys.trains)):\n",
    "        x.append([])\n",
    "        y.append([])\n",
    "        for j in range(len(sys.trains[i].time_pos_list)):\n",
    "            x[i].append(datetime.fromtimestamp(sys.trains[i].time_pos_list[j][0]))\n",
    "            y[i].append(sys.trains[i].time_pos_list[j][1])\n",
    "            # x[i].append(sys.trains[i].time_pos_list[j][0])\n",
    "            # y[i].append(sys.trains[i].time_pos_list[j][1])\n",
    "\n",
    "    assert len(x) == len(y)\n",
    "    for i in range(len(x)):\n",
    "        assert len(x[i]) == len(y[i])\n",
    "    train_idx = list(range(len(x)))\n",
    "    t_color = [colors[i%color_num] for i in range(len(x))]\n",
    "    min_t, max_t = min([i[0] for i in x if i]), max([i[-1] for i in x if i])\n",
    "    \n",
    "    #plt.ion()\n",
    "    plt.title('String Diagram')\n",
    "    hours = mdates.HourLocator()\n",
    "    minutes = mdates.MinuteLocator()\n",
    "    seconds = mdates.SecondLocator()\n",
    "    dateFmt = mdates.DateFormatter(\"%H:%M\")\n",
    "    plt.gca().xaxis.set_major_locator(hours)\n",
    "    plt.gca().xaxis.set_minor_locator(minutes)\n",
    "    plt.gca().xaxis.set_major_formatter(dateFmt)\n",
    "    plt.xticks(rotation=90)\n",
    "    plt.grid(True, linestyle = \"-.\", color = \"r\", linewidth = \"0.1\")\n",
    "    plt.legend()\n",
    "    plt.xlabel('Time')\n",
    "    plt.ylabel('Mile Post/miles')\n",
    "    start_time = int(start_time.timestamp())\n",
    "    end_time = int(end_time.timestamp())\n",
    "    plt.axis([(datetime.fromtimestamp(start_time - 500)), \\\n",
    "            (datetime.fromtimestamp(end_time + 500)), -5 , 55])\n",
    "    #===============================================================================\n",
    "    # time_length = end_time - start_time\n",
    "    # step_size = 10\n",
    "    # for start in range(1,time_length + 1, step_size):\n",
    "    #     plt.axis([(datetime.fromtimestamp(start_time - 500)), \\\n",
    "    #         (datetime.fromtimestamp(end_time + 500)), -5 , 55])\n",
    "         \n",
    "    #     for n in range(len(x)-1):\n",
    "    #         new_x_y = [[mdates.date2num(datetime.fromtimestamp(i)), j] for i, j in zip(x[n], y[n]) if i < start_time + start and i > start_time + start - 1 - step_size]\n",
    "    #         new_x = []\n",
    "    #         new_y = []\n",
    "    #         for i , j in new_x_y:\n",
    "    #             new_x.append(i)\n",
    "    #             new_y.append(j)\n",
    "    #         if(len(new_x) == 0):\n",
    "    #             continue\n",
    "    #         plt.plot(new_x, new_y, color=t_color[n])\n",
    "    #         # print('==============')\n",
    "    #         # print('Length of new_x: {}'.format(len(new_x)))\n",
    "    #         # print('Length of new_y: {}'.format(len(new_y)))\n",
    "    #     plt.pause(0.00001)\n",
    "    #===============================================================================\n",
    "    for n in range(len(x)):\n",
    "        plt.plot([mdates.date2num(i) for i in x[n]], y[n], color=t_color[n])\n",
    "    plt.gca().axhspan(15,20,color='yellow',alpha=0.5)\n",
    "    plt.gca().axhspan(30,35,color='yellow',alpha=0.5)\n",
    "#     plt.gca().axvspan((datetime.fromtimestamp(start_time + 90 * 60)),(datetime.fromtimestamp(start_time + 150 * 60)),color='black',alpha=0.5)\n",
    "    plt.figure(figsize=(18, 16), dpi= 80, facecolor='w', edgecolor='k')\n",
    "    plt.rcParams['figure.dpi'] = 200\n",
    "    import pylab; pylab.rcParams['figure.figsize'] = (15.0, 8.0)\n",
    "    plt.show()\n",
    "    #plt.ioff()\n",
    "def speed_curve(sys, train):\n",
    "    '''To draw the speed curve based on a train's mileposts and speed . \n",
    "    '''\n",
    "    colors = ['red','green','purple']\n",
    "    mp, spd, spdlmt, tgt_spd = [], [], [], []\n",
    "    for i in range(len(train.pos_spd_list)):\n",
    "        mp.append(train.pos_spd_list[i][0])\n",
    "        spd.append(abs(train.pos_spd_list[i][1]*3600))\n",
    "        spdlmt.append(train.pos_spd_list[i][2]*3600)\n",
    "        tgt_spd.append(train.pos_spd_list[i][3]*3600)\n",
    "\n",
    "    min_mp, max_mp = min(mp), max(mp)\n",
    "    \n",
    "    #plt.ion()\n",
    "    plt.title('Speed Curve')\n",
    "    plt.xticks(rotation=90)\n",
    "    plt.grid(True, linestyle = \"-.\", color = \"r\", linewidth = \"0.1\")\n",
    "    plt.legend()\n",
    "    plt.xlabel('Mile Post/miles')\n",
    "    plt.ylabel('MPH')\n",
    "    plt.plot(mp, spd, color=colors[1])  # train speed\n",
    "    plt.plot(mp, spdlmt, color=colors[0])  # train speed lmt\n",
    "    plt.plot(mp, tgt_spd, '--', color=colors[2])  # train tgt speed\n",
    "    \n",
    "    plt.figure(figsize=(18, 16), dpi= 80, facecolor='w', edgecolor='k')\n",
    "    plt.rcParams['figure.dpi'] = 200\n",
    "    import pylab; pylab.rcParams['figure.figsize'] = (15.0, 8.0)\n",
    "    plt.show()\n",
    "    #plt.ioff()\n",
    "string_diagram(sys, sim_init_time, sim_term_time)\n",
    "# speed_curve(sys, K166)"
   ]
  },
  {
   "cell_type": "code",
   "execution_count": 16,
   "metadata": {},
   "outputs": [
    {
     "name": "stdout",
     "output_type": "stream",
     "text": [
      "route (0, 1) of ControlPoint10 is closed\n"
     ]
    }
   ],
   "source": [
    "G.nodes()"
   ]
  },
  {
   "cell_type": "code",
   "execution_count": 29,
   "metadata": {},
   "outputs": [
    {
     "data": {
      "text/plain": [
       "BigBlock MP: 20.0 to MP: 30.0 idx: 0"
      ]
     },
     "execution_count": 29,
     "metadata": {},
     "output_type": "execute_result"
    }
   ],
   "source": [
    "T166.curr_track.bigblock."
   ]
  },
  {
   "cell_type": "code",
   "execution_count": 38,
   "metadata": {},
   "outputs": [
    {
     "name": "stdout",
     "output_type": "stream",
     "text": [
      "route (0, 3) of ControlPoint3 is closed\n",
      "MP:\t\t 15.100501278630388\n",
      "curr_speed\t\t 20.088888888888896\n",
      "curr_tgt_speed\t\t 0.0\n",
      "curr_spd_lmt\t\t 20.0\n",
      "\n",
      "\n"
     ]
    },
    {
     "ename": "AssertionError",
     "evalue": "",
     "output_type": "error",
     "traceback": [
      "\u001b[1;31m---------------------------------------------------------------------------\u001b[0m",
      "\u001b[1;31mAssertionError\u001b[0m                            Traceback (most recent call last)",
      "\u001b[1;32m<ipython-input-38-3efec2ed2f45>\u001b[0m in \u001b[0;36m<module>\u001b[1;34m\u001b[0m\n\u001b[0;32m      6\u001b[0m \u001b[0mprint\u001b[0m\u001b[1;33m(\u001b[0m\u001b[1;34m'curr_spd_lmt\\t\\t'\u001b[0m\u001b[1;33m,\u001b[0m\u001b[0mT165\u001b[0m\u001b[1;33m.\u001b[0m\u001b[0mcurr_spd_lmt_abs\u001b[0m \u001b[1;33m*\u001b[0m \u001b[1;36m3600\u001b[0m\u001b[1;33m)\u001b[0m\u001b[1;33m\u001b[0m\u001b[1;33m\u001b[0m\u001b[0m\n\u001b[0;32m      7\u001b[0m \u001b[0mprint\u001b[0m\u001b[1;33m(\u001b[0m\u001b[1;34m'\\n'\u001b[0m\u001b[1;33m)\u001b[0m\u001b[1;33m\u001b[0m\u001b[1;33m\u001b[0m\u001b[0m\n\u001b[1;32m----> 8\u001b[1;33m \u001b[0mprint\u001b[0m\u001b[1;33m(\u001b[0m\u001b[1;34m'curr_acc\\t\\t'\u001b[0m\u001b[1;33m,\u001b[0m\u001b[0mT165\u001b[0m\u001b[1;33m.\u001b[0m\u001b[0mcurr_acc\u001b[0m\u001b[1;33m)\u001b[0m\u001b[1;33m\u001b[0m\u001b[1;33m\u001b[0m\u001b[0m\n\u001b[0m\u001b[0;32m      9\u001b[0m \u001b[0mprint\u001b[0m\u001b[1;33m(\u001b[0m\u001b[1;34m'brk_dis\\t\\t'\u001b[0m\u001b[1;33m,\u001b[0m\u001b[0mT165\u001b[0m\u001b[1;33m.\u001b[0m\u001b[0mcurr_brake_distance_abs\u001b[0m\u001b[1;33m)\u001b[0m\u001b[1;33m\u001b[0m\u001b[1;33m\u001b[0m\u001b[0m\n\u001b[0;32m     10\u001b[0m \u001b[0mprint\u001b[0m\u001b[1;33m(\u001b[0m\u001b[1;34m'sig_dis\\t\\t'\u001b[0m\u001b[1;33m,\u001b[0m\u001b[0mT165\u001b[0m\u001b[1;33m.\u001b[0m\u001b[0mcurr_dis_to_curr_sig_abs\u001b[0m\u001b[1;33m)\u001b[0m\u001b[1;33m\u001b[0m\u001b[1;33m\u001b[0m\u001b[0m\n",
      "\u001b[1;32mD:\\Users\\Hegxiten\\workspace\\Rutgers_Railway_security_research\\OOD_Train\\train.py\u001b[0m in \u001b[0;36mcurr_acc\u001b[1;34m(self)\u001b[0m\n\u001b[0;32m    326\u001b[0m             \u001b[0mself\u001b[0m\u001b[1;33m.\u001b[0m\u001b[0m_curr_acc\u001b[0m \u001b[1;33m=\u001b[0m \u001b[1;36m0\u001b[0m\u001b[1;33m\u001b[0m\u001b[1;33m\u001b[0m\u001b[0m\n\u001b[0;32m    327\u001b[0m         \u001b[1;32melse\u001b[0m\u001b[1;33m:\u001b[0m\u001b[1;33m\u001b[0m\u001b[1;33m\u001b[0m\u001b[0m\n\u001b[1;32m--> 328\u001b[1;33m             \u001b[1;32massert\u001b[0m \u001b[0mabs\u001b[0m\u001b[1;33m(\u001b[0m\u001b[0mself\u001b[0m\u001b[1;33m.\u001b[0m\u001b[0mcurr_speed\u001b[0m\u001b[1;33m)\u001b[0m \u001b[1;33m<=\u001b[0m \u001b[0mself\u001b[0m\u001b[1;33m.\u001b[0m\u001b[0mcurr_spd_lmt_abs\u001b[0m\u001b[1;33m\u001b[0m\u001b[1;33m\u001b[0m\u001b[0m\n\u001b[0m\u001b[0;32m    329\u001b[0m             \u001b[1;32mif\u001b[0m \u001b[0mabs\u001b[0m\u001b[1;33m(\u001b[0m\u001b[0mself\u001b[0m\u001b[1;33m.\u001b[0m\u001b[0mcurr_speed\u001b[0m\u001b[1;33m)\u001b[0m \u001b[1;33m==\u001b[0m \u001b[0mself\u001b[0m\u001b[1;33m.\u001b[0m\u001b[0mcurr_spd_lmt_abs\u001b[0m\u001b[1;33m:\u001b[0m\u001b[1;33m\u001b[0m\u001b[1;33m\u001b[0m\u001b[0m\n\u001b[0;32m    330\u001b[0m                 \u001b[1;32mif\u001b[0m \u001b[0mself\u001b[0m\u001b[1;33m.\u001b[0m\u001b[0mcurr_target_spd_abs\u001b[0m \u001b[1;33m>=\u001b[0m \u001b[0mself\u001b[0m\u001b[1;33m.\u001b[0m\u001b[0mcurr_spd_lmt_abs\u001b[0m\u001b[1;33m:\u001b[0m\u001b[1;33m\u001b[0m\u001b[1;33m\u001b[0m\u001b[0m\n",
      "\u001b[1;31mAssertionError\u001b[0m: "
     ]
    }
   ],
   "source": [
    "T165.update_acc()\n",
    "sys.sys_time+=sys.refresh_time\n",
    "print('MP:\\t\\t', T165.curr_MP)\n",
    "print('curr_speed\\t\\t',T165.curr_speed * 3600)\n",
    "print('curr_tgt_speed\\t\\t',T165.curr_target_spd_abs * 3600)\n",
    "print('curr_spd_lmt\\t\\t',T165.curr_spd_lmt_abs * 3600)\n",
    "print('\\n')\n",
    "print('curr_acc\\t\\t',T165.curr_acc)\n",
    "print('brk_dis\\t\\t',T165.curr_brake_distance_abs)\n",
    "print('sig_dis\\t\\t',T165.curr_dis_to_curr_sig_abs)\n",
    "print('\\n')\n",
    "print('upcoming speed\\t\\t', (T165.curr_speed+T165.curr_acc*sys.refresh_time)*3600)\n",
    "print('upcoming delta_s\\t', (T165.curr_speed*sys.refresh_time+0.5*T165.curr_acc*sys.refresh_time**2))\n",
    "print('upcoming MP\\t\\t', (T165.curr_MP+T165.curr_speed*sys.refresh_time+0.5*T165.curr_acc*sys.refresh_time**2))\n",
    "speed_curve(sys, T165)"
   ]
  },
  {
   "cell_type": "code",
   "execution_count": 8,
   "metadata": {},
   "outputs": [
    {
     "name": "stdout",
     "output_type": "stream",
     "text": [
      "route (1, 0) for ControlPoint3 already opened\n",
      "route (1, 0) of ControlPoint3 is closed\n"
     ]
    }
   ],
   "source": [
    "sys.signal_points[3].open_route((1,0))\n",
    "T166.update_acc()\n",
    "sys.sys_time+=sys.refresh_time\n"
   ]
  },
  {
   "cell_type": "code",
   "execution_count": 30,
   "metadata": {},
   "outputs": [
    {
     "data": {
      "text/plain": [
       "40.0"
      ]
     },
     "execution_count": 30,
     "metadata": {},
     "output_type": "execute_result"
    }
   ],
   "source": [
    "T166.curr_target_spd_abs*3600"
   ]
  },
  {
   "cell_type": "code",
   "execution_count": 31,
   "metadata": {},
   "outputs": [],
   "source": [
    "delta_s = T166.curr_speed * T166.system.refresh_time + 0.5 * (-T166.max_acc) * T166.system.refresh_time**2"
   ]
  },
  {
   "cell_type": "code",
   "execution_count": 32,
   "metadata": {},
   "outputs": [
    {
     "data": {
      "text/plain": [
       "-0.06333881577705458"
      ]
     },
     "execution_count": 32,
     "metadata": {},
     "output_type": "execute_result"
    }
   ],
   "source": [
    "(T166.curr_sig.MP-T166.curr_MP)*(T166.curr_sig.MP-(T166.curr_MP+delta_s))"
   ]
  },
  {
   "cell_type": "code",
   "execution_count": null,
   "metadata": {},
   "outputs": [],
   "source": []
  }
 ],
 "metadata": {
  "kernelspec": {
   "display_name": "Python 3",
   "language": "python",
   "name": "python3"
  },
  "language_info": {
   "codemirror_mode": {
    "name": "ipython",
    "version": 3
   },
   "file_extension": ".py",
   "mimetype": "text/x-python",
   "name": "python",
   "nbconvert_exporter": "python",
   "pygments_lexer": "ipython3",
   "version": "3.7.1"
  }
 },
 "nbformat": 4,
 "nbformat_minor": 2
}
